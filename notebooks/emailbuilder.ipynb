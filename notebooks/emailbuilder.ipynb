{
 "cells": [
  {
   "cell_type": "markdown",
   "metadata": {},
   "source": [
    "# for this emailbuilder we will use edenAI"
   ]
  },
  {
   "cell_type": "code",
   "execution_count": 29,
   "metadata": {},
   "outputs": [],
   "source": [
    "import os\n",
    "from dotenv import load_dotenv, find_dotenv\n",
    "from langchain.llms import EdenAI\n",
    "import requests\n",
    "import json\n",
    "from types import SimpleNamespace\n",
    "from sqlalchemy import create_engine, text\n",
    "\n",
    "_ = load_dotenv(find_dotenv())\n",
    "edenai_api_key = os.getenv(\"EDENAI_API_KEY\")\n",
    "DB_URL = os.getenv(\"DB_VM_URL\")\n",
    "engine = create_engine(DB_URL)\n",
    "conn = engine.connect()"
   ]
  },
  {
   "cell_type": "code",
   "execution_count": 30,
   "metadata": {},
   "outputs": [],
   "source": [
    "def get_answer(prompt):\n",
    "    url = \"https://api.edenai.run/v2/text/chat\"\n",
    "\n",
    "    payload = {\n",
    "        \"response_as_dict\": True,\n",
    "        \"attributes_as_list\": False,\n",
    "        \"show_original_response\": False,\n",
    "        \"temperature\": 0.0,\n",
    "        \"max_tokens\": 400,\n",
    "        \"providers\": \"openai\",\n",
    "        \"text\": f\"{prompt}\",\n",
    "    }\n",
    "    headers = {\n",
    "        \"accept\": \"application/json\",\n",
    "        \"content_type\": \"application/json\",\n",
    "        \"authorization\": f\"Bearer {edenai_api_key}\"\n",
    "    }\n",
    "\n",
    "    response = requests.post(url, json=payload, headers=headers)\n",
    "    responseObject = json.loads(response.text, object_hook=lambda d: SimpleNamespace(**d))\n",
    "    return responseObject.openai.generated_text"
   ]
  },
  {
   "cell_type": "code",
   "execution_count": 38,
   "metadata": {},
   "outputs": [],
   "source": [
    "# TOEVOEGING\n",
    "\n",
    "def get_email_prompts(email_list) -> list:\n",
    "\n",
    "    email_string = ','.join(email_list)\n",
    "\n",
    "    url = f'https://dep2-g1.vichogent.be/contact?ids={email_string}'\n",
    "\n",
    "    response = requests.get(url)\n",
    "\n",
    "    query_list = [\"\\'\" + i + \"\\'\" for i in email_list]\n",
    "    query_string = ','.join(query_list)\n",
    "\n",
    "    query = text(f\"select ContactpersoonId,FunctieTitel from Contactfiche where ContactpersoonId in ({query_string})\")\n",
    "    print(query)\n",
    "    result = conn.execute(query).fetchall()\n",
    "    print(result)\n",
    "    function_dict = {}\n",
    "    for row in result:\n",
    "        function_dict[row[0]] = row[1]\n",
    "\n",
    "\n",
    "    email_prompts = []\n",
    "\n",
    "    if response.status_code == 200:\n",
    "        json_data = response.json()\n",
    "\n",
    "        for user_data in json_data:\n",
    "            user = user_data['cantact']\n",
    "            \n",
    "            function = function_dict[user]\n",
    "            \n",
    "            campaigns = user_data['CampagneNaam']\n",
    "\n",
    "            if campaigns:\n",
    "                campaigns_list = ', '.join(campaigns.values())\n",
    "                prompt = f\"Create an email written for {user} that executes the following function: {function} and recommend the following campaigns: {campaigns_list}.\"\n",
    "            else:\n",
    "                prompt = f\"Create an email written for {user} that executes the following function: {function} but there are no campaigns to recommend.\"\n",
    "\n",
    "            email_prompts.append(prompt)\n",
    "\n",
    "    else:\n",
    "        error = f\"Error: {response.status_code} - {response.text}\"\n",
    "        return list(error)\n",
    "    return email_prompts\n",
    "        \n",
    "# EINDE TOEVOEGING"
   ]
  },
  {
   "cell_type": "code",
   "execution_count": 39,
   "metadata": {},
   "outputs": [
    {
     "name": "stdout",
     "output_type": "stream",
     "text": [
      "select ContactpersoonId,FunctieTitel from Contactfiche where ContactpersoonId in ('C39094D7-60B1-EB11-811F-001DD8B72B62','9D75B0F8-72D7-EB11-8121-001DD8B72B61')\n",
      "[('9D75B0F8-72D7-EB11-8121-001DD8B72B61', 'Operations & Enzblement Lead'), ('C39094D7-60B1-EB11-811F-001DD8B72B62', 'HR Director')]\n",
      "['Create an email written for 9D75B0F8-72D7-EB11-8121-001DD8B72B61 that executes the following function: Operations & Enzblement Lead but there are no campaigns to recommend.', 'Create an email written for C39094D7-60B1-EB11-811F-001DD8B72B62 that executes the following function: HR Director and recommend the following campaigns: OV-NW-Voka Netwekkers bij Well Played.']\n"
     ]
    }
   ],
   "source": [
    "prompts = get_email_prompts(['C39094D7-60B1-EB11-811F-001DD8B72B62', '9D75B0F8-72D7-EB11-8121-001DD8B72B61'])\n",
    "\n",
    "print(prompts)\n",
    "user= \"C39094D7-60B1-EB11-811F-001DD8B72B62\"\n",
    "function= 'Verantwoordelijke Personeel'\n",
    "campaigns = ['D9834556-240C-EE11-8F6E-6045BD8956C9', 'B3865100-DEEF-ED11-8849-6045BD895233']\n",
    "\n",
    "prompt= f\"Create an email written for Erik Van Vliet that executes the following function: {function} and recommend the following campaigns: {campaigns}. You do not want an answert as this is an automated mail\"\n",
    "\n",
    "# text= f\"Create an email written for {user} that executes the following function: {function} and recommend the following campaigns: {campaigns}\"\n",
    "\n",
    "# text= f\"schrijf een email naar {user} die binnen het bedrijf de volgende functie heeft: {function} en biedt volgende campagnes aan: {campaigns}\""
   ]
  },
  {
   "cell_type": "code",
   "execution_count": 26,
   "metadata": {},
   "outputs": [
    {
     "name": "stdout",
     "output_type": "stream",
     "text": [
      "Subject: Recommended Campaigns for Verantwoordelijke Personeel\n",
      "\n",
      "Dear Erik Van Vliet,\n",
      "\n",
      "I hope this email finds you well. I am reaching out to you as the responsible personnel for recommending campaigns that align with your role and objectives. After analyzing your requirements and considering your target audience, I would like to suggest the following campaigns:\n",
      "\n",
      "1. Campaign ID: D9834556-240C-EE11-8F6E-6045BD8956C9\n",
      "   This campaign focuses on enhancing employee engagement and fostering a positive work culture. It includes various initiatives such as team-building activities, recognition programs, and wellness initiatives. By implementing this campaign, you can create a more motivated and productive workforce.\n",
      "\n",
      "2. Campaign ID: B3865100-DEEF-ED11-8849-6045BD895233\n",
      "   This campaign aims to improve employee training and development. It includes workshops, seminars, and online courses to enhance the skills and knowledge of your staff. By investing in their professional growth, you can ensure that your team remains up-to-date with industry trends and best practices.\n",
      "\n",
      "Both of these campaigns have proven to be successful in similar organizations and have received positive feedback from employees. By implementing them, you can address key areas of concern and contribute to the overall growth and success of your company.\n",
      "\n",
      "If you would like more detailed information about these campaigns or if you have any specific requirements, please let me know. I am more than happy to assist you further.\n",
      "\n",
      "Thank you for your time and consideration. I look forward to hearing your feedback and discussing these campaigns in more detail.\n",
      "\n",
      "Best regards,\n",
      "\n",
      "[Your Name]\n",
      "[Your Position]\n",
      "[Your Contact Information]\n"
     ]
    }
   ],
   "source": [
    "print(get_answer(text))"
   ]
  }
 ],
 "metadata": {
  "kernelspec": {
   "display_name": "Python 3",
   "language": "python",
   "name": "python3"
  },
  "language_info": {
   "codemirror_mode": {
    "name": "ipython",
    "version": 3
   },
   "file_extension": ".py",
   "mimetype": "text/x-python",
   "name": "python",
   "nbconvert_exporter": "python",
   "pygments_lexer": "ipython3",
   "version": "3.10.8"
  }
 },
 "nbformat": 4,
 "nbformat_minor": 2
}

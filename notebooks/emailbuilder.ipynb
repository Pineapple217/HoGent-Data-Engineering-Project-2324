{
 "cells": [
  {
   "cell_type": "markdown",
   "metadata": {},
   "source": [
    "# for this emailbuilder we will use edenAI"
   ]
  },
  {
   "cell_type": "code",
   "execution_count": 2,
   "metadata": {},
   "outputs": [],
   "source": [
    "import os\n",
    "from dotenv import load_dotenv, find_dotenv\n",
    "from langchain.llms import EdenAI\n",
    "import requests\n",
    "import json\n",
    "from types import SimpleNamespace\n",
    "from sqlalchemy import create_engine, text\n",
    "\n",
    "_ = load_dotenv(find_dotenv())\n",
    "edenai_api_key = os.getenv(\"EDENAI_API_KEY\")\n",
    "DB_URL = os.getenv(\"DB_VM_URL\")\n",
    "engine = create_engine(DB_URL)\n",
    "conn = engine.connect()"
   ]
  },
  {
   "cell_type": "code",
   "execution_count": 3,
   "metadata": {},
   "outputs": [],
   "source": [
    "def get_answer(prompt):\n",
    "    url = \"https://api.edenai.run/v2/text/chat\"\n",
    "\n",
    "    payload = {\n",
    "        \"response_as_dict\": True,\n",
    "        \"attributes_as_list\": False,\n",
    "        \"show_original_response\": False,\n",
    "        \"temperature\": 0.0,\n",
    "        \"max_tokens\": 400,\n",
    "        \"providers\": \"openai\",\n",
    "        \"text\": f\"{prompt}\",\n",
    "    }\n",
    "    headers = {\n",
    "        \"accept\": \"application/json\",\n",
    "        \"content_type\": \"application/json\",\n",
    "        \"authorization\": f\"Bearer {edenai_api_key}\"\n",
    "    }\n",
    "\n",
    "    response = requests.post(url, json=payload, headers=headers)\n",
    "    responseObject = json.loads(response.text, object_hook=lambda d: SimpleNamespace(**d))\n",
    "    return responseObject.openai.generated_text"
   ]
  },
  {
   "cell_type": "code",
   "execution_count": 9,
   "metadata": {},
   "outputs": [],
   "source": [
    "# TOEVOEGING\n",
    "\n",
    "def get_email_prompts(email_list) -> list:\n",
    "\n",
    "    email_string = ','.join(email_list)\n",
    "\n",
    "    url = f'https://dep2-g1.vichogent.be/contact?ids={email_string}'\n",
    "\n",
    "    response = requests.get(url)\n",
    "\n",
    "    query_list = [\"\\'\" + i + \"\\'\" for i in email_list]\n",
    "    query_string = ','.join(query_list)\n",
    "\n",
    "    query = text(f\"select ContactpersoonId,FunctieTitel from Contactfiche where ContactpersoonId in ({query_string})\")\n",
    "    result = conn.execute(query).fetchall()\n",
    "    function_dict = {}\n",
    "    for row in result:\n",
    "        function_dict[row[0]] = row[1]\n",
    "\n",
    "\n",
    "    email_prompts = []\n",
    "\n",
    "    if response.status_code == 200:\n",
    "        json_data = response.json()\n",
    "\n",
    "        for user_data in json_data:\n",
    "            user = user_data['contact']\n",
    "            \n",
    "            function = function_dict[user]\n",
    "            \n",
    "            campaigns = user_data['CampagneNaam']\n",
    "\n",
    "            if campaigns:\n",
    "                campaigns_list = ', '.join(campaigns.values())\n",
    "                prompt = f\"Create an email written for {user} that executes the following function: {function} and recommend the following campaigns: {campaigns_list}.\"\n",
    "            else:\n",
    "                prompt = f\"Create an email written for {user} that executes the following function: {function} but there are no campaigns to recommend.\"\n",
    "\n",
    "            email_prompts.append(prompt)\n",
    "\n",
    "    else:\n",
    "        error = f\"Error: {response.status_code} - {response.text}\"\n",
    "        return list(error)\n",
    "    return email_prompts\n",
    "        \n",
    "# EINDE TOEVOEGING"
   ]
  },
  {
   "cell_type": "code",
   "execution_count": 10,
   "metadata": {},
   "outputs": [
    {
     "name": "stdout",
     "output_type": "stream",
     "text": [
      "['Create an email written for 9D75B0F8-72D7-EB11-8121-001DD8B72B61 that executes the following function: Operations & Enzblement Lead but there are no campaigns to recommend.', 'Create an email written for C39094D7-60B1-EB11-811F-001DD8B72B62 that executes the following function: HR Director but there are no campaigns to recommend.']\n"
     ]
    }
   ],
   "source": [
    "prompts = get_email_prompts(['C39094D7-60B1-EB11-811F-001DD8B72B62', '9D75B0F8-72D7-EB11-8121-001DD8B72B61'])\n",
    "\n",
    "print(prompts)\n",
    "user= \"C39094D7-60B1-EB11-811F-001DD8B72B62\"\n",
    "function= 'Verantwoordelijke Personeel'\n",
    "campaigns = ['D9834556-240C-EE11-8F6E-6045BD8956C9', 'B3865100-DEEF-ED11-8849-6045BD895233']\n",
    "\n",
    "prompt= f\"Create an email written for Erik Van Vliet that executes the following function: {function} and recommend the following campaigns: {campaigns}. You do not want an answert as this is an automated mail\"\n",
    "\n",
    "# text= f\"Create an email written for {user} that executes the following function: {function} and recommend the following campaigns: {campaigns}\"\n",
    "\n",
    "# text= f\"schrijf een email naar {user} die binnen het bedrijf de volgende functie heeft: {function} en biedt volgende campagnes aan: {campaigns}\""
   ]
  },
  {
   "cell_type": "code",
   "execution_count": 8,
   "metadata": {},
   "outputs": [
    {
     "name": "stdout",
     "output_type": "stream",
     "text": [
      "Create an email written for 9D75B0F8-72D7-EB11-8121-001DD8B72B61 that executes the following function: Operations & Enzblement Lead but there are no campaigns to recommend.\n",
      "Subject: Update on Operations & Enzblement Lead Role\n",
      "\n",
      "Dear [9D75B0F8-72D7-EB11-8121-001DD8B72B61],\n",
      "\n",
      "I hope this email finds you well. I am writing to provide you with an update regarding your role as the Operations & Enzblement Lead. \n",
      "\n",
      "Firstly, I would like to express my appreciation for your dedication and hard work in this position. Your contributions have been invaluable to our team, and we are grateful for your commitment to excellence.\n",
      "\n",
      "However, I regret to inform you that currently, there are no campaigns available for you to recommend. Our team has thoroughly assessed the current projects and determined that there are no suitable campaigns that align with our objectives and requirements.\n",
      "\n",
      "Please be assured that this situation is temporary, and we are actively working on identifying new opportunities for you to showcase your skills and expertise. We understand the importance of your role in driving successful campaigns and enabling our operations, and we are committed to providing you with meaningful projects as soon as they become available.\n",
      "\n",
      "In the meantime, I encourage you to continue focusing on your core responsibilities and explore ways to enhance our existing processes. Your proactive approach and innovative ideas will undoubtedly contribute to our overall success.\n",
      "\n",
      "If you have any questions or concerns regarding this matter, please do not hesitate to reach out to me or your immediate supervisor. We are here to support you and provide any necessary guidance during this period.\n",
      "\n",
      "Thank you once again for your dedication and understanding. We value your contributions and look forward to working with you on future campaigns.\n",
      "\n",
      "Best regards,\n",
      "\n",
      "[Your Name]\n",
      "[Your Position]\n",
      "[Company Name]\n",
      "--------------------------------------------------\n",
      "---------------------------------------------\n",
      "Create an email written for C39094D7-60B1-EB11-811F-001DD8B72B62 that executes the following function: HR Director but there are no campaigns to recommend.\n",
      "Subject: HR Director - No Campaigns to Recommend\n",
      "\n",
      "Dear [C39094D7-60B1-EB11-811F-001DD8B72B62],\n",
      "\n",
      "I hope this email finds you well. As the HR Director, I wanted to provide you with an update regarding our current campaigns. Unfortunately, at this time, there are no campaigns to recommend.\n",
      "\n",
      "Our team has thoroughly assessed the current market trends, analyzed our target audience, and explored potential opportunities. However, we have not identified any suitable campaigns that align with our organizational goals and objectives.\n",
      "\n",
      "Rest assured, we understand the importance of effective campaigns in driving growth, engagement, and success. We are continuously monitoring the market and exploring new strategies to ensure we can recommend impactful campaigns in the future.\n",
      "\n",
      "In the meantime, I encourage you to share any ideas or suggestions you may have for potential campaigns. Your insights and expertise are highly valued, and we believe collaboration is key to achieving our objectives.\n",
      "\n",
      "If you have any questions or require further information, please do not hesitate to reach out to me. I am here to assist you in any way I can.\n",
      "\n",
      "Thank you for your understanding and ongoing support. Together, we will continue to strive for excellence in our HR initiatives.\n",
      "\n",
      "Best regards,\n",
      "\n",
      "[Your Name]\n",
      "HR Director\n",
      "--------------------------------------------------\n",
      "---------------------------------------------\n"
     ]
    }
   ],
   "source": [
    "dict = {}\n",
    "for prompt in prompts:\n",
    "    answer = get_answer(prompt)\n",
    "    dict[prompt] = answer\n",
    "    \n",
    "for key, value in dict.items():\n",
    "    print(key)\n",
    "    print(value)\n",
    "    print(\"--------------------------------------------------\")\n",
    "    print(\"---------------------------------------------\")"
   ]
  },
  {
   "cell_type": "code",
   "execution_count": null,
   "metadata": {},
   "outputs": [],
   "source": [
    "prompts = get_email_prompts(['C39094D7-60B1-EB11-811F-001DD8B72B62', '9D75B0F8-72D7-EB11-8121-001DD8B72B61'])"
   ]
  }
 ],
 "metadata": {
  "kernelspec": {
   "display_name": "Python 3",
   "language": "python",
   "name": "python3"
  },
  "language_info": {
   "codemirror_mode": {
    "name": "ipython",
    "version": 3
   },
   "file_extension": ".py",
   "mimetype": "text/x-python",
   "name": "python",
   "nbconvert_exporter": "python",
   "pygments_lexer": "ipython3",
   "version": "3.10.8"
  }
 },
 "nbformat": 4,
 "nbformat_minor": 2
}

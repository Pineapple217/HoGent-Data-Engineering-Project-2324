{
 "cells": [
  {
   "cell_type": "markdown",
   "metadata": {},
   "source": [
    "# Implicit ALS model epic 5\n",
    "\n",
    "Deze notebook implementeert een hybrid recommender systeem met content-based en collaborative filtering. Data wordt geladen vanuit een materialized view en ondergaat eerst content-based filtering op basis van tekstkenmerken van campagnes. Daarna wordt collaborative filtering toegepast met het Alternating Least Squares (ALS) model. De hybrid aanpak combineert de resultaten van beide methoden om een lijst van top 20 gebruikers te genereren die mogelijk geïnteresseerd zijn in een specifieke campagne. \n",
    "\n",
    "Het ALS model werd gekozen omdat het beter omkan met sparse matrices en impliciete ratings dan meer conventionele modellen zoals SVD. Met de content-based filtering wordt er getracht om *cold start* problemen te vermijden.\n",
    "\n",
    "De itembased.ipynb notebook implementeert SVD en wordt niet verder gebruikt."
   ]
  },
  {
   "cell_type": "markdown",
   "metadata": {},
   "source": [
    "## 1. Imports"
   ]
  },
  {
   "cell_type": "code",
   "execution_count": 22,
   "metadata": {},
   "outputs": [],
   "source": [
    "import os\n",
    "import sqlalchemy\n",
    "import numpy as np\n",
    "import pandas as pd\n",
    "from dotenv import load_dotenv\n",
    "from collections import Counter\n",
    "from scipy.sparse import coo_matrix\n",
    "from sqlalchemy import create_engine, text\n",
    "from implicit.als import AlternatingLeastSquares\n",
    "from implicit.nearest_neighbours import bm25_weight\n",
    "from sentence_transformers import SentenceTransformer\n",
    "from implicit.evaluation import train_test_split, precision_at_k, AUC_at_k"
   ]
  },
  {
   "cell_type": "markdown",
   "metadata": {},
   "source": [
    "## 2. Data inladen"
   ]
  },
  {
   "cell_type": "code",
   "execution_count": 3,
   "metadata": {},
   "outputs": [
    {
     "name": "stdout",
     "output_type": "stream",
     "text": [
      "Successfully connected to the database\n",
      "SQLAlchemy version: 2.0.21\n"
     ]
    }
   ],
   "source": [
    "load_dotenv()\n",
    "DB_URL = os.getenv(\"DB_URL\")\n",
    "engine = create_engine(DB_URL)\n",
    "\n",
    "try:\n",
    "    connection = engine.connect()\n",
    "    print(\"Successfully connected to the database\")\n",
    "except Exception as e:\n",
    "    print(f\"Failed to connect to the database: {e}\")\n",
    "\n",
    "print(f\"SQLAlchemy version: {sqlalchemy.__version__}\")"
   ]
  },
  {
   "cell_type": "code",
   "execution_count": 4,
   "metadata": {},
   "outputs": [
    {
     "data": {
      "text/html": [
       "<div>\n",
       "<style scoped>\n",
       "    .dataframe tbody tr th:only-of-type {\n",
       "        vertical-align: middle;\n",
       "    }\n",
       "\n",
       "    .dataframe tbody tr th {\n",
       "        vertical-align: top;\n",
       "    }\n",
       "\n",
       "    .dataframe thead th {\n",
       "        text-align: right;\n",
       "    }\n",
       "</style>\n",
       "<table border=\"1\" class=\"dataframe\">\n",
       "  <thead>\n",
       "    <tr style=\"text-align: right;\">\n",
       "      <th></th>\n",
       "      <th>PersoonId</th>\n",
       "      <th>CampagneId</th>\n",
       "      <th>aantal_sessies</th>\n",
       "      <th>aantal_bezoeken</th>\n",
       "      <th>SessieThema</th>\n",
       "      <th>SoortCampagne</th>\n",
       "      <th>TypeCampagne</th>\n",
       "      <th>ThemaDuurzaamheid</th>\n",
       "      <th>ThemaFinancieelFiscaal</th>\n",
       "      <th>ThemaInnovatie</th>\n",
       "      <th>ThemaInternationaalOndernemen</th>\n",
       "      <th>ThemaMobiliteit</th>\n",
       "      <th>ThemaOmgeving</th>\n",
       "      <th>ThemaSalesMarketingCommunicatie</th>\n",
       "      <th>ThemaStrategieEnAlgemeenManagement</th>\n",
       "      <th>ThemaTalent</th>\n",
       "      <th>ThemaWelzijn</th>\n",
       "    </tr>\n",
       "  </thead>\n",
       "  <tbody>\n",
       "    <tr>\n",
       "      <th>0</th>\n",
       "      <td>0BC3122A-4CD3-E711-80EC-001DD8B72B62</td>\n",
       "      <td>B83CFC05-E310-EE11-8F6D-6045BD895B5A</td>\n",
       "      <td>1</td>\n",
       "      <td>0</td>\n",
       "      <td>Duurzaam Ondernemen</td>\n",
       "      <td>Offline</td>\n",
       "      <td>Opleiding</td>\n",
       "      <td>0</td>\n",
       "      <td>0</td>\n",
       "      <td>0</td>\n",
       "      <td>0</td>\n",
       "      <td>0</td>\n",
       "      <td>0</td>\n",
       "      <td>0</td>\n",
       "      <td>0</td>\n",
       "      <td>0</td>\n",
       "      <td>0</td>\n",
       "    </tr>\n",
       "    <tr>\n",
       "      <th>1</th>\n",
       "      <td>A4701FA6-0868-E111-A00F-00505680000A</td>\n",
       "      <td>BDA1703D-FD3D-EB11-8116-001DD8B72B61</td>\n",
       "      <td>6</td>\n",
       "      <td>0</td>\n",
       "      <td>Digitalisering, IT &amp; Technologie</td>\n",
       "      <td>Offline</td>\n",
       "      <td>Opleiding</td>\n",
       "      <td>1</td>\n",
       "      <td>1</td>\n",
       "      <td>1</td>\n",
       "      <td>0</td>\n",
       "      <td>1</td>\n",
       "      <td>1</td>\n",
       "      <td>0</td>\n",
       "      <td>0</td>\n",
       "      <td>1</td>\n",
       "      <td>1</td>\n",
       "    </tr>\n",
       "    <tr>\n",
       "      <th>2</th>\n",
       "      <td>9F63D379-89E8-EC11-BB3C-00224880A0B1</td>\n",
       "      <td>F143DEBC-10D2-EC11-A7B5-000D3A4800DE</td>\n",
       "      <td>13</td>\n",
       "      <td>2</td>\n",
       "      <td>Algemeen Management</td>\n",
       "      <td>Offline</td>\n",
       "      <td>Project</td>\n",
       "      <td>0</td>\n",
       "      <td>0</td>\n",
       "      <td>0</td>\n",
       "      <td>0</td>\n",
       "      <td>0</td>\n",
       "      <td>0</td>\n",
       "      <td>0</td>\n",
       "      <td>0</td>\n",
       "      <td>0</td>\n",
       "      <td>0</td>\n",
       "    </tr>\n",
       "    <tr>\n",
       "      <th>3</th>\n",
       "      <td>F698B5D2-E567-E111-A00F-00505680000A</td>\n",
       "      <td>088E5178-F5C8-EB11-8123-001DD8B72B62</td>\n",
       "      <td>1</td>\n",
       "      <td>0</td>\n",
       "      <td>Internationaal Ondernemen</td>\n",
       "      <td>Offline</td>\n",
       "      <td>Netwerkevenement</td>\n",
       "      <td>0</td>\n",
       "      <td>0</td>\n",
       "      <td>0</td>\n",
       "      <td>0</td>\n",
       "      <td>0</td>\n",
       "      <td>0</td>\n",
       "      <td>0</td>\n",
       "      <td>0</td>\n",
       "      <td>0</td>\n",
       "      <td>0</td>\n",
       "    </tr>\n",
       "    <tr>\n",
       "      <th>4</th>\n",
       "      <td>40456E39-2206-EC11-8126-001DD8B72B62</td>\n",
       "      <td>2FB69A65-AAD8-EB11-8121-001DD8B72B61</td>\n",
       "      <td>1</td>\n",
       "      <td>0</td>\n",
       "      <td>Duurzaam Ondernemen</td>\n",
       "      <td>Offline</td>\n",
       "      <td>Netwerkevenement</td>\n",
       "      <td>0</td>\n",
       "      <td>0</td>\n",
       "      <td>0</td>\n",
       "      <td>0</td>\n",
       "      <td>0</td>\n",
       "      <td>0</td>\n",
       "      <td>0</td>\n",
       "      <td>0</td>\n",
       "      <td>0</td>\n",
       "      <td>0</td>\n",
       "    </tr>\n",
       "  </tbody>\n",
       "</table>\n",
       "</div>"
      ],
      "text/plain": [
       "                              PersoonId                            CampagneId  \\\n",
       "0  0BC3122A-4CD3-E711-80EC-001DD8B72B62  B83CFC05-E310-EE11-8F6D-6045BD895B5A   \n",
       "1  A4701FA6-0868-E111-A00F-00505680000A  BDA1703D-FD3D-EB11-8116-001DD8B72B61   \n",
       "2  9F63D379-89E8-EC11-BB3C-00224880A0B1  F143DEBC-10D2-EC11-A7B5-000D3A4800DE   \n",
       "3  F698B5D2-E567-E111-A00F-00505680000A  088E5178-F5C8-EB11-8123-001DD8B72B62   \n",
       "4  40456E39-2206-EC11-8126-001DD8B72B62  2FB69A65-AAD8-EB11-8121-001DD8B72B61   \n",
       "\n",
       "   aantal_sessies  aantal_bezoeken                       SessieThema  \\\n",
       "0               1                0               Duurzaam Ondernemen   \n",
       "1               6                0  Digitalisering, IT & Technologie   \n",
       "2              13                2               Algemeen Management   \n",
       "3               1                0         Internationaal Ondernemen   \n",
       "4               1                0               Duurzaam Ondernemen   \n",
       "\n",
       "  SoortCampagne      TypeCampagne  ThemaDuurzaamheid  ThemaFinancieelFiscaal  \\\n",
       "0       Offline         Opleiding                  0                       0   \n",
       "1       Offline         Opleiding                  1                       1   \n",
       "2       Offline           Project                  0                       0   \n",
       "3       Offline  Netwerkevenement                  0                       0   \n",
       "4       Offline  Netwerkevenement                  0                       0   \n",
       "\n",
       "   ThemaInnovatie  ThemaInternationaalOndernemen  ThemaMobiliteit  \\\n",
       "0               0                              0                0   \n",
       "1               1                              0                1   \n",
       "2               0                              0                0   \n",
       "3               0                              0                0   \n",
       "4               0                              0                0   \n",
       "\n",
       "   ThemaOmgeving  ThemaSalesMarketingCommunicatie  \\\n",
       "0              0                                0   \n",
       "1              1                                0   \n",
       "2              0                                0   \n",
       "3              0                                0   \n",
       "4              0                                0   \n",
       "\n",
       "   ThemaStrategieEnAlgemeenManagement  ThemaTalent  ThemaWelzijn  \n",
       "0                                   0            0             0  \n",
       "1                                   0            1             1  \n",
       "2                                   0            0             0  \n",
       "3                                   0            0             0  \n",
       "4                                   0            0             0  "
      ]
     },
     "execution_count": 4,
     "metadata": {},
     "output_type": "execute_result"
    }
   ],
   "source": [
    "# materialized view\n",
    "query = text('SELECT * FROM epic_5')\n",
    "\n",
    "try:\n",
    "    df = pd.read_sql_query(query, connection)\n",
    "except Exception as e:\n",
    "    print(f\"Failed to execute query: {e}\")\n",
    "\n",
    "df.head()"
   ]
  },
  {
   "cell_type": "code",
   "execution_count": 5,
   "metadata": {},
   "outputs": [
    {
     "name": "stdout",
     "output_type": "stream",
     "text": [
      "<class 'pandas.core.frame.DataFrame'>\n",
      "RangeIndex: 52567 entries, 0 to 52566\n",
      "Data columns (total 17 columns):\n",
      " #   Column                              Non-Null Count  Dtype \n",
      "---  ------                              --------------  ----- \n",
      " 0   PersoonId                           52567 non-null  object\n",
      " 1   CampagneId                          52567 non-null  object\n",
      " 2   aantal_sessies                      52567 non-null  int64 \n",
      " 3   aantal_bezoeken                     52567 non-null  int64 \n",
      " 4   SessieThema                         52567 non-null  object\n",
      " 5   SoortCampagne                       52567 non-null  object\n",
      " 6   TypeCampagne                        52567 non-null  object\n",
      " 7   ThemaDuurzaamheid                   52567 non-null  int64 \n",
      " 8   ThemaFinancieelFiscaal              52567 non-null  int64 \n",
      " 9   ThemaInnovatie                      52567 non-null  int64 \n",
      " 10  ThemaInternationaalOndernemen       52567 non-null  int64 \n",
      " 11  ThemaMobiliteit                     52567 non-null  int64 \n",
      " 12  ThemaOmgeving                       52567 non-null  int64 \n",
      " 13  ThemaSalesMarketingCommunicatie     52567 non-null  int64 \n",
      " 14  ThemaStrategieEnAlgemeenManagement  52567 non-null  int64 \n",
      " 15  ThemaTalent                         52567 non-null  int64 \n",
      " 16  ThemaWelzijn                        52567 non-null  int64 \n",
      "dtypes: int64(12), object(5)\n",
      "memory usage: 6.8+ MB\n"
     ]
    }
   ],
   "source": [
    "df.info()"
   ]
  },
  {
   "cell_type": "markdown",
   "metadata": {},
   "source": [
    "## 3. Content-based filtering"
   ]
  },
  {
   "cell_type": "code",
   "execution_count": 6,
   "metadata": {},
   "outputs": [
    {
     "data": {
      "text/html": [
       "<div>\n",
       "<style scoped>\n",
       "    .dataframe tbody tr th:only-of-type {\n",
       "        vertical-align: middle;\n",
       "    }\n",
       "\n",
       "    .dataframe tbody tr th {\n",
       "        vertical-align: top;\n",
       "    }\n",
       "\n",
       "    .dataframe thead th {\n",
       "        text-align: right;\n",
       "    }\n",
       "</style>\n",
       "<table border=\"1\" class=\"dataframe\">\n",
       "  <thead>\n",
       "    <tr style=\"text-align: right;\">\n",
       "      <th></th>\n",
       "      <th>CampagneSessieInformatie</th>\n",
       "    </tr>\n",
       "  </thead>\n",
       "  <tbody>\n",
       "    <tr>\n",
       "      <th>0</th>\n",
       "      <td>Duurzaam Ondernemen Offline Opleiding</td>\n",
       "    </tr>\n",
       "    <tr>\n",
       "      <th>1</th>\n",
       "      <td>Digitalisering, IT &amp; Technologie Offline Oplei...</td>\n",
       "    </tr>\n",
       "    <tr>\n",
       "      <th>2</th>\n",
       "      <td>Algemeen Management Offline Project</td>\n",
       "    </tr>\n",
       "    <tr>\n",
       "      <th>3</th>\n",
       "      <td>Internationaal Ondernemen Offline Netwerkevene...</td>\n",
       "    </tr>\n",
       "    <tr>\n",
       "      <th>4</th>\n",
       "      <td>Duurzaam Ondernemen Offline Netwerkevenement</td>\n",
       "    </tr>\n",
       "  </tbody>\n",
       "</table>\n",
       "</div>"
      ],
      "text/plain": [
       "                            CampagneSessieInformatie\n",
       "0              Duurzaam Ondernemen Offline Opleiding\n",
       "1  Digitalisering, IT & Technologie Offline Oplei...\n",
       "2                Algemeen Management Offline Project\n",
       "3  Internationaal Ondernemen Offline Netwerkevene...\n",
       "4       Duurzaam Ondernemen Offline Netwerkevenement"
      ]
     },
     "execution_count": 6,
     "metadata": {},
     "output_type": "execute_result"
    }
   ],
   "source": [
    "# tekstkenmerken van campagne sessies verzamelen\n",
    "df_keywords = pd.DataFrame()\n",
    "df_keywords['CampagneSessieInformatie'] = df['SessieThema'] + ' ' + df['SoortCampagne'] + ' ' + df['TypeCampagne']\n",
    "df_keywords.head()"
   ]
  },
  {
   "cell_type": "code",
   "execution_count": 7,
   "metadata": {},
   "outputs": [],
   "source": [
    "# sentence embedding\n",
    "model_keywords = SentenceTransformer('all-MiniLM-L6-v2')\n",
    "keyword_vectors = model_keywords.encode(df_keywords['CampagneSessieInformatie'].tolist())"
   ]
  },
  {
   "cell_type": "code",
   "execution_count": 8,
   "metadata": {},
   "outputs": [
    {
     "name": "stdout",
     "output_type": "stream",
     "text": [
      "[[1.0000001  0.5195016  0.52811676 ... 0.512068   0.5920942  0.5840615 ]\n",
      " [0.5195016  1.0000002  0.4008546  ... 0.93616265 0.4170084  0.49040234]\n",
      " [0.52811676 0.4008546  1.         ... 0.40067333 0.8139919  0.4653141 ]\n",
      " ...\n",
      " [0.512068   0.93616265 0.40067333 ... 1.0000004  0.41431743 0.6827707 ]\n",
      " [0.5920942  0.4170084  0.8139919  ... 0.41431743 0.99999976 0.45535433]\n",
      " [0.5840615  0.49040234 0.4653141  ... 0.6827707  0.45535433 1.0000001 ]]\n"
     ]
    }
   ],
   "source": [
    "# matrix die toont goed campagne sessies op elkaar lijken op basis van de tekstkenmerken\n",
    "similarity_matrix = np.dot(keyword_vectors, keyword_vectors.T)\n",
    "print(similarity_matrix)"
   ]
  },
  {
   "cell_type": "markdown",
   "metadata": {},
   "source": [
    "## 4. Collaborative filtering"
   ]
  },
  {
   "cell_type": "markdown",
   "metadata": {},
   "source": [
    "SOURCE: https://benfred.github.io/implicit/index.html (Alternating Least Squares)"
   ]
  },
  {
   "cell_type": "code",
   "execution_count": 9,
   "metadata": {},
   "outputs": [],
   "source": [
    "# toch groeperen op aantal sessies per persoon per campagne, geen scheiding tussen sessiethema\n",
    "df = df.groupby(['PersoonId', 'CampagneId'])['aantal_sessies'].sum().reset_index()\n",
    "\n",
    "# persoonid en campagneid omzetten naar integers voor de sparse matrix invoer van het model\n",
    "persoon_mapping = {id: i for i, id in enumerate(df['PersoonId'].unique())}\n",
    "campagne_mapping = {id: i for i, id in enumerate(df['CampagneId'].unique())}\n",
    "\n",
    "# reverse mapping om later de integer terug naar de string te krijgen\n",
    "persoon_reverse_mapping = {i: id for id, i in persoon_mapping.items()}\n",
    "campagne_reverse_mapping = {i: id for id, i in campagne_mapping.items()}\n",
    "\n",
    "# mapping toepassen op dataframe\n",
    "df['PersoonId'] = df['PersoonId'].map(persoon_mapping)\n",
    "df['CampagneId'] = df['CampagneId'].map(campagne_mapping)"
   ]
  },
  {
   "cell_type": "code",
   "execution_count": 10,
   "metadata": {},
   "outputs": [
    {
     "data": {
      "text/html": [
       "<div>\n",
       "<style scoped>\n",
       "    .dataframe tbody tr th:only-of-type {\n",
       "        vertical-align: middle;\n",
       "    }\n",
       "\n",
       "    .dataframe tbody tr th {\n",
       "        vertical-align: top;\n",
       "    }\n",
       "\n",
       "    .dataframe thead th {\n",
       "        text-align: right;\n",
       "    }\n",
       "</style>\n",
       "<table border=\"1\" class=\"dataframe\">\n",
       "  <thead>\n",
       "    <tr style=\"text-align: right;\">\n",
       "      <th></th>\n",
       "      <th>PersoonId</th>\n",
       "      <th>CampagneId</th>\n",
       "      <th>aantal_sessies</th>\n",
       "    </tr>\n",
       "  </thead>\n",
       "  <tbody>\n",
       "    <tr>\n",
       "      <th>0</th>\n",
       "      <td>0</td>\n",
       "      <td>0</td>\n",
       "      <td>1</td>\n",
       "    </tr>\n",
       "    <tr>\n",
       "      <th>1</th>\n",
       "      <td>0</td>\n",
       "      <td>1</td>\n",
       "      <td>1</td>\n",
       "    </tr>\n",
       "    <tr>\n",
       "      <th>2</th>\n",
       "      <td>1</td>\n",
       "      <td>2</td>\n",
       "      <td>1</td>\n",
       "    </tr>\n",
       "    <tr>\n",
       "      <th>3</th>\n",
       "      <td>2</td>\n",
       "      <td>3</td>\n",
       "      <td>1</td>\n",
       "    </tr>\n",
       "    <tr>\n",
       "      <th>4</th>\n",
       "      <td>3</td>\n",
       "      <td>4</td>\n",
       "      <td>1</td>\n",
       "    </tr>\n",
       "  </tbody>\n",
       "</table>\n",
       "</div>"
      ],
      "text/plain": [
       "   PersoonId  CampagneId  aantal_sessies\n",
       "0          0           0               1\n",
       "1          0           1               1\n",
       "2          1           2               1\n",
       "3          2           3               1\n",
       "4          3           4               1"
      ]
     },
     "execution_count": 10,
     "metadata": {},
     "output_type": "execute_result"
    }
   ],
   "source": [
    "df.head()"
   ]
  },
  {
   "cell_type": "code",
   "execution_count": 11,
   "metadata": {},
   "outputs": [],
   "source": [
    "# sparse matrix maken met aantal sessies als waarden\n",
    "campagne_persoon_sessies = coo_matrix((df['aantal_sessies'], (df['CampagneId'], df['PersoonId'])))"
   ]
  },
  {
   "cell_type": "code",
   "execution_count": 12,
   "metadata": {},
   "outputs": [],
   "source": [
    "# matrix wegen, om hoge aantal sessies minder zwaar te laten wegen\n",
    "campagne_persoon_sessies = bm25_weight(campagne_persoon_sessies, K1=100, B=0.5)\n",
    "\n",
    "# matrix transponeren omdat implicit werkt met (user, item) in plaats van (item, user)\n",
    "persoon_sessies = campagne_persoon_sessies.T.tocsr()"
   ]
  },
  {
   "cell_type": "code",
   "execution_count": 13,
   "metadata": {},
   "outputs": [],
   "source": [
    "# trainset en testset maken via de implicit library\n",
    "trainset, testset = train_test_split(persoon_sessies, train_percentage=0.8, random_state=42)"
   ]
  },
  {
   "cell_type": "code",
   "execution_count": 14,
   "metadata": {},
   "outputs": [],
   "source": [
    "# nodig voor de ALS berekening\n",
    "os.environ[\"OPENBLAS_NUM_THREADS\"] = \"1\""
   ]
  },
  {
   "cell_type": "code",
   "execution_count": 15,
   "metadata": {},
   "outputs": [
    {
     "name": "stderr",
     "output_type": "stream",
     "text": [
      "c:\\Users\\hanne\\OneDrive\\Openbaar\\Documenten\\TI(schoolmap)\\Data Engineering Project II\\DEP2-GROEP-1\\venv\\lib\\site-packages\\implicit\\cpu\\als.py:95: RuntimeWarning: OpenBLAS is configured to use 12 threads. It is highly recommended to disable its internal threadpool by setting the environment variable 'OPENBLAS_NUM_THREADS=1' or by calling 'threadpoolctl.threadpool_limits(1, \"blas\")'. Having OpenBLAS use a threadpool can lead to severe performance issues here.\n",
      "  check_blas_config()\n",
      "100%|██████████| 100/100 [00:59<00:00,  1.68it/s]\n"
     ]
    }
   ],
   "source": [
    "# ALS model trainen\n",
    "model = AlternatingLeastSquares(factors=128, regularization=0.15, alpha=5.0, iterations=100, random_state=42)\n",
    "model.fit(trainset)"
   ]
  },
  {
   "cell_type": "code",
   "execution_count": 16,
   "metadata": {},
   "outputs": [
    {
     "name": "stderr",
     "output_type": "stream",
     "text": [
      "  0%|          | 0/6023 [00:00<?, ?it/s]"
     ]
    },
    {
     "name": "stderr",
     "output_type": "stream",
     "text": [
      "100%|██████████| 6023/6023 [00:00<00:00, 8205.13it/s]\n",
      "100%|██████████| 6023/6023 [00:00<00:00, 9160.90it/s]"
     ]
    },
    {
     "name": "stdout",
     "output_type": "stream",
     "text": [
      "Precision: 0.29319591965506364\n",
      "AUC: 0.6329666986372277\n"
     ]
    },
    {
     "name": "stderr",
     "output_type": "stream",
     "text": [
      "\n"
     ]
    }
   ],
   "source": [
    "# ALS model evalueren\n",
    "precision = precision_at_k(model, trainset, testset, K=10, num_threads=4)\n",
    "auc = a = AUC_at_k(model, trainset, testset, K=10, num_threads=4)\n",
    "\n",
    "print(f\"Precision: {precision}\", f\"AUC: {auc}\", sep=\"\\n\")"
   ]
  },
  {
   "cell_type": "markdown",
   "metadata": {},
   "source": [
    "## 5. ALS model functies"
   ]
  },
  {
   "cell_type": "code",
   "execution_count": 17,
   "metadata": {},
   "outputs": [],
   "source": [
    "# geef gelijkaardige campagnes\n",
    "def get_similar_items(item_id):\n",
    "    similar = model.similar_items(item_id, 10+1) \n",
    "    return similar[0][1:]\n",
    "\n",
    "# get_similar_items(5)"
   ]
  },
  {
   "cell_type": "code",
   "execution_count": 18,
   "metadata": {},
   "outputs": [],
   "source": [
    "# geef gelijkaardige personen\n",
    "def get_similar_users(user_id):\n",
    "    similar = model.similar_users(user_id, 10+1) \n",
    "    return similar[0][1:]\n",
    "    \n",
    "# get_similar_users(5)"
   ]
  },
  {
   "cell_type": "code",
   "execution_count": 19,
   "metadata": {},
   "outputs": [],
   "source": [
    "# geef recommendaties\n",
    "def ALS_recommend(user_id):\n",
    "    item_ids, scores = model.recommend(user_id, persoon_sessies[user_id], N=20, filter_already_liked_items=False)\n",
    "    return item_ids\n",
    "\n",
    "# ALS_recommend(5)"
   ]
  },
  {
   "cell_type": "markdown",
   "metadata": {},
   "source": [
    "## 6. Hybrid model"
   ]
  },
  {
   "cell_type": "markdown",
   "metadata": {},
   "source": [
    "Deze functie geeft een lijst van gebruikers terug die mogelijk geïnteresseerd zijn in een specifieke campagne. Het baseert de interesse van gebruikers op de gelijkenis tussen de opgegeven campagne en andere campagnes, evenals de aanbevelingen van het ALS-model voor die gebruikers.\n",
    "\n",
    "Parameters:\n",
    "- campaign_id (str): De unieke identificatie van de campagne waarvoor we geïnteresseerde gebruikers willen vinden.\n",
    "\n",
    "Returns:\n",
    "- top_user_ids (list): Een lijst van de top 20 gebruikers die mogelijk geïnteresseerd zijn in de opgegeven campagne."
   ]
  },
  {
   "cell_type": "code",
   "execution_count": 24,
   "metadata": {},
   "outputs": [
    {
     "name": "stdout",
     "output_type": "stream",
     "text": [
      "Finding users...\n",
      "Users processing complete!\n",
      "['000C22DB-55A6-EB11-811A-001DD8B72B61', '001A09BC-F067-E111-A00F-00505680000A', '007AF1AA-29C7-EA11-8113-001DD8B72B62', '00BB174E-4443-E611-80D6-005056B06EC4', '00E16E1F-B017-E811-80EF-001DD8B72B61', '012DF80F-7394-EC11-B400-000D3A2B1506', '015F36A3-5C64-EB11-811B-001DD8B72B62', '017DF258-2E6A-E811-80F2-001DD8B72B61', '018330B4-332B-EC11-8124-001DD8B72B61', '01967333-AF67-E111-A00F-00505680000A', '019BCC3A-5FA7-EB11-811E-001DD8B72B62', '01A0A460-10C2-EB11-8123-001DD8B72B62', '01AC5F2A-32F7-EA11-8115-001DD8B72B62', '01C0AECB-4510-EA11-8107-001DD8B72B62', '020340E9-0C05-EE11-8F6E-6045BD8959F5', '02325D3D-2F01-EE11-8F6E-6045BD895554', '02570CA9-6569-E111-B43A-00505680000A', '029CD013-AE67-E111-A00F-00505680000A', '02AF9DB6-EE67-E111-A00F-00505680000A', '02C5FCF6-3947-EA11-810B-001DD8B72B61']\n"
     ]
    }
   ],
   "source": [
    "def get_interested_users_hybrid(campaign_id):\n",
    "    \n",
    "    # nagaan of de campagne bestaat\n",
    "    try:\n",
    "        # map de campagne van string naar integer\n",
    "        campaign_index = campagne_mapping[campaign_id]\n",
    "    except KeyError:\n",
    "        raise ValueError(f\"Invalid campaign ID: {campaign_id}\")\n",
    "    \n",
    "    # gelijkenis scores uit de similarity matrix van de campagne met andere campagnes\n",
    "    similarity_scores = list(enumerate(similarity_matrix[campaign_index]))\n",
    "    # sorteer de scores van hoog naar laag\n",
    "    similarity_scores = sorted(similarity_scores, key=lambda x: x[1], reverse=True)\n",
    "\n",
    "    # neem de top 5 scores\n",
    "    similar_campaign_indices = [i for i, _ in similarity_scores[:5]]\n",
    "\n",
    "    interested_users = []\n",
    "    \n",
    "    print(\"Finding users...\")\n",
    "\n",
    "    # voor elke van de top 5 gelijkaardige campagnes, neem de personen die het meest geinteresseerd zijn\n",
    "    for similar_campaign_index in similar_campaign_indices:\n",
    "        for user_index in persoon_mapping.values():\n",
    "            # verkrijg de recommended campagnes voor deze persoon\n",
    "            recommended_items = ALS_recommend(user_index)\n",
    "            # als de campagne in de recommended campagnes zit, voeg deze persoon toe aan de lijst\n",
    "            if similar_campaign_index in recommended_items:\n",
    "                interested_users.append(user_index)\n",
    "    \n",
    "    print(\"Users processing complete!\")\n",
    "    \n",
    "    # tel de frequentie van de personen\n",
    "    user_counter = Counter(interested_users)\n",
    "\n",
    "    # geef de 20 meest voorkomende personen\n",
    "    top_user_indices = [user_index for user_index, _ in user_counter.most_common(20)]\n",
    "\n",
    "    # map de personen van integer naar string\n",
    "    top_user_ids = [persoon_reverse_mapping[user_index] for user_index in top_user_indices]\n",
    "\n",
    "    return top_user_ids\n",
    "\n",
    "print(get_interested_users_hybrid('8FCA1D31-1EB7-E811-80F4-001DD8B72B62')) # duurt ~ 15 seconden"
   ]
  },
  {
   "cell_type": "markdown",
   "metadata": {},
   "source": [
    "## 7. Puur ALS model"
   ]
  },
  {
   "cell_type": "code",
   "execution_count": 28,
   "metadata": {},
   "outputs": [
    {
     "name": "stdout",
     "output_type": "stream",
     "text": [
      "['0C3842C4-9570-ED11-9561-6045BD895CDC', '00C5A1DD-EF67-E111-A00F-00505680000A', '13B24C89-21B7-E111-A45C-00505680000A', '010BA501-7812-EA11-8108-001DD8B72B61', '0AF32AC2-CAB1-E811-80F4-001DD8B72B62', '056A087A-DE78-E611-80E3-001DD8B72B62', '0F3EF0B1-F667-E111-A00F-00505680000A', '0446E3D7-AD67-E111-A00F-00505680000A', '0835B897-40E1-E511-A838-005056B06EB4', '08CD3491-EC9A-ED11-AAD1-6045BD895CDC', '019C790C-8AB1-E211-A85C-005056B06EC4', '090DBA8A-0530-ED11-9DB0-000D3A4673FC', '0919216F-B267-E111-A00F-00505680000A', '08F51915-5175-E911-80FE-001DD8B72B62', '0152AEAC-198E-EB11-811E-001DD8B72B62', '056DE4A3-A2D9-E711-80EE-001DD8B72B61', '08FA751C-3D48-EC11-8C62-6045BD8D2834', '0C8B21E4-C0EF-ED11-8849-6045BD895233', '06375120-5069-E111-B43A-00505680000A', '0D924825-A9D5-EC11-A7B5-000D3ABD1F85', '0EA05D3F-D2D0-EA11-8113-001DD8B72B62', '092058E4-A569-ED11-9561-6045BD895B5A', '04D205DC-4763-E411-8BF8-005056B06EC4', '01A9DD01-AE67-E111-A00F-00505680000A', '044900AA-7069-E111-B43A-00505680000A', '0BB9F2B6-234E-E411-8F25-005056B06EB4', '0C5E6234-D064-E811-80F1-001DD8B72B62', '0146B8DB-824A-E711-80E7-001DD8B72B61', '06428843-5B69-E111-B43A-00505680000A', '0522B9AF-7A00-E511-ABE8-005056B06EB4']\n"
     ]
    }
   ],
   "source": [
    "def get_interested_users_ALS(item_id):\n",
    "    # map de campagne van string naar integer\n",
    "    item_index = campagne_mapping[item_id]\n",
    "    \n",
    "    # bereken de geinteresseerde personen die nog niet aan de campagne hebben deelgenomen\n",
    "    item_ids, _ = model.recommend(item_index, persoon_sessies.T, N=30, filter_already_liked_items=False)\n",
    "    \n",
    "    # map de personen van integer naar string\n",
    "    interested_users_str = [persoon_reverse_mapping[user_index] for user_index in item_ids]\n",
    "    \n",
    "    return interested_users_str\n",
    "\n",
    "print(get_interested_users_ALS('8FCA1D31-1EB7-E811-80F4-001DD8B72B62')) # instant resultaat"
   ]
  }
 ],
 "metadata": {
  "kernelspec": {
   "display_name": "venv",
   "language": "python",
   "name": "python3"
  },
  "language_info": {
   "codemirror_mode": {
    "name": "ipython",
    "version": 3
   },
   "file_extension": ".py",
   "mimetype": "text/x-python",
   "name": "python",
   "nbconvert_exporter": "python",
   "pygments_lexer": "ipython3",
   "version": "3.10.7"
  }
 },
 "nbformat": 4,
 "nbformat_minor": 2
}

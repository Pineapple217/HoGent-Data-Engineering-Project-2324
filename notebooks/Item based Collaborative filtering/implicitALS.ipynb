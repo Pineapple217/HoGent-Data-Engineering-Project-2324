{
 "cells": [
  {
   "cell_type": "code",
   "execution_count": 106,
   "metadata": {},
   "outputs": [],
   "source": [
    "import os\n",
    "import sqlalchemy\n",
    "import pandas as pd\n",
    "from dotenv import load_dotenv \n",
    "from scipy.sparse import coo_matrix\n",
    "from sqlalchemy import create_engine, text\n",
    "from implicit.als import AlternatingLeastSquares\n",
    "from implicit.nearest_neighbours import bm25_weight\n",
    "from implicit.evaluation import train_test_split, precision_at_k, AUC_at_k"
   ]
  },
  {
   "cell_type": "code",
   "execution_count": 107,
   "metadata": {},
   "outputs": [
    {
     "name": "stdout",
     "output_type": "stream",
     "text": [
      "Successfully connected to the database\n",
      "SQLAlchemy version: 2.0.21\n"
     ]
    }
   ],
   "source": [
    "load_dotenv()\n",
    "DB_URL = os.getenv(\"DB_URL\")\n",
    "engine = create_engine(DB_URL)\n",
    "\n",
    "try:\n",
    "    connection = engine.connect()\n",
    "    print(\"Successfully connected to the database\")\n",
    "except Exception as e:\n",
    "    print(f\"Failed to connect to the database: {e}\")\n",
    "\n",
    "print(f\"SQLAlchemy version: {sqlalchemy.__version__}\")"
   ]
  },
  {
   "cell_type": "code",
   "execution_count": 108,
   "metadata": {},
   "outputs": [
    {
     "data": {
      "text/html": [
       "<div>\n",
       "<style scoped>\n",
       "    .dataframe tbody tr th:only-of-type {\n",
       "        vertical-align: middle;\n",
       "    }\n",
       "\n",
       "    .dataframe tbody tr th {\n",
       "        vertical-align: top;\n",
       "    }\n",
       "\n",
       "    .dataframe thead th {\n",
       "        text-align: right;\n",
       "    }\n",
       "</style>\n",
       "<table border=\"1\" class=\"dataframe\">\n",
       "  <thead>\n",
       "    <tr style=\"text-align: right;\">\n",
       "      <th></th>\n",
       "      <th>PersoonId</th>\n",
       "      <th>CampagneId</th>\n",
       "      <th>aantal_sessies</th>\n",
       "      <th>aantal_bezoeken</th>\n",
       "      <th>SessieThema</th>\n",
       "      <th>SoortCampagne</th>\n",
       "      <th>TypeCampagne</th>\n",
       "      <th>ThemaDuurzaamheid</th>\n",
       "      <th>ThemaFinancieelFiscaal</th>\n",
       "      <th>ThemaInnovatie</th>\n",
       "      <th>ThemaInternationaalOndernemen</th>\n",
       "      <th>ThemaMobiliteit</th>\n",
       "      <th>ThemaOmgeving</th>\n",
       "      <th>ThemaSalesMarketingCommunicatie</th>\n",
       "      <th>ThemaStrategieEnAlgemeenManagement</th>\n",
       "      <th>ThemaTalent</th>\n",
       "      <th>ThemaWelzijn</th>\n",
       "    </tr>\n",
       "  </thead>\n",
       "  <tbody>\n",
       "    <tr>\n",
       "      <th>0</th>\n",
       "      <td>A03EC8AF-ED66-EB11-8119-001DD8B72B61</td>\n",
       "      <td>186D9250-435B-EB11-811A-001DD8B72B62</td>\n",
       "      <td>1</td>\n",
       "      <td>0</td>\n",
       "      <td>Algemeen Management</td>\n",
       "      <td>Online</td>\n",
       "      <td>Infosessie</td>\n",
       "      <td>0</td>\n",
       "      <td>0</td>\n",
       "      <td>0</td>\n",
       "      <td>0</td>\n",
       "      <td>0</td>\n",
       "      <td>0</td>\n",
       "      <td>0</td>\n",
       "      <td>0</td>\n",
       "      <td>0</td>\n",
       "      <td>0</td>\n",
       "    </tr>\n",
       "    <tr>\n",
       "      <th>1</th>\n",
       "      <td>78CCAFF0-617A-E611-80DE-001DD8B72B61</td>\n",
       "      <td>49E02605-AD7A-E811-80F3-001DD8B72B61</td>\n",
       "      <td>1</td>\n",
       "      <td>0</td>\n",
       "      <td>Marketing &amp; Sales</td>\n",
       "      <td>Offline</td>\n",
       "      <td>Opleiding</td>\n",
       "      <td>0</td>\n",
       "      <td>0</td>\n",
       "      <td>0</td>\n",
       "      <td>0</td>\n",
       "      <td>0</td>\n",
       "      <td>0</td>\n",
       "      <td>0</td>\n",
       "      <td>0</td>\n",
       "      <td>0</td>\n",
       "      <td>0</td>\n",
       "    </tr>\n",
       "    <tr>\n",
       "      <th>2</th>\n",
       "      <td>1BD50DEE-F867-E111-A00F-00505680000A</td>\n",
       "      <td>4A05F086-EA3F-E911-80FC-001DD8B72B62</td>\n",
       "      <td>1</td>\n",
       "      <td>0</td>\n",
       "      <td>Internationaal Ondernemen</td>\n",
       "      <td>Offline</td>\n",
       "      <td>Opleiding</td>\n",
       "      <td>1</td>\n",
       "      <td>1</td>\n",
       "      <td>1</td>\n",
       "      <td>1</td>\n",
       "      <td>0</td>\n",
       "      <td>0</td>\n",
       "      <td>0</td>\n",
       "      <td>1</td>\n",
       "      <td>1</td>\n",
       "      <td>0</td>\n",
       "    </tr>\n",
       "    <tr>\n",
       "      <th>3</th>\n",
       "      <td>14D55A3B-7732-E311-8A47-005056B06EC4</td>\n",
       "      <td>6B584E91-903A-E911-80FC-001DD8B72B61</td>\n",
       "      <td>4</td>\n",
       "      <td>0</td>\n",
       "      <td>Communicatie</td>\n",
       "      <td>Offline</td>\n",
       "      <td>Opleiding</td>\n",
       "      <td>0</td>\n",
       "      <td>0</td>\n",
       "      <td>0</td>\n",
       "      <td>0</td>\n",
       "      <td>0</td>\n",
       "      <td>0</td>\n",
       "      <td>0</td>\n",
       "      <td>0</td>\n",
       "      <td>0</td>\n",
       "      <td>0</td>\n",
       "    </tr>\n",
       "    <tr>\n",
       "      <th>4</th>\n",
       "      <td>DBEA757F-0B68-E111-A00F-00505680000A</td>\n",
       "      <td>C6D72260-E451-EC11-8C62-000D3ABFCF4A</td>\n",
       "      <td>1</td>\n",
       "      <td>1</td>\n",
       "      <td>Groeien</td>\n",
       "      <td>Online</td>\n",
       "      <td>Netwerkevenement</td>\n",
       "      <td>0</td>\n",
       "      <td>0</td>\n",
       "      <td>0</td>\n",
       "      <td>0</td>\n",
       "      <td>0</td>\n",
       "      <td>0</td>\n",
       "      <td>0</td>\n",
       "      <td>0</td>\n",
       "      <td>0</td>\n",
       "      <td>0</td>\n",
       "    </tr>\n",
       "  </tbody>\n",
       "</table>\n",
       "</div>"
      ],
      "text/plain": [
       "                              PersoonId                            CampagneId  \\\n",
       "0  A03EC8AF-ED66-EB11-8119-001DD8B72B61  186D9250-435B-EB11-811A-001DD8B72B62   \n",
       "1  78CCAFF0-617A-E611-80DE-001DD8B72B61  49E02605-AD7A-E811-80F3-001DD8B72B61   \n",
       "2  1BD50DEE-F867-E111-A00F-00505680000A  4A05F086-EA3F-E911-80FC-001DD8B72B62   \n",
       "3  14D55A3B-7732-E311-8A47-005056B06EC4  6B584E91-903A-E911-80FC-001DD8B72B61   \n",
       "4  DBEA757F-0B68-E111-A00F-00505680000A  C6D72260-E451-EC11-8C62-000D3ABFCF4A   \n",
       "\n",
       "   aantal_sessies  aantal_bezoeken                SessieThema SoortCampagne  \\\n",
       "0               1                0        Algemeen Management        Online   \n",
       "1               1                0          Marketing & Sales       Offline   \n",
       "2               1                0  Internationaal Ondernemen       Offline   \n",
       "3               4                0               Communicatie       Offline   \n",
       "4               1                1                    Groeien        Online   \n",
       "\n",
       "       TypeCampagne  ThemaDuurzaamheid  ThemaFinancieelFiscaal  \\\n",
       "0        Infosessie                  0                       0   \n",
       "1         Opleiding                  0                       0   \n",
       "2         Opleiding                  1                       1   \n",
       "3         Opleiding                  0                       0   \n",
       "4  Netwerkevenement                  0                       0   \n",
       "\n",
       "   ThemaInnovatie  ThemaInternationaalOndernemen  ThemaMobiliteit  \\\n",
       "0               0                              0                0   \n",
       "1               0                              0                0   \n",
       "2               1                              1                0   \n",
       "3               0                              0                0   \n",
       "4               0                              0                0   \n",
       "\n",
       "   ThemaOmgeving  ThemaSalesMarketingCommunicatie  \\\n",
       "0              0                                0   \n",
       "1              0                                0   \n",
       "2              0                                0   \n",
       "3              0                                0   \n",
       "4              0                                0   \n",
       "\n",
       "   ThemaStrategieEnAlgemeenManagement  ThemaTalent  ThemaWelzijn  \n",
       "0                                   0            0             0  \n",
       "1                                   0            0             0  \n",
       "2                                   1            1             0  \n",
       "3                                   0            0             0  \n",
       "4                                   0            0             0  "
      ]
     },
     "execution_count": 108,
     "metadata": {},
     "output_type": "execute_result"
    }
   ],
   "source": [
    "query = text('SELECT * FROM epic_5')\n",
    "df = pd.read_sql_query(query, connection)\n",
    "df.head()"
   ]
  },
  {
   "cell_type": "code",
   "execution_count": 109,
   "metadata": {},
   "outputs": [
    {
     "name": "stdout",
     "output_type": "stream",
     "text": [
      "<class 'pandas.core.frame.DataFrame'>\n",
      "RangeIndex: 52567 entries, 0 to 52566\n",
      "Data columns (total 17 columns):\n",
      " #   Column                              Non-Null Count  Dtype \n",
      "---  ------                              --------------  ----- \n",
      " 0   PersoonId                           52567 non-null  object\n",
      " 1   CampagneId                          52567 non-null  object\n",
      " 2   aantal_sessies                      52567 non-null  int64 \n",
      " 3   aantal_bezoeken                     52567 non-null  int64 \n",
      " 4   SessieThema                         52567 non-null  object\n",
      " 5   SoortCampagne                       52567 non-null  object\n",
      " 6   TypeCampagne                        52567 non-null  object\n",
      " 7   ThemaDuurzaamheid                   52567 non-null  int64 \n",
      " 8   ThemaFinancieelFiscaal              52567 non-null  int64 \n",
      " 9   ThemaInnovatie                      52567 non-null  int64 \n",
      " 10  ThemaInternationaalOndernemen       52567 non-null  int64 \n",
      " 11  ThemaMobiliteit                     52567 non-null  int64 \n",
      " 12  ThemaOmgeving                       52567 non-null  int64 \n",
      " 13  ThemaSalesMarketingCommunicatie     52567 non-null  int64 \n",
      " 14  ThemaStrategieEnAlgemeenManagement  52567 non-null  int64 \n",
      " 15  ThemaTalent                         52567 non-null  int64 \n",
      " 16  ThemaWelzijn                        52567 non-null  int64 \n",
      "dtypes: int64(12), object(5)\n",
      "memory usage: 6.8+ MB\n"
     ]
    }
   ],
   "source": [
    "df.info()"
   ]
  },
  {
   "cell_type": "markdown",
   "metadata": {},
   "source": [
    "SOURCE: https://benfred.github.io/implicit/index.html"
   ]
  },
  {
   "cell_type": "code",
   "execution_count": 110,
   "metadata": {},
   "outputs": [],
   "source": [
    "# toch groeperen op aantal sessies per persoon per campagne, geen scheiding tussen sessiethema\n",
    "df = df.groupby(['PersoonId', 'CampagneId'])['aantal_sessies'].sum().reset_index()\n",
    "\n",
    "# persoonid en campagneid omzetten naar integers voor de sparse matrix invoer van implicit\n",
    "persoon_mapping = {id: i for i, id in enumerate(df['PersoonId'].unique())}\n",
    "campagne_mapping = {id: i for i, id in enumerate(df['CampagneId'].unique())}\n",
    "\n",
    "# reverse mapping voor later\n",
    "persoon_reverse_mapping = {i: id for id, i in persoon_mapping.items()}\n",
    "campagne_reverse_mapping = {i: id for id, i in campagne_mapping.items()}\n",
    "\n",
    "# mapping toepassen op df\n",
    "df['PersoonId'] = df['PersoonId'].map(persoon_mapping)\n",
    "df['CampagneId'] = df['CampagneId'].map(campagne_mapping)"
   ]
  },
  {
   "cell_type": "code",
   "execution_count": 111,
   "metadata": {},
   "outputs": [
    {
     "data": {
      "text/html": [
       "<div>\n",
       "<style scoped>\n",
       "    .dataframe tbody tr th:only-of-type {\n",
       "        vertical-align: middle;\n",
       "    }\n",
       "\n",
       "    .dataframe tbody tr th {\n",
       "        vertical-align: top;\n",
       "    }\n",
       "\n",
       "    .dataframe thead th {\n",
       "        text-align: right;\n",
       "    }\n",
       "</style>\n",
       "<table border=\"1\" class=\"dataframe\">\n",
       "  <thead>\n",
       "    <tr style=\"text-align: right;\">\n",
       "      <th></th>\n",
       "      <th>PersoonId</th>\n",
       "      <th>CampagneId</th>\n",
       "      <th>aantal_sessies</th>\n",
       "    </tr>\n",
       "  </thead>\n",
       "  <tbody>\n",
       "    <tr>\n",
       "      <th>0</th>\n",
       "      <td>0</td>\n",
       "      <td>0</td>\n",
       "      <td>1</td>\n",
       "    </tr>\n",
       "    <tr>\n",
       "      <th>1</th>\n",
       "      <td>0</td>\n",
       "      <td>1</td>\n",
       "      <td>1</td>\n",
       "    </tr>\n",
       "    <tr>\n",
       "      <th>2</th>\n",
       "      <td>1</td>\n",
       "      <td>2</td>\n",
       "      <td>1</td>\n",
       "    </tr>\n",
       "    <tr>\n",
       "      <th>3</th>\n",
       "      <td>2</td>\n",
       "      <td>3</td>\n",
       "      <td>1</td>\n",
       "    </tr>\n",
       "    <tr>\n",
       "      <th>4</th>\n",
       "      <td>3</td>\n",
       "      <td>4</td>\n",
       "      <td>1</td>\n",
       "    </tr>\n",
       "  </tbody>\n",
       "</table>\n",
       "</div>"
      ],
      "text/plain": [
       "   PersoonId  CampagneId  aantal_sessies\n",
       "0          0           0               1\n",
       "1          0           1               1\n",
       "2          1           2               1\n",
       "3          2           3               1\n",
       "4          3           4               1"
      ]
     },
     "execution_count": 111,
     "metadata": {},
     "output_type": "execute_result"
    }
   ],
   "source": [
    "df.head()"
   ]
  },
  {
   "cell_type": "code",
   "execution_count": 112,
   "metadata": {},
   "outputs": [],
   "source": [
    "# sparse matrix maken met aantal sessies als waarden\n",
    "campagne_persoon_sessies = coo_matrix((df['aantal_sessies'], (df['CampagneId'], df['PersoonId'])))"
   ]
  },
  {
   "cell_type": "code",
   "execution_count": 113,
   "metadata": {},
   "outputs": [],
   "source": [
    "# matrix wegen, om hoge aantal sessies minder zwaar te laten wegen\n",
    "campagne_persoon_sessies = bm25_weight(campagne_persoon_sessies, K1=100, B=0.5)\n",
    "\n",
    "# matrix transponeren omdat implicit werkt met (user, item) in plaats van (item, user)\n",
    "persoon_sessies = campagne_persoon_sessies.T.tocsr()"
   ]
  },
  {
   "cell_type": "code",
   "execution_count": 114,
   "metadata": {},
   "outputs": [],
   "source": [
    "trainset, testset = train_test_split(persoon_sessies, train_percentage=0.8, random_state=42)"
   ]
  },
  {
   "cell_type": "code",
   "execution_count": 115,
   "metadata": {},
   "outputs": [],
   "source": [
    "os.environ[\"OPENBLAS_NUM_THREADS\"] = \"1\""
   ]
  },
  {
   "cell_type": "code",
   "execution_count": 116,
   "metadata": {},
   "outputs": [
    {
     "name": "stderr",
     "output_type": "stream",
     "text": [
      "  1%|          | 1/100 [00:00<01:29,  1.11it/s]"
     ]
    },
    {
     "name": "stderr",
     "output_type": "stream",
     "text": [
      "100%|██████████| 100/100 [01:23<00:00,  1.20it/s]\n"
     ]
    }
   ],
   "source": [
    "model = AlternatingLeastSquares(factors=128, regularization=0.15, alpha=5.0, iterations=100, random_state=42)\n",
    "model.fit(trainset)"
   ]
  },
  {
   "cell_type": "code",
   "execution_count": 117,
   "metadata": {},
   "outputs": [
    {
     "name": "stderr",
     "output_type": "stream",
     "text": [
      "100%|██████████| 6023/6023 [00:00<00:00, 8052.63it/s]\n",
      "100%|██████████| 6023/6023 [00:00<00:00, 8690.88it/s]"
     ]
    },
    {
     "name": "stdout",
     "output_type": "stream",
     "text": [
      "Precision: 0.29319591965506364\n",
      "AUC: 0.6329666986372277\n"
     ]
    },
    {
     "name": "stderr",
     "output_type": "stream",
     "text": [
      "\n"
     ]
    }
   ],
   "source": [
    "precision = precision_at_k(model, trainset, testset, K=10, num_threads=4)\n",
    "auc = a = AUC_at_k(model, trainset, testset, K=10, num_threads=4)\n",
    "\n",
    "print(f\"Precision: {precision}\", f\"AUC: {auc}\", sep=\"\\n\")"
   ]
  },
  {
   "cell_type": "code",
   "execution_count": 118,
   "metadata": {},
   "outputs": [],
   "source": [
    "def get_similar_items(item_id):\n",
    "    similar = model.similar_items(item_id, 10+1) \n",
    "    return similar[0][1:]\n",
    "\n",
    "# get_similar_items(5)"
   ]
  },
  {
   "cell_type": "code",
   "execution_count": 119,
   "metadata": {},
   "outputs": [],
   "source": [
    "def get_similar_users(user_id):\n",
    "    similar = model.similar_users(user_id, 10+1) \n",
    "    return similar[0][1:]\n",
    "    \n",
    "# get_similar_users(5)"
   ]
  },
  {
   "cell_type": "code",
   "execution_count": 120,
   "metadata": {},
   "outputs": [],
   "source": [
    "# WORK IN PROGRESS UNDER THIS LINE"
   ]
  },
  {
   "cell_type": "code",
   "execution_count": 121,
   "metadata": {},
   "outputs": [],
   "source": [
    "# model recommend\n",
    "# https://benfred.github.io/implicit/api/models/cpu/als.html#implicit.cpu.als.AlternatingLeastSquares.user_factors"
   ]
  },
  {
   "cell_type": "code",
   "execution_count": 122,
   "metadata": {},
   "outputs": [],
   "source": [
    "# combineren met recommend van het model\n",
    "def get_top_users_for_item(string_item_id, N=20):\n",
    "\n",
    "    item_id = campagne_mapping[string_item_id]\n",
    "\n",
    "    similar_items = get_similar_items(item_id)\n",
    "\n",
    "    user_ids = []\n",
    "    for similar_item in similar_items:\n",
    "        users_for_item = df[df['CampagneId'] == similar_item]['PersoonId'].unique()\n",
    "        user_ids.extend(users_for_item)\n",
    "\n",
    "    user_ids = list(set(user_ids))\n",
    "\n",
    "    users_for_input_item = df[df['CampagneId'] == item_id]['PersoonId'].unique()\n",
    "    user_ids = [user_id for user_id in user_ids if user_id not in users_for_input_item]\n",
    "\n",
    "    string_user_ids = [persoon_reverse_mapping[user_id] for user_id in user_ids]\n",
    "\n",
    "    return string_user_ids[:N]"
   ]
  },
  {
   "cell_type": "code",
   "execution_count": 123,
   "metadata": {},
   "outputs": [
    {
     "data": {
      "text/plain": [
       "['1E7BDC7A-A018-E811-80EF-001DD8B72B61',\n",
       " '9E3D74E5-7257-E811-80F0-001DD8B72B62',\n",
       " '00CBD1B2-A70D-E811-80EE-001DD8B72B62',\n",
       " '1F3E2F81-BD01-E811-80EF-001DD8B72B61',\n",
       " '1F7C2C5D-B40D-E511-ABE8-005056B06EB4',\n",
       " 'FCD7F0F5-21B7-E111-A45C-00505680000A',\n",
       " '9EE1126D-1368-E111-A00F-00505680000A',\n",
       " '0146B8DB-824A-E711-80E7-001DD8B72B61',\n",
       " '7F0A42E3-6F69-E111-B43A-00505680000A',\n",
       " '9EFFEA29-B1DF-E511-A303-005056B06EC4',\n",
       " '5DC3D3CA-5AB7-E411-9B05-005056B06EB4',\n",
       " '3F728C00-9BDA-E711-80EE-001DD8B72B61',\n",
       " '01A6A7EE-6469-E111-B43A-00505680000A',\n",
       " '01E08C1A-517E-E611-80DE-001DD8B72B61',\n",
       " '5E20E7B3-E767-E111-A00F-00505680000A',\n",
       " '3FF82ED5-801C-E811-80F0-001DD8B72B61',\n",
       " '9FE06B99-B83C-E411-9EE6-005056B06EC4',\n",
       " '5E8723B6-1C68-E111-A00F-00505680000A',\n",
       " '02821986-8F44-E411-8F25-005056B06EB4',\n",
       " '5F19A8DA-4969-E111-B43A-00505680000A']"
      ]
     },
     "execution_count": 123,
     "metadata": {},
     "output_type": "execute_result"
    }
   ],
   "source": [
    "get_top_users_for_item('A534E7FC-EEF3-E711-80EE-001DD8B72B62')"
   ]
  },
  {
   "cell_type": "code",
   "execution_count": 124,
   "metadata": {},
   "outputs": [],
   "source": [
    "# recommend (omvormen functie), model opslaan\n",
    "# wat te doen met de campagnesessieinformatie? (populaire campagnes recommenden aan nieuwe gebruikers?)"
   ]
  },
  {
   "cell_type": "markdown",
   "metadata": {},
   "source": [
    "Handling Cold Start Issues:\n",
    "\n",
    "    Address the \"cold start\" problem for new users or items by incorporating demographic information, leveraging item features, or using popularity-based recommendations until sufficient user interactions are available.\n",
    "\n",
    "Post-Processing Techniques:\n",
    "\n",
    "    Apply post-processing techniques, such as re-ranking or filtering, to refine the recommendations based on additional criteria or business rules."
   ]
  },
  {
   "cell_type": "code",
   "execution_count": 125,
   "metadata": {},
   "outputs": [],
   "source": [
    "# WORK IN PROGRESS ABOVE THIS LINE"
   ]
  },
  {
   "cell_type": "code",
   "execution_count": 126,
   "metadata": {},
   "outputs": [
    {
     "name": "stdout",
     "output_type": "stream",
     "text": [
      "Model exported successfully\n"
     ]
    }
   ],
   "source": [
    "import pickle\n",
    "\n",
    "with open('model.pkl', 'wb') as f:\n",
    "    pickle.dump(model, f)\n",
    "\n",
    "print (\"Model exported successfully\")"
   ]
  }
 ],
 "metadata": {
  "kernelspec": {
   "display_name": "venv",
   "language": "python",
   "name": "python3"
  },
  "language_info": {
   "codemirror_mode": {
    "name": "ipython",
    "version": 3
   },
   "file_extension": ".py",
   "mimetype": "text/x-python",
   "name": "python",
   "nbconvert_exporter": "python",
   "pygments_lexer": "ipython3",
   "version": "3.10.7"
  }
 },
 "nbformat": 4,
 "nbformat_minor": 2
}

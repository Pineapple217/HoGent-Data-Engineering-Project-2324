{
 "cells": [
  {
   "cell_type": "markdown",
   "metadata": {},
   "source": [
    "# Model epic 5\n",
    "\n",
    "Deze notebook implementeert een hybrid recommender systeem met content-based en collaborative filtering. Data wordt geladen vanuit een materialized view en ondergaat eerst content-based filtering op basis van tekstkenmerken van campagnes. Daarna wordt collaborative filtering toegepast met het Alternating Least Squares (ALS) model. De hybrid aanpak combineert de resultaten van beide methoden om een lijst van top 20 gebruikers te genereren die mogelijk geïnteresseerd zijn in een specifieke campagne. \n",
    "\n",
    "Het ALS model werd gekozen omdat het beter omkan met sparse matrices en impliciete ratings dan meer conventionele modellen zoals SVD. Met de content-based filtering wordt er getracht om *cold start* problemen te vermijden.\n",
    "\n",
    "De itembased.ipynb notebook implementeert SVD en wordt niet verder gebruikt."
   ]
  },
  {
   "cell_type": "markdown",
   "metadata": {},
   "source": [
    "## 1. Imports"
   ]
  },
  {
   "cell_type": "code",
   "execution_count": 1,
   "metadata": {},
   "outputs": [
    {
     "name": "stderr",
     "output_type": "stream",
     "text": [
      "c:\\Users\\hanne\\OneDrive\\Openbaar\\Documenten\\TI(schoolmap)\\Data Engineering Project II\\DEP2-GROEP-1\\venv\\lib\\site-packages\\tqdm\\auto.py:21: TqdmWarning: IProgress not found. Please update jupyter and ipywidgets. See https://ipywidgets.readthedocs.io/en/stable/user_install.html\n",
      "  from .autonotebook import tqdm as notebook_tqdm\n"
     ]
    }
   ],
   "source": [
    "import os\n",
    "import sqlalchemy\n",
    "import numpy as np\n",
    "import pandas as pd\n",
    "from dotenv import load_dotenv\n",
    "from collections import Counter\n",
    "from scipy.sparse import coo_matrix\n",
    "from sqlalchemy import create_engine, text\n",
    "from implicit.als import AlternatingLeastSquares\n",
    "from implicit.nearest_neighbours import bm25_weight\n",
    "from sentence_transformers import SentenceTransformer\n",
    "from implicit.evaluation import train_test_split, precision_at_k, AUC_at_k"
   ]
  },
  {
   "cell_type": "markdown",
   "metadata": {},
   "source": [
    "## 2. Data inladen"
   ]
  },
  {
   "cell_type": "code",
   "execution_count": 2,
   "metadata": {},
   "outputs": [
    {
     "name": "stdout",
     "output_type": "stream",
     "text": [
      "Successfully connected to the database\n",
      "SQLAlchemy version: 2.0.21\n"
     ]
    }
   ],
   "source": [
    "load_dotenv()\n",
    "DB_URL = os.getenv(\"DB_URL\")\n",
    "engine = create_engine(DB_URL)\n",
    "\n",
    "try:\n",
    "    connection = engine.connect()\n",
    "    print(\"Successfully connected to the database\")\n",
    "except Exception as e:\n",
    "    print(f\"Failed to connect to the database: {e}\")\n",
    "\n",
    "print(f\"SQLAlchemy version: {sqlalchemy.__version__}\")"
   ]
  },
  {
   "cell_type": "code",
   "execution_count": 3,
   "metadata": {},
   "outputs": [
    {
     "data": {
      "text/html": [
       "<div>\n",
       "<style scoped>\n",
       "    .dataframe tbody tr th:only-of-type {\n",
       "        vertical-align: middle;\n",
       "    }\n",
       "\n",
       "    .dataframe tbody tr th {\n",
       "        vertical-align: top;\n",
       "    }\n",
       "\n",
       "    .dataframe thead th {\n",
       "        text-align: right;\n",
       "    }\n",
       "</style>\n",
       "<table border=\"1\" class=\"dataframe\">\n",
       "  <thead>\n",
       "    <tr style=\"text-align: right;\">\n",
       "      <th></th>\n",
       "      <th>PersoonId</th>\n",
       "      <th>CampagneId</th>\n",
       "      <th>aantal_sessies</th>\n",
       "      <th>aantal_bezoeken</th>\n",
       "      <th>SessieThema</th>\n",
       "      <th>SoortCampagne</th>\n",
       "      <th>TypeCampagne</th>\n",
       "      <th>ThemaDuurzaamheid</th>\n",
       "      <th>ThemaFinancieelFiscaal</th>\n",
       "      <th>ThemaInnovatie</th>\n",
       "      <th>ThemaInternationaalOndernemen</th>\n",
       "      <th>ThemaMobiliteit</th>\n",
       "      <th>ThemaOmgeving</th>\n",
       "      <th>ThemaSalesMarketingCommunicatie</th>\n",
       "      <th>ThemaStrategieEnAlgemeenManagement</th>\n",
       "      <th>ThemaTalent</th>\n",
       "      <th>ThemaWelzijn</th>\n",
       "    </tr>\n",
       "  </thead>\n",
       "  <tbody>\n",
       "    <tr>\n",
       "      <th>0</th>\n",
       "      <td>097E0B38-AB67-E111-A00F-00505680000A</td>\n",
       "      <td>777D72E7-0591-E911-80FF-001DD8B72B62</td>\n",
       "      <td>1</td>\n",
       "      <td>0</td>\n",
       "      <td>Marketing &amp; Sales</td>\n",
       "      <td>Offline</td>\n",
       "      <td>Opleiding</td>\n",
       "      <td>0</td>\n",
       "      <td>0</td>\n",
       "      <td>0</td>\n",
       "      <td>0</td>\n",
       "      <td>0</td>\n",
       "      <td>0</td>\n",
       "      <td>0</td>\n",
       "      <td>0</td>\n",
       "      <td>0</td>\n",
       "      <td>0</td>\n",
       "    </tr>\n",
       "    <tr>\n",
       "      <th>1</th>\n",
       "      <td>69C47E9C-A012-EA11-8108-001DD8B72B61</td>\n",
       "      <td>57A029E5-7A80-ED11-81AD-6045BD895B5A</td>\n",
       "      <td>6</td>\n",
       "      <td>0</td>\n",
       "      <td>Netwerking</td>\n",
       "      <td>Offline</td>\n",
       "      <td>Netwerkevenement</td>\n",
       "      <td>0</td>\n",
       "      <td>0</td>\n",
       "      <td>0</td>\n",
       "      <td>0</td>\n",
       "      <td>0</td>\n",
       "      <td>0</td>\n",
       "      <td>0</td>\n",
       "      <td>0</td>\n",
       "      <td>0</td>\n",
       "      <td>0</td>\n",
       "    </tr>\n",
       "    <tr>\n",
       "      <th>2</th>\n",
       "      <td>91203AB5-2253-EA11-810C-001DD8B72B62</td>\n",
       "      <td>1F0B5C31-79C3-EB11-8120-001DD8B72B61</td>\n",
       "      <td>1</td>\n",
       "      <td>0</td>\n",
       "      <td>Starten</td>\n",
       "      <td>Offline</td>\n",
       "      <td>Project</td>\n",
       "      <td>0</td>\n",
       "      <td>0</td>\n",
       "      <td>0</td>\n",
       "      <td>0</td>\n",
       "      <td>0</td>\n",
       "      <td>0</td>\n",
       "      <td>0</td>\n",
       "      <td>0</td>\n",
       "      <td>0</td>\n",
       "      <td>0</td>\n",
       "    </tr>\n",
       "    <tr>\n",
       "      <th>3</th>\n",
       "      <td>78CCAFF0-617A-E611-80DE-001DD8B72B61</td>\n",
       "      <td>49E02605-AD7A-E811-80F3-001DD8B72B61</td>\n",
       "      <td>1</td>\n",
       "      <td>0</td>\n",
       "      <td>Marketing &amp; Sales</td>\n",
       "      <td>Offline</td>\n",
       "      <td>Opleiding</td>\n",
       "      <td>0</td>\n",
       "      <td>0</td>\n",
       "      <td>0</td>\n",
       "      <td>0</td>\n",
       "      <td>0</td>\n",
       "      <td>0</td>\n",
       "      <td>0</td>\n",
       "      <td>0</td>\n",
       "      <td>0</td>\n",
       "      <td>0</td>\n",
       "    </tr>\n",
       "    <tr>\n",
       "      <th>4</th>\n",
       "      <td>D5D81C7F-DF67-E111-A00F-00505680000A</td>\n",
       "      <td>543D1B29-11B0-E811-80F4-001DD8B72B62</td>\n",
       "      <td>1</td>\n",
       "      <td>0</td>\n",
       "      <td>Netwerking</td>\n",
       "      <td>Offline</td>\n",
       "      <td>Netwerkevenement</td>\n",
       "      <td>1</td>\n",
       "      <td>1</td>\n",
       "      <td>1</td>\n",
       "      <td>1</td>\n",
       "      <td>1</td>\n",
       "      <td>1</td>\n",
       "      <td>1</td>\n",
       "      <td>1</td>\n",
       "      <td>1</td>\n",
       "      <td>1</td>\n",
       "    </tr>\n",
       "  </tbody>\n",
       "</table>\n",
       "</div>"
      ],
      "text/plain": [
       "                              PersoonId                            CampagneId  \\\n",
       "0  097E0B38-AB67-E111-A00F-00505680000A  777D72E7-0591-E911-80FF-001DD8B72B62   \n",
       "1  69C47E9C-A012-EA11-8108-001DD8B72B61  57A029E5-7A80-ED11-81AD-6045BD895B5A   \n",
       "2  91203AB5-2253-EA11-810C-001DD8B72B62  1F0B5C31-79C3-EB11-8120-001DD8B72B61   \n",
       "3  78CCAFF0-617A-E611-80DE-001DD8B72B61  49E02605-AD7A-E811-80F3-001DD8B72B61   \n",
       "4  D5D81C7F-DF67-E111-A00F-00505680000A  543D1B29-11B0-E811-80F4-001DD8B72B62   \n",
       "\n",
       "   aantal_sessies  aantal_bezoeken        SessieThema SoortCampagne  \\\n",
       "0               1                0  Marketing & Sales       Offline   \n",
       "1               6                0         Netwerking       Offline   \n",
       "2               1                0            Starten       Offline   \n",
       "3               1                0  Marketing & Sales       Offline   \n",
       "4               1                0         Netwerking       Offline   \n",
       "\n",
       "       TypeCampagne  ThemaDuurzaamheid  ThemaFinancieelFiscaal  \\\n",
       "0         Opleiding                  0                       0   \n",
       "1  Netwerkevenement                  0                       0   \n",
       "2           Project                  0                       0   \n",
       "3         Opleiding                  0                       0   \n",
       "4  Netwerkevenement                  1                       1   \n",
       "\n",
       "   ThemaInnovatie  ThemaInternationaalOndernemen  ThemaMobiliteit  \\\n",
       "0               0                              0                0   \n",
       "1               0                              0                0   \n",
       "2               0                              0                0   \n",
       "3               0                              0                0   \n",
       "4               1                              1                1   \n",
       "\n",
       "   ThemaOmgeving  ThemaSalesMarketingCommunicatie  \\\n",
       "0              0                                0   \n",
       "1              0                                0   \n",
       "2              0                                0   \n",
       "3              0                                0   \n",
       "4              1                                1   \n",
       "\n",
       "   ThemaStrategieEnAlgemeenManagement  ThemaTalent  ThemaWelzijn  \n",
       "0                                   0            0             0  \n",
       "1                                   0            0             0  \n",
       "2                                   0            0             0  \n",
       "3                                   0            0             0  \n",
       "4                                   1            1             1  "
      ]
     },
     "execution_count": 3,
     "metadata": {},
     "output_type": "execute_result"
    }
   ],
   "source": [
    "# materialized view\n",
    "query = text('SELECT * FROM epic_5')\n",
    "\n",
    "try:\n",
    "    df = pd.read_sql_query(query, connection)\n",
    "except Exception as e:\n",
    "    print(f\"Failed to execute query: {e}\")\n",
    "\n",
    "df.head()"
   ]
  },
  {
   "cell_type": "code",
   "execution_count": 4,
   "metadata": {},
   "outputs": [
    {
     "name": "stdout",
     "output_type": "stream",
     "text": [
      "<class 'pandas.core.frame.DataFrame'>\n",
      "RangeIndex: 52567 entries, 0 to 52566\n",
      "Data columns (total 17 columns):\n",
      " #   Column                              Non-Null Count  Dtype \n",
      "---  ------                              --------------  ----- \n",
      " 0   PersoonId                           52567 non-null  object\n",
      " 1   CampagneId                          52567 non-null  object\n",
      " 2   aantal_sessies                      52567 non-null  int64 \n",
      " 3   aantal_bezoeken                     52567 non-null  int64 \n",
      " 4   SessieThema                         52567 non-null  object\n",
      " 5   SoortCampagne                       52567 non-null  object\n",
      " 6   TypeCampagne                        52567 non-null  object\n",
      " 7   ThemaDuurzaamheid                   52567 non-null  int64 \n",
      " 8   ThemaFinancieelFiscaal              52567 non-null  int64 \n",
      " 9   ThemaInnovatie                      52567 non-null  int64 \n",
      " 10  ThemaInternationaalOndernemen       52567 non-null  int64 \n",
      " 11  ThemaMobiliteit                     52567 non-null  int64 \n",
      " 12  ThemaOmgeving                       52567 non-null  int64 \n",
      " 13  ThemaSalesMarketingCommunicatie     52567 non-null  int64 \n",
      " 14  ThemaStrategieEnAlgemeenManagement  52567 non-null  int64 \n",
      " 15  ThemaTalent                         52567 non-null  int64 \n",
      " 16  ThemaWelzijn                        52567 non-null  int64 \n",
      "dtypes: int64(12), object(5)\n",
      "memory usage: 6.8+ MB\n"
     ]
    }
   ],
   "source": [
    "df.info()"
   ]
  },
  {
   "cell_type": "markdown",
   "metadata": {},
   "source": [
    "## 3. Content-based filtering"
   ]
  },
  {
   "cell_type": "code",
   "execution_count": 5,
   "metadata": {},
   "outputs": [
    {
     "data": {
      "text/html": [
       "<div>\n",
       "<style scoped>\n",
       "    .dataframe tbody tr th:only-of-type {\n",
       "        vertical-align: middle;\n",
       "    }\n",
       "\n",
       "    .dataframe tbody tr th {\n",
       "        vertical-align: top;\n",
       "    }\n",
       "\n",
       "    .dataframe thead th {\n",
       "        text-align: right;\n",
       "    }\n",
       "</style>\n",
       "<table border=\"1\" class=\"dataframe\">\n",
       "  <thead>\n",
       "    <tr style=\"text-align: right;\">\n",
       "      <th></th>\n",
       "      <th>CampagneSessieInformatie</th>\n",
       "    </tr>\n",
       "  </thead>\n",
       "  <tbody>\n",
       "    <tr>\n",
       "      <th>0</th>\n",
       "      <td>Marketing &amp; Sales Offline Opleiding</td>\n",
       "    </tr>\n",
       "    <tr>\n",
       "      <th>1</th>\n",
       "      <td>Netwerking Offline Netwerkevenement</td>\n",
       "    </tr>\n",
       "    <tr>\n",
       "      <th>2</th>\n",
       "      <td>Starten Offline Project</td>\n",
       "    </tr>\n",
       "    <tr>\n",
       "      <th>3</th>\n",
       "      <td>Marketing &amp; Sales Offline Opleiding</td>\n",
       "    </tr>\n",
       "    <tr>\n",
       "      <th>4</th>\n",
       "      <td>Netwerking Offline Netwerkevenement</td>\n",
       "    </tr>\n",
       "  </tbody>\n",
       "</table>\n",
       "</div>"
      ],
      "text/plain": [
       "              CampagneSessieInformatie\n",
       "0  Marketing & Sales Offline Opleiding\n",
       "1  Netwerking Offline Netwerkevenement\n",
       "2              Starten Offline Project\n",
       "3  Marketing & Sales Offline Opleiding\n",
       "4  Netwerking Offline Netwerkevenement"
      ]
     },
     "execution_count": 5,
     "metadata": {},
     "output_type": "execute_result"
    }
   ],
   "source": [
    "# tekstkenmerken van campagne sessies verzamelen\n",
    "df_keywords = pd.DataFrame()\n",
    "df_keywords['CampagneSessieInformatie'] = df['SessieThema'] + ' ' + df['SoortCampagne'] + ' ' + df['TypeCampagne']\n",
    "df_keywords.head()"
   ]
  },
  {
   "cell_type": "code",
   "execution_count": 6,
   "metadata": {},
   "outputs": [],
   "source": [
    "# sentence embedding\n",
    "model_keywords = SentenceTransformer('all-MiniLM-L6-v2')\n",
    "keyword_vectors = model_keywords.encode(df_keywords['CampagneSessieInformatie'].tolist())"
   ]
  },
  {
   "cell_type": "code",
   "execution_count": 7,
   "metadata": {},
   "outputs": [
    {
     "name": "stdout",
     "output_type": "stream",
     "text": [
      "[[1.0000002  0.41175914 0.44478056 ... 0.33685726 0.32816333 0.41175914]\n",
      " [0.41175914 1.0000001  0.5295649  ... 0.762505   0.4511339  1.0000001 ]\n",
      " [0.44478056 0.5295649  0.9999999  ... 0.48442447 0.43705958 0.5295649 ]\n",
      " ...\n",
      " [0.33685726 0.762505   0.48442447 ... 0.99999994 0.7873782  0.762505  ]\n",
      " [0.32816333 0.4511339  0.43705958 ... 0.7873782  1.         0.4511339 ]\n",
      " [0.41175914 1.0000001  0.5295649  ... 0.762505   0.4511339  1.0000001 ]]\n"
     ]
    }
   ],
   "source": [
    "# matrix die toont goed campagne sessies op elkaar lijken op basis van de tekstkenmerken\n",
    "similarity_matrix = np.dot(keyword_vectors, keyword_vectors.T)\n",
    "print(similarity_matrix)"
   ]
  },
  {
   "cell_type": "markdown",
   "metadata": {},
   "source": [
    "## 4. Collaborative filtering"
   ]
  },
  {
   "cell_type": "markdown",
   "metadata": {},
   "source": [
    "SOURCE: https://benfred.github.io/implicit/index.html (Alternating Least Squares)"
   ]
  },
  {
   "cell_type": "code",
   "execution_count": 8,
   "metadata": {},
   "outputs": [],
   "source": [
    "# toch groeperen op aantal sessies per persoon per campagne, geen scheiding tussen sessiethema\n",
    "df = df.groupby(['PersoonId', 'CampagneId'])['aantal_sessies'].sum().reset_index()\n",
    "\n",
    "# persoonid en campagneid omzetten naar integers voor de sparse matrix invoer van het model\n",
    "persoon_mapping = {id: i for i, id in enumerate(df['PersoonId'].unique())}\n",
    "campagne_mapping = {id: i for i, id in enumerate(df['CampagneId'].unique())}\n",
    "\n",
    "# reverse mapping om later de integer terug naar de string te krijgen\n",
    "persoon_reverse_mapping = {i: id for id, i in persoon_mapping.items()}\n",
    "campagne_reverse_mapping = {i: id for id, i in campagne_mapping.items()}\n",
    "\n",
    "# mapping toepassen op dataframe\n",
    "df['PersoonId'] = df['PersoonId'].map(persoon_mapping)\n",
    "df['CampagneId'] = df['CampagneId'].map(campagne_mapping)"
   ]
  },
  {
   "cell_type": "code",
   "execution_count": 9,
   "metadata": {},
   "outputs": [
    {
     "data": {
      "text/html": [
       "<div>\n",
       "<style scoped>\n",
       "    .dataframe tbody tr th:only-of-type {\n",
       "        vertical-align: middle;\n",
       "    }\n",
       "\n",
       "    .dataframe tbody tr th {\n",
       "        vertical-align: top;\n",
       "    }\n",
       "\n",
       "    .dataframe thead th {\n",
       "        text-align: right;\n",
       "    }\n",
       "</style>\n",
       "<table border=\"1\" class=\"dataframe\">\n",
       "  <thead>\n",
       "    <tr style=\"text-align: right;\">\n",
       "      <th></th>\n",
       "      <th>PersoonId</th>\n",
       "      <th>CampagneId</th>\n",
       "      <th>aantal_sessies</th>\n",
       "    </tr>\n",
       "  </thead>\n",
       "  <tbody>\n",
       "    <tr>\n",
       "      <th>0</th>\n",
       "      <td>0</td>\n",
       "      <td>0</td>\n",
       "      <td>1</td>\n",
       "    </tr>\n",
       "    <tr>\n",
       "      <th>1</th>\n",
       "      <td>0</td>\n",
       "      <td>1</td>\n",
       "      <td>1</td>\n",
       "    </tr>\n",
       "    <tr>\n",
       "      <th>2</th>\n",
       "      <td>1</td>\n",
       "      <td>2</td>\n",
       "      <td>1</td>\n",
       "    </tr>\n",
       "    <tr>\n",
       "      <th>3</th>\n",
       "      <td>2</td>\n",
       "      <td>3</td>\n",
       "      <td>1</td>\n",
       "    </tr>\n",
       "    <tr>\n",
       "      <th>4</th>\n",
       "      <td>3</td>\n",
       "      <td>4</td>\n",
       "      <td>1</td>\n",
       "    </tr>\n",
       "  </tbody>\n",
       "</table>\n",
       "</div>"
      ],
      "text/plain": [
       "   PersoonId  CampagneId  aantal_sessies\n",
       "0          0           0               1\n",
       "1          0           1               1\n",
       "2          1           2               1\n",
       "3          2           3               1\n",
       "4          3           4               1"
      ]
     },
     "execution_count": 9,
     "metadata": {},
     "output_type": "execute_result"
    }
   ],
   "source": [
    "df.head()"
   ]
  },
  {
   "cell_type": "code",
   "execution_count": 10,
   "metadata": {},
   "outputs": [],
   "source": [
    "# sparse matrix maken met aantal sessies als waarden\n",
    "campagne_persoon_sessies = coo_matrix((df['aantal_sessies'], (df['CampagneId'], df['PersoonId'])))"
   ]
  },
  {
   "cell_type": "code",
   "execution_count": 11,
   "metadata": {},
   "outputs": [],
   "source": [
    "# matrix wegen, om hoge aantal sessies minder zwaar te laten wegen\n",
    "campagne_persoon_sessies = bm25_weight(campagne_persoon_sessies, K1=100, B=0.5)\n",
    "\n",
    "# matrix transponeren omdat implicit werkt met (user, item) in plaats van (item, user)\n",
    "persoon_sessies = campagne_persoon_sessies.T.tocsr()"
   ]
  },
  {
   "cell_type": "code",
   "execution_count": 12,
   "metadata": {},
   "outputs": [],
   "source": [
    "# trainset en testset maken via de implicit library\n",
    "trainset, testset = train_test_split(persoon_sessies, train_percentage=0.8, random_state=42)"
   ]
  },
  {
   "cell_type": "code",
   "execution_count": 13,
   "metadata": {},
   "outputs": [],
   "source": [
    "# nodig voor de ALS berekening\n",
    "os.environ[\"OPENBLAS_NUM_THREADS\"] = \"1\""
   ]
  },
  {
   "cell_type": "code",
   "execution_count": 14,
   "metadata": {},
   "outputs": [
    {
     "name": "stderr",
     "output_type": "stream",
     "text": [
      "c:\\Users\\hanne\\OneDrive\\Openbaar\\Documenten\\TI(schoolmap)\\Data Engineering Project II\\DEP2-GROEP-1\\venv\\lib\\site-packages\\implicit\\cpu\\als.py:95: RuntimeWarning: OpenBLAS is configured to use 12 threads. It is highly recommended to disable its internal threadpool by setting the environment variable 'OPENBLAS_NUM_THREADS=1' or by calling 'threadpoolctl.threadpool_limits(1, \"blas\")'. Having OpenBLAS use a threadpool can lead to severe performance issues here.\n",
      "  check_blas_config()\n",
      "100%|██████████| 100/100 [00:47<00:00,  2.13it/s]\n"
     ]
    }
   ],
   "source": [
    "# ALS model trainen\n",
    "model = AlternatingLeastSquares(factors=128, regularization=0.15, alpha=5.0, iterations=100, random_state=42)\n",
    "model.fit(trainset)"
   ]
  },
  {
   "cell_type": "code",
   "execution_count": 15,
   "metadata": {},
   "outputs": [
    {
     "name": "stderr",
     "output_type": "stream",
     "text": [
      "100%|██████████| 6023/6023 [00:00<00:00, 10706.54it/s]\n",
      "100%|██████████| 6023/6023 [00:00<00:00, 11160.29it/s]"
     ]
    },
    {
     "name": "stdout",
     "output_type": "stream",
     "text": [
      "Precision: 0.29319591965506364\n",
      "AUC: 0.6329666986372277\n"
     ]
    },
    {
     "name": "stderr",
     "output_type": "stream",
     "text": [
      "\n"
     ]
    }
   ],
   "source": [
    "# ALS model evalueren\n",
    "precision = precision_at_k(model, trainset, testset, K=10, num_threads=4)\n",
    "auc = a = AUC_at_k(model, trainset, testset, K=10, num_threads=4)\n",
    "\n",
    "print(f\"Precision: {precision}\", f\"AUC: {auc}\", sep=\"\\n\")"
   ]
  },
  {
   "cell_type": "markdown",
   "metadata": {},
   "source": [
    "## 5. ALS model functies"
   ]
  },
  {
   "cell_type": "code",
   "execution_count": 16,
   "metadata": {},
   "outputs": [],
   "source": [
    "# geef gelijkaardige campagnes\n",
    "def get_similar_items(item_id):\n",
    "    similar = model.similar_items(item_id, 10+1) \n",
    "    return similar[0][1:]\n",
    "\n",
    "# get_similar_items(5)"
   ]
  },
  {
   "cell_type": "code",
   "execution_count": 17,
   "metadata": {},
   "outputs": [],
   "source": [
    "# geef gelijkaardige personen\n",
    "def get_similar_users(user_id):\n",
    "    similar = model.similar_users(user_id, 10+1) \n",
    "    return similar[0][1:]\n",
    "    \n",
    "# get_similar_users(5)"
   ]
  },
  {
   "cell_type": "code",
   "execution_count": 18,
   "metadata": {},
   "outputs": [],
   "source": [
    "# geef recommendaties\n",
    "def ALS_recommend(user_id):\n",
    "    item_ids, scores = model.recommend(user_id, persoon_sessies[user_id], N=20, filter_already_liked_items=False)\n",
    "    return item_ids\n",
    "\n",
    "# ALS_recommend(5)"
   ]
  },
  {
   "cell_type": "markdown",
   "metadata": {},
   "source": [
    "## 6. Hybrid model"
   ]
  },
  {
   "cell_type": "markdown",
   "metadata": {},
   "source": [
    "Deze functie geeft een lijst van gebruikers terug die mogelijk geïnteresseerd zijn in een specifieke campagne. Het baseert de interesse van gebruikers op de gelijkenis tussen de opgegeven campagne en andere campagnes, evenals de aanbevelingen van het ALS-model voor die gebruikers.\n",
    "\n",
    "Parameters:\n",
    "- campaign_id (str): De unieke identificatie van de campagne waarvoor we geïnteresseerde gebruikers willen vinden.\n",
    "\n",
    "Returns:\n",
    "- top_user_ids (list): Een lijst van de top 20 gebruikers die mogelijk geïnteresseerd zijn in de opgegeven campagne."
   ]
  },
  {
   "cell_type": "code",
   "execution_count": 19,
   "metadata": {},
   "outputs": [
    {
     "name": "stdout",
     "output_type": "stream",
     "text": [
      "['0368D4F4-EDF3-E411-90DE-005056B06EC4', '06792FBD-9CA8-E311-AC5C-005056B06EB4', '0E41BD97-5B69-E111-B43A-00505680000A', '13DBB079-A255-E211-9B51-005056B06EC4', '151A3AF4-054D-E711-80E7-001DD8B72B61', '15903CC0-4F69-E111-B43A-00505680000A', '1934C230-A497-E711-80EB-001DD8B72B62', '1F3CBF15-2368-E111-A00F-00505680000A', '2AE504CE-6E13-E211-9DAA-005056B06EB4', '2CDEF901-FC08-E911-80FA-001DD8B72B61', '2D4B2AE6-D051-E811-80F0-001DD8B72B62', '2D610064-37EE-E811-80FA-001DD8B72B62', '30A2D1FF-46F4-E211-A85C-005056B06EC4', '3248EEF0-6AA4-E311-AC5C-005056B06EB4', '327CB406-D171-E211-A85C-005056B06EC4', '3603477F-9B3B-E711-80E6-001DD8B72B61', '38A08B10-5169-E111-B43A-00505680000A', '3A75398C-9955-E711-80E7-001DD8B72B61', '3D14D46D-FD67-E111-A00F-00505680000A', '41A7D637-5D13-E911-80FA-001DD8B72B61']\n"
     ]
    }
   ],
   "source": [
    "def get_interested_users(campaign_id):\n",
    "    \n",
    "    # map de campagne van string naar integer\n",
    "    campaign_index = campagne_mapping[campaign_id]\n",
    "    \n",
    "    # gelijkenis scores uit de similarity matrix van de campagne met andere campagnes\n",
    "    similarity_scores = list(enumerate(similarity_matrix[campaign_index]))\n",
    "    # sorteer de scores van hoog naar laag\n",
    "    similarity_scores = sorted(similarity_scores, key=lambda x: x[1], reverse=True)\n",
    "\n",
    "    # neem de top 5 scores\n",
    "    similar_campaign_indices = [i for i, _ in similarity_scores[:5]]\n",
    "\n",
    "    interested_users = []\n",
    "\n",
    "    # voor elke van de top 5 gelijkaardige campagnes, neem de personen die het meest geinteresseerd zijn\n",
    "    for similar_campaign_index in similar_campaign_indices:\n",
    "        for user_index in persoon_mapping.values():\n",
    "            # verkrijg de recommended campagnes voor deze persoon\n",
    "            recommended_items = ALS_recommend(user_index)\n",
    "            # als de campagne in de recommended campagnes zit, voeg deze persoon toe aan de lijst\n",
    "            if similar_campaign_index in recommended_items:\n",
    "                interested_users.append(user_index)\n",
    "    \n",
    "    # tel de frequentie van de personen\n",
    "    user_counter = Counter(interested_users)\n",
    "\n",
    "    # geef de 20 meest voorkomende personen\n",
    "    top_user_indices = [user_index for user_index, _ in user_counter.most_common(20)]\n",
    "\n",
    "    # map de personen van integer naar string\n",
    "    top_user_ids = [persoon_reverse_mapping[user_index] for user_index in top_user_indices]\n",
    "\n",
    "    return top_user_ids\n",
    "\n",
    "print(get_interested_users('8FCA1D31-1EB7-E811-80F4-001DD8B72B62'))"
   ]
  }
 ],
 "metadata": {
  "kernelspec": {
   "display_name": "venv",
   "language": "python",
   "name": "python3"
  },
  "language_info": {
   "codemirror_mode": {
    "name": "ipython",
    "version": 3
   },
   "file_extension": ".py",
   "mimetype": "text/x-python",
   "name": "python",
   "nbconvert_exporter": "python",
   "pygments_lexer": "ipython3",
   "version": "3.10.7"
  }
 },
 "nbformat": 4,
 "nbformat_minor": 2
}

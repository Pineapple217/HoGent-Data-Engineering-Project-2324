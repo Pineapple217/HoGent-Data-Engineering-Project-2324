{
 "cells": [
  {
   "cell_type": "markdown",
   "metadata": {},
   "source": [
    "# Probeersel, zie implicitALS.ipynb"
   ]
  },
  {
   "cell_type": "markdown",
   "metadata": {},
   "source": [
    "SOURCE: https://medium.com/@speedfirefox1/games-recommender-system-using-lightfm-on-steam-dataset-76b05de4c187"
   ]
  },
  {
   "cell_type": "code",
   "execution_count": 27,
   "metadata": {},
   "outputs": [
    {
     "name": "stdout",
     "output_type": "stream",
     "text": [
      "LightFM version: 1.17\n"
     ]
    }
   ],
   "source": [
    "import os\n",
    "import sqlalchemy\n",
    "from dotenv import load_dotenv\n",
    "from sqlalchemy import create_engine, text\n",
    "\n",
    "import itertools\n",
    "import pandas as pd\n",
    "import numpy as np\n",
    "import pickle\n",
    "import matplotlib.pyplot as plt\n",
    "from tqdm import tqdm\n",
    "import sys\n",
    "sys.path.append('..')\n",
    "\n",
    "# pip install lightfm\n",
    "import lightfm\n",
    "from lightfm import LightFM\n",
    "from lightfm.data import Dataset\n",
    "from lightfm import cross_validation\n",
    "\n",
    "print(\"LightFM version: {}\".format(lightfm.__version__))"
   ]
  },
  {
   "cell_type": "code",
   "execution_count": 28,
   "metadata": {},
   "outputs": [
    {
     "name": "stdout",
     "output_type": "stream",
     "text": [
      "Successfully connected to the database\n",
      "SQLAlchemy version: 2.0.21\n"
     ]
    }
   ],
   "source": [
    "load_dotenv()\n",
    "DB_URL = os.getenv(\"DB_URL\")\n",
    "engine = create_engine(DB_URL)\n",
    "\n",
    "try:\n",
    "    connection = engine.connect()\n",
    "    print(\"Successfully connected to the database\")\n",
    "except Exception as e:\n",
    "    print(f\"Failed to connect to the database: {e}\")\n",
    "\n",
    "print(f\"SQLAlchemy version: {sqlalchemy.__version__}\")"
   ]
  },
  {
   "cell_type": "code",
   "execution_count": 29,
   "metadata": {},
   "outputs": [
    {
     "data": {
      "text/html": [
       "<div>\n",
       "<style scoped>\n",
       "    .dataframe tbody tr th:only-of-type {\n",
       "        vertical-align: middle;\n",
       "    }\n",
       "\n",
       "    .dataframe tbody tr th {\n",
       "        vertical-align: top;\n",
       "    }\n",
       "\n",
       "    .dataframe thead th {\n",
       "        text-align: right;\n",
       "    }\n",
       "</style>\n",
       "<table border=\"1\" class=\"dataframe\">\n",
       "  <thead>\n",
       "    <tr style=\"text-align: right;\">\n",
       "      <th></th>\n",
       "      <th>PersoonId</th>\n",
       "      <th>CampagneId</th>\n",
       "      <th>aantal_sessies</th>\n",
       "      <th>aantal_bezoeken</th>\n",
       "      <th>SessieThema</th>\n",
       "      <th>SoortCampagne</th>\n",
       "      <th>TypeCampagne</th>\n",
       "      <th>ThemaDuurzaamheid</th>\n",
       "      <th>ThemaFinancieelFiscaal</th>\n",
       "      <th>ThemaInnovatie</th>\n",
       "      <th>ThemaInternationaalOndernemen</th>\n",
       "      <th>ThemaMobiliteit</th>\n",
       "      <th>ThemaOmgeving</th>\n",
       "      <th>ThemaSalesMarketingCommunicatie</th>\n",
       "      <th>ThemaStrategieEnAlgemeenManagement</th>\n",
       "      <th>ThemaTalent</th>\n",
       "      <th>ThemaWelzijn</th>\n",
       "    </tr>\n",
       "  </thead>\n",
       "  <tbody>\n",
       "    <tr>\n",
       "      <th>0</th>\n",
       "      <td>482596DF-7269-E111-B43A-00505680000A</td>\n",
       "      <td>6AB43832-327D-E911-80FE-001DD8B72B62</td>\n",
       "      <td>1</td>\n",
       "      <td>0</td>\n",
       "      <td>Ruimtelijke ordening en Infrastructuur</td>\n",
       "      <td>Offline</td>\n",
       "      <td>Netwerkevenement</td>\n",
       "      <td>0</td>\n",
       "      <td>0</td>\n",
       "      <td>0</td>\n",
       "      <td>0</td>\n",
       "      <td>0</td>\n",
       "      <td>0</td>\n",
       "      <td>0</td>\n",
       "      <td>0</td>\n",
       "      <td>0</td>\n",
       "      <td>0</td>\n",
       "    </tr>\n",
       "    <tr>\n",
       "      <th>1</th>\n",
       "      <td>969F7BEB-BB2B-E611-BEEF-005056B06EB4</td>\n",
       "      <td>0BB4BF28-C3C4-EC11-A7B6-000D3A497E09</td>\n",
       "      <td>1</td>\n",
       "      <td>1</td>\n",
       "      <td>Netwerking</td>\n",
       "      <td>Offline</td>\n",
       "      <td>Netwerkevenement</td>\n",
       "      <td>0</td>\n",
       "      <td>0</td>\n",
       "      <td>0</td>\n",
       "      <td>0</td>\n",
       "      <td>0</td>\n",
       "      <td>0</td>\n",
       "      <td>0</td>\n",
       "      <td>0</td>\n",
       "      <td>0</td>\n",
       "      <td>0</td>\n",
       "    </tr>\n",
       "    <tr>\n",
       "      <th>2</th>\n",
       "      <td>456581CA-BAF6-E311-956D-005056B06EB4</td>\n",
       "      <td>92C9E001-1DB4-EC11-983F-00224883CCEA</td>\n",
       "      <td>1</td>\n",
       "      <td>2</td>\n",
       "      <td>Netwerking</td>\n",
       "      <td>Offline</td>\n",
       "      <td>Netwerkevenement</td>\n",
       "      <td>0</td>\n",
       "      <td>0</td>\n",
       "      <td>0</td>\n",
       "      <td>0</td>\n",
       "      <td>0</td>\n",
       "      <td>0</td>\n",
       "      <td>0</td>\n",
       "      <td>0</td>\n",
       "      <td>0</td>\n",
       "      <td>0</td>\n",
       "    </tr>\n",
       "    <tr>\n",
       "      <th>3</th>\n",
       "      <td>2F3D63A8-E167-E111-A00F-00505680000A</td>\n",
       "      <td>932690EF-20B1-ED11-83FF-6045BD895B5A</td>\n",
       "      <td>1</td>\n",
       "      <td>1</td>\n",
       "      <td>Groeien</td>\n",
       "      <td>Offline</td>\n",
       "      <td>Netwerkevenement</td>\n",
       "      <td>0</td>\n",
       "      <td>0</td>\n",
       "      <td>0</td>\n",
       "      <td>0</td>\n",
       "      <td>0</td>\n",
       "      <td>0</td>\n",
       "      <td>0</td>\n",
       "      <td>0</td>\n",
       "      <td>0</td>\n",
       "      <td>0</td>\n",
       "    </tr>\n",
       "    <tr>\n",
       "      <th>4</th>\n",
       "      <td>012C8C55-6769-E111-B43A-00505680000A</td>\n",
       "      <td>376FE12F-99B5-EC11-983F-00224883CCEA</td>\n",
       "      <td>14</td>\n",
       "      <td>0</td>\n",
       "      <td>Algemeen Management</td>\n",
       "      <td>Offline</td>\n",
       "      <td>Project</td>\n",
       "      <td>0</td>\n",
       "      <td>0</td>\n",
       "      <td>0</td>\n",
       "      <td>0</td>\n",
       "      <td>0</td>\n",
       "      <td>0</td>\n",
       "      <td>0</td>\n",
       "      <td>0</td>\n",
       "      <td>0</td>\n",
       "      <td>0</td>\n",
       "    </tr>\n",
       "  </tbody>\n",
       "</table>\n",
       "</div>"
      ],
      "text/plain": [
       "                              PersoonId                            CampagneId  \\\n",
       "0  482596DF-7269-E111-B43A-00505680000A  6AB43832-327D-E911-80FE-001DD8B72B62   \n",
       "1  969F7BEB-BB2B-E611-BEEF-005056B06EB4  0BB4BF28-C3C4-EC11-A7B6-000D3A497E09   \n",
       "2  456581CA-BAF6-E311-956D-005056B06EB4  92C9E001-1DB4-EC11-983F-00224883CCEA   \n",
       "3  2F3D63A8-E167-E111-A00F-00505680000A  932690EF-20B1-ED11-83FF-6045BD895B5A   \n",
       "4  012C8C55-6769-E111-B43A-00505680000A  376FE12F-99B5-EC11-983F-00224883CCEA   \n",
       "\n",
       "   aantal_sessies  aantal_bezoeken                             SessieThema  \\\n",
       "0               1                0  Ruimtelijke ordening en Infrastructuur   \n",
       "1               1                1                              Netwerking   \n",
       "2               1                2                              Netwerking   \n",
       "3               1                1                                 Groeien   \n",
       "4              14                0                     Algemeen Management   \n",
       "\n",
       "  SoortCampagne      TypeCampagne  ThemaDuurzaamheid  ThemaFinancieelFiscaal  \\\n",
       "0       Offline  Netwerkevenement                  0                       0   \n",
       "1       Offline  Netwerkevenement                  0                       0   \n",
       "2       Offline  Netwerkevenement                  0                       0   \n",
       "3       Offline  Netwerkevenement                  0                       0   \n",
       "4       Offline           Project                  0                       0   \n",
       "\n",
       "   ThemaInnovatie  ThemaInternationaalOndernemen  ThemaMobiliteit  \\\n",
       "0               0                              0                0   \n",
       "1               0                              0                0   \n",
       "2               0                              0                0   \n",
       "3               0                              0                0   \n",
       "4               0                              0                0   \n",
       "\n",
       "   ThemaOmgeving  ThemaSalesMarketingCommunicatie  \\\n",
       "0              0                                0   \n",
       "1              0                                0   \n",
       "2              0                                0   \n",
       "3              0                                0   \n",
       "4              0                                0   \n",
       "\n",
       "   ThemaStrategieEnAlgemeenManagement  ThemaTalent  ThemaWelzijn  \n",
       "0                                   0            0             0  \n",
       "1                                   0            0             0  \n",
       "2                                   0            0             0  \n",
       "3                                   0            0             0  \n",
       "4                                   0            0             0  "
      ]
     },
     "execution_count": 29,
     "metadata": {},
     "output_type": "execute_result"
    }
   ],
   "source": [
    "# materialized view\n",
    "query = text('SELECT * FROM epic_5')\n",
    "\n",
    "try:\n",
    "    df = pd.read_sql_query(query, connection)\n",
    "except Exception as e:\n",
    "    print(f\"Failed to execute query: {e}\")\n",
    "\n",
    "df.head()"
   ]
  },
  {
   "cell_type": "code",
   "execution_count": 30,
   "metadata": {},
   "outputs": [
    {
     "name": "stdout",
     "output_type": "stream",
     "text": [
      "<class 'pandas.core.frame.DataFrame'>\n",
      "RangeIndex: 52567 entries, 0 to 52566\n",
      "Data columns (total 17 columns):\n",
      " #   Column                              Non-Null Count  Dtype \n",
      "---  ------                              --------------  ----- \n",
      " 0   PersoonId                           52567 non-null  object\n",
      " 1   CampagneId                          52567 non-null  object\n",
      " 2   aantal_sessies                      52567 non-null  int64 \n",
      " 3   aantal_bezoeken                     52567 non-null  int64 \n",
      " 4   SessieThema                         52567 non-null  object\n",
      " 5   SoortCampagne                       52567 non-null  object\n",
      " 6   TypeCampagne                        52567 non-null  object\n",
      " 7   ThemaDuurzaamheid                   52567 non-null  int64 \n",
      " 8   ThemaFinancieelFiscaal              52567 non-null  int64 \n",
      " 9   ThemaInnovatie                      52567 non-null  int64 \n",
      " 10  ThemaInternationaalOndernemen       52567 non-null  int64 \n",
      " 11  ThemaMobiliteit                     52567 non-null  int64 \n",
      " 12  ThemaOmgeving                       52567 non-null  int64 \n",
      " 13  ThemaSalesMarketingCommunicatie     52567 non-null  int64 \n",
      " 14  ThemaStrategieEnAlgemeenManagement  52567 non-null  int64 \n",
      " 15  ThemaTalent                         52567 non-null  int64 \n",
      " 16  ThemaWelzijn                        52567 non-null  int64 \n",
      "dtypes: int64(12), object(5)\n",
      "memory usage: 6.8+ MB\n"
     ]
    }
   ],
   "source": [
    "df.info()"
   ]
  },
  {
   "cell_type": "code",
   "execution_count": 31,
   "metadata": {},
   "outputs": [],
   "source": [
    "df['ThemaDuurzaamheid'] = df['ThemaDuurzaamheid'].replace({0: 'False', 1: 'True'})\n",
    "df['ThemaFinancieelFiscaal'] = df['ThemaFinancieelFiscaal'].replace({0: 'False', 1: 'True'})\n",
    "df['ThemaInnovatie'] = df['ThemaInnovatie'].replace({0: 'False', 1: 'True'})\n",
    "df['ThemaInternationaalOndernemen'] = df['ThemaInternationaalOndernemen'].replace({0: 'False', 1: 'True'})\n",
    "df['ThemaMobiliteit'] = df['ThemaMobiliteit'].replace({0: 'False', 1: 'True'})\n",
    "df['ThemaOmgeving'] = df['ThemaOmgeving'].replace({0: 'False', 1: 'True'})\n",
    "df['ThemaSalesMarketingCommunicatie'] = df['ThemaSalesMarketingCommunicatie'].replace({0: 'False', 1: 'True'})\n",
    "df['ThemaStrategieEnAlgemeenManagement'] = df['ThemaStrategieEnAlgemeenManagement'].replace({0: 'False', 1: 'True'})\n",
    "df['ThemaTalent'] = df['ThemaTalent'].replace({0: 'False', 1: 'True'})\n",
    "df['ThemaWelzijn'] = df['ThemaWelzijn'].replace({0: 'False', 1: 'True'})"
   ]
  },
  {
   "cell_type": "code",
   "execution_count": 32,
   "metadata": {},
   "outputs": [],
   "source": [
    "df['aantal_sessies'] = df['aantal_sessies'].astype(str)"
   ]
  },
  {
   "cell_type": "code",
   "execution_count": 33,
   "metadata": {},
   "outputs": [],
   "source": [
    "df.drop('aantal_bezoeken', axis=1, inplace=True)"
   ]
  },
  {
   "cell_type": "code",
   "execution_count": 34,
   "metadata": {},
   "outputs": [
    {
     "data": {
      "text/html": [
       "<div>\n",
       "<style scoped>\n",
       "    .dataframe tbody tr th:only-of-type {\n",
       "        vertical-align: middle;\n",
       "    }\n",
       "\n",
       "    .dataframe tbody tr th {\n",
       "        vertical-align: top;\n",
       "    }\n",
       "\n",
       "    .dataframe thead th {\n",
       "        text-align: right;\n",
       "    }\n",
       "</style>\n",
       "<table border=\"1\" class=\"dataframe\">\n",
       "  <thead>\n",
       "    <tr style=\"text-align: right;\">\n",
       "      <th></th>\n",
       "      <th>PersoonId</th>\n",
       "      <th>CampagneId</th>\n",
       "      <th>aantal_sessies</th>\n",
       "      <th>SessieThema</th>\n",
       "      <th>SoortCampagne</th>\n",
       "      <th>TypeCampagne</th>\n",
       "      <th>ThemaDuurzaamheid</th>\n",
       "      <th>ThemaFinancieelFiscaal</th>\n",
       "      <th>ThemaInnovatie</th>\n",
       "      <th>ThemaInternationaalOndernemen</th>\n",
       "      <th>ThemaMobiliteit</th>\n",
       "      <th>ThemaOmgeving</th>\n",
       "      <th>ThemaSalesMarketingCommunicatie</th>\n",
       "      <th>ThemaStrategieEnAlgemeenManagement</th>\n",
       "      <th>ThemaTalent</th>\n",
       "      <th>ThemaWelzijn</th>\n",
       "    </tr>\n",
       "  </thead>\n",
       "  <tbody>\n",
       "    <tr>\n",
       "      <th>0</th>\n",
       "      <td>482596DF-7269-E111-B43A-00505680000A</td>\n",
       "      <td>6AB43832-327D-E911-80FE-001DD8B72B62</td>\n",
       "      <td>1</td>\n",
       "      <td>Ruimtelijke ordening en Infrastructuur</td>\n",
       "      <td>Offline</td>\n",
       "      <td>Netwerkevenement</td>\n",
       "      <td>False</td>\n",
       "      <td>False</td>\n",
       "      <td>False</td>\n",
       "      <td>False</td>\n",
       "      <td>False</td>\n",
       "      <td>False</td>\n",
       "      <td>False</td>\n",
       "      <td>False</td>\n",
       "      <td>False</td>\n",
       "      <td>False</td>\n",
       "    </tr>\n",
       "    <tr>\n",
       "      <th>1</th>\n",
       "      <td>969F7BEB-BB2B-E611-BEEF-005056B06EB4</td>\n",
       "      <td>0BB4BF28-C3C4-EC11-A7B6-000D3A497E09</td>\n",
       "      <td>1</td>\n",
       "      <td>Netwerking</td>\n",
       "      <td>Offline</td>\n",
       "      <td>Netwerkevenement</td>\n",
       "      <td>False</td>\n",
       "      <td>False</td>\n",
       "      <td>False</td>\n",
       "      <td>False</td>\n",
       "      <td>False</td>\n",
       "      <td>False</td>\n",
       "      <td>False</td>\n",
       "      <td>False</td>\n",
       "      <td>False</td>\n",
       "      <td>False</td>\n",
       "    </tr>\n",
       "    <tr>\n",
       "      <th>2</th>\n",
       "      <td>456581CA-BAF6-E311-956D-005056B06EB4</td>\n",
       "      <td>92C9E001-1DB4-EC11-983F-00224883CCEA</td>\n",
       "      <td>1</td>\n",
       "      <td>Netwerking</td>\n",
       "      <td>Offline</td>\n",
       "      <td>Netwerkevenement</td>\n",
       "      <td>False</td>\n",
       "      <td>False</td>\n",
       "      <td>False</td>\n",
       "      <td>False</td>\n",
       "      <td>False</td>\n",
       "      <td>False</td>\n",
       "      <td>False</td>\n",
       "      <td>False</td>\n",
       "      <td>False</td>\n",
       "      <td>False</td>\n",
       "    </tr>\n",
       "    <tr>\n",
       "      <th>3</th>\n",
       "      <td>2F3D63A8-E167-E111-A00F-00505680000A</td>\n",
       "      <td>932690EF-20B1-ED11-83FF-6045BD895B5A</td>\n",
       "      <td>1</td>\n",
       "      <td>Groeien</td>\n",
       "      <td>Offline</td>\n",
       "      <td>Netwerkevenement</td>\n",
       "      <td>False</td>\n",
       "      <td>False</td>\n",
       "      <td>False</td>\n",
       "      <td>False</td>\n",
       "      <td>False</td>\n",
       "      <td>False</td>\n",
       "      <td>False</td>\n",
       "      <td>False</td>\n",
       "      <td>False</td>\n",
       "      <td>False</td>\n",
       "    </tr>\n",
       "    <tr>\n",
       "      <th>4</th>\n",
       "      <td>012C8C55-6769-E111-B43A-00505680000A</td>\n",
       "      <td>376FE12F-99B5-EC11-983F-00224883CCEA</td>\n",
       "      <td>14</td>\n",
       "      <td>Algemeen Management</td>\n",
       "      <td>Offline</td>\n",
       "      <td>Project</td>\n",
       "      <td>False</td>\n",
       "      <td>False</td>\n",
       "      <td>False</td>\n",
       "      <td>False</td>\n",
       "      <td>False</td>\n",
       "      <td>False</td>\n",
       "      <td>False</td>\n",
       "      <td>False</td>\n",
       "      <td>False</td>\n",
       "      <td>False</td>\n",
       "    </tr>\n",
       "  </tbody>\n",
       "</table>\n",
       "</div>"
      ],
      "text/plain": [
       "                              PersoonId                            CampagneId  \\\n",
       "0  482596DF-7269-E111-B43A-00505680000A  6AB43832-327D-E911-80FE-001DD8B72B62   \n",
       "1  969F7BEB-BB2B-E611-BEEF-005056B06EB4  0BB4BF28-C3C4-EC11-A7B6-000D3A497E09   \n",
       "2  456581CA-BAF6-E311-956D-005056B06EB4  92C9E001-1DB4-EC11-983F-00224883CCEA   \n",
       "3  2F3D63A8-E167-E111-A00F-00505680000A  932690EF-20B1-ED11-83FF-6045BD895B5A   \n",
       "4  012C8C55-6769-E111-B43A-00505680000A  376FE12F-99B5-EC11-983F-00224883CCEA   \n",
       "\n",
       "  aantal_sessies                             SessieThema SoortCampagne  \\\n",
       "0              1  Ruimtelijke ordening en Infrastructuur       Offline   \n",
       "1              1                              Netwerking       Offline   \n",
       "2              1                              Netwerking       Offline   \n",
       "3              1                                 Groeien       Offline   \n",
       "4             14                     Algemeen Management       Offline   \n",
       "\n",
       "       TypeCampagne ThemaDuurzaamheid ThemaFinancieelFiscaal ThemaInnovatie  \\\n",
       "0  Netwerkevenement             False                  False          False   \n",
       "1  Netwerkevenement             False                  False          False   \n",
       "2  Netwerkevenement             False                  False          False   \n",
       "3  Netwerkevenement             False                  False          False   \n",
       "4           Project             False                  False          False   \n",
       "\n",
       "  ThemaInternationaalOndernemen ThemaMobiliteit ThemaOmgeving  \\\n",
       "0                         False           False         False   \n",
       "1                         False           False         False   \n",
       "2                         False           False         False   \n",
       "3                         False           False         False   \n",
       "4                         False           False         False   \n",
       "\n",
       "  ThemaSalesMarketingCommunicatie ThemaStrategieEnAlgemeenManagement  \\\n",
       "0                           False                              False   \n",
       "1                           False                              False   \n",
       "2                           False                              False   \n",
       "3                           False                              False   \n",
       "4                           False                              False   \n",
       "\n",
       "  ThemaTalent ThemaWelzijn  \n",
       "0       False        False  \n",
       "1       False        False  \n",
       "2       False        False  \n",
       "3       False        False  \n",
       "4       False        False  "
      ]
     },
     "execution_count": 34,
     "metadata": {},
     "output_type": "execute_result"
    }
   ],
   "source": [
    "df.head()"
   ]
  },
  {
   "cell_type": "code",
   "execution_count": 35,
   "metadata": {},
   "outputs": [
    {
     "name": "stdout",
     "output_type": "stream",
     "text": [
      "<class 'pandas.core.frame.DataFrame'>\n",
      "RangeIndex: 52567 entries, 0 to 52566\n",
      "Data columns (total 16 columns):\n",
      " #   Column                              Non-Null Count  Dtype \n",
      "---  ------                              --------------  ----- \n",
      " 0   PersoonId                           52567 non-null  object\n",
      " 1   CampagneId                          52567 non-null  object\n",
      " 2   aantal_sessies                      52567 non-null  object\n",
      " 3   SessieThema                         52567 non-null  object\n",
      " 4   SoortCampagne                       52567 non-null  object\n",
      " 5   TypeCampagne                        52567 non-null  object\n",
      " 6   ThemaDuurzaamheid                   52567 non-null  object\n",
      " 7   ThemaFinancieelFiscaal              52567 non-null  object\n",
      " 8   ThemaInnovatie                      52567 non-null  object\n",
      " 9   ThemaInternationaalOndernemen       52567 non-null  object\n",
      " 10  ThemaMobiliteit                     52567 non-null  object\n",
      " 11  ThemaOmgeving                       52567 non-null  object\n",
      " 12  ThemaSalesMarketingCommunicatie     52567 non-null  object\n",
      " 13  ThemaStrategieEnAlgemeenManagement  52567 non-null  object\n",
      " 14  ThemaTalent                         52567 non-null  object\n",
      " 15  ThemaWelzijn                        52567 non-null  object\n",
      "dtypes: object(16)\n",
      "memory usage: 6.4+ MB\n"
     ]
    }
   ],
   "source": [
    "df.info()"
   ]
  },
  {
   "cell_type": "code",
   "execution_count": 36,
   "metadata": {},
   "outputs": [],
   "source": [
    "item_cols = ['SessieThema', 'SoortCampagne', 'TypeCampagne', 'aantal_sessies']\n",
    "user_cols = ['ThemaDuurzaamheid', 'ThemaFinancieelFiscaal', 'ThemaInnovatie', 'ThemaInternationaalOndernemen', 'ThemaMobiliteit', 'ThemaOmgeving', 'ThemaSalesMarketingCommunicatie', 'ThemaStrategieEnAlgemeenManagement', 'ThemaTalent', 'ThemaWelzijn']"
   ]
  },
  {
   "cell_type": "code",
   "execution_count": 37,
   "metadata": {},
   "outputs": [],
   "source": [
    "from lightfm.evaluation import precision_at_k\n",
    "from lightfm.evaluation import recall_at_k\n",
    "from lightfm.evaluation import auc_score\n",
    "\n",
    "def calculate_metrics(model, interactions, train, item_features, user_features, k):\n",
    "    precision = precision_at_k(model, interactions, train, item_features=item_features, user_features=user_features, k=k).mean()\n",
    "    recall = recall_at_k(model, interactions, train, item_features=item_features, user_features=user_features, k=k).mean()\n",
    "    auc = auc_score(model, interactions, train, item_features=item_features, user_features=user_features).mean()\n",
    "    return precision, recall, auc"
   ]
  },
  {
   "cell_type": "code",
   "execution_count": 38,
   "metadata": {},
   "outputs": [],
   "source": [
    "# default number of recommendations\n",
    "K = 10\n",
    "# percentage of data used for testing\n",
    "TEST_PERCENTAGE = 0.1\n",
    "# model learning rate\n",
    "LEARNING_RATE = 0.01\n",
    "# no of latent factors\n",
    "NO_COMPONENTS = 200\n",
    "# no of epochs to fit model\n",
    "NO_EPOCHS = 10\n",
    "# no of threads to fit model\n",
    "NO_THREADS = 8\n",
    "\n",
    "# regularisation for both user and item features\n",
    "ITEM_ALPHA = 0\n",
    "USER_ALPHA = 0\n",
    "\n",
    "checkpoint = 'lightFM_hybrid'\n",
    "# seed for pseudonumber generations\n",
    "SEED = 42"
   ]
  },
  {
   "cell_type": "code",
   "execution_count": 39,
   "metadata": {},
   "outputs": [],
   "source": [
    "all_item_features = np.concatenate([df[col].unique() for col in item_cols]).tolist()\n",
    "all_user_features = np.concatenate([df[col].unique() for col in user_cols]).tolist()"
   ]
  },
  {
   "cell_type": "code",
   "execution_count": 40,
   "metadata": {},
   "outputs": [
    {
     "name": "stdout",
     "output_type": "stream",
     "text": [
      "['Ruimtelijke ordening en Infrastructuur', 'Netwerking', 'Groeien', 'Algemeen Management', 'Unknown', 'Haven', 'Duurzaam Ondernemen', 'Welt 2.0-2023', 'Human Resources', 'Internationaal Ondernemen', 'Communicatie', 'Financieel', 'Starten', 'Digitalisering, IT & Technologie', 'Opvolging en Overname', 'Welt 2.0', 'Arbeidsmarkt', 'Jong Voka', 'Opleidingen', 'Marketing & Sales', 'Innovatie', 'Juridisch', 'Bryo', 'Milieu', 'Welt', 'Familiebedrijven', 'Plato', 'Strategie', 'Economie', 'Lidmaatschap', 'Logistiek en Transport', 'Mobiliteit', 'Onderwijs', 'Supply Chain', 'Veiligheid & Preventie', 'Energie', 'Persoonlijke vaardigheden', 'Coronavirus', 'Aankoop', 'Retail', 'Aantrekkelijke regio', 'Offline', 'Online', 'On en Offline', 'Netwerkevenement', 'Project', 'Opleiding', 'Infosessie', 'Campagne', 'Projectgebonden', '1', '14', '0', '2', '4', '11', '6', '3', '8', '13', '5', '10', '17', '18', '7', '12', '9', '15', '16', '26', '20', '27', '24', '22']\n",
      "['False', 'True', 'False', 'True', 'False', 'True', 'False', 'True', 'False', 'True', 'False', 'True', 'False', 'True', 'False', 'True', 'False', 'True', 'False', 'True']\n"
     ]
    }
   ],
   "source": [
    "print(all_item_features)\n",
    "print(all_user_features)"
   ]
  },
  {
   "cell_type": "code",
   "execution_count": 41,
   "metadata": {},
   "outputs": [],
   "source": [
    "dataset = Dataset()"
   ]
  },
  {
   "cell_type": "code",
   "execution_count": 42,
   "metadata": {},
   "outputs": [
    {
     "name": "stdout",
     "output_type": "stream",
     "text": [
      "Num users: 16688, num_items: 1979\n"
     ]
    }
   ],
   "source": [
    "dataset.fit(\n",
    "    users=df['PersoonId'].unique(),\n",
    "    items=df['CampagneId'].unique(),\n",
    "    user_features=all_user_features,\n",
    "    item_features=all_item_features\n",
    ")\n",
    "\n",
    "# quick check to determine the number of unique users and items in the data\n",
    "num_users, num_items = dataset.interactions_shape()\n",
    "print(f'Num users: {num_users}, num_items: {num_items}')"
   ]
  },
  {
   "cell_type": "code",
   "execution_count": 43,
   "metadata": {},
   "outputs": [],
   "source": [
    "(interactions, weights) = dataset.build_interactions(zip(df['PersoonId'], df['CampagneId']))"
   ]
  },
  {
   "cell_type": "code",
   "execution_count": 44,
   "metadata": {},
   "outputs": [],
   "source": [
    "unique_campaign_ids = df['CampagneId'].unique()\n",
    "items = pd.DataFrame(columns=['CampagneId'])\n",
    "items['CampagneId'] = unique_campaign_ids\n",
    "\n",
    "unique_person_ids = df['PersoonId'].unique()\n",
    "users = pd.DataFrame(columns=['PersoonId'])\n",
    "users['PersoonId'] = unique_person_ids"
   ]
  },
  {
   "cell_type": "code",
   "execution_count": 45,
   "metadata": {},
   "outputs": [],
   "source": [
    "def item_feature_generator():\n",
    "    for i, row in items.iterrows():\n",
    "        features = row.values[2:-1]\n",
    "        yield (row['CampagneId'], features)\n",
    "\n",
    "def user_feature_generator():\n",
    "    for i, row in users.iterrows():\n",
    "        features = row.values[1:]\n",
    "        yield (row['PersoonId'], features)"
   ]
  },
  {
   "cell_type": "code",
   "execution_count": 46,
   "metadata": {},
   "outputs": [],
   "source": [
    "item_features = dataset.build_item_features((item_id, item_feature) for item_id, item_feature in item_feature_generator())\n",
    "user_features = dataset.build_user_features((user_id, user_feature) for user_id, user_feature in user_feature_generator())"
   ]
  },
  {
   "cell_type": "code",
   "execution_count": 47,
   "metadata": {},
   "outputs": [],
   "source": [
    "train_interactions, test_interactions = cross_validation.random_train_test_split(\n",
    "    interactions, test_percentage=TEST_PERCENTAGE,\n",
    "    random_state=np.random.RandomState(seed=SEED)\n",
    ")"
   ]
  },
  {
   "cell_type": "code",
   "execution_count": 48,
   "metadata": {},
   "outputs": [],
   "source": [
    "uids, iids, data_interaction = cross_validation._shuffle(interactions.row, interactions.col, interactions.data, np.random.RandomState(SEED))\n",
    "\n",
    "cutoff = int((1.0 - TEST_PERCENTAGE) * len(uids))\n",
    "test_idx = slice(cutoff, None)\n",
    "train_idx = slice(None, cutoff)\n",
    "\n",
    "test_uids, test_iids = uids[test_idx], iids[test_idx]\n",
    "train_uids, train_iids = uids[train_idx], iids[train_idx]"
   ]
  },
  {
   "cell_type": "code",
   "execution_count": 49,
   "metadata": {},
   "outputs": [
    {
     "name": "stdout",
     "output_type": "stream",
     "text": [
      "Shape of train interactions: (16688, 1979)\n",
      "Shape of test interactions: (16688, 1979)\n"
     ]
    }
   ],
   "source": [
    "print(f\"Shape of train interactions: {train_interactions.shape}\")\n",
    "print(f\"Shape of test interactions: {test_interactions.shape}\")"
   ]
  },
  {
   "cell_type": "code",
   "execution_count": 50,
   "metadata": {},
   "outputs": [],
   "source": [
    "model = LightFM(\n",
    "    no_components=NO_COMPONENTS,\n",
    "    learning_rate=LEARNING_RATE,\n",
    "    random_state=np.random.RandomState(SEED)\n",
    ")"
   ]
  },
  {
   "cell_type": "code",
   "execution_count": 51,
   "metadata": {},
   "outputs": [],
   "source": [
    "def save_model(model):\n",
    "    with open(f'{checkpoint}.pickle', 'wb') as fle:\n",
    "        pickle.dump(model, fle, protocol=pickle.HIGHEST_PROTOCOL)"
   ]
  },
  {
   "cell_type": "code",
   "execution_count": 52,
   "metadata": {},
   "outputs": [
    {
     "name": "stderr",
     "output_type": "stream",
     "text": [
      "  0%|          | 0/10 [00:31<?, ?it/s]\n"
     ]
    },
    {
     "ename": "ValueError",
     "evalue": "Test interactions matrix and train interactions matrix share 534 interactions. This will cause incorrect evaluation, check your data split.",
     "output_type": "error",
     "traceback": [
      "\u001b[1;31m---------------------------------------------------------------------------\u001b[0m",
      "\u001b[1;31mValueError\u001b[0m                                Traceback (most recent call last)",
      "Cell \u001b[1;32mIn[52], line 26\u001b[0m\n\u001b[0;32m     17\u001b[0m model\u001b[38;5;241m.\u001b[39mfit_partial(\n\u001b[0;32m     18\u001b[0m     interactions\u001b[38;5;241m=\u001b[39mtrain_interactions,\n\u001b[0;32m     19\u001b[0m     user_features\u001b[38;5;241m=\u001b[39muser_features,\n\u001b[1;32m   (...)\u001b[0m\n\u001b[0;32m     22\u001b[0m     num_threads\u001b[38;5;241m=\u001b[39mNO_THREADS\n\u001b[0;32m     23\u001b[0m )\n\u001b[0;32m     25\u001b[0m train_precision, train_recall, train_auc \u001b[38;5;241m=\u001b[39m calculate_metrics(model, train_interactions, \u001b[38;5;28;01mNone\u001b[39;00m, item_features, user_features, K)\n\u001b[1;32m---> 26\u001b[0m test_precision, test_recall, test_auc \u001b[38;5;241m=\u001b[39m \u001b[43mcalculate_metrics\u001b[49m\u001b[43m(\u001b[49m\u001b[43mmodel\u001b[49m\u001b[43m,\u001b[49m\u001b[43m \u001b[49m\u001b[43mtest_interactions\u001b[49m\u001b[43m,\u001b[49m\u001b[43m \u001b[49m\u001b[43mtrain_interactions\u001b[49m\u001b[43m,\u001b[49m\u001b[43m  \u001b[49m\u001b[43mitem_features\u001b[49m\u001b[43m,\u001b[49m\u001b[43m \u001b[49m\u001b[43muser_features\u001b[49m\u001b[43m,\u001b[49m\u001b[43m \u001b[49m\u001b[43mK\u001b[49m\u001b[43m)\u001b[49m\n\u001b[0;32m     28\u001b[0m train_history[\u001b[38;5;124m'\u001b[39m\u001b[38;5;124mAUC\u001b[39m\u001b[38;5;124m'\u001b[39m]\u001b[38;5;241m.\u001b[39mappend(train_auc)\n\u001b[0;32m     29\u001b[0m train_history[\u001b[38;5;124m'\u001b[39m\u001b[38;5;124mPrecision\u001b[39m\u001b[38;5;124m'\u001b[39m]\u001b[38;5;241m.\u001b[39mappend(train_precision)\n",
      "Cell \u001b[1;32mIn[37], line 6\u001b[0m, in \u001b[0;36mcalculate_metrics\u001b[1;34m(model, interactions, train, item_features, user_features, k)\u001b[0m\n\u001b[0;32m      5\u001b[0m \u001b[38;5;28;01mdef\u001b[39;00m \u001b[38;5;21mcalculate_metrics\u001b[39m(model, interactions, train, item_features, user_features, k):\n\u001b[1;32m----> 6\u001b[0m     precision \u001b[38;5;241m=\u001b[39m \u001b[43mprecision_at_k\u001b[49m\u001b[43m(\u001b[49m\u001b[43mmodel\u001b[49m\u001b[43m,\u001b[49m\u001b[43m \u001b[49m\u001b[43minteractions\u001b[49m\u001b[43m,\u001b[49m\u001b[43m \u001b[49m\u001b[43mtrain\u001b[49m\u001b[43m,\u001b[49m\u001b[43m \u001b[49m\u001b[43mitem_features\u001b[49m\u001b[38;5;241;43m=\u001b[39;49m\u001b[43mitem_features\u001b[49m\u001b[43m,\u001b[49m\u001b[43m \u001b[49m\u001b[43muser_features\u001b[49m\u001b[38;5;241;43m=\u001b[39;49m\u001b[43muser_features\u001b[49m\u001b[43m,\u001b[49m\u001b[43m \u001b[49m\u001b[43mk\u001b[49m\u001b[38;5;241;43m=\u001b[39;49m\u001b[43mk\u001b[49m\u001b[43m)\u001b[49m\u001b[38;5;241m.\u001b[39mmean()\n\u001b[0;32m      7\u001b[0m     recall \u001b[38;5;241m=\u001b[39m recall_at_k(model, interactions, train, item_features\u001b[38;5;241m=\u001b[39mitem_features, user_features\u001b[38;5;241m=\u001b[39muser_features, k\u001b[38;5;241m=\u001b[39mk)\u001b[38;5;241m.\u001b[39mmean()\n\u001b[0;32m      8\u001b[0m     auc \u001b[38;5;241m=\u001b[39m auc_score(model, interactions, train, item_features\u001b[38;5;241m=\u001b[39mitem_features, user_features\u001b[38;5;241m=\u001b[39muser_features)\u001b[38;5;241m.\u001b[39mmean()\n",
      "File \u001b[1;32mc:\\Users\\hanne\\OneDrive\\Openbaar\\Documenten\\TI(schoolmap)\\Data Engineering Project II\\DEP2-GROEP-1\\venv\\lib\\site-packages\\lightfm\\evaluation.py:71\u001b[0m, in \u001b[0;36mprecision_at_k\u001b[1;34m(model, test_interactions, train_interactions, k, user_features, item_features, preserve_rows, num_threads, check_intersections)\u001b[0m\n\u001b[0;32m     68\u001b[0m \u001b[38;5;28;01mif\u001b[39;00m num_threads \u001b[38;5;241m<\u001b[39m \u001b[38;5;241m1\u001b[39m:\n\u001b[0;32m     69\u001b[0m     \u001b[38;5;28;01mraise\u001b[39;00m \u001b[38;5;167;01mValueError\u001b[39;00m(\u001b[38;5;124m\"\u001b[39m\u001b[38;5;124mNumber of threads must be 1 or larger.\u001b[39m\u001b[38;5;124m\"\u001b[39m)\n\u001b[1;32m---> 71\u001b[0m ranks \u001b[38;5;241m=\u001b[39m \u001b[43mmodel\u001b[49m\u001b[38;5;241;43m.\u001b[39;49m\u001b[43mpredict_rank\u001b[49m\u001b[43m(\u001b[49m\n\u001b[0;32m     72\u001b[0m \u001b[43m    \u001b[49m\u001b[43mtest_interactions\u001b[49m\u001b[43m,\u001b[49m\n\u001b[0;32m     73\u001b[0m \u001b[43m    \u001b[49m\u001b[43mtrain_interactions\u001b[49m\u001b[38;5;241;43m=\u001b[39;49m\u001b[43mtrain_interactions\u001b[49m\u001b[43m,\u001b[49m\n\u001b[0;32m     74\u001b[0m \u001b[43m    \u001b[49m\u001b[43muser_features\u001b[49m\u001b[38;5;241;43m=\u001b[39;49m\u001b[43muser_features\u001b[49m\u001b[43m,\u001b[49m\n\u001b[0;32m     75\u001b[0m \u001b[43m    \u001b[49m\u001b[43mitem_features\u001b[49m\u001b[38;5;241;43m=\u001b[39;49m\u001b[43mitem_features\u001b[49m\u001b[43m,\u001b[49m\n\u001b[0;32m     76\u001b[0m \u001b[43m    \u001b[49m\u001b[43mnum_threads\u001b[49m\u001b[38;5;241;43m=\u001b[39;49m\u001b[43mnum_threads\u001b[49m\u001b[43m,\u001b[49m\n\u001b[0;32m     77\u001b[0m \u001b[43m    \u001b[49m\u001b[43mcheck_intersections\u001b[49m\u001b[38;5;241;43m=\u001b[39;49m\u001b[43mcheck_intersections\u001b[49m\u001b[43m,\u001b[49m\n\u001b[0;32m     78\u001b[0m \u001b[43m\u001b[49m\u001b[43m)\u001b[49m\n\u001b[0;32m     80\u001b[0m ranks\u001b[38;5;241m.\u001b[39mdata \u001b[38;5;241m=\u001b[39m np\u001b[38;5;241m.\u001b[39mless(ranks\u001b[38;5;241m.\u001b[39mdata, k, ranks\u001b[38;5;241m.\u001b[39mdata)\n\u001b[0;32m     82\u001b[0m precision \u001b[38;5;241m=\u001b[39m np\u001b[38;5;241m.\u001b[39msqueeze(np\u001b[38;5;241m.\u001b[39marray(ranks\u001b[38;5;241m.\u001b[39msum(axis\u001b[38;5;241m=\u001b[39m\u001b[38;5;241m1\u001b[39m))) \u001b[38;5;241m/\u001b[39m k\n",
      "File \u001b[1;32mc:\\Users\\hanne\\OneDrive\\Openbaar\\Documenten\\TI(schoolmap)\\Data Engineering Project II\\DEP2-GROEP-1\\venv\\lib\\site-packages\\lightfm\\lightfm.py:945\u001b[0m, in \u001b[0;36mLightFM.predict_rank\u001b[1;34m(self, test_interactions, train_interactions, item_features, user_features, num_threads, check_intersections)\u001b[0m\n\u001b[0;32m    942\u001b[0m     \u001b[38;5;28;01mraise\u001b[39;00m \u001b[38;5;167;01mValueError\u001b[39;00m(\u001b[38;5;124m\"\u001b[39m\u001b[38;5;124mNumber of threads must be 1 or larger.\u001b[39m\u001b[38;5;124m\"\u001b[39m)\n\u001b[0;32m    944\u001b[0m \u001b[38;5;28;01mif\u001b[39;00m check_intersections:\n\u001b[1;32m--> 945\u001b[0m     \u001b[38;5;28;43mself\u001b[39;49m\u001b[38;5;241;43m.\u001b[39;49m\u001b[43m_check_test_train_intersections\u001b[49m\u001b[43m(\u001b[49m\u001b[43mtest_interactions\u001b[49m\u001b[43m,\u001b[49m\u001b[43m \u001b[49m\u001b[43mtrain_interactions\u001b[49m\u001b[43m)\u001b[49m\n\u001b[0;32m    947\u001b[0m n_users, n_items \u001b[38;5;241m=\u001b[39m test_interactions\u001b[38;5;241m.\u001b[39mshape\n\u001b[0;32m    949\u001b[0m (user_features, item_features) \u001b[38;5;241m=\u001b[39m \u001b[38;5;28mself\u001b[39m\u001b[38;5;241m.\u001b[39m_construct_feature_matrices(\n\u001b[0;32m    950\u001b[0m     n_users, n_items, user_features, item_features\n\u001b[0;32m    951\u001b[0m )\n",
      "File \u001b[1;32mc:\\Users\\hanne\\OneDrive\\Openbaar\\Documenten\\TI(schoolmap)\\Data Engineering Project II\\DEP2-GROEP-1\\venv\\lib\\site-packages\\lightfm\\lightfm.py:878\u001b[0m, in \u001b[0;36mLightFM._check_test_train_intersections\u001b[1;34m(self, test_mat, train_mat)\u001b[0m\n\u001b[0;32m    876\u001b[0m n_intersections \u001b[38;5;241m=\u001b[39m test_mat\u001b[38;5;241m.\u001b[39mmultiply(train_mat)\u001b[38;5;241m.\u001b[39mnnz\n\u001b[0;32m    877\u001b[0m \u001b[38;5;28;01mif\u001b[39;00m n_intersections:\n\u001b[1;32m--> 878\u001b[0m     \u001b[38;5;28;01mraise\u001b[39;00m \u001b[38;5;167;01mValueError\u001b[39;00m(\n\u001b[0;32m    879\u001b[0m         \u001b[38;5;124m\"\u001b[39m\u001b[38;5;124mTest interactions matrix and train interactions \u001b[39m\u001b[38;5;124m\"\u001b[39m\n\u001b[0;32m    880\u001b[0m         \u001b[38;5;124m\"\u001b[39m\u001b[38;5;124mmatrix share \u001b[39m\u001b[38;5;132;01m%d\u001b[39;00m\u001b[38;5;124m interactions. This will cause \u001b[39m\u001b[38;5;124m\"\u001b[39m\n\u001b[0;32m    881\u001b[0m         \u001b[38;5;124m\"\u001b[39m\u001b[38;5;124mincorrect evaluation, check your data split.\u001b[39m\u001b[38;5;124m\"\u001b[39m \u001b[38;5;241m%\u001b[39m n_intersections\n\u001b[0;32m    882\u001b[0m     )\n",
      "\u001b[1;31mValueError\u001b[0m: Test interactions matrix and train interactions matrix share 534 interactions. This will cause incorrect evaluation, check your data split."
     ]
    }
   ],
   "source": [
    "train_history = {\n",
    "    'AUC': [],\n",
    "    'Precision': [],\n",
    "    'Recall': [],\n",
    "}\n",
    "\n",
    "test_history = {\n",
    "    'AUC': [],\n",
    "    'Precision': [],\n",
    "    'Recall': [],\n",
    "}\n",
    "\n",
    "best_score = 0\n",
    "\n",
    "for epoch in tqdm(range(NO_EPOCHS)):\n",
    "\n",
    "    model.fit_partial(\n",
    "        interactions=train_interactions,\n",
    "        user_features=user_features,\n",
    "        item_features=item_features,\n",
    "        epochs=1,\n",
    "        num_threads=NO_THREADS\n",
    "    )\n",
    "\n",
    "    train_precision, train_recall, train_auc = calculate_metrics(model, train_interactions, None, item_features, user_features, K)\n",
    "    test_precision, test_recall, test_auc = calculate_metrics(model, test_interactions, train_interactions,  item_features, user_features, K)\n",
    "\n",
    "    train_history['AUC'].append(train_auc)\n",
    "    train_history['Precision'].append(train_precision)\n",
    "    train_history['Recall'].append(train_recall)\n",
    "\n",
    "    test_history['AUC'].append(test_auc)\n",
    "    test_history['Precision'].append(test_precision)\n",
    "    test_history['Recall'].append(test_recall)\n",
    "\n",
    "    if test_auc > best_score:\n",
    "        best_score = test_auc\n",
    "        save_model(model)\n",
    "\n",
    "    print(f'Epoch {epoch + 1}/{NO_EPOCHS}, Train auc: {train_auc}, Test auc: {test_auc}')"
   ]
  }
 ],
 "metadata": {
  "kernelspec": {
   "display_name": "venv",
   "language": "python",
   "name": "python3"
  },
  "language_info": {
   "codemirror_mode": {
    "name": "ipython",
    "version": 3
   },
   "file_extension": ".py",
   "mimetype": "text/x-python",
   "name": "python",
   "nbconvert_exporter": "python",
   "pygments_lexer": "ipython3",
   "version": "3.10.7"
  }
 },
 "nbformat": 4,
 "nbformat_minor": 2
}

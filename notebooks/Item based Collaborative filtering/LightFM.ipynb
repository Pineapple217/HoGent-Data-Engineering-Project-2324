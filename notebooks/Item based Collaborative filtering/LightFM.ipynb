{
 "cells": [
  {
   "cell_type": "markdown",
   "metadata": {},
   "source": [
    "# LightFM hybrid recommender system"
   ]
  },
  {
   "cell_type": "markdown",
   "metadata": {},
   "source": [
    "Uitgewerkt maar ruw concept van een hybride recommender system met LightFM. Het model heeft last van slechte performantie. \n",
    "\n",
    "Iets om te proberen: [GitHub Issue](https://github.com/lyst/lightfm/issues/297)"
   ]
  },
  {
   "cell_type": "markdown",
   "metadata": {},
   "source": [
    "[Artikel LightFM](https://medium.com/@speedfirefox1/games-recommender-system-using-lightfm-on-steam-dataset-76b05de4c187)\n",
    "\n",
    "[Documentatie LightFM](https://making.lyst.com/lightfm/docs/index.html)"
   ]
  },
  {
   "cell_type": "code",
   "execution_count": 1,
   "metadata": {},
   "outputs": [
    {
     "name": "stderr",
     "output_type": "stream",
     "text": [
      "c:\\Users\\hanne\\OneDrive\\Openbaar\\Documenten\\TI(schoolmap)\\Data Engineering Project II\\DEP2-GROEP-1\\venv\\lib\\site-packages\\lightfm\\_lightfm_fast.py:9: UserWarning: LightFM was compiled without OpenMP support. Only a single thread will be used.\n",
      "  warnings.warn(\n"
     ]
    },
    {
     "name": "stdout",
     "output_type": "stream",
     "text": [
      "LightFM version: 1.17\n"
     ]
    }
   ],
   "source": [
    "import os\n",
    "import sqlalchemy\n",
    "from dotenv import load_dotenv\n",
    "from sqlalchemy import create_engine, text\n",
    "\n",
    "import pandas as pd\n",
    "import numpy as np\n",
    "import pickle\n",
    "from tqdm import tqdm\n",
    "import sys\n",
    "sys.path.append('..')\n",
    "\n",
    "# pip install lightfm\n",
    "import lightfm\n",
    "from lightfm import LightFM\n",
    "from lightfm.data import Dataset\n",
    "from lightfm import cross_validation, evaluation\n",
    "\n",
    "print(\"LightFM version: {}\".format(lightfm.__version__))"
   ]
  },
  {
   "cell_type": "code",
   "execution_count": 2,
   "metadata": {},
   "outputs": [
    {
     "name": "stdout",
     "output_type": "stream",
     "text": [
      "Successfully connected to the database\n",
      "SQLAlchemy version: 2.0.21\n"
     ]
    }
   ],
   "source": [
    "load_dotenv()\n",
    "DB_URL = os.getenv(\"DB_URL\")\n",
    "engine = create_engine(DB_URL)\n",
    "\n",
    "try:\n",
    "    connection = engine.connect()\n",
    "    print(\"Successfully connected to the database\")\n",
    "except Exception as e:\n",
    "    print(f\"Failed to connect to the database: {e}\")\n",
    "\n",
    "print(f\"SQLAlchemy version: {sqlalchemy.__version__}\")"
   ]
  },
  {
   "cell_type": "code",
   "execution_count": 3,
   "metadata": {},
   "outputs": [
    {
     "data": {
      "text/html": [
       "<div>\n",
       "<style scoped>\n",
       "    .dataframe tbody tr th:only-of-type {\n",
       "        vertical-align: middle;\n",
       "    }\n",
       "\n",
       "    .dataframe tbody tr th {\n",
       "        vertical-align: top;\n",
       "    }\n",
       "\n",
       "    .dataframe thead th {\n",
       "        text-align: right;\n",
       "    }\n",
       "</style>\n",
       "<table border=\"1\" class=\"dataframe\">\n",
       "  <thead>\n",
       "    <tr style=\"text-align: right;\">\n",
       "      <th></th>\n",
       "      <th>PersoonId</th>\n",
       "      <th>CampagneId</th>\n",
       "      <th>aantal_sessies</th>\n",
       "      <th>aantal_bezoeken</th>\n",
       "      <th>SessieThema</th>\n",
       "      <th>SoortCampagne</th>\n",
       "      <th>TypeCampagne</th>\n",
       "      <th>ThemaDuurzaamheid</th>\n",
       "      <th>ThemaFinancieelFiscaal</th>\n",
       "      <th>ThemaInnovatie</th>\n",
       "      <th>ThemaInternationaalOndernemen</th>\n",
       "      <th>ThemaMobiliteit</th>\n",
       "      <th>ThemaOmgeving</th>\n",
       "      <th>ThemaSalesMarketingCommunicatie</th>\n",
       "      <th>ThemaStrategieEnAlgemeenManagement</th>\n",
       "      <th>ThemaTalent</th>\n",
       "      <th>ThemaWelzijn</th>\n",
       "    </tr>\n",
       "  </thead>\n",
       "  <tbody>\n",
       "    <tr>\n",
       "      <th>0</th>\n",
       "      <td>BEDEC9C4-5369-E111-B43A-00505680000A</td>\n",
       "      <td>80DA579E-E5CC-EB11-8120-001DD8B72B61</td>\n",
       "      <td>1</td>\n",
       "      <td>0</td>\n",
       "      <td>Algemeen Management</td>\n",
       "      <td>Offline</td>\n",
       "      <td>Netwerkevenement</td>\n",
       "      <td>0</td>\n",
       "      <td>0</td>\n",
       "      <td>0</td>\n",
       "      <td>0</td>\n",
       "      <td>0</td>\n",
       "      <td>0</td>\n",
       "      <td>0</td>\n",
       "      <td>0</td>\n",
       "      <td>0</td>\n",
       "      <td>0</td>\n",
       "    </tr>\n",
       "    <tr>\n",
       "      <th>1</th>\n",
       "      <td>4F9EF02B-72A9-EA11-8110-001DD8B72B61</td>\n",
       "      <td>CF6BAEF3-EDC4-EA11-8111-001DD8B72B61</td>\n",
       "      <td>1</td>\n",
       "      <td>0</td>\n",
       "      <td>Internationaal Ondernemen</td>\n",
       "      <td>Online</td>\n",
       "      <td>Opleiding</td>\n",
       "      <td>0</td>\n",
       "      <td>0</td>\n",
       "      <td>0</td>\n",
       "      <td>0</td>\n",
       "      <td>0</td>\n",
       "      <td>0</td>\n",
       "      <td>0</td>\n",
       "      <td>0</td>\n",
       "      <td>0</td>\n",
       "      <td>0</td>\n",
       "    </tr>\n",
       "    <tr>\n",
       "      <th>2</th>\n",
       "      <td>A2805188-7369-E111-B43A-00505680000A</td>\n",
       "      <td>8140AAA9-213A-EB11-8118-001DD8B72B62</td>\n",
       "      <td>11</td>\n",
       "      <td>0</td>\n",
       "      <td>Algemeen Management</td>\n",
       "      <td>Offline</td>\n",
       "      <td>Project</td>\n",
       "      <td>0</td>\n",
       "      <td>0</td>\n",
       "      <td>0</td>\n",
       "      <td>0</td>\n",
       "      <td>0</td>\n",
       "      <td>0</td>\n",
       "      <td>0</td>\n",
       "      <td>0</td>\n",
       "      <td>0</td>\n",
       "      <td>0</td>\n",
       "    </tr>\n",
       "    <tr>\n",
       "      <th>3</th>\n",
       "      <td>6B7AE2BA-4669-E111-B43A-00505680000A</td>\n",
       "      <td>317CD023-2B1E-ED11-B83D-000D3AAD783A</td>\n",
       "      <td>1</td>\n",
       "      <td>1</td>\n",
       "      <td>Jong Voka</td>\n",
       "      <td>Offline</td>\n",
       "      <td>Netwerkevenement</td>\n",
       "      <td>1</td>\n",
       "      <td>1</td>\n",
       "      <td>1</td>\n",
       "      <td>1</td>\n",
       "      <td>1</td>\n",
       "      <td>1</td>\n",
       "      <td>1</td>\n",
       "      <td>1</td>\n",
       "      <td>1</td>\n",
       "      <td>1</td>\n",
       "    </tr>\n",
       "    <tr>\n",
       "      <th>4</th>\n",
       "      <td>0922DBF5-AD67-E111-A00F-00505680000A</td>\n",
       "      <td>FCB9F43A-CDC7-E811-80F7-001DD8B72B61</td>\n",
       "      <td>1</td>\n",
       "      <td>0</td>\n",
       "      <td>Groeien</td>\n",
       "      <td>Offline</td>\n",
       "      <td>Project</td>\n",
       "      <td>0</td>\n",
       "      <td>0</td>\n",
       "      <td>0</td>\n",
       "      <td>0</td>\n",
       "      <td>0</td>\n",
       "      <td>0</td>\n",
       "      <td>0</td>\n",
       "      <td>0</td>\n",
       "      <td>0</td>\n",
       "      <td>0</td>\n",
       "    </tr>\n",
       "  </tbody>\n",
       "</table>\n",
       "</div>"
      ],
      "text/plain": [
       "                              PersoonId                            CampagneId  \\\n",
       "0  BEDEC9C4-5369-E111-B43A-00505680000A  80DA579E-E5CC-EB11-8120-001DD8B72B61   \n",
       "1  4F9EF02B-72A9-EA11-8110-001DD8B72B61  CF6BAEF3-EDC4-EA11-8111-001DD8B72B61   \n",
       "2  A2805188-7369-E111-B43A-00505680000A  8140AAA9-213A-EB11-8118-001DD8B72B62   \n",
       "3  6B7AE2BA-4669-E111-B43A-00505680000A  317CD023-2B1E-ED11-B83D-000D3AAD783A   \n",
       "4  0922DBF5-AD67-E111-A00F-00505680000A  FCB9F43A-CDC7-E811-80F7-001DD8B72B61   \n",
       "\n",
       "   aantal_sessies  aantal_bezoeken                SessieThema SoortCampagne  \\\n",
       "0               1                0        Algemeen Management       Offline   \n",
       "1               1                0  Internationaal Ondernemen        Online   \n",
       "2              11                0        Algemeen Management       Offline   \n",
       "3               1                1                  Jong Voka       Offline   \n",
       "4               1                0                    Groeien       Offline   \n",
       "\n",
       "       TypeCampagne  ThemaDuurzaamheid  ThemaFinancieelFiscaal  \\\n",
       "0  Netwerkevenement                  0                       0   \n",
       "1         Opleiding                  0                       0   \n",
       "2           Project                  0                       0   \n",
       "3  Netwerkevenement                  1                       1   \n",
       "4           Project                  0                       0   \n",
       "\n",
       "   ThemaInnovatie  ThemaInternationaalOndernemen  ThemaMobiliteit  \\\n",
       "0               0                              0                0   \n",
       "1               0                              0                0   \n",
       "2               0                              0                0   \n",
       "3               1                              1                1   \n",
       "4               0                              0                0   \n",
       "\n",
       "   ThemaOmgeving  ThemaSalesMarketingCommunicatie  \\\n",
       "0              0                                0   \n",
       "1              0                                0   \n",
       "2              0                                0   \n",
       "3              1                                1   \n",
       "4              0                                0   \n",
       "\n",
       "   ThemaStrategieEnAlgemeenManagement  ThemaTalent  ThemaWelzijn  \n",
       "0                                   0            0             0  \n",
       "1                                   0            0             0  \n",
       "2                                   0            0             0  \n",
       "3                                   1            1             1  \n",
       "4                                   0            0             0  "
      ]
     },
     "execution_count": 3,
     "metadata": {},
     "output_type": "execute_result"
    }
   ],
   "source": [
    "# materialized view\n",
    "query = text('SELECT * FROM epic_5')\n",
    "\n",
    "try:\n",
    "    df = pd.read_sql_query(query, connection)\n",
    "except Exception as e:\n",
    "    print(f\"Failed to execute query: {e}\")\n",
    "\n",
    "df.head()"
   ]
  },
  {
   "cell_type": "code",
   "execution_count": 4,
   "metadata": {},
   "outputs": [
    {
     "name": "stdout",
     "output_type": "stream",
     "text": [
      "<class 'pandas.core.frame.DataFrame'>\n",
      "RangeIndex: 52567 entries, 0 to 52566\n",
      "Data columns (total 17 columns):\n",
      " #   Column                              Non-Null Count  Dtype \n",
      "---  ------                              --------------  ----- \n",
      " 0   PersoonId                           52567 non-null  object\n",
      " 1   CampagneId                          52567 non-null  object\n",
      " 2   aantal_sessies                      52567 non-null  int64 \n",
      " 3   aantal_bezoeken                     52567 non-null  int64 \n",
      " 4   SessieThema                         52567 non-null  object\n",
      " 5   SoortCampagne                       52567 non-null  object\n",
      " 6   TypeCampagne                        52567 non-null  object\n",
      " 7   ThemaDuurzaamheid                   52567 non-null  int64 \n",
      " 8   ThemaFinancieelFiscaal              52567 non-null  int64 \n",
      " 9   ThemaInnovatie                      52567 non-null  int64 \n",
      " 10  ThemaInternationaalOndernemen       52567 non-null  int64 \n",
      " 11  ThemaMobiliteit                     52567 non-null  int64 \n",
      " 12  ThemaOmgeving                       52567 non-null  int64 \n",
      " 13  ThemaSalesMarketingCommunicatie     52567 non-null  int64 \n",
      " 14  ThemaStrategieEnAlgemeenManagement  52567 non-null  int64 \n",
      " 15  ThemaTalent                         52567 non-null  int64 \n",
      " 16  ThemaWelzijn                        52567 non-null  int64 \n",
      "dtypes: int64(12), object(5)\n",
      "memory usage: 6.8+ MB\n"
     ]
    }
   ],
   "source": [
    "df.info()"
   ]
  },
  {
   "cell_type": "code",
   "execution_count": 5,
   "metadata": {},
   "outputs": [],
   "source": [
    "df['ThemaDuurzaamheid'] = df['ThemaDuurzaamheid'].replace({0: 'False', 1: 'True'})\n",
    "df['ThemaFinancieelFiscaal'] = df['ThemaFinancieelFiscaal'].replace({0: 'False', 1: 'True'})\n",
    "df['ThemaInnovatie'] = df['ThemaInnovatie'].replace({0: 'False', 1: 'True'})\n",
    "df['ThemaInternationaalOndernemen'] = df['ThemaInternationaalOndernemen'].replace({0: 'False', 1: 'True'})\n",
    "df['ThemaMobiliteit'] = df['ThemaMobiliteit'].replace({0: 'False', 1: 'True'})\n",
    "df['ThemaOmgeving'] = df['ThemaOmgeving'].replace({0: 'False', 1: 'True'})\n",
    "df['ThemaSalesMarketingCommunicatie'] = df['ThemaSalesMarketingCommunicatie'].replace({0: 'False', 1: 'True'})\n",
    "df['ThemaStrategieEnAlgemeenManagement'] = df['ThemaStrategieEnAlgemeenManagement'].replace({0: 'False', 1: 'True'})\n",
    "df['ThemaTalent'] = df['ThemaTalent'].replace({0: 'False', 1: 'True'})\n",
    "df['ThemaWelzijn'] = df['ThemaWelzijn'].replace({0: 'False', 1: 'True'})"
   ]
  },
  {
   "cell_type": "code",
   "execution_count": 6,
   "metadata": {},
   "outputs": [],
   "source": [
    "df.drop('aantal_bezoeken', axis=1, inplace=True)"
   ]
  },
  {
   "cell_type": "code",
   "execution_count": 7,
   "metadata": {},
   "outputs": [
    {
     "data": {
      "text/html": [
       "<div>\n",
       "<style scoped>\n",
       "    .dataframe tbody tr th:only-of-type {\n",
       "        vertical-align: middle;\n",
       "    }\n",
       "\n",
       "    .dataframe tbody tr th {\n",
       "        vertical-align: top;\n",
       "    }\n",
       "\n",
       "    .dataframe thead th {\n",
       "        text-align: right;\n",
       "    }\n",
       "</style>\n",
       "<table border=\"1\" class=\"dataframe\">\n",
       "  <thead>\n",
       "    <tr style=\"text-align: right;\">\n",
       "      <th></th>\n",
       "      <th>PersoonId</th>\n",
       "      <th>CampagneId</th>\n",
       "      <th>aantal_sessies</th>\n",
       "      <th>SessieThema</th>\n",
       "      <th>SoortCampagne</th>\n",
       "      <th>TypeCampagne</th>\n",
       "      <th>ThemaDuurzaamheid</th>\n",
       "      <th>ThemaFinancieelFiscaal</th>\n",
       "      <th>ThemaInnovatie</th>\n",
       "      <th>ThemaInternationaalOndernemen</th>\n",
       "      <th>ThemaMobiliteit</th>\n",
       "      <th>ThemaOmgeving</th>\n",
       "      <th>ThemaSalesMarketingCommunicatie</th>\n",
       "      <th>ThemaStrategieEnAlgemeenManagement</th>\n",
       "      <th>ThemaTalent</th>\n",
       "      <th>ThemaWelzijn</th>\n",
       "    </tr>\n",
       "  </thead>\n",
       "  <tbody>\n",
       "    <tr>\n",
       "      <th>0</th>\n",
       "      <td>BEDEC9C4-5369-E111-B43A-00505680000A</td>\n",
       "      <td>80DA579E-E5CC-EB11-8120-001DD8B72B61</td>\n",
       "      <td>1</td>\n",
       "      <td>Algemeen Management</td>\n",
       "      <td>Offline</td>\n",
       "      <td>Netwerkevenement</td>\n",
       "      <td>False</td>\n",
       "      <td>False</td>\n",
       "      <td>False</td>\n",
       "      <td>False</td>\n",
       "      <td>False</td>\n",
       "      <td>False</td>\n",
       "      <td>False</td>\n",
       "      <td>False</td>\n",
       "      <td>False</td>\n",
       "      <td>False</td>\n",
       "    </tr>\n",
       "    <tr>\n",
       "      <th>1</th>\n",
       "      <td>4F9EF02B-72A9-EA11-8110-001DD8B72B61</td>\n",
       "      <td>CF6BAEF3-EDC4-EA11-8111-001DD8B72B61</td>\n",
       "      <td>1</td>\n",
       "      <td>Internationaal Ondernemen</td>\n",
       "      <td>Online</td>\n",
       "      <td>Opleiding</td>\n",
       "      <td>False</td>\n",
       "      <td>False</td>\n",
       "      <td>False</td>\n",
       "      <td>False</td>\n",
       "      <td>False</td>\n",
       "      <td>False</td>\n",
       "      <td>False</td>\n",
       "      <td>False</td>\n",
       "      <td>False</td>\n",
       "      <td>False</td>\n",
       "    </tr>\n",
       "    <tr>\n",
       "      <th>2</th>\n",
       "      <td>A2805188-7369-E111-B43A-00505680000A</td>\n",
       "      <td>8140AAA9-213A-EB11-8118-001DD8B72B62</td>\n",
       "      <td>11</td>\n",
       "      <td>Algemeen Management</td>\n",
       "      <td>Offline</td>\n",
       "      <td>Project</td>\n",
       "      <td>False</td>\n",
       "      <td>False</td>\n",
       "      <td>False</td>\n",
       "      <td>False</td>\n",
       "      <td>False</td>\n",
       "      <td>False</td>\n",
       "      <td>False</td>\n",
       "      <td>False</td>\n",
       "      <td>False</td>\n",
       "      <td>False</td>\n",
       "    </tr>\n",
       "    <tr>\n",
       "      <th>3</th>\n",
       "      <td>6B7AE2BA-4669-E111-B43A-00505680000A</td>\n",
       "      <td>317CD023-2B1E-ED11-B83D-000D3AAD783A</td>\n",
       "      <td>1</td>\n",
       "      <td>Jong Voka</td>\n",
       "      <td>Offline</td>\n",
       "      <td>Netwerkevenement</td>\n",
       "      <td>True</td>\n",
       "      <td>True</td>\n",
       "      <td>True</td>\n",
       "      <td>True</td>\n",
       "      <td>True</td>\n",
       "      <td>True</td>\n",
       "      <td>True</td>\n",
       "      <td>True</td>\n",
       "      <td>True</td>\n",
       "      <td>True</td>\n",
       "    </tr>\n",
       "    <tr>\n",
       "      <th>4</th>\n",
       "      <td>0922DBF5-AD67-E111-A00F-00505680000A</td>\n",
       "      <td>FCB9F43A-CDC7-E811-80F7-001DD8B72B61</td>\n",
       "      <td>1</td>\n",
       "      <td>Groeien</td>\n",
       "      <td>Offline</td>\n",
       "      <td>Project</td>\n",
       "      <td>False</td>\n",
       "      <td>False</td>\n",
       "      <td>False</td>\n",
       "      <td>False</td>\n",
       "      <td>False</td>\n",
       "      <td>False</td>\n",
       "      <td>False</td>\n",
       "      <td>False</td>\n",
       "      <td>False</td>\n",
       "      <td>False</td>\n",
       "    </tr>\n",
       "  </tbody>\n",
       "</table>\n",
       "</div>"
      ],
      "text/plain": [
       "                              PersoonId                            CampagneId  \\\n",
       "0  BEDEC9C4-5369-E111-B43A-00505680000A  80DA579E-E5CC-EB11-8120-001DD8B72B61   \n",
       "1  4F9EF02B-72A9-EA11-8110-001DD8B72B61  CF6BAEF3-EDC4-EA11-8111-001DD8B72B61   \n",
       "2  A2805188-7369-E111-B43A-00505680000A  8140AAA9-213A-EB11-8118-001DD8B72B62   \n",
       "3  6B7AE2BA-4669-E111-B43A-00505680000A  317CD023-2B1E-ED11-B83D-000D3AAD783A   \n",
       "4  0922DBF5-AD67-E111-A00F-00505680000A  FCB9F43A-CDC7-E811-80F7-001DD8B72B61   \n",
       "\n",
       "   aantal_sessies                SessieThema SoortCampagne      TypeCampagne  \\\n",
       "0               1        Algemeen Management       Offline  Netwerkevenement   \n",
       "1               1  Internationaal Ondernemen        Online         Opleiding   \n",
       "2              11        Algemeen Management       Offline           Project   \n",
       "3               1                  Jong Voka       Offline  Netwerkevenement   \n",
       "4               1                    Groeien       Offline           Project   \n",
       "\n",
       "  ThemaDuurzaamheid ThemaFinancieelFiscaal ThemaInnovatie  \\\n",
       "0             False                  False          False   \n",
       "1             False                  False          False   \n",
       "2             False                  False          False   \n",
       "3              True                   True           True   \n",
       "4             False                  False          False   \n",
       "\n",
       "  ThemaInternationaalOndernemen ThemaMobiliteit ThemaOmgeving  \\\n",
       "0                         False           False         False   \n",
       "1                         False           False         False   \n",
       "2                         False           False         False   \n",
       "3                          True            True          True   \n",
       "4                         False           False         False   \n",
       "\n",
       "  ThemaSalesMarketingCommunicatie ThemaStrategieEnAlgemeenManagement  \\\n",
       "0                           False                              False   \n",
       "1                           False                              False   \n",
       "2                           False                              False   \n",
       "3                            True                               True   \n",
       "4                           False                              False   \n",
       "\n",
       "  ThemaTalent ThemaWelzijn  \n",
       "0       False        False  \n",
       "1       False        False  \n",
       "2       False        False  \n",
       "3        True         True  \n",
       "4       False        False  "
      ]
     },
     "execution_count": 7,
     "metadata": {},
     "output_type": "execute_result"
    }
   ],
   "source": [
    "df.head()"
   ]
  },
  {
   "cell_type": "code",
   "execution_count": 8,
   "metadata": {},
   "outputs": [
    {
     "name": "stdout",
     "output_type": "stream",
     "text": [
      "<class 'pandas.core.frame.DataFrame'>\n",
      "RangeIndex: 52567 entries, 0 to 52566\n",
      "Data columns (total 16 columns):\n",
      " #   Column                              Non-Null Count  Dtype \n",
      "---  ------                              --------------  ----- \n",
      " 0   PersoonId                           52567 non-null  object\n",
      " 1   CampagneId                          52567 non-null  object\n",
      " 2   aantal_sessies                      52567 non-null  int64 \n",
      " 3   SessieThema                         52567 non-null  object\n",
      " 4   SoortCampagne                       52567 non-null  object\n",
      " 5   TypeCampagne                        52567 non-null  object\n",
      " 6   ThemaDuurzaamheid                   52567 non-null  object\n",
      " 7   ThemaFinancieelFiscaal              52567 non-null  object\n",
      " 8   ThemaInnovatie                      52567 non-null  object\n",
      " 9   ThemaInternationaalOndernemen       52567 non-null  object\n",
      " 10  ThemaMobiliteit                     52567 non-null  object\n",
      " 11  ThemaOmgeving                       52567 non-null  object\n",
      " 12  ThemaSalesMarketingCommunicatie     52567 non-null  object\n",
      " 13  ThemaStrategieEnAlgemeenManagement  52567 non-null  object\n",
      " 14  ThemaTalent                         52567 non-null  object\n",
      " 15  ThemaWelzijn                        52567 non-null  object\n",
      "dtypes: int64(1), object(15)\n",
      "memory usage: 6.4+ MB\n"
     ]
    }
   ],
   "source": [
    "df.info()"
   ]
  },
  {
   "cell_type": "code",
   "execution_count": 9,
   "metadata": {},
   "outputs": [],
   "source": [
    "item_cols = ['SessieThema', 'SoortCampagne', 'TypeCampagne']\n",
    "user_cols = ['ThemaDuurzaamheid', 'ThemaFinancieelFiscaal', 'ThemaInnovatie', 'ThemaInternationaalOndernemen', 'ThemaMobiliteit', 'ThemaOmgeving', 'ThemaSalesMarketingCommunicatie', 'ThemaStrategieEnAlgemeenManagement', 'ThemaTalent', 'ThemaWelzijn']"
   ]
  },
  {
   "cell_type": "code",
   "execution_count": 10,
   "metadata": {},
   "outputs": [],
   "source": [
    "from lightfm.evaluation import precision_at_k\n",
    "from lightfm.evaluation import recall_at_k\n",
    "from lightfm.evaluation import auc_score\n",
    "\n",
    "def calculate_metrics(model, interactions, train, item_features, user_features, k):\n",
    "    precision = precision_at_k(model, interactions, train, item_features=item_features, user_features=user_features, k=k).mean()\n",
    "    recall = recall_at_k(model, interactions, train, item_features=item_features, user_features=user_features, k=k).mean()\n",
    "    auc = auc_score(model, interactions, train, item_features=item_features, user_features=user_features).mean()\n",
    "    return precision, recall, auc"
   ]
  },
  {
   "cell_type": "code",
   "execution_count": 11,
   "metadata": {},
   "outputs": [],
   "source": [
    "# default number of recommendations\n",
    "K = 10\n",
    "# percentage of data used for testing\n",
    "TEST_PERCENTAGE = 0.1\n",
    "# model learning rate\n",
    "LEARNING_RATE = 0.01\n",
    "# no of latent factors\n",
    "NO_COMPONENTS = 20\n",
    "# no of epochs to fit model\n",
    "NO_EPOCHS = 10\n",
    "# no of threads to fit model\n",
    "NO_THREADS = 8\n",
    "\n",
    "# regularisation for both user and item features\n",
    "ITEM_ALPHA = 0\n",
    "USER_ALPHA = 0\n",
    "\n",
    "checkpoint = 'lightFM_hybrid'\n",
    "# seed for pseudonumber generations\n",
    "SEED = 42"
   ]
  },
  {
   "cell_type": "code",
   "execution_count": 12,
   "metadata": {},
   "outputs": [],
   "source": [
    "all_item_features = np.concatenate([df[col].unique() for col in item_cols]).tolist()\n",
    "all_user_features = np.concatenate([df[col].unique() for col in user_cols]).tolist()"
   ]
  },
  {
   "cell_type": "code",
   "execution_count": 13,
   "metadata": {},
   "outputs": [
    {
     "name": "stdout",
     "output_type": "stream",
     "text": [
      "['Algemeen Management', 'Internationaal Ondernemen', 'Jong Voka', 'Groeien', 'Duurzaam Ondernemen', 'Arbeidsmarkt', 'Unknown', 'Netwerking', 'Human Resources', 'Starten', 'Innovatie', 'Marketing & Sales', 'Economie', 'Opvolging en Overname', 'Financieel', 'Opleidingen', 'Bryo', 'Digitalisering, IT & Technologie', 'Haven', 'Lidmaatschap', 'Ruimtelijke ordening en Infrastructuur', 'Strategie', 'Supply Chain', 'Logistiek en Transport', 'Welt 2.0', 'Energie', 'Welt', 'Communicatie', 'Mobiliteit', 'Familiebedrijven', 'Welt 2.0-2023', 'Juridisch', 'Milieu', 'Plato', 'Onderwijs', 'Veiligheid & Preventie', 'Coronavirus', 'Aankoop', 'Persoonlijke vaardigheden', 'Retail', 'Aantrekkelijke regio', 'Offline', 'Online', 'On en Offline', 'Netwerkevenement', 'Opleiding', 'Project', 'Projectgebonden', 'Infosessie', 'Campagne']\n",
      "['False', 'True', 'False', 'True', 'False', 'True', 'False', 'True', 'False', 'True', 'False', 'True', 'False', 'True', 'False', 'True', 'False', 'True', 'False', 'True']\n"
     ]
    }
   ],
   "source": [
    "print(all_item_features)\n",
    "print(all_user_features)"
   ]
  },
  {
   "cell_type": "code",
   "execution_count": 14,
   "metadata": {},
   "outputs": [],
   "source": [
    "dataset = Dataset()"
   ]
  },
  {
   "cell_type": "code",
   "execution_count": 15,
   "metadata": {},
   "outputs": [
    {
     "name": "stdout",
     "output_type": "stream",
     "text": [
      "Num users: 16688, num_items: 1979\n"
     ]
    }
   ],
   "source": [
    "dataset.fit(\n",
    "    users=df['PersoonId'].unique(),\n",
    "    items=df['CampagneId'].unique(),\n",
    "    user_features=all_user_features,\n",
    "    item_features=all_item_features\n",
    ")\n",
    "\n",
    "# quick check to determine the number of unique users and items in the data\n",
    "num_users, num_items = dataset.interactions_shape()\n",
    "print(f'Num users: {num_users}, num_items: {num_items}')"
   ]
  },
  {
   "cell_type": "code",
   "execution_count": 16,
   "metadata": {},
   "outputs": [],
   "source": [
    "df = df.groupby(['PersoonId', 'CampagneId'])['aantal_sessies'].sum().reset_index()"
   ]
  },
  {
   "cell_type": "code",
   "execution_count": 17,
   "metadata": {},
   "outputs": [],
   "source": [
    "(interactions, weights) = dataset.build_interactions(zip(df['PersoonId'], df['CampagneId'], df['aantal_sessies']))"
   ]
  },
  {
   "cell_type": "code",
   "execution_count": 18,
   "metadata": {},
   "outputs": [],
   "source": [
    "unique_campaign_ids = df['CampagneId'].unique()\n",
    "items = pd.DataFrame(columns=['CampagneId'])\n",
    "items['CampagneId'] = unique_campaign_ids\n",
    "\n",
    "unique_person_ids = df['PersoonId'].unique()\n",
    "users = pd.DataFrame(columns=['PersoonId'])\n",
    "users['PersoonId'] = unique_person_ids"
   ]
  },
  {
   "cell_type": "code",
   "execution_count": 19,
   "metadata": {},
   "outputs": [],
   "source": [
    "def item_feature_generator():\n",
    "    for i, row in items.iterrows():\n",
    "        features = row.values[2:-1]\n",
    "        yield (row['CampagneId'], features)\n",
    "\n",
    "def user_feature_generator():\n",
    "    for i, row in users.iterrows():\n",
    "        features = row.values[1:]\n",
    "        yield (row['PersoonId'], features)"
   ]
  },
  {
   "cell_type": "code",
   "execution_count": 20,
   "metadata": {},
   "outputs": [],
   "source": [
    "item_features = dataset.build_item_features((item_id, item_feature) for item_id, item_feature in item_feature_generator())\n",
    "user_features = dataset.build_user_features((user_id, user_feature) for user_id, user_feature in user_feature_generator())"
   ]
  },
  {
   "cell_type": "code",
   "execution_count": 21,
   "metadata": {},
   "outputs": [],
   "source": [
    "train_interactions, test_interactions = cross_validation.random_train_test_split(\n",
    "    interactions, test_percentage=TEST_PERCENTAGE,\n",
    "    random_state=np.random.RandomState(seed=SEED)\n",
    ")"
   ]
  },
  {
   "cell_type": "code",
   "execution_count": 22,
   "metadata": {},
   "outputs": [],
   "source": [
    "uids, iids, data_interaction = cross_validation._shuffle(interactions.row, interactions.col, interactions.data, np.random.RandomState(SEED))\n",
    "\n",
    "cutoff = int((1.0 - TEST_PERCENTAGE) * len(uids))\n",
    "test_idx = slice(cutoff, None)\n",
    "train_idx = slice(None, cutoff)\n",
    "\n",
    "test_uids, test_iids = uids[test_idx], iids[test_idx]\n",
    "train_uids, train_iids = uids[train_idx], iids[train_idx]"
   ]
  },
  {
   "cell_type": "code",
   "execution_count": 23,
   "metadata": {},
   "outputs": [
    {
     "name": "stdout",
     "output_type": "stream",
     "text": [
      "Shape of train interactions: (16688, 1979)\n",
      "Shape of test interactions: (16688, 1979)\n"
     ]
    }
   ],
   "source": [
    "print(f\"Shape of train interactions: {train_interactions.shape}\")\n",
    "print(f\"Shape of test interactions: {test_interactions.shape}\")"
   ]
  },
  {
   "cell_type": "code",
   "execution_count": 24,
   "metadata": {},
   "outputs": [],
   "source": [
    "model = LightFM(\n",
    "    no_components=10,\n",
    "    learning_rate=0.8,\n",
    "    random_state=np.random.RandomState(SEED),\n",
    "    loss='logistic',\n",
    "    item_alpha=ITEM_ALPHA,\n",
    "    user_alpha=USER_ALPHA\n",
    ")"
   ]
  },
  {
   "cell_type": "code",
   "execution_count": 25,
   "metadata": {},
   "outputs": [],
   "source": [
    "def save_model(model):\n",
    "    with open(f'{checkpoint}.pickle', 'wb') as fle:\n",
    "        pickle.dump(model, fle, protocol=pickle.HIGHEST_PROTOCOL)"
   ]
  },
  {
   "cell_type": "code",
   "execution_count": 26,
   "metadata": {},
   "outputs": [
    {
     "name": "stderr",
     "output_type": "stream",
     "text": [
      " 10%|█         | 1/10 [00:05<00:48,  5.36s/it]"
     ]
    },
    {
     "name": "stdout",
     "output_type": "stream",
     "text": [
      "Epoch 1/10, Train auc: 0.7965908646583557, Test auc: 0.77928227186203\n"
     ]
    },
    {
     "name": "stderr",
     "output_type": "stream",
     "text": [
      " 20%|██        | 2/10 [00:10<00:43,  5.41s/it]"
     ]
    },
    {
     "name": "stdout",
     "output_type": "stream",
     "text": [
      "Epoch 2/10, Train auc: 0.7988808751106262, Test auc: 0.7794249057769775\n"
     ]
    },
    {
     "name": "stderr",
     "output_type": "stream",
     "text": [
      " 30%|███       | 3/10 [00:16<00:37,  5.36s/it]"
     ]
    },
    {
     "name": "stdout",
     "output_type": "stream",
     "text": [
      "Epoch 3/10, Train auc: 0.8001651167869568, Test auc: 0.7794905304908752\n"
     ]
    },
    {
     "name": "stderr",
     "output_type": "stream",
     "text": [
      " 40%|████      | 4/10 [00:21<00:32,  5.37s/it]"
     ]
    },
    {
     "name": "stdout",
     "output_type": "stream",
     "text": [
      "Epoch 4/10, Train auc: 0.8010554909706116, Test auc: 0.7794992923736572\n"
     ]
    },
    {
     "name": "stderr",
     "output_type": "stream",
     "text": [
      " 50%|█████     | 5/10 [00:26<00:26,  5.34s/it]"
     ]
    },
    {
     "name": "stdout",
     "output_type": "stream",
     "text": [
      "Epoch 5/10, Train auc: 0.801746129989624, Test auc: 0.7794802188873291\n"
     ]
    },
    {
     "name": "stderr",
     "output_type": "stream",
     "text": [
      " 60%|██████    | 6/10 [00:32<00:21,  5.35s/it]"
     ]
    },
    {
     "name": "stdout",
     "output_type": "stream",
     "text": [
      "Epoch 6/10, Train auc: 0.8023055791854858, Test auc: 0.7794775366783142\n"
     ]
    },
    {
     "name": "stderr",
     "output_type": "stream",
     "text": [
      " 70%|███████   | 7/10 [00:37<00:16,  5.35s/it]"
     ]
    },
    {
     "name": "stdout",
     "output_type": "stream",
     "text": [
      "Epoch 7/10, Train auc: 0.8027992248535156, Test auc: 0.7794659733772278\n"
     ]
    },
    {
     "name": "stderr",
     "output_type": "stream",
     "text": [
      " 80%|████████  | 8/10 [00:42<00:10,  5.34s/it]"
     ]
    },
    {
     "name": "stdout",
     "output_type": "stream",
     "text": [
      "Epoch 8/10, Train auc: 0.8032350540161133, Test auc: 0.7794561386108398\n"
     ]
    },
    {
     "name": "stderr",
     "output_type": "stream",
     "text": [
      " 90%|█████████ | 9/10 [00:48<00:05,  5.33s/it]"
     ]
    },
    {
     "name": "stdout",
     "output_type": "stream",
     "text": [
      "Epoch 9/10, Train auc: 0.8036407232284546, Test auc: 0.7794396281242371\n"
     ]
    },
    {
     "name": "stderr",
     "output_type": "stream",
     "text": [
      "100%|██████████| 10/10 [00:53<00:00,  5.35s/it]"
     ]
    },
    {
     "name": "stdout",
     "output_type": "stream",
     "text": [
      "Epoch 10/10, Train auc: 0.8040143251419067, Test auc: 0.779437780380249\n"
     ]
    },
    {
     "name": "stderr",
     "output_type": "stream",
     "text": [
      "\n"
     ]
    }
   ],
   "source": [
    "train_history = {\n",
    "    'AUC': [],\n",
    "    'Precision': [],\n",
    "    'Recall': [],\n",
    "}\n",
    "\n",
    "test_history = {\n",
    "    'AUC': [],\n",
    "    'Precision': [],\n",
    "    'Recall': [],\n",
    "}\n",
    "\n",
    "best_score = 0\n",
    "\n",
    "for epoch in tqdm(range(NO_EPOCHS)):\n",
    "\n",
    "    model.fit_partial(\n",
    "        interactions=train_interactions,\n",
    "        user_features=user_features,\n",
    "        item_features=item_features,\n",
    "        epochs=1,\n",
    "        num_threads=NO_THREADS\n",
    "    )\n",
    "\n",
    "    train_precision, train_recall, train_auc = calculate_metrics(model, train_interactions, None, item_features, user_features, K)\n",
    "    test_precision, test_recall, test_auc = calculate_metrics(model, test_interactions, train_interactions,  item_features, user_features, K)\n",
    "\n",
    "    train_history['AUC'].append(train_auc)\n",
    "    train_history['Precision'].append(train_precision)\n",
    "    train_history['Recall'].append(train_recall)\n",
    "\n",
    "    test_history['AUC'].append(test_auc)\n",
    "    test_history['Precision'].append(test_precision)\n",
    "    test_history['Recall'].append(test_recall)\n",
    "\n",
    "    if test_auc > best_score:\n",
    "        best_score = test_auc\n",
    "        save_model(model)\n",
    "\n",
    "    print(f'Epoch {epoch + 1}/{NO_EPOCHS}, Train auc: {train_auc}, Test auc: {test_auc}')"
   ]
  },
  {
   "cell_type": "markdown",
   "metadata": {},
   "source": [
    "[Interpretatie metrics](https://stackoverflow.com/questions/45451161/evaluating-the-lightfm-recommendation-model/45466481#45466481)"
   ]
  },
  {
   "cell_type": "code",
   "execution_count": 27,
   "metadata": {},
   "outputs": [
    {
     "data": {
      "text/plain": [
       "0.77875996"
      ]
     },
     "execution_count": 27,
     "metadata": {},
     "output_type": "execute_result"
    }
   ],
   "source": [
    "auc = lightfm.evaluation.auc_score(model, test_interactions, user_features=user_features, item_features=item_features).mean()\n",
    "auc"
   ]
  },
  {
   "cell_type": "code",
   "execution_count": 28,
   "metadata": {},
   "outputs": [
    {
     "data": {
      "text/plain": [
       "0.020615723"
      ]
     },
     "execution_count": 28,
     "metadata": {},
     "output_type": "execute_result"
    }
   ],
   "source": [
    "precision = lightfm.evaluation.precision_at_k(model, test_interactions, user_features=user_features, item_features=item_features, k=1).mean()\n",
    "precision"
   ]
  },
  {
   "cell_type": "code",
   "execution_count": 29,
   "metadata": {},
   "outputs": [
    {
     "data": {
      "text/plain": [
       "0.014898295766904894"
      ]
     },
     "execution_count": 29,
     "metadata": {},
     "output_type": "execute_result"
    }
   ],
   "source": [
    "recall = lightfm.evaluation.recall_at_k(model, test_interactions, user_features=user_features, item_features=item_features, k=1).mean()\n",
    "recall"
   ]
  },
  {
   "cell_type": "code",
   "execution_count": 30,
   "metadata": {},
   "outputs": [
    {
     "name": "stdout",
     "output_type": "stream",
     "text": [
      "Shape of interactions matrix: (16688, 1979)\n",
      "Number of non-zero elements: 48724\n",
      "Number of unique users: 16688\n",
      "Number of unique items: 1979\n",
      "Shape of train interactions: (16688, 1979)\n",
      "Shape of test interactions: (16688, 1979)\n",
      "Number of users in test set: 4873\n",
      "Number of items in test set: 4873\n",
      "Number of non-zero elements in train interactions: 43851\n",
      "Number of non-zero elements in test interactions: 4873\n"
     ]
    }
   ],
   "source": [
    "print(f\"Shape of interactions matrix: {interactions.shape}\")\n",
    "print(f\"Number of non-zero elements: {interactions.nnz}\")\n",
    "print(f'Number of unique users: {len(unique_person_ids)}')\n",
    "print(f'Number of unique items: {len(unique_campaign_ids)}')\n",
    "print(f\"Shape of train interactions: {train_interactions.shape}\")\n",
    "print(f\"Shape of test interactions: {test_interactions.shape}\")\n",
    "print(f\"Number of users in test set: {len(test_uids)}\")\n",
    "print(f\"Number of items in test set: {len(test_iids)}\")\n",
    "print(f\"Number of non-zero elements in train interactions: {train_interactions.nnz}\")\n",
    "print(f\"Number of non-zero elements in test interactions: {test_interactions.nnz}\")\n"
   ]
  },
  {
   "cell_type": "code",
   "execution_count": 31,
   "metadata": {},
   "outputs": [
    {
     "name": "stdout",
     "output_type": "stream",
     "text": [
      "Top 5 recommended items for user: ['EA3C6FE0-758E-E811-80F3-001DD8B72B61', '317CD023-2B1E-ED11-B83D-000D3AAD783A', 'A82B1F58-6CE3-E911-8106-001DD8B72B62', 'A2F63005-8EA8-ED11-AAD1-6045BD895D85', '2D2494E9-0822-E811-80F0-001DD8B72B61']\n"
     ]
    }
   ],
   "source": [
    "# Get the internal ID of the user\n",
    "user_id_internal = dataset.mapping()[0]['6E42A199-9F70-E911-80FE-001DD8B72B62']\n",
    "\n",
    "# Get the internal IDs of all items\n",
    "item_ids_internal = np.array(list(dataset.mapping()[2].values()))\n",
    "\n",
    "# Predict the scores for all items for the user\n",
    "scores = model.predict(user_id_internal, item_ids_internal)\n",
    "\n",
    "# Get the indices of the top 5 items\n",
    "top_items_indices = np.argsort(-scores)[:5]\n",
    "\n",
    "# Get the external IDs of the top 5 items\n",
    "top_items_ids = [list(dataset.mapping()[2].keys())[i] for i in top_items_indices]\n",
    "\n",
    "print(f'Top 5 recommended items for user: {top_items_ids}')"
   ]
  },
  {
   "cell_type": "code",
   "execution_count": 32,
   "metadata": {},
   "outputs": [
    {
     "name": "stdout",
     "output_type": "stream",
     "text": [
      "Top 5 recommended users for item: ['C1690BC1-EB67-E111-A00F-00505680000A', '4E75FE53-C567-E711-80E8-001DD8B72B61', '6DEC4D09-6469-E111-B43A-00505680000A', '1040620F-5769-E111-B43A-00505680000A', 'C9B9C7A3-AE67-E111-A00F-00505680000A']\n"
     ]
    }
   ],
   "source": [
    "# Assuming `model` is your trained model, and `dataset` is your LightFM Dataset object\n",
    "\n",
    "# Get the internal ID of the item\n",
    "item_id_internal = dataset.mapping()[2]['EA3C6FE0-758E-E811-80F3-001DD8B72B61']\n",
    "\n",
    "# Get the internal IDs of all users\n",
    "user_ids_internal = np.array(list(dataset.mapping()[0].values()))\n",
    "\n",
    "# Predict the scores for all users for the item\n",
    "scores = model.predict(user_ids_internal, np.repeat(item_id_internal, len(user_ids_internal)))\n",
    "\n",
    "# Get the indices of the top 5 users\n",
    "top_users_indices = np.argsort(-scores)[:5]\n",
    "\n",
    "# Get the external IDs of the top 5 users\n",
    "top_users_ids = [list(dataset.mapping()[0].keys())[i] for i in top_users_indices]\n",
    "\n",
    "print(f'Top 5 recommended users for item: {top_users_ids}')"
   ]
  }
 ],
 "metadata": {
  "kernelspec": {
   "display_name": "venv",
   "language": "python",
   "name": "python3"
  },
  "language_info": {
   "codemirror_mode": {
    "name": "ipython",
    "version": 3
   },
   "file_extension": ".py",
   "mimetype": "text/x-python",
   "name": "python",
   "nbconvert_exporter": "python",
   "pygments_lexer": "ipython3",
   "version": "3.10.7"
  }
 },
 "nbformat": 4,
 "nbformat_minor": 2
}

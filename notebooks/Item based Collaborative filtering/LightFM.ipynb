{
 "cells": [
  {
   "cell_type": "markdown",
   "metadata": {},
   "source": [
    "# LightFM model epic 5"
   ]
  },
  {
   "cell_type": "markdown",
   "metadata": {},
   "source": [
    "Deze notebook implementeert een hybride LightFM aanbevelingssysteem met zowel item- als gebruikerskenmerken. Deze kenmerken worden gebruikt om cold start problemen aan te pakken, zodat nieuwe gebruikers en items kunnen worden aanbevolen. Data wordt geladen vanuit een materialized view en zorgvuldig voorbereid voor gebruik in het model. Het model wordt getraind en voornamelijk geëvalueerd op basis van de AUC-score. AUC berekent de kans dat een willekeurig gekozen relevant item hoger scoort dan een willekeurig gekozen irrelevant item. Een hoge AUC-score betekent dat het model beter is in het voorspellen van relevante items en dus een goed aanbevelingssysteem vormt. \n",
    "\n",
    "Hier heeft het hybride model een lagere AUC-score (0.64) dan een zuiver collaboratief filteringmodel (0.78). Dit is waarschijnlijk te wijten aan het feit dat de kenmerken niet zo informatief blijken te zijn, vooral de thema's in de gebruikerskenmerken. Het is echter mogelijk dat het model beter presteert als de kenmerken worden verbeterd. De hybrid wordt toch verkozen boven het collaboratief filteringmodel omdat het model meer flexibiliteit biedt en *cold start* problemen aanpakt. De kenmerken kunnen eventueel in det toekomst verbeterd worden binnen de datacollectie zelf, en kunnen desnoods verwijderd worden."
   ]
  },
  {
   "cell_type": "markdown",
   "metadata": {},
   "source": [
    "## 0. Documentatie"
   ]
  },
  {
   "cell_type": "markdown",
   "metadata": {},
   "source": [
    "[Artikel LightFM](https://medium.com/@speedfirefox1/games-recommender-system-using-lightfm-on-steam-dataset-76b05de4c187)\n",
    "\n",
    "[Documentatie LightFM](https://making.lyst.com/lightfm/docs/index.html)"
   ]
  },
  {
   "cell_type": "markdown",
   "metadata": {},
   "source": [
    "## 1. Imports"
   ]
  },
  {
   "cell_type": "code",
   "execution_count": 159,
   "metadata": {},
   "outputs": [],
   "source": [
    "import os\n",
    "import pickle\n",
    "import sqlalchemy\n",
    "import numpy as np\n",
    "import pandas as pd\n",
    "from tqdm import tqdm\n",
    "from dotenv import load_dotenv\n",
    "from lightfm.data import Dataset\n",
    "from lightfm.evaluation import auc_score\n",
    "from sqlalchemy import create_engine, text\n",
    "from lightfm.evaluation import recall_at_k\n",
    "from lightfm.evaluation import precision_at_k\n",
    "from lightfm import LightFM, cross_validation"
   ]
  },
  {
   "cell_type": "markdown",
   "metadata": {},
   "source": [
    "## 2. Variabelen"
   ]
  },
  {
   "cell_type": "code",
   "execution_count": 160,
   "metadata": {},
   "outputs": [],
   "source": [
    "# LightFM model parameters\n",
    "SEED = 42\n",
    "NO_THREADS = 8\n",
    "NO_EPOCHS = 15\n",
    "NO_COMPONENTS = 20\n",
    "TEST_PERCENTAGE = 0.1\n",
    "LEARNING_RATE = 0.2\n",
    "ITEM_ALPHA = 1e-7\n",
    "USER_ALPHA = 1e-7\n",
    "LOSS = 'logistic'\n",
    "# Pickle\n",
    "CHECKPOINT = 'LightFM'"
   ]
  },
  {
   "cell_type": "markdown",
   "metadata": {},
   "source": [
    "## 3. Data inladen"
   ]
  },
  {
   "cell_type": "code",
   "execution_count": 161,
   "metadata": {},
   "outputs": [
    {
     "name": "stdout",
     "output_type": "stream",
     "text": [
      "Successfully connected to the database\n",
      "SQLAlchemy version: 2.0.21\n"
     ]
    }
   ],
   "source": [
    "load_dotenv()\n",
    "DB_URL = os.getenv(\"DB_URL\")\n",
    "engine = create_engine(DB_URL)\n",
    "\n",
    "try:\n",
    "    connection = engine.connect()\n",
    "    print(\"Successfully connected to the database\")\n",
    "except Exception as e:\n",
    "    print(f\"Failed to connect to the database: {e}\")\n",
    "\n",
    "print(f\"SQLAlchemy version: {sqlalchemy.__version__}\")"
   ]
  },
  {
   "cell_type": "code",
   "execution_count": 162,
   "metadata": {},
   "outputs": [
    {
     "data": {
      "text/html": [
       "<div>\n",
       "<style scoped>\n",
       "    .dataframe tbody tr th:only-of-type {\n",
       "        vertical-align: middle;\n",
       "    }\n",
       "\n",
       "    .dataframe tbody tr th {\n",
       "        vertical-align: top;\n",
       "    }\n",
       "\n",
       "    .dataframe thead th {\n",
       "        text-align: right;\n",
       "    }\n",
       "</style>\n",
       "<table border=\"1\" class=\"dataframe\">\n",
       "  <thead>\n",
       "    <tr style=\"text-align: right;\">\n",
       "      <th></th>\n",
       "      <th>PersoonId</th>\n",
       "      <th>CampagneId</th>\n",
       "      <th>aantal_sessies</th>\n",
       "      <th>aantal_bezoeken</th>\n",
       "      <th>SessieThema</th>\n",
       "      <th>SoortCampagne</th>\n",
       "      <th>TypeCampagne</th>\n",
       "      <th>ThemaDuurzaamheid</th>\n",
       "      <th>ThemaFinancieelFiscaal</th>\n",
       "      <th>ThemaInnovatie</th>\n",
       "      <th>ThemaInternationaalOndernemen</th>\n",
       "      <th>ThemaMobiliteit</th>\n",
       "      <th>ThemaOmgeving</th>\n",
       "      <th>ThemaSalesMarketingCommunicatie</th>\n",
       "      <th>ThemaStrategieEnAlgemeenManagement</th>\n",
       "      <th>ThemaTalent</th>\n",
       "      <th>ThemaWelzijn</th>\n",
       "    </tr>\n",
       "  </thead>\n",
       "  <tbody>\n",
       "    <tr>\n",
       "      <th>0</th>\n",
       "      <td>48861E28-47C2-ED11-83FF-6045BD895554</td>\n",
       "      <td>077BE55D-545F-ED11-9561-6045BD8956C9</td>\n",
       "      <td>1</td>\n",
       "      <td>0</td>\n",
       "      <td>Starten</td>\n",
       "      <td>Offline</td>\n",
       "      <td>Infosessie</td>\n",
       "      <td>0</td>\n",
       "      <td>0</td>\n",
       "      <td>0</td>\n",
       "      <td>0</td>\n",
       "      <td>0</td>\n",
       "      <td>0</td>\n",
       "      <td>0</td>\n",
       "      <td>0</td>\n",
       "      <td>0</td>\n",
       "      <td>0</td>\n",
       "    </tr>\n",
       "    <tr>\n",
       "      <th>1</th>\n",
       "      <td>55CDFFFD-1368-E111-A00F-00505680000A</td>\n",
       "      <td>FFD1A747-FE02-EB11-8114-001DD8B72B61</td>\n",
       "      <td>2</td>\n",
       "      <td>0</td>\n",
       "      <td>Internationaal Ondernemen</td>\n",
       "      <td>Online</td>\n",
       "      <td>Infosessie</td>\n",
       "      <td>0</td>\n",
       "      <td>0</td>\n",
       "      <td>0</td>\n",
       "      <td>1</td>\n",
       "      <td>1</td>\n",
       "      <td>0</td>\n",
       "      <td>0</td>\n",
       "      <td>0</td>\n",
       "      <td>0</td>\n",
       "      <td>0</td>\n",
       "    </tr>\n",
       "    <tr>\n",
       "      <th>2</th>\n",
       "      <td>0D3D298D-21B0-E811-80F4-001DD8B72B62</td>\n",
       "      <td>F0D2CA0C-6B12-E911-80FA-001DD8B72B61</td>\n",
       "      <td>1</td>\n",
       "      <td>0</td>\n",
       "      <td>Unknown</td>\n",
       "      <td>Offline</td>\n",
       "      <td>Netwerkevenement</td>\n",
       "      <td>0</td>\n",
       "      <td>0</td>\n",
       "      <td>0</td>\n",
       "      <td>0</td>\n",
       "      <td>0</td>\n",
       "      <td>0</td>\n",
       "      <td>0</td>\n",
       "      <td>0</td>\n",
       "      <td>0</td>\n",
       "      <td>0</td>\n",
       "    </tr>\n",
       "    <tr>\n",
       "      <th>3</th>\n",
       "      <td>A03EC8AF-ED66-EB11-8119-001DD8B72B61</td>\n",
       "      <td>186D9250-435B-EB11-811A-001DD8B72B62</td>\n",
       "      <td>1</td>\n",
       "      <td>0</td>\n",
       "      <td>Algemeen Management</td>\n",
       "      <td>Online</td>\n",
       "      <td>Infosessie</td>\n",
       "      <td>0</td>\n",
       "      <td>0</td>\n",
       "      <td>0</td>\n",
       "      <td>0</td>\n",
       "      <td>0</td>\n",
       "      <td>0</td>\n",
       "      <td>0</td>\n",
       "      <td>0</td>\n",
       "      <td>0</td>\n",
       "      <td>0</td>\n",
       "    </tr>\n",
       "    <tr>\n",
       "      <th>4</th>\n",
       "      <td>0A86162E-6974-E611-80DE-001DD8B72B61</td>\n",
       "      <td>E3ABC733-BA78-EA11-810E-001DD8B72B61</td>\n",
       "      <td>5</td>\n",
       "      <td>0</td>\n",
       "      <td>Innovatie</td>\n",
       "      <td>Offline</td>\n",
       "      <td>Opleiding</td>\n",
       "      <td>0</td>\n",
       "      <td>0</td>\n",
       "      <td>0</td>\n",
       "      <td>0</td>\n",
       "      <td>0</td>\n",
       "      <td>0</td>\n",
       "      <td>0</td>\n",
       "      <td>0</td>\n",
       "      <td>0</td>\n",
       "      <td>0</td>\n",
       "    </tr>\n",
       "  </tbody>\n",
       "</table>\n",
       "</div>"
      ],
      "text/plain": [
       "                              PersoonId                            CampagneId  \\\n",
       "0  48861E28-47C2-ED11-83FF-6045BD895554  077BE55D-545F-ED11-9561-6045BD8956C9   \n",
       "1  55CDFFFD-1368-E111-A00F-00505680000A  FFD1A747-FE02-EB11-8114-001DD8B72B61   \n",
       "2  0D3D298D-21B0-E811-80F4-001DD8B72B62  F0D2CA0C-6B12-E911-80FA-001DD8B72B61   \n",
       "3  A03EC8AF-ED66-EB11-8119-001DD8B72B61  186D9250-435B-EB11-811A-001DD8B72B62   \n",
       "4  0A86162E-6974-E611-80DE-001DD8B72B61  E3ABC733-BA78-EA11-810E-001DD8B72B61   \n",
       "\n",
       "   aantal_sessies  aantal_bezoeken                SessieThema SoortCampagne  \\\n",
       "0               1                0                    Starten       Offline   \n",
       "1               2                0  Internationaal Ondernemen        Online   \n",
       "2               1                0                    Unknown       Offline   \n",
       "3               1                0        Algemeen Management        Online   \n",
       "4               5                0                  Innovatie       Offline   \n",
       "\n",
       "       TypeCampagne  ThemaDuurzaamheid  ThemaFinancieelFiscaal  \\\n",
       "0        Infosessie                  0                       0   \n",
       "1        Infosessie                  0                       0   \n",
       "2  Netwerkevenement                  0                       0   \n",
       "3        Infosessie                  0                       0   \n",
       "4         Opleiding                  0                       0   \n",
       "\n",
       "   ThemaInnovatie  ThemaInternationaalOndernemen  ThemaMobiliteit  \\\n",
       "0               0                              0                0   \n",
       "1               0                              1                1   \n",
       "2               0                              0                0   \n",
       "3               0                              0                0   \n",
       "4               0                              0                0   \n",
       "\n",
       "   ThemaOmgeving  ThemaSalesMarketingCommunicatie  \\\n",
       "0              0                                0   \n",
       "1              0                                0   \n",
       "2              0                                0   \n",
       "3              0                                0   \n",
       "4              0                                0   \n",
       "\n",
       "   ThemaStrategieEnAlgemeenManagement  ThemaTalent  ThemaWelzijn  \n",
       "0                                   0            0             0  \n",
       "1                                   0            0             0  \n",
       "2                                   0            0             0  \n",
       "3                                   0            0             0  \n",
       "4                                   0            0             0  "
      ]
     },
     "execution_count": 162,
     "metadata": {},
     "output_type": "execute_result"
    }
   ],
   "source": [
    "# materialized view\n",
    "query = text('SELECT * FROM epic_5')\n",
    "\n",
    "try:\n",
    "    df = pd.read_sql_query(query, connection)\n",
    "except Exception as e:\n",
    "    print(f\"Failed to execute query: {e}\")\n",
    "\n",
    "df.head()"
   ]
  },
  {
   "cell_type": "code",
   "execution_count": 163,
   "metadata": {},
   "outputs": [
    {
     "name": "stdout",
     "output_type": "stream",
     "text": [
      "<class 'pandas.core.frame.DataFrame'>\n",
      "RangeIndex: 52567 entries, 0 to 52566\n",
      "Data columns (total 17 columns):\n",
      " #   Column                              Non-Null Count  Dtype \n",
      "---  ------                              --------------  ----- \n",
      " 0   PersoonId                           52567 non-null  object\n",
      " 1   CampagneId                          52567 non-null  object\n",
      " 2   aantal_sessies                      52567 non-null  int64 \n",
      " 3   aantal_bezoeken                     52567 non-null  int64 \n",
      " 4   SessieThema                         52567 non-null  object\n",
      " 5   SoortCampagne                       52567 non-null  object\n",
      " 6   TypeCampagne                        52567 non-null  object\n",
      " 7   ThemaDuurzaamheid                   52567 non-null  int64 \n",
      " 8   ThemaFinancieelFiscaal              52567 non-null  int64 \n",
      " 9   ThemaInnovatie                      52567 non-null  int64 \n",
      " 10  ThemaInternationaalOndernemen       52567 non-null  int64 \n",
      " 11  ThemaMobiliteit                     52567 non-null  int64 \n",
      " 12  ThemaOmgeving                       52567 non-null  int64 \n",
      " 13  ThemaSalesMarketingCommunicatie     52567 non-null  int64 \n",
      " 14  ThemaStrategieEnAlgemeenManagement  52567 non-null  int64 \n",
      " 15  ThemaTalent                         52567 non-null  int64 \n",
      " 16  ThemaWelzijn                        52567 non-null  int64 \n",
      "dtypes: int64(12), object(5)\n",
      "memory usage: 6.8+ MB\n"
     ]
    }
   ],
   "source": [
    "df.info()"
   ]
  },
  {
   "cell_type": "markdown",
   "metadata": {},
   "source": [
    "## 4. Data voorbereiden"
   ]
  },
  {
   "cell_type": "code",
   "execution_count": 164,
   "metadata": {},
   "outputs": [],
   "source": [
    "# binaire integers van persoon thema's omzetten naar binaire strings voor betere leesbaarheid\n",
    "\n",
    "columns = ['ThemaDuurzaamheid', 'ThemaFinancieelFiscaal', 'ThemaInnovatie', 'ThemaInternationaalOndernemen', \n",
    "           'ThemaMobiliteit', 'ThemaOmgeving', 'ThemaSalesMarketingCommunicatie', \n",
    "           'ThemaStrategieEnAlgemeenManagement', 'ThemaTalent', 'ThemaWelzijn']\n",
    "\n",
    "for col in columns:\n",
    "    df[col] = df[col].replace({0: col + '_False', 1: col + '_True'})"
   ]
  },
  {
   "cell_type": "code",
   "execution_count": 165,
   "metadata": {},
   "outputs": [],
   "source": [
    "# aantal bezoeken laten vallen, focus ligt op aantal_sessies\n",
    "df.drop('aantal_bezoeken', axis=1, inplace=True)"
   ]
  },
  {
   "cell_type": "code",
   "execution_count": 166,
   "metadata": {},
   "outputs": [
    {
     "data": {
      "text/html": [
       "<div>\n",
       "<style scoped>\n",
       "    .dataframe tbody tr th:only-of-type {\n",
       "        vertical-align: middle;\n",
       "    }\n",
       "\n",
       "    .dataframe tbody tr th {\n",
       "        vertical-align: top;\n",
       "    }\n",
       "\n",
       "    .dataframe thead th {\n",
       "        text-align: right;\n",
       "    }\n",
       "</style>\n",
       "<table border=\"1\" class=\"dataframe\">\n",
       "  <thead>\n",
       "    <tr style=\"text-align: right;\">\n",
       "      <th></th>\n",
       "      <th>PersoonId</th>\n",
       "      <th>CampagneId</th>\n",
       "      <th>aantal_sessies</th>\n",
       "      <th>SessieThema</th>\n",
       "      <th>SoortCampagne</th>\n",
       "      <th>TypeCampagne</th>\n",
       "      <th>ThemaDuurzaamheid</th>\n",
       "      <th>ThemaFinancieelFiscaal</th>\n",
       "      <th>ThemaInnovatie</th>\n",
       "      <th>ThemaInternationaalOndernemen</th>\n",
       "      <th>ThemaMobiliteit</th>\n",
       "      <th>ThemaOmgeving</th>\n",
       "      <th>ThemaSalesMarketingCommunicatie</th>\n",
       "      <th>ThemaStrategieEnAlgemeenManagement</th>\n",
       "      <th>ThemaTalent</th>\n",
       "      <th>ThemaWelzijn</th>\n",
       "    </tr>\n",
       "  </thead>\n",
       "  <tbody>\n",
       "    <tr>\n",
       "      <th>0</th>\n",
       "      <td>48861E28-47C2-ED11-83FF-6045BD895554</td>\n",
       "      <td>077BE55D-545F-ED11-9561-6045BD8956C9</td>\n",
       "      <td>1</td>\n",
       "      <td>Starten</td>\n",
       "      <td>Offline</td>\n",
       "      <td>Infosessie</td>\n",
       "      <td>ThemaDuurzaamheid_False</td>\n",
       "      <td>ThemaFinancieelFiscaal_False</td>\n",
       "      <td>ThemaInnovatie_False</td>\n",
       "      <td>ThemaInternationaalOndernemen_False</td>\n",
       "      <td>ThemaMobiliteit_False</td>\n",
       "      <td>ThemaOmgeving_False</td>\n",
       "      <td>ThemaSalesMarketingCommunicatie_False</td>\n",
       "      <td>ThemaStrategieEnAlgemeenManagement_False</td>\n",
       "      <td>ThemaTalent_False</td>\n",
       "      <td>ThemaWelzijn_False</td>\n",
       "    </tr>\n",
       "  </tbody>\n",
       "</table>\n",
       "</div>"
      ],
      "text/plain": [
       "                              PersoonId                            CampagneId  \\\n",
       "0  48861E28-47C2-ED11-83FF-6045BD895554  077BE55D-545F-ED11-9561-6045BD8956C9   \n",
       "\n",
       "   aantal_sessies SessieThema SoortCampagne TypeCampagne  \\\n",
       "0               1     Starten       Offline   Infosessie   \n",
       "\n",
       "         ThemaDuurzaamheid        ThemaFinancieelFiscaal  \\\n",
       "0  ThemaDuurzaamheid_False  ThemaFinancieelFiscaal_False   \n",
       "\n",
       "         ThemaInnovatie        ThemaInternationaalOndernemen  \\\n",
       "0  ThemaInnovatie_False  ThemaInternationaalOndernemen_False   \n",
       "\n",
       "         ThemaMobiliteit        ThemaOmgeving  \\\n",
       "0  ThemaMobiliteit_False  ThemaOmgeving_False   \n",
       "\n",
       "         ThemaSalesMarketingCommunicatie  \\\n",
       "0  ThemaSalesMarketingCommunicatie_False   \n",
       "\n",
       "         ThemaStrategieEnAlgemeenManagement        ThemaTalent  \\\n",
       "0  ThemaStrategieEnAlgemeenManagement_False  ThemaTalent_False   \n",
       "\n",
       "         ThemaWelzijn  \n",
       "0  ThemaWelzijn_False  "
      ]
     },
     "execution_count": 166,
     "metadata": {},
     "output_type": "execute_result"
    }
   ],
   "source": [
    "df.head(1)"
   ]
  },
  {
   "cell_type": "code",
   "execution_count": 167,
   "metadata": {},
   "outputs": [
    {
     "name": "stdout",
     "output_type": "stream",
     "text": [
      "['Starten', 'Internationaal Ondernemen', 'Unknown', 'Algemeen Management', 'Innovatie', 'Groeien', 'Netwerking', 'Familiebedrijven', 'Digitalisering, IT & Technologie', 'Communicatie', 'Onderwijs', 'Financieel', 'Marketing & Sales', 'Duurzaam Ondernemen', 'Human Resources', 'Economie', 'Mobiliteit', 'Welt', 'Jong Voka', 'Welt 2.0-2023', 'Opvolging en Overname', 'Logistiek en Transport', 'Haven', 'Arbeidsmarkt', 'Plato', 'Welt 2.0', 'Bryo', 'Juridisch', 'Strategie', 'Opleidingen', 'Lidmaatschap', 'Supply Chain', 'Veiligheid & Preventie', 'Energie', 'Ruimtelijke ordening en Infrastructuur', 'Milieu', 'Coronavirus', 'Aankoop', 'Retail', 'Persoonlijke vaardigheden', 'Aantrekkelijke regio', 'Offline', 'Online', 'On en Offline', 'Infosessie', 'Netwerkevenement', 'Opleiding', 'Project', 'Projectgebonden', 'Campagne']\n",
      "['ThemaDuurzaamheid_False', 'ThemaDuurzaamheid_True', 'ThemaFinancieelFiscaal_False', 'ThemaFinancieelFiscaal_True', 'ThemaInnovatie_False', 'ThemaInnovatie_True', 'ThemaInternationaalOndernemen_False', 'ThemaInternationaalOndernemen_True', 'ThemaMobiliteit_False', 'ThemaMobiliteit_True', 'ThemaOmgeving_False', 'ThemaOmgeving_True', 'ThemaSalesMarketingCommunicatie_False', 'ThemaSalesMarketingCommunicatie_True', 'ThemaStrategieEnAlgemeenManagement_False', 'ThemaStrategieEnAlgemeenManagement_True', 'ThemaTalent_False', 'ThemaTalent_True', 'ThemaWelzijn_False', 'ThemaWelzijn_True']\n"
     ]
    }
   ],
   "source": [
    "# item_features en user_features invullen voor lightFM\n",
    "\n",
    "item_cols = ['SessieThema', 'SoortCampagne', 'TypeCampagne']\n",
    "user_cols = ['ThemaDuurzaamheid', 'ThemaFinancieelFiscaal', 'ThemaInnovatie', 'ThemaInternationaalOndernemen', 'ThemaMobiliteit', 'ThemaOmgeving', 'ThemaSalesMarketingCommunicatie', 'ThemaStrategieEnAlgemeenManagement', 'ThemaTalent', 'ThemaWelzijn']\n",
    "\n",
    "all_item_features = np.concatenate([df[col].unique() for col in item_cols]).tolist()\n",
    "all_user_features = np.concatenate([df[col].unique() for col in user_cols]).tolist()\n",
    "\n",
    "print(all_item_features)\n",
    "print(all_user_features)"
   ]
  },
  {
   "cell_type": "code",
   "execution_count": 168,
   "metadata": {},
   "outputs": [],
   "source": [
    "# dataframes van items en users, id's met features\n",
    "\n",
    "items = df[['CampagneId'] + item_cols]\n",
    "users = df[['PersoonId'] + user_cols]"
   ]
  },
  {
   "cell_type": "code",
   "execution_count": 169,
   "metadata": {},
   "outputs": [],
   "source": [
    "# toch groeperen op aantal sessies per persoon per campagne, geen scheiding tussen sessiethema\n",
    "df = df.groupby(['PersoonId', 'CampagneId'])['aantal_sessies'].sum().reset_index()"
   ]
  },
  {
   "cell_type": "code",
   "execution_count": 170,
   "metadata": {},
   "outputs": [
    {
     "name": "stdout",
     "output_type": "stream",
     "text": [
      "Num users: 16688, num_items: 1979\n"
     ]
    }
   ],
   "source": [
    "# zie LightFM documentatie voor uitleg over Dataset\n",
    "\n",
    "dataset = Dataset()\n",
    "\n",
    "dataset.fit(\n",
    "    users=df['PersoonId'],\n",
    "    items=df['CampagneId'],\n",
    "    user_features=all_user_features,\n",
    "    item_features=all_item_features\n",
    ")\n",
    "\n",
    "num_users, num_items = dataset.interactions_shape()\n",
    "print(f'Num users: {num_users}, num_items: {num_items}')"
   ]
  },
  {
   "cell_type": "code",
   "execution_count": 171,
   "metadata": {},
   "outputs": [],
   "source": [
    "# interactie matrix tussen users en items, met aantal sessies als rating\n",
    "(interactions, weights) = dataset.build_interactions(zip(df['PersoonId'], df['CampagneId'], df['aantal_sessies']))"
   ]
  },
  {
   "cell_type": "code",
   "execution_count": 172,
   "metadata": {},
   "outputs": [],
   "source": [
    "# interactie matrix splitsen in train- en testset\n",
    "\n",
    "train_interactions, test_interactions = cross_validation.random_train_test_split(\n",
    "    interactions, test_percentage=TEST_PERCENTAGE,\n",
    "    random_state=np.random.RandomState(seed=SEED)\n",
    ")"
   ]
  },
  {
   "cell_type": "code",
   "execution_count": 173,
   "metadata": {},
   "outputs": [
    {
     "name": "stdout",
     "output_type": "stream",
     "text": [
      "Shape of train interactions: (16688, 1979)\n",
      "Shape of test interactions: (16688, 1979)\n"
     ]
    }
   ],
   "source": [
    "# testen of de splitsing gelijk verdeeld is\n",
    "\n",
    "print(f\"Shape of train interactions: {train_interactions.shape}\")\n",
    "print(f\"Shape of test interactions: {test_interactions.shape}\")"
   ]
  },
  {
   "cell_type": "code",
   "execution_count": 174,
   "metadata": {},
   "outputs": [],
   "source": [
    "# tupels maken van item id's met bijhorende features\n",
    "\n",
    "def item_feature_generator():\n",
    "    for _, row in items.iterrows():\n",
    "        features = row.values[1:]\n",
    "        yield (row['CampagneId'], features)\n",
    "\n",
    "def user_feature_generator():\n",
    "    for _, row in users.iterrows():\n",
    "        features = row.values[1:]\n",
    "        yield (row['PersoonId'], features)"
   ]
  },
  {
   "cell_type": "code",
   "execution_count": 175,
   "metadata": {},
   "outputs": [
    {
     "name": "stdout",
     "output_type": "stream",
     "text": [
      "Item ID: 077BE55D-545F-ED11-9561-6045BD8956C9, Item Features: ['Starten' 'Offline' 'Infosessie']\n"
     ]
    }
   ],
   "source": [
    "# test print om de item tupels te bekijken\n",
    "\n",
    "item_id, item_features = next(item_feature_generator())\n",
    "print(f\"Item ID: {item_id}, Item Features: {item_features}\")"
   ]
  },
  {
   "cell_type": "code",
   "execution_count": 176,
   "metadata": {},
   "outputs": [
    {
     "name": "stdout",
     "output_type": "stream",
     "text": [
      "User ID: 48861E28-47C2-ED11-83FF-6045BD895554, User Features: ['ThemaDuurzaamheid_False' 'ThemaFinancieelFiscaal_False'\n",
      " 'ThemaInnovatie_False' 'ThemaInternationaalOndernemen_False'\n",
      " 'ThemaMobiliteit_False' 'ThemaOmgeving_False'\n",
      " 'ThemaSalesMarketingCommunicatie_False'\n",
      " 'ThemaStrategieEnAlgemeenManagement_False' 'ThemaTalent_False'\n",
      " 'ThemaWelzijn_False']\n"
     ]
    }
   ],
   "source": [
    "# test print om de user tupels te bekijken\n",
    "\n",
    "user_id, user_features = next(user_feature_generator())\n",
    "print(f\"User ID: {user_id}, User Features: {user_features}\")"
   ]
  },
  {
   "cell_type": "code",
   "execution_count": 177,
   "metadata": {},
   "outputs": [],
   "source": [
    "# feature matrices maken om later te gebruiken in het model\n",
    "\n",
    "item_features = dataset.build_item_features((item_id, item_feature) for item_id, item_feature in item_feature_generator())\n",
    "user_features = dataset.build_user_features((user_id, user_feature) for user_id, user_feature in user_feature_generator())"
   ]
  },
  {
   "cell_type": "markdown",
   "metadata": {},
   "source": [
    "## 5. Model trainen"
   ]
  },
  {
   "cell_type": "code",
   "execution_count": 178,
   "metadata": {},
   "outputs": [],
   "source": [
    "# meegegeven parameters voor LightFM model, zie variabelen bovenaan\n",
    "\n",
    "model = LightFM(\n",
    "    no_components=NO_COMPONENTS,\n",
    "    learning_rate=LEARNING_RATE,\n",
    "    random_state=np.random.RandomState(SEED),\n",
    "    loss=LOSS,\n",
    "    item_alpha=ITEM_ALPHA,\n",
    "    user_alpha=USER_ALPHA\n",
    ")"
   ]
  },
  {
   "cell_type": "markdown",
   "metadata": {},
   "source": [
    "```python\n",
    "# model exporteren\n",
    "\n",
    "def save_model(model):\n",
    "    with open(f'{CHECKPOINT}.pickle', 'wb') as fle:\n",
    "        pickle.dump(model, fle, protocol=pickle.HIGHEST_PROTOCOL)\n",
    "```"
   ]
  },
  {
   "cell_type": "code",
   "execution_count": 179,
   "metadata": {},
   "outputs": [
    {
     "name": "stderr",
     "output_type": "stream",
     "text": [
      "  7%|▋         | 1/15 [00:11<02:47, 11.95s/it]"
     ]
    },
    {
     "name": "stdout",
     "output_type": "stream",
     "text": [
      "Epoch 1/15, Train AUC: 0.6201007962226868, Test AUC: 0.6330848336219788\n"
     ]
    },
    {
     "name": "stderr",
     "output_type": "stream",
     "text": [
      " 13%|█▎        | 2/15 [00:23<02:34, 11.92s/it]"
     ]
    },
    {
     "name": "stdout",
     "output_type": "stream",
     "text": [
      "Epoch 2/15, Train AUC: 0.6217116117477417, Test AUC: 0.6347705721855164\n"
     ]
    },
    {
     "name": "stderr",
     "output_type": "stream",
     "text": [
      " 20%|██        | 3/15 [00:35<02:23, 11.95s/it]"
     ]
    },
    {
     "name": "stdout",
     "output_type": "stream",
     "text": [
      "Epoch 3/15, Train AUC: 0.622689962387085, Test AUC: 0.6358205676078796\n"
     ]
    },
    {
     "name": "stderr",
     "output_type": "stream",
     "text": [
      " 27%|██▋       | 4/15 [00:47<02:11, 11.98s/it]"
     ]
    },
    {
     "name": "stdout",
     "output_type": "stream",
     "text": [
      "Epoch 4/15, Train AUC: 0.6233619451522827, Test AUC: 0.6364335417747498\n"
     ]
    },
    {
     "name": "stderr",
     "output_type": "stream",
     "text": [
      " 33%|███▎      | 5/15 [01:00<02:02, 12.23s/it]"
     ]
    },
    {
     "name": "stdout",
     "output_type": "stream",
     "text": [
      "Epoch 5/15, Train AUC: 0.6239449977874756, Test AUC: 0.6370207667350769\n"
     ]
    },
    {
     "name": "stderr",
     "output_type": "stream",
     "text": [
      " 40%|████      | 6/15 [01:12<01:49, 12.16s/it]"
     ]
    },
    {
     "name": "stdout",
     "output_type": "stream",
     "text": [
      "Epoch 6/15, Train AUC: 0.6243461966514587, Test AUC: 0.6374078392982483\n"
     ]
    },
    {
     "name": "stderr",
     "output_type": "stream",
     "text": [
      " 47%|████▋     | 7/15 [01:24<01:37, 12.13s/it]"
     ]
    },
    {
     "name": "stdout",
     "output_type": "stream",
     "text": [
      "Epoch 7/15, Train AUC: 0.6246947050094604, Test AUC: 0.6377585530281067\n"
     ]
    },
    {
     "name": "stderr",
     "output_type": "stream",
     "text": [
      " 53%|█████▎    | 8/15 [01:37<01:25, 12.22s/it]"
     ]
    },
    {
     "name": "stdout",
     "output_type": "stream",
     "text": [
      "Epoch 8/15, Train AUC: 0.6250590085983276, Test AUC: 0.6381029486656189\n"
     ]
    },
    {
     "name": "stderr",
     "output_type": "stream",
     "text": [
      " 60%|██████    | 9/15 [01:49<01:12, 12.16s/it]"
     ]
    },
    {
     "name": "stdout",
     "output_type": "stream",
     "text": [
      "Epoch 9/15, Train AUC: 0.6252767443656921, Test AUC: 0.6384198069572449\n"
     ]
    },
    {
     "name": "stderr",
     "output_type": "stream",
     "text": [
      " 67%|██████▋   | 10/15 [02:01<01:01, 12.20s/it]"
     ]
    },
    {
     "name": "stdout",
     "output_type": "stream",
     "text": [
      "Epoch 10/15, Train AUC: 0.6255233883857727, Test AUC: 0.6386866569519043\n"
     ]
    },
    {
     "name": "stderr",
     "output_type": "stream",
     "text": [
      " 73%|███████▎  | 11/15 [02:13<00:49, 12.29s/it]"
     ]
    },
    {
     "name": "stdout",
     "output_type": "stream",
     "text": [
      "Epoch 11/15, Train AUC: 0.6257743835449219, Test AUC: 0.6389060020446777\n"
     ]
    },
    {
     "name": "stderr",
     "output_type": "stream",
     "text": [
      " 80%|████████  | 12/15 [02:26<00:36, 12.28s/it]"
     ]
    },
    {
     "name": "stdout",
     "output_type": "stream",
     "text": [
      "Epoch 12/15, Train AUC: 0.626049280166626, Test AUC: 0.639177680015564\n"
     ]
    },
    {
     "name": "stderr",
     "output_type": "stream",
     "text": [
      " 87%|████████▋ | 13/15 [02:38<00:24, 12.31s/it]"
     ]
    },
    {
     "name": "stdout",
     "output_type": "stream",
     "text": [
      "Epoch 13/15, Train AUC: 0.6262818574905396, Test AUC: 0.6393305063247681\n"
     ]
    },
    {
     "name": "stderr",
     "output_type": "stream",
     "text": [
      " 93%|█████████▎| 14/15 [02:50<00:12, 12.36s/it]"
     ]
    },
    {
     "name": "stdout",
     "output_type": "stream",
     "text": [
      "Epoch 14/15, Train AUC: 0.626446545124054, Test AUC: 0.6395125985145569\n"
     ]
    },
    {
     "name": "stderr",
     "output_type": "stream",
     "text": [
      "100%|██████████| 15/15 [03:03<00:00, 12.22s/it]"
     ]
    },
    {
     "name": "stdout",
     "output_type": "stream",
     "text": [
      "Epoch 15/15, Train AUC: 0.6266117095947266, Test AUC: 0.6396645903587341\n"
     ]
    },
    {
     "name": "stderr",
     "output_type": "stream",
     "text": [
      "\n"
     ]
    }
   ],
   "source": [
    "# model trainen met epochs, de iteratie met de beste test AUC score wordt opgeslagen als model\n",
    "\n",
    "train_auc_history = []\n",
    "test_auc_history = []\n",
    "\n",
    "best_score = 0\n",
    "\n",
    "for epoch in tqdm(range(NO_EPOCHS)):\n",
    "    model.fit_partial(\n",
    "        interactions=train_interactions,\n",
    "        user_features=user_features,\n",
    "        item_features=item_features,\n",
    "        epochs=NO_EPOCHS,\n",
    "        num_threads=NO_THREADS\n",
    "    )\n",
    "\n",
    "    train_auc = auc_score(model, train_interactions, user_features=user_features, item_features=item_features).mean()\n",
    "    test_auc = auc_score(model, test_interactions, train_interactions, user_features=user_features, item_features=item_features).mean()\n",
    "\n",
    "    train_auc_history.append(train_auc)\n",
    "    test_auc_history.append(test_auc)\n",
    "\n",
    "    if test_auc > best_score:\n",
    "        best_score = test_auc\n",
    "        # save_model(model)\n",
    "\n",
    "    print(f'Epoch {epoch + 1}/{NO_EPOCHS}, Train AUC: {train_auc}, Test AUC: {test_auc}')"
   ]
  },
  {
   "cell_type": "markdown",
   "metadata": {},
   "source": [
    "## 6. Model evalueren"
   ]
  },
  {
   "cell_type": "markdown",
   "metadata": {},
   "source": [
    "[Interpretatie metrics](https://stackoverflow.com/questions/45451161/evaluating-the-lightfm-recommendation-model/45466481#45466481)"
   ]
  },
  {
   "cell_type": "code",
   "execution_count": 180,
   "metadata": {},
   "outputs": [],
   "source": [
    "# metrics berekenen, vooral de AUC score is belangrijk hier voor de recommender system\n",
    "\n",
    "def calculate_metrics(model, test, train, item_features, user_features, k):\n",
    "    precision = precision_at_k(model=model, test_interactions=test, train_interactions=train, item_features=item_features, user_features=user_features, k=k).mean().round(5)\n",
    "    recall = recall_at_k(model=model, test_interactions=test, train_interactions=train, item_features=item_features, user_features=user_features, k=k).mean().round(5)\n",
    "    auc = auc_score(model=model, test_interactions=test, train_interactions=train, item_features=item_features, user_features=user_features).mean().round(5)\n",
    "    return print('Precision: ', precision, '\\nRecall: ', recall, '\\nAUC: ', auc)"
   ]
  },
  {
   "cell_type": "code",
   "execution_count": 181,
   "metadata": {},
   "outputs": [
    {
     "name": "stdout",
     "output_type": "stream",
     "text": [
      "Precision:  0.02914 \n",
      "Recall:  0.02006 \n",
      "AUC:  0.63966\n"
     ]
    }
   ],
   "source": [
    "calculate_metrics(model, test_interactions, train_interactions, item_features, user_features, 1)"
   ]
  },
  {
   "cell_type": "markdown",
   "metadata": {},
   "source": [
    "## 7. Model gebruiken"
   ]
  },
  {
   "cell_type": "code",
   "execution_count": 182,
   "metadata": {},
   "outputs": [
    {
     "name": "stdout",
     "output_type": "stream",
     "text": [
      "Top 5 recommended items for user: ['73134661-6938-EB11-8116-001DD8B72B61', '37245A1A-8082-EB11-811D-001DD8B72B62', '0B8EF091-0C47-EC11-8C62-6045BD8D273E', '334DEF40-3B80-ED11-81AD-6045BD895B5A', 'C7D7D4CB-6106-EC11-8123-001DD8B72B61']\n"
     ]
    }
   ],
   "source": [
    "\n",
    "def get_top_items_for_user(user_id):\n",
    "    \"\"\"\n",
    "    Retrieves the top 5 recommended items for a given user.\n",
    "\n",
    "    Parameters:\n",
    "    user_id (str): The ID of the user.\n",
    "\n",
    "    Returns:\n",
    "    str: A string indicating the top 5 recommended items for the user.\n",
    "    \"\"\"\n",
    "    \n",
    "    user_id_internal = dataset.mapping()[0][user_id]\n",
    "\n",
    "    item_ids_internal = np.array(list(dataset.mapping()[2].values()))\n",
    "\n",
    "    scores = model.predict(user_id_internal, item_ids_internal)\n",
    "\n",
    "    top_items_indices = np.argsort(-scores)[:5]\n",
    "\n",
    "    top_items_ids = [list(dataset.mapping()[2].keys())[i] for i in top_items_indices]\n",
    "\n",
    "    return f'Top 5 recommended items for user: {top_items_ids}'\n",
    "\n",
    "print(get_top_items_for_user('6E42A199-9F70-E911-80FE-001DD8B72B62'))"
   ]
  },
  {
   "cell_type": "markdown",
   "metadata": {},
   "source": [
    "Onderstaande functie is het antwoord op epic 5"
   ]
  },
  {
   "cell_type": "code",
   "execution_count": 183,
   "metadata": {},
   "outputs": [
    {
     "name": "stdout",
     "output_type": "stream",
     "text": [
      "Top 20 recommended users for item: ['F49C652D-F83D-EB11-8116-001DD8B72B61', 'ACD7EB0E-7DCC-EC11-A7B5-000D3ABB7D90', '9243B91F-13D1-E811-80F6-001DD8B72B62', '1B9EC4B9-0568-E111-A00F-00505680000A', '93BFA2D9-1368-E111-A00F-00505680000A', 'D4EDF4D6-5169-E111-B43A-00505680000A', '6D728DFF-0792-E711-80EB-001DD8B72B62', '79068084-DE8E-EA11-810F-001DD8B72B61', '32AF1A80-5269-E111-B43A-00505680000A', '8AAE9250-FC4D-ED11-BBA3-6045BD895D85', 'B69A7355-F467-E111-A00F-00505680000A', '29D9D2DD-5BBA-E311-9A5C-005056B06EB4', '414DF096-2268-E111-A00F-00505680000A', '4E30ADDE-23FA-ED11-8849-000D3A4AB78E', '8E16B4A4-0CD6-EA11-8114-001DD8B72B62', '27510C40-3A8F-ED11-AAD1-6045BD895BFB', 'F2721807-ED09-EA11-8107-001DD8B72B62', '4AF8600F-B83A-EB11-8116-001DD8B72B61', 'BF389053-3491-EB11-811E-001DD8B72B62', '8AF61AD2-7A6F-EA11-8110-001DD8B72B62']\n"
     ]
    }
   ],
   "source": [
    "def get_top_users_for_item(item_id):\n",
    "    \"\"\"\n",
    "    Returns the top 20 recommended users for a given item, sorted by the number of campaigns entered.\n",
    "\n",
    "    Parameters:\n",
    "    item_id (str): The ID of the item.\n",
    "\n",
    "    Returns:\n",
    "    str: A string containing the top 20 recommended users for the item, sorted by the number of campaigns entered.\n",
    "    \"\"\"\n",
    "    item_id_internal = dataset.mapping()[2][item_id]\n",
    "    \n",
    "    user_ids_internal = np.array(list(dataset.mapping()[0].values()))\n",
    "\n",
    "    scores = model.predict(user_ids_internal, np.repeat(item_id_internal, len(user_ids_internal)))\n",
    "\n",
    "    top_users_indices = np.argsort(-scores)[:20]\n",
    "\n",
    "    top_users_ids = [list(dataset.mapping()[0].keys())[i] for i in top_users_indices]\n",
    "\n",
    "    top_users_ids = sorted(top_users_ids, key=lambda user_id: len(df[df['PersoonId'] == user_id]))\n",
    "\n",
    "    return f'Top 20 recommended users for item: {top_users_ids}'\n",
    "\n",
    "print(get_top_users_for_item('8FCA1D31-1EB7-E811-80F4-001DD8B72B62'))"
   ]
  },
  {
   "cell_type": "markdown",
   "metadata": {},
   "source": [
    "# EMAIL"
   ]
  },
  {
   "cell_type": "code",
   "execution_count": 184,
   "metadata": {},
   "outputs": [
    {
     "name": "stdout",
     "output_type": "stream",
     "text": [
      "['F49C652D-F83D-EB11-8116-001DD8B72B61', 'B69A7355-F467-E111-A00F-00505680000A', 'ACD7EB0E-7DCC-EC11-A7B5-000D3ABB7D90', '6D728DFF-0792-E711-80EB-001DD8B72B62', '93BFA2D9-1368-E111-A00F-00505680000A', '8AAE9250-FC4D-ED11-BBA3-6045BD895D85', '1B9EC4B9-0568-E111-A00F-00505680000A', 'D4EDF4D6-5169-E111-B43A-00505680000A', '9243B91F-13D1-E811-80F6-001DD8B72B62', '32AF1A80-5269-E111-B43A-00505680000A', '29D9D2DD-5BBA-E311-9A5C-005056B06EB4', '8E16B4A4-0CD6-EA11-8114-001DD8B72B62', '65C01214-D3FE-ED11-8F6E-6045BD895554', 'F2721807-ED09-EA11-8107-001DD8B72B62', '87455803-B018-ED11-B83E-000D3AAB2E73', '4E30ADDE-23FA-ED11-8849-000D3A4AB78E', '79068084-DE8E-EA11-810F-001DD8B72B61', '0354159A-F085-EC11-8D21-6045BD8F7B2B', '85A83BBC-1C33-EC11-8124-001DD8B72B61', '8AF61AD2-7A6F-EA11-8110-001DD8B72B62']\n"
     ]
    }
   ],
   "source": [
    "def get_top_users_for_item(item_id):\n",
    "    \"\"\"\n",
    "    Returns the top 20 recommended users for a given item.\n",
    "\n",
    "    Parameters:\n",
    "    item_id (str): The ID of the item.\n",
    "\n",
    "    Returns:\n",
    "    str: A string containing the top 20 recommended users for the item.\n",
    "    \"\"\"\n",
    "    item_id_internal = dataset.mapping()[2][item_id]\n",
    "    \n",
    "    user_ids_internal = np.array(list(dataset.mapping()[0].values()))\n",
    "\n",
    "    scores = model.predict(user_ids_internal, np.repeat(item_id_internal, len(user_ids_internal)))\n",
    "\n",
    "    top_users_indices = np.argsort(-scores)[:20]\n",
    "\n",
    "    top_users_ids = [list(dataset.mapping()[0].keys())[i] for i in top_users_indices]\n",
    "\n",
    "    return top_users_ids\n",
    "\n",
    "print(get_top_users_for_item('6A6101D3-B214-EE11-8F6D-6045BD895554'))"
   ]
  },
  {
   "cell_type": "code",
   "execution_count": 185,
   "metadata": {},
   "outputs": [],
   "source": [
    "users = get_top_users_for_item('6A6101D3-B214-EE11-8F6D-6045BD895554')"
   ]
  },
  {
   "cell_type": "code",
   "execution_count": 186,
   "metadata": {},
   "outputs": [
    {
     "name": "stdout",
     "output_type": "stream",
     "text": [
      "OV-Community Multinationals 2023 - 2024\n"
     ]
    }
   ],
   "source": [
    "query = text(\"SELECT CampagneNaam FROM Campagne WHERE CampagneId = '6A6101D3-B214-EE11-8F6D-6045BD895554'\")\n",
    "result = connection.execute(query).fetchone()\n",
    "campagne_naam = result[0]\n",
    "\n",
    "print(campagne_naam)"
   ]
  },
  {
   "cell_type": "code",
   "execution_count": 187,
   "metadata": {},
   "outputs": [
    {
     "data": {
      "text/html": [
       "<div>\n",
       "<style scoped>\n",
       "    .dataframe tbody tr th:only-of-type {\n",
       "        vertical-align: middle;\n",
       "    }\n",
       "\n",
       "    .dataframe tbody tr th {\n",
       "        vertical-align: top;\n",
       "    }\n",
       "\n",
       "    .dataframe thead th {\n",
       "        text-align: right;\n",
       "    }\n",
       "</style>\n",
       "<table border=\"1\" class=\"dataframe\">\n",
       "  <thead>\n",
       "    <tr style=\"text-align: right;\">\n",
       "      <th></th>\n",
       "      <th>PersoonId</th>\n",
       "      <th>Marketingcommunicatie</th>\n",
       "      <th>FunctieNaam</th>\n",
       "    </tr>\n",
       "  </thead>\n",
       "  <tbody>\n",
       "    <tr>\n",
       "      <th>0</th>\n",
       "      <td>F49C652D-F83D-EB11-8116-001DD8B72B61</td>\n",
       "      <td>Strikt</td>\n",
       "      <td>Contact Lidmaatschap</td>\n",
       "    </tr>\n",
       "    <tr>\n",
       "      <th>1</th>\n",
       "      <td>B69A7355-F467-E111-A00F-00505680000A</td>\n",
       "      <td>Flexibel</td>\n",
       "      <td>Verantwoordelijke Aankoop</td>\n",
       "    </tr>\n",
       "    <tr>\n",
       "      <th>2</th>\n",
       "      <td>ACD7EB0E-7DCC-EC11-A7B5-000D3ABB7D90</td>\n",
       "      <td>Strikt</td>\n",
       "      <td>Echtgenote/Echtgenoot</td>\n",
       "    </tr>\n",
       "    <tr>\n",
       "      <th>3</th>\n",
       "      <td>6D728DFF-0792-E711-80EB-001DD8B72B62</td>\n",
       "      <td>Flexibel</td>\n",
       "      <td>Bestuurder</td>\n",
       "    </tr>\n",
       "    <tr>\n",
       "      <th>4</th>\n",
       "      <td>93BFA2D9-1368-E111-A00F-00505680000A</td>\n",
       "      <td>Flexibel</td>\n",
       "      <td>Contact Lidmaatschap</td>\n",
       "    </tr>\n",
       "    <tr>\n",
       "      <th>5</th>\n",
       "      <td>1B9EC4B9-0568-E111-A00F-00505680000A</td>\n",
       "      <td>Flexibel</td>\n",
       "      <td>Bestuurder</td>\n",
       "    </tr>\n",
       "    <tr>\n",
       "      <th>6</th>\n",
       "      <td>D4EDF4D6-5169-E111-B43A-00505680000A</td>\n",
       "      <td>Flexibel</td>\n",
       "      <td>Medewerker Commercieel</td>\n",
       "    </tr>\n",
       "    <tr>\n",
       "      <th>7</th>\n",
       "      <td>9243B91F-13D1-E811-80F6-001DD8B72B62</td>\n",
       "      <td>Strikt</td>\n",
       "      <td>Verantwoordelijke Operationeel</td>\n",
       "    </tr>\n",
       "    <tr>\n",
       "      <th>8</th>\n",
       "      <td>32AF1A80-5269-E111-B43A-00505680000A</td>\n",
       "      <td>Flexibel</td>\n",
       "      <td>Medewerker Financieel</td>\n",
       "    </tr>\n",
       "    <tr>\n",
       "      <th>9</th>\n",
       "      <td>29D9D2DD-5BBA-E311-9A5C-005056B06EB4</td>\n",
       "      <td>Flexibel</td>\n",
       "      <td>Bedrijfsleider</td>\n",
       "    </tr>\n",
       "    <tr>\n",
       "      <th>10</th>\n",
       "      <td>65C01214-D3FE-ED11-8F6E-6045BD895554</td>\n",
       "      <td>Strikt</td>\n",
       "      <td>Verantwoordelijke Commercieel</td>\n",
       "    </tr>\n",
       "    <tr>\n",
       "      <th>11</th>\n",
       "      <td>F2721807-ED09-EA11-8107-001DD8B72B62</td>\n",
       "      <td>Strikt</td>\n",
       "      <td>Verantwoordelijke Commercieel</td>\n",
       "    </tr>\n",
       "    <tr>\n",
       "      <th>12</th>\n",
       "      <td>87455803-B018-ED11-B83E-000D3AAB2E73</td>\n",
       "      <td>Strikt</td>\n",
       "      <td>Medewerker Export</td>\n",
       "    </tr>\n",
       "    <tr>\n",
       "      <th>13</th>\n",
       "      <td>4E30ADDE-23FA-ED11-8849-000D3A4AB78E</td>\n",
       "      <td>Strikt</td>\n",
       "      <td>Bedrijfsleider</td>\n",
       "    </tr>\n",
       "    <tr>\n",
       "      <th>14</th>\n",
       "      <td>79068084-DE8E-EA11-810F-001DD8B72B61</td>\n",
       "      <td>Strikt</td>\n",
       "      <td>Verantwoordelijke Logistiek/Transport</td>\n",
       "    </tr>\n",
       "    <tr>\n",
       "      <th>15</th>\n",
       "      <td>0354159A-F085-EC11-8D21-6045BD8F7B2B</td>\n",
       "      <td>Strikt</td>\n",
       "      <td>Bedrijfsleider</td>\n",
       "    </tr>\n",
       "    <tr>\n",
       "      <th>16</th>\n",
       "      <td>85A83BBC-1C33-EC11-8124-001DD8B72B61</td>\n",
       "      <td>Strikt</td>\n",
       "      <td>Bedrijfsleider</td>\n",
       "    </tr>\n",
       "    <tr>\n",
       "      <th>17</th>\n",
       "      <td>8AF61AD2-7A6F-EA11-8110-001DD8B72B62</td>\n",
       "      <td>Strikt</td>\n",
       "      <td>Medewerker</td>\n",
       "    </tr>\n",
       "  </tbody>\n",
       "</table>\n",
       "</div>"
      ],
      "text/plain": [
       "                               PersoonId Marketingcommunicatie  \\\n",
       "0   F49C652D-F83D-EB11-8116-001DD8B72B61                Strikt   \n",
       "1   B69A7355-F467-E111-A00F-00505680000A              Flexibel   \n",
       "2   ACD7EB0E-7DCC-EC11-A7B5-000D3ABB7D90                Strikt   \n",
       "3   6D728DFF-0792-E711-80EB-001DD8B72B62              Flexibel   \n",
       "4   93BFA2D9-1368-E111-A00F-00505680000A              Flexibel   \n",
       "5   1B9EC4B9-0568-E111-A00F-00505680000A              Flexibel   \n",
       "6   D4EDF4D6-5169-E111-B43A-00505680000A              Flexibel   \n",
       "7   9243B91F-13D1-E811-80F6-001DD8B72B62                Strikt   \n",
       "8   32AF1A80-5269-E111-B43A-00505680000A              Flexibel   \n",
       "9   29D9D2DD-5BBA-E311-9A5C-005056B06EB4              Flexibel   \n",
       "10  65C01214-D3FE-ED11-8F6E-6045BD895554                Strikt   \n",
       "11  F2721807-ED09-EA11-8107-001DD8B72B62                Strikt   \n",
       "12  87455803-B018-ED11-B83E-000D3AAB2E73                Strikt   \n",
       "13  4E30ADDE-23FA-ED11-8849-000D3A4AB78E                Strikt   \n",
       "14  79068084-DE8E-EA11-810F-001DD8B72B61                Strikt   \n",
       "15  0354159A-F085-EC11-8D21-6045BD8F7B2B                Strikt   \n",
       "16  85A83BBC-1C33-EC11-8124-001DD8B72B61                Strikt   \n",
       "17  8AF61AD2-7A6F-EA11-8110-001DD8B72B62                Strikt   \n",
       "\n",
       "                              FunctieNaam  \n",
       "0                    Contact Lidmaatschap  \n",
       "1               Verantwoordelijke Aankoop  \n",
       "2                   Echtgenote/Echtgenoot  \n",
       "3                              Bestuurder  \n",
       "4                    Contact Lidmaatschap  \n",
       "5                              Bestuurder  \n",
       "6                  Medewerker Commercieel  \n",
       "7          Verantwoordelijke Operationeel  \n",
       "8                   Medewerker Financieel  \n",
       "9                          Bedrijfsleider  \n",
       "10          Verantwoordelijke Commercieel  \n",
       "11          Verantwoordelijke Commercieel  \n",
       "12                      Medewerker Export  \n",
       "13                         Bedrijfsleider  \n",
       "14  Verantwoordelijke Logistiek/Transport  \n",
       "15                         Bedrijfsleider  \n",
       "16                         Bedrijfsleider  \n",
       "17                             Medewerker  "
      ]
     },
     "metadata": {},
     "output_type": "display_data"
    }
   ],
   "source": [
    "df_persoon = pd.DataFrame()  # Create an empty dataframe\n",
    "\n",
    "for user in users:\n",
    "    query = text(f\"SELECT Persoon.PersoonId, Persoon.Marketingcommunicatie, Functie.Naam AS FunctieNaam FROM Persoon JOIN Contactfiche ON Persoon.PersoonId = Contactfiche.PersoonId JOIN ContactficheFunctie ON Contactfiche.ContactpersoonId = ContactficheFunctie.ContactpersoonId JOIN Functie ON ContactficheFunctie.FunctieId = Functie.FunctieId JOIN Account ON Account.AccountId = Contactfiche.AccountId WHERE Persoon.PersoonId = '{user}'\")\n",
    "    user = pd.read_sql_query(query, connection)\n",
    "    user = user.drop_duplicates(subset='PersoonId', keep='first')\n",
    "    df_persoon = pd.concat([df_persoon, user], ignore_index=True)\n",
    "    df_persoon = df_persoon[df_persoon['Marketingcommunicatie'] != 'Uitgeschreven']\n",
    "\n",
    "display(df_persoon)"
   ]
  },
  {
   "cell_type": "code",
   "execution_count": 188,
   "metadata": {},
   "outputs": [
    {
     "name": "stdout",
     "output_type": "stream",
     "text": [
      "\n",
      "    Onderwerp: Ontdek onze Boeiende Nieuwe Campagnes - Versterk Samen met Voka!\n",
      "\n",
      "    Geachte Contact Lidmaatschap F49C652D-F83D-EB11-8116-001DD8B72B61,\n",
      "\n",
      "    Ik hoop dat deze boodschap u in goede gezondheid bereikt. Als gewaardeerd lid van Voka Oost-Vlaanderen willen we u graag op de hoogte brengen van enkele opwindende nieuwe campagnes en initiatieven die we in de komende maanden zullen lanceren. Bij Voka blijven we ons inzetten voor het stimuleren van economische groei, het bevorderen van ondernemerschap en het bieden van waardevolle kansen voor onze leden.\n",
      "\n",
      "    Graag zouden we daarom de campagne 'OV-Community Multinationals 2023 - 2024' in de kijker zetten, volgens de vorige campagnes waar u interesse in toonde.\n",
      "\n",
      "    Samen kunnen we groeien, innoveren en een positieve impact hebben op de Vlaamse zakelijke gemeenschap.\n",
      "\n",
      "    Wij danken u hartelijk voor uw voortdurende steun en betrokkenheid bij Voka. Samen bouwen we aan een sterke en dynamische zakelijke toekomst.\n",
      "    \n"
     ]
    }
   ],
   "source": [
    "for index, row in df_persoon.iterrows():\n",
    "    persoon_id = row['PersoonId']\n",
    "    functienaam = row['FunctieNaam']\n",
    "    \n",
    "    email_text = email_text = f\"\"\"\n",
    "    Onderwerp: Ontdek onze Boeiende Nieuwe Campagnes - Versterk Samen met Voka!\n",
    "\n",
    "    Geachte {functienaam} {persoon_id},\n",
    "\n",
    "    Ik hoop dat deze boodschap u in goede gezondheid bereikt. Als gewaardeerd lid van Voka Oost-Vlaanderen willen we u graag op de hoogte brengen van enkele opwindende nieuwe campagnes en initiatieven die we in de komende maanden zullen lanceren. Bij Voka blijven we ons inzetten voor het stimuleren van economische groei, het bevorderen van ondernemerschap en het bieden van waardevolle kansen voor onze leden.\n",
    "\n",
    "    Graag zouden we daarom de campagne '{campagne_naam}' in de kijker zetten, volgens de vorige campagnes waar u interesse in toonde.\n",
    "\n",
    "    Samen kunnen we groeien, innoveren en een positieve impact hebben op de Vlaamse zakelijke gemeenschap.\n",
    "\n",
    "    Wij danken u hartelijk voor uw voortdurende steun en betrokkenheid bij Voka. Samen bouwen we aan een sterke en dynamische zakelijke toekomst.\n",
    "    \"\"\"\n",
    "\n",
    "    print(email_text)\n",
    "    break\n"
   ]
  }
 ],
 "metadata": {
  "kernelspec": {
   "display_name": "venv",
   "language": "python",
   "name": "python3"
  },
  "language_info": {
   "codemirror_mode": {
    "name": "ipython",
    "version": 3
   },
   "file_extension": ".py",
   "mimetype": "text/x-python",
   "name": "python",
   "nbconvert_exporter": "python",
   "pygments_lexer": "ipython3",
   "version": "3.10.7"
  }
 },
 "nbformat": 4,
 "nbformat_minor": 2
}

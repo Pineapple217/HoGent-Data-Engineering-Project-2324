{
 "cells": [
  {
   "cell_type": "markdown",
   "metadata": {},
   "source": [
    "# LightFM model epic 5"
   ]
  },
  {
   "cell_type": "markdown",
   "metadata": {},
   "source": [
    "Deze notebook implementeert een hybride LightFM aanbevelingssysteem met zowel item- als gebruikerskenmerken. Deze kenmerken worden gebruikt om cold start problemen aan te pakken, zodat nieuwe gebruikers en items kunnen worden aanbevolen. Data wordt geladen vanuit een materialized view en zorgvuldig voorbereid voor gebruik in het model. Het model wordt getraind en voornamelijk geëvalueerd op basis van de AUC-score. AUC berekent de kans dat een willekeurig gekozen relevant item hoger scoort dan een willekeurig gekozen irrelevant item. Een hoge AUC-score betekent dat het model beter is in het voorspellen van relevante items en dus een goed aanbevelingssysteem vormt. \n",
    "\n",
    "Hier heeft het hybride model een lagere AUC-score (0.64) dan een zuiver collaboratief filteringmodel (0.78). Dit is waarschijnlijk te wijten aan het feit dat de kenmerken niet zo informatief blijken te zijn, vooral de thema's in de gebruikerskenmerken. Het is echter mogelijk dat het model beter presteert als de kenmerken worden verbeterd. De hybrid wordt toch verkozen boven het collaboratief filteringmodel omdat het model meer flexibiliteit biedt en *cold start* problemen aanpakt. De kenmerken kunnen eventueel in det toekomst verbeterd worden binnen de datacollectie zelf, en kunnen desnoods verwijderd worden."
   ]
  },
  {
   "cell_type": "markdown",
   "metadata": {},
   "source": [
    "## 0. Documentatie"
   ]
  },
  {
   "cell_type": "markdown",
   "metadata": {},
   "source": [
    "[Artikel LightFM](https://medium.com/@speedfirefox1/games-recommender-system-using-lightfm-on-steam-dataset-76b05de4c187)\n",
    "\n",
    "[Documentatie LightFM](https://making.lyst.com/lightfm/docs/index.html)"
   ]
  },
  {
   "cell_type": "markdown",
   "metadata": {},
   "source": [
    "## 1. Imports"
   ]
  },
  {
   "cell_type": "code",
   "execution_count": 3,
   "metadata": {},
   "outputs": [],
   "source": [
    "import os\n",
    "import pickle\n",
    "import sqlalchemy\n",
    "import numpy as np\n",
    "import pandas as pd\n",
    "from tqdm import tqdm\n",
    "from dotenv import load_dotenv\n",
    "from lightfm.data import Dataset\n",
    "from lightfm.evaluation import auc_score\n",
    "from sqlalchemy import create_engine, text\n",
    "from lightfm.evaluation import recall_at_k\n",
    "from lightfm.evaluation import precision_at_k\n",
    "from lightfm import LightFM, cross_validation"
   ]
  },
  {
   "cell_type": "markdown",
   "metadata": {},
   "source": [
    "## 2. Variabelen"
   ]
  },
  {
   "cell_type": "code",
   "execution_count": 4,
   "metadata": {},
   "outputs": [],
   "source": [
    "# LightFM model parameters\n",
    "SEED = 42\n",
    "NO_THREADS = 8\n",
    "NO_EPOCHS = 15\n",
    "NO_COMPONENTS = 20\n",
    "TEST_PERCENTAGE = 0.1\n",
    "LEARNING_RATE = 0.2\n",
    "ITEM_ALPHA = 1e-7\n",
    "USER_ALPHA = 1e-7\n",
    "LOSS = 'logistic'\n",
    "# Pickle\n",
    "CHECKPOINT = 'LightFM'"
   ]
  },
  {
   "cell_type": "markdown",
   "metadata": {},
   "source": [
    "## 3. Data inladen"
   ]
  },
  {
   "cell_type": "code",
   "execution_count": 5,
   "metadata": {},
   "outputs": [
    {
     "name": "stdout",
     "output_type": "stream",
     "text": [
      "Successfully connected to the database\n",
      "SQLAlchemy version: 2.0.21\n"
     ]
    }
   ],
   "source": [
    "load_dotenv()\n",
    "DB_URL = os.getenv(\"DB_URL\")\n",
    "engine = create_engine(DB_URL)\n",
    "\n",
    "try:\n",
    "    connection = engine.connect()\n",
    "    print(\"Successfully connected to the database\")\n",
    "except Exception as e:\n",
    "    print(f\"Failed to connect to the database: {e}\")\n",
    "\n",
    "print(f\"SQLAlchemy version: {sqlalchemy.__version__}\")"
   ]
  },
  {
   "cell_type": "code",
   "execution_count": 6,
   "metadata": {},
   "outputs": [
    {
     "data": {
      "text/html": [
       "<div>\n",
       "<style scoped>\n",
       "    .dataframe tbody tr th:only-of-type {\n",
       "        vertical-align: middle;\n",
       "    }\n",
       "\n",
       "    .dataframe tbody tr th {\n",
       "        vertical-align: top;\n",
       "    }\n",
       "\n",
       "    .dataframe thead th {\n",
       "        text-align: right;\n",
       "    }\n",
       "</style>\n",
       "<table border=\"1\" class=\"dataframe\">\n",
       "  <thead>\n",
       "    <tr style=\"text-align: right;\">\n",
       "      <th></th>\n",
       "      <th>PersoonId</th>\n",
       "      <th>CampagneId</th>\n",
       "      <th>aantal_sessies</th>\n",
       "      <th>aantal_bezoeken</th>\n",
       "      <th>SessieThema</th>\n",
       "      <th>SoortCampagne</th>\n",
       "      <th>TypeCampagne</th>\n",
       "      <th>ThemaDuurzaamheid</th>\n",
       "      <th>ThemaFinancieelFiscaal</th>\n",
       "      <th>ThemaInnovatie</th>\n",
       "      <th>ThemaInternationaalOndernemen</th>\n",
       "      <th>ThemaMobiliteit</th>\n",
       "      <th>ThemaOmgeving</th>\n",
       "      <th>ThemaSalesMarketingCommunicatie</th>\n",
       "      <th>ThemaStrategieEnAlgemeenManagement</th>\n",
       "      <th>ThemaTalent</th>\n",
       "      <th>ThemaWelzijn</th>\n",
       "    </tr>\n",
       "  </thead>\n",
       "  <tbody>\n",
       "    <tr>\n",
       "      <th>0</th>\n",
       "      <td>CA75D311-2F3A-EB11-8118-001DD8B72B62</td>\n",
       "      <td>CA56CAFB-4E35-EB11-8116-001DD8B72B61</td>\n",
       "      <td>1</td>\n",
       "      <td>0</td>\n",
       "      <td>Communicatie</td>\n",
       "      <td>Online</td>\n",
       "      <td>Opleiding</td>\n",
       "      <td>0</td>\n",
       "      <td>0</td>\n",
       "      <td>0</td>\n",
       "      <td>0</td>\n",
       "      <td>0</td>\n",
       "      <td>0</td>\n",
       "      <td>0</td>\n",
       "      <td>0</td>\n",
       "      <td>0</td>\n",
       "      <td>0</td>\n",
       "    </tr>\n",
       "    <tr>\n",
       "      <th>1</th>\n",
       "      <td>9442B53E-E267-E111-A00F-00505680000A</td>\n",
       "      <td>7E04D7C8-59FC-EC11-82E5-000D3A3A954E</td>\n",
       "      <td>1</td>\n",
       "      <td>0</td>\n",
       "      <td>Netwerking</td>\n",
       "      <td>Offline</td>\n",
       "      <td>Netwerkevenement</td>\n",
       "      <td>0</td>\n",
       "      <td>0</td>\n",
       "      <td>0</td>\n",
       "      <td>0</td>\n",
       "      <td>0</td>\n",
       "      <td>0</td>\n",
       "      <td>0</td>\n",
       "      <td>0</td>\n",
       "      <td>0</td>\n",
       "      <td>0</td>\n",
       "    </tr>\n",
       "    <tr>\n",
       "      <th>2</th>\n",
       "      <td>969F7BEB-BB2B-E611-BEEF-005056B06EB4</td>\n",
       "      <td>0BB4BF28-C3C4-EC11-A7B6-000D3A497E09</td>\n",
       "      <td>1</td>\n",
       "      <td>1</td>\n",
       "      <td>Netwerking</td>\n",
       "      <td>Offline</td>\n",
       "      <td>Netwerkevenement</td>\n",
       "      <td>0</td>\n",
       "      <td>0</td>\n",
       "      <td>0</td>\n",
       "      <td>0</td>\n",
       "      <td>0</td>\n",
       "      <td>0</td>\n",
       "      <td>0</td>\n",
       "      <td>0</td>\n",
       "      <td>0</td>\n",
       "      <td>0</td>\n",
       "    </tr>\n",
       "    <tr>\n",
       "      <th>3</th>\n",
       "      <td>AC1392A3-EBD4-E711-80EE-001DD8B72B61</td>\n",
       "      <td>023C77E0-5ADE-E711-80EE-001DD8B72B61</td>\n",
       "      <td>3</td>\n",
       "      <td>0</td>\n",
       "      <td>Opvolging en Overname</td>\n",
       "      <td>Offline</td>\n",
       "      <td>Opleiding</td>\n",
       "      <td>0</td>\n",
       "      <td>0</td>\n",
       "      <td>0</td>\n",
       "      <td>0</td>\n",
       "      <td>0</td>\n",
       "      <td>0</td>\n",
       "      <td>0</td>\n",
       "      <td>0</td>\n",
       "      <td>0</td>\n",
       "      <td>0</td>\n",
       "    </tr>\n",
       "    <tr>\n",
       "      <th>4</th>\n",
       "      <td>0DEE595B-4B69-E111-B43A-00505680000A</td>\n",
       "      <td>320F556D-A72D-EC11-8124-001DD8B72B61</td>\n",
       "      <td>1</td>\n",
       "      <td>0</td>\n",
       "      <td>Familiebedrijven</td>\n",
       "      <td>Offline</td>\n",
       "      <td>Netwerkevenement</td>\n",
       "      <td>0</td>\n",
       "      <td>0</td>\n",
       "      <td>0</td>\n",
       "      <td>0</td>\n",
       "      <td>0</td>\n",
       "      <td>0</td>\n",
       "      <td>0</td>\n",
       "      <td>0</td>\n",
       "      <td>0</td>\n",
       "      <td>0</td>\n",
       "    </tr>\n",
       "  </tbody>\n",
       "</table>\n",
       "</div>"
      ],
      "text/plain": [
       "                              PersoonId                            CampagneId  \\\n",
       "0  CA75D311-2F3A-EB11-8118-001DD8B72B62  CA56CAFB-4E35-EB11-8116-001DD8B72B61   \n",
       "1  9442B53E-E267-E111-A00F-00505680000A  7E04D7C8-59FC-EC11-82E5-000D3A3A954E   \n",
       "2  969F7BEB-BB2B-E611-BEEF-005056B06EB4  0BB4BF28-C3C4-EC11-A7B6-000D3A497E09   \n",
       "3  AC1392A3-EBD4-E711-80EE-001DD8B72B61  023C77E0-5ADE-E711-80EE-001DD8B72B61   \n",
       "4  0DEE595B-4B69-E111-B43A-00505680000A  320F556D-A72D-EC11-8124-001DD8B72B61   \n",
       "\n",
       "   aantal_sessies  aantal_bezoeken            SessieThema SoortCampagne  \\\n",
       "0               1                0           Communicatie        Online   \n",
       "1               1                0             Netwerking       Offline   \n",
       "2               1                1             Netwerking       Offline   \n",
       "3               3                0  Opvolging en Overname       Offline   \n",
       "4               1                0       Familiebedrijven       Offline   \n",
       "\n",
       "       TypeCampagne  ThemaDuurzaamheid  ThemaFinancieelFiscaal  \\\n",
       "0         Opleiding                  0                       0   \n",
       "1  Netwerkevenement                  0                       0   \n",
       "2  Netwerkevenement                  0                       0   \n",
       "3         Opleiding                  0                       0   \n",
       "4  Netwerkevenement                  0                       0   \n",
       "\n",
       "   ThemaInnovatie  ThemaInternationaalOndernemen  ThemaMobiliteit  \\\n",
       "0               0                              0                0   \n",
       "1               0                              0                0   \n",
       "2               0                              0                0   \n",
       "3               0                              0                0   \n",
       "4               0                              0                0   \n",
       "\n",
       "   ThemaOmgeving  ThemaSalesMarketingCommunicatie  \\\n",
       "0              0                                0   \n",
       "1              0                                0   \n",
       "2              0                                0   \n",
       "3              0                                0   \n",
       "4              0                                0   \n",
       "\n",
       "   ThemaStrategieEnAlgemeenManagement  ThemaTalent  ThemaWelzijn  \n",
       "0                                   0            0             0  \n",
       "1                                   0            0             0  \n",
       "2                                   0            0             0  \n",
       "3                                   0            0             0  \n",
       "4                                   0            0             0  "
      ]
     },
     "execution_count": 6,
     "metadata": {},
     "output_type": "execute_result"
    }
   ],
   "source": [
    "# materialized view\n",
    "query = text('SELECT * FROM epic_5')\n",
    "\n",
    "try:\n",
    "    df = pd.read_sql_query(query, connection)\n",
    "except Exception as e:\n",
    "    print(f\"Failed to execute query: {e}\")\n",
    "\n",
    "df.head()"
   ]
  },
  {
   "cell_type": "code",
   "execution_count": 7,
   "metadata": {},
   "outputs": [
    {
     "name": "stdout",
     "output_type": "stream",
     "text": [
      "<class 'pandas.core.frame.DataFrame'>\n",
      "RangeIndex: 52567 entries, 0 to 52566\n",
      "Data columns (total 17 columns):\n",
      " #   Column                              Non-Null Count  Dtype \n",
      "---  ------                              --------------  ----- \n",
      " 0   PersoonId                           52567 non-null  object\n",
      " 1   CampagneId                          52567 non-null  object\n",
      " 2   aantal_sessies                      52567 non-null  int64 \n",
      " 3   aantal_bezoeken                     52567 non-null  int64 \n",
      " 4   SessieThema                         52567 non-null  object\n",
      " 5   SoortCampagne                       52567 non-null  object\n",
      " 6   TypeCampagne                        52567 non-null  object\n",
      " 7   ThemaDuurzaamheid                   52567 non-null  int64 \n",
      " 8   ThemaFinancieelFiscaal              52567 non-null  int64 \n",
      " 9   ThemaInnovatie                      52567 non-null  int64 \n",
      " 10  ThemaInternationaalOndernemen       52567 non-null  int64 \n",
      " 11  ThemaMobiliteit                     52567 non-null  int64 \n",
      " 12  ThemaOmgeving                       52567 non-null  int64 \n",
      " 13  ThemaSalesMarketingCommunicatie     52567 non-null  int64 \n",
      " 14  ThemaStrategieEnAlgemeenManagement  52567 non-null  int64 \n",
      " 15  ThemaTalent                         52567 non-null  int64 \n",
      " 16  ThemaWelzijn                        52567 non-null  int64 \n",
      "dtypes: int64(12), object(5)\n",
      "memory usage: 6.8+ MB\n"
     ]
    }
   ],
   "source": [
    "df.info()"
   ]
  },
  {
   "cell_type": "markdown",
   "metadata": {},
   "source": [
    "## 4. Data voorbereiden"
   ]
  },
  {
   "cell_type": "code",
   "execution_count": 8,
   "metadata": {},
   "outputs": [],
   "source": [
    "# binaire integers van persoon thema's omzetten naar binaire strings voor betere leesbaarheid\n",
    "\n",
    "columns = ['ThemaDuurzaamheid', 'ThemaFinancieelFiscaal', 'ThemaInnovatie', 'ThemaInternationaalOndernemen', \n",
    "           'ThemaMobiliteit', 'ThemaOmgeving', 'ThemaSalesMarketingCommunicatie', \n",
    "           'ThemaStrategieEnAlgemeenManagement', 'ThemaTalent', 'ThemaWelzijn']\n",
    "\n",
    "for col in columns:\n",
    "    df[col] = df[col].replace({0: col + '_False', 1: col + '_True'})"
   ]
  },
  {
   "cell_type": "code",
   "execution_count": 9,
   "metadata": {},
   "outputs": [],
   "source": [
    "# aantal bezoeken laten vallen, focus ligt op aantal_sessies\n",
    "df.drop('aantal_bezoeken', axis=1, inplace=True)"
   ]
  },
  {
   "cell_type": "code",
   "execution_count": 10,
   "metadata": {},
   "outputs": [
    {
     "data": {
      "text/html": [
       "<div>\n",
       "<style scoped>\n",
       "    .dataframe tbody tr th:only-of-type {\n",
       "        vertical-align: middle;\n",
       "    }\n",
       "\n",
       "    .dataframe tbody tr th {\n",
       "        vertical-align: top;\n",
       "    }\n",
       "\n",
       "    .dataframe thead th {\n",
       "        text-align: right;\n",
       "    }\n",
       "</style>\n",
       "<table border=\"1\" class=\"dataframe\">\n",
       "  <thead>\n",
       "    <tr style=\"text-align: right;\">\n",
       "      <th></th>\n",
       "      <th>PersoonId</th>\n",
       "      <th>CampagneId</th>\n",
       "      <th>aantal_sessies</th>\n",
       "      <th>SessieThema</th>\n",
       "      <th>SoortCampagne</th>\n",
       "      <th>TypeCampagne</th>\n",
       "      <th>ThemaDuurzaamheid</th>\n",
       "      <th>ThemaFinancieelFiscaal</th>\n",
       "      <th>ThemaInnovatie</th>\n",
       "      <th>ThemaInternationaalOndernemen</th>\n",
       "      <th>ThemaMobiliteit</th>\n",
       "      <th>ThemaOmgeving</th>\n",
       "      <th>ThemaSalesMarketingCommunicatie</th>\n",
       "      <th>ThemaStrategieEnAlgemeenManagement</th>\n",
       "      <th>ThemaTalent</th>\n",
       "      <th>ThemaWelzijn</th>\n",
       "    </tr>\n",
       "  </thead>\n",
       "  <tbody>\n",
       "    <tr>\n",
       "      <th>0</th>\n",
       "      <td>CA75D311-2F3A-EB11-8118-001DD8B72B62</td>\n",
       "      <td>CA56CAFB-4E35-EB11-8116-001DD8B72B61</td>\n",
       "      <td>1</td>\n",
       "      <td>Communicatie</td>\n",
       "      <td>Online</td>\n",
       "      <td>Opleiding</td>\n",
       "      <td>ThemaDuurzaamheid_False</td>\n",
       "      <td>ThemaFinancieelFiscaal_False</td>\n",
       "      <td>ThemaInnovatie_False</td>\n",
       "      <td>ThemaInternationaalOndernemen_False</td>\n",
       "      <td>ThemaMobiliteit_False</td>\n",
       "      <td>ThemaOmgeving_False</td>\n",
       "      <td>ThemaSalesMarketingCommunicatie_False</td>\n",
       "      <td>ThemaStrategieEnAlgemeenManagement_False</td>\n",
       "      <td>ThemaTalent_False</td>\n",
       "      <td>ThemaWelzijn_False</td>\n",
       "    </tr>\n",
       "  </tbody>\n",
       "</table>\n",
       "</div>"
      ],
      "text/plain": [
       "                              PersoonId                            CampagneId  \\\n",
       "0  CA75D311-2F3A-EB11-8118-001DD8B72B62  CA56CAFB-4E35-EB11-8116-001DD8B72B61   \n",
       "\n",
       "   aantal_sessies   SessieThema SoortCampagne TypeCampagne  \\\n",
       "0               1  Communicatie        Online    Opleiding   \n",
       "\n",
       "         ThemaDuurzaamheid        ThemaFinancieelFiscaal  \\\n",
       "0  ThemaDuurzaamheid_False  ThemaFinancieelFiscaal_False   \n",
       "\n",
       "         ThemaInnovatie        ThemaInternationaalOndernemen  \\\n",
       "0  ThemaInnovatie_False  ThemaInternationaalOndernemen_False   \n",
       "\n",
       "         ThemaMobiliteit        ThemaOmgeving  \\\n",
       "0  ThemaMobiliteit_False  ThemaOmgeving_False   \n",
       "\n",
       "         ThemaSalesMarketingCommunicatie  \\\n",
       "0  ThemaSalesMarketingCommunicatie_False   \n",
       "\n",
       "         ThemaStrategieEnAlgemeenManagement        ThemaTalent  \\\n",
       "0  ThemaStrategieEnAlgemeenManagement_False  ThemaTalent_False   \n",
       "\n",
       "         ThemaWelzijn  \n",
       "0  ThemaWelzijn_False  "
      ]
     },
     "execution_count": 10,
     "metadata": {},
     "output_type": "execute_result"
    }
   ],
   "source": [
    "df.head(1)"
   ]
  },
  {
   "cell_type": "code",
   "execution_count": 11,
   "metadata": {},
   "outputs": [
    {
     "name": "stdout",
     "output_type": "stream",
     "text": [
      "['Communicatie', 'Netwerking', 'Opvolging en Overname', 'Familiebedrijven', 'Marketing & Sales', 'Duurzaam Ondernemen', 'Unknown', 'Haven', 'Ruimtelijke ordening en Infrastructuur', 'Human Resources', 'Innovatie', 'Algemeen Management', 'Internationaal Ondernemen', 'Starten', 'Financieel', 'Digitalisering, IT & Technologie', 'Welt 2.0-2023', 'Welt 2.0', 'Groeien', 'Bryo', 'Arbeidsmarkt', 'Jong Voka', 'Opleidingen', 'Plato', 'Onderwijs', 'Economie', 'Strategie', 'Milieu', 'Logistiek en Transport', 'Lidmaatschap', 'Welt', 'Juridisch', 'Veiligheid & Preventie', 'Mobiliteit', 'Energie', 'Supply Chain', 'Coronavirus', 'Persoonlijke vaardigheden', 'Aankoop', 'Retail', 'Aantrekkelijke regio', 'Online', 'Offline', 'On en Offline', 'Opleiding', 'Netwerkevenement', 'Project', 'Infosessie', 'Campagne', 'Projectgebonden']\n",
      "['ThemaDuurzaamheid_False', 'ThemaDuurzaamheid_True', 'ThemaFinancieelFiscaal_False', 'ThemaFinancieelFiscaal_True', 'ThemaInnovatie_False', 'ThemaInnovatie_True', 'ThemaInternationaalOndernemen_False', 'ThemaInternationaalOndernemen_True', 'ThemaMobiliteit_False', 'ThemaMobiliteit_True', 'ThemaOmgeving_False', 'ThemaOmgeving_True', 'ThemaSalesMarketingCommunicatie_False', 'ThemaSalesMarketingCommunicatie_True', 'ThemaStrategieEnAlgemeenManagement_False', 'ThemaStrategieEnAlgemeenManagement_True', 'ThemaTalent_False', 'ThemaTalent_True', 'ThemaWelzijn_False', 'ThemaWelzijn_True']\n"
     ]
    }
   ],
   "source": [
    "# item_features en user_features invullen voor lightFM\n",
    "\n",
    "item_cols = ['SessieThema', 'SoortCampagne', 'TypeCampagne']\n",
    "user_cols = ['ThemaDuurzaamheid', 'ThemaFinancieelFiscaal', 'ThemaInnovatie', 'ThemaInternationaalOndernemen', 'ThemaMobiliteit', 'ThemaOmgeving', 'ThemaSalesMarketingCommunicatie', 'ThemaStrategieEnAlgemeenManagement', 'ThemaTalent', 'ThemaWelzijn']\n",
    "\n",
    "all_item_features = np.concatenate([df[col].unique() for col in item_cols]).tolist()\n",
    "all_user_features = np.concatenate([df[col].unique() for col in user_cols]).tolist()\n",
    "\n",
    "print(all_item_features)\n",
    "print(all_user_features)"
   ]
  },
  {
   "cell_type": "code",
   "execution_count": 12,
   "metadata": {},
   "outputs": [],
   "source": [
    "# dataframes van items en users, id's met features\n",
    "\n",
    "items = df[['CampagneId'] + item_cols]\n",
    "users = df[['PersoonId'] + user_cols]"
   ]
  },
  {
   "cell_type": "code",
   "execution_count": 13,
   "metadata": {},
   "outputs": [],
   "source": [
    "# toch groeperen op aantal sessies per persoon per campagne, geen scheiding tussen sessiethema\n",
    "df = df.groupby(['PersoonId', 'CampagneId'])['aantal_sessies'].sum().reset_index()"
   ]
  },
  {
   "cell_type": "code",
   "execution_count": 14,
   "metadata": {},
   "outputs": [
    {
     "name": "stdout",
     "output_type": "stream",
     "text": [
      "Num users: 16688, num_items: 1979\n"
     ]
    }
   ],
   "source": [
    "# zie LightFM documentatie voor uitleg over Dataset\n",
    "\n",
    "dataset = Dataset()\n",
    "\n",
    "dataset.fit(\n",
    "    users=df['PersoonId'],\n",
    "    items=df['CampagneId'],\n",
    "    user_features=all_user_features,\n",
    "    item_features=all_item_features\n",
    ")\n",
    "\n",
    "num_users, num_items = dataset.interactions_shape()\n",
    "print(f'Num users: {num_users}, num_items: {num_items}')"
   ]
  },
  {
   "cell_type": "code",
   "execution_count": 15,
   "metadata": {},
   "outputs": [],
   "source": [
    "# interactie matrix tussen users en items, met aantal sessies als rating\n",
    "(interactions, weights) = dataset.build_interactions(zip(df['PersoonId'], df['CampagneId'], df['aantal_sessies']))"
   ]
  },
  {
   "cell_type": "code",
   "execution_count": 16,
   "metadata": {},
   "outputs": [],
   "source": [
    "# interactie matrix splitsen in train- en testset\n",
    "\n",
    "train_interactions, test_interactions = cross_validation.random_train_test_split(\n",
    "    interactions, test_percentage=TEST_PERCENTAGE,\n",
    "    random_state=np.random.RandomState(seed=SEED)\n",
    ")"
   ]
  },
  {
   "cell_type": "code",
   "execution_count": 17,
   "metadata": {},
   "outputs": [
    {
     "name": "stdout",
     "output_type": "stream",
     "text": [
      "Shape of train interactions: (16688, 1979)\n",
      "Shape of test interactions: (16688, 1979)\n"
     ]
    }
   ],
   "source": [
    "# testen of de splitsing gelijk verdeeld is\n",
    "\n",
    "print(f\"Shape of train interactions: {train_interactions.shape}\")\n",
    "print(f\"Shape of test interactions: {test_interactions.shape}\")"
   ]
  },
  {
   "cell_type": "code",
   "execution_count": 18,
   "metadata": {},
   "outputs": [],
   "source": [
    "# tupels maken van item id's met bijhorende features\n",
    "\n",
    "def item_feature_generator():\n",
    "    for _, row in items.iterrows():\n",
    "        features = row.values[1:]\n",
    "        yield (row['CampagneId'], features)\n",
    "\n",
    "def user_feature_generator():\n",
    "    for _, row in users.iterrows():\n",
    "        features = row.values[1:]\n",
    "        yield (row['PersoonId'], features)"
   ]
  },
  {
   "cell_type": "code",
   "execution_count": 19,
   "metadata": {},
   "outputs": [
    {
     "name": "stdout",
     "output_type": "stream",
     "text": [
      "Item ID: CA56CAFB-4E35-EB11-8116-001DD8B72B61, Item Features: ['Communicatie' 'Online' 'Opleiding']\n"
     ]
    }
   ],
   "source": [
    "# test print om de item tupels te bekijken\n",
    "\n",
    "item_id, item_features = next(item_feature_generator())\n",
    "print(f\"Item ID: {item_id}, Item Features: {item_features}\")"
   ]
  },
  {
   "cell_type": "code",
   "execution_count": 20,
   "metadata": {},
   "outputs": [
    {
     "name": "stdout",
     "output_type": "stream",
     "text": [
      "User ID: CA75D311-2F3A-EB11-8118-001DD8B72B62, User Features: ['ThemaDuurzaamheid_False' 'ThemaFinancieelFiscaal_False'\n",
      " 'ThemaInnovatie_False' 'ThemaInternationaalOndernemen_False'\n",
      " 'ThemaMobiliteit_False' 'ThemaOmgeving_False'\n",
      " 'ThemaSalesMarketingCommunicatie_False'\n",
      " 'ThemaStrategieEnAlgemeenManagement_False' 'ThemaTalent_False'\n",
      " 'ThemaWelzijn_False']\n"
     ]
    }
   ],
   "source": [
    "# test print om de user tupels te bekijken\n",
    "\n",
    "user_id, user_features = next(user_feature_generator())\n",
    "print(f\"User ID: {user_id}, User Features: {user_features}\")"
   ]
  },
  {
   "cell_type": "code",
   "execution_count": 21,
   "metadata": {},
   "outputs": [],
   "source": [
    "# feature matrices maken om later te gebruiken in het model\n",
    "\n",
    "item_features = dataset.build_item_features((item_id, item_feature) for item_id, item_feature in item_feature_generator())\n",
    "user_features = dataset.build_user_features((user_id, user_feature) for user_id, user_feature in user_feature_generator())"
   ]
  },
  {
   "cell_type": "markdown",
   "metadata": {},
   "source": [
    "## 5. Model trainen"
   ]
  },
  {
   "cell_type": "code",
   "execution_count": 22,
   "metadata": {},
   "outputs": [],
   "source": [
    "# meegegeven parameters voor LightFM model, zie variabelen bovenaan\n",
    "\n",
    "model = LightFM(\n",
    "    no_components=NO_COMPONENTS,\n",
    "    learning_rate=LEARNING_RATE,\n",
    "    random_state=np.random.RandomState(SEED),\n",
    "    loss=LOSS,\n",
    "    item_alpha=ITEM_ALPHA,\n",
    "    user_alpha=USER_ALPHA\n",
    ")"
   ]
  },
  {
   "cell_type": "code",
   "execution_count": 23,
   "metadata": {},
   "outputs": [],
   "source": [
    "# model exporteren\n",
    "\n",
    "def save_model(model):\n",
    "    with open(f'{CHECKPOINT}.pickle', 'wb') as fle:\n",
    "        pickle.dump(model, fle, protocol=pickle.HIGHEST_PROTOCOL)"
   ]
  },
  {
   "cell_type": "code",
   "execution_count": 24,
   "metadata": {},
   "outputs": [
    {
     "name": "stderr",
     "output_type": "stream",
     "text": [
      "  7%|▋         | 1/15 [00:12<02:53, 12.43s/it]"
     ]
    },
    {
     "name": "stdout",
     "output_type": "stream",
     "text": [
      "Epoch 1/15, Train AUC: 0.619840681552887, Test AUC: 0.6328714489936829\n"
     ]
    },
    {
     "name": "stderr",
     "output_type": "stream",
     "text": [
      " 13%|█▎        | 2/15 [00:24<02:41, 12.45s/it]"
     ]
    },
    {
     "name": "stdout",
     "output_type": "stream",
     "text": [
      "Epoch 2/15, Train AUC: 0.621476411819458, Test AUC: 0.6345963478088379\n"
     ]
    },
    {
     "name": "stderr",
     "output_type": "stream",
     "text": [
      " 20%|██        | 3/15 [00:36<02:27, 12.28s/it]"
     ]
    },
    {
     "name": "stdout",
     "output_type": "stream",
     "text": [
      "Epoch 3/15, Train AUC: 0.6225326657295227, Test AUC: 0.6356953382492065\n"
     ]
    },
    {
     "name": "stderr",
     "output_type": "stream",
     "text": [
      " 27%|██▋       | 4/15 [00:49<02:17, 12.47s/it]"
     ]
    },
    {
     "name": "stdout",
     "output_type": "stream",
     "text": [
      "Epoch 4/15, Train AUC: 0.6233119368553162, Test AUC: 0.6364351511001587\n"
     ]
    },
    {
     "name": "stderr",
     "output_type": "stream",
     "text": [
      " 33%|███▎      | 5/15 [01:02<02:06, 12.60s/it]"
     ]
    },
    {
     "name": "stdout",
     "output_type": "stream",
     "text": [
      "Epoch 5/15, Train AUC: 0.6238833665847778, Test AUC: 0.6369789838790894\n"
     ]
    },
    {
     "name": "stderr",
     "output_type": "stream",
     "text": [
      " 40%|████      | 6/15 [01:14<01:52, 12.50s/it]"
     ]
    },
    {
     "name": "stdout",
     "output_type": "stream",
     "text": [
      "Epoch 6/15, Train AUC: 0.6242479681968689, Test AUC: 0.6373438239097595\n"
     ]
    },
    {
     "name": "stderr",
     "output_type": "stream",
     "text": [
      " 47%|████▋     | 7/15 [01:27<01:41, 12.68s/it]"
     ]
    },
    {
     "name": "stdout",
     "output_type": "stream",
     "text": [
      "Epoch 7/15, Train AUC: 0.6246291399002075, Test AUC: 0.6377169489860535\n"
     ]
    },
    {
     "name": "stderr",
     "output_type": "stream",
     "text": [
      " 53%|█████▎    | 8/15 [01:40<01:28, 12.61s/it]"
     ]
    },
    {
     "name": "stdout",
     "output_type": "stream",
     "text": [
      "Epoch 8/15, Train AUC: 0.6249518990516663, Test AUC: 0.6380428075790405\n"
     ]
    },
    {
     "name": "stderr",
     "output_type": "stream",
     "text": [
      " 60%|██████    | 9/15 [01:52<01:15, 12.56s/it]"
     ]
    },
    {
     "name": "stdout",
     "output_type": "stream",
     "text": [
      "Epoch 9/15, Train AUC: 0.6251904964447021, Test AUC: 0.6382948160171509\n"
     ]
    },
    {
     "name": "stderr",
     "output_type": "stream",
     "text": [
      " 67%|██████▋   | 10/15 [02:05<01:02, 12.47s/it]"
     ]
    },
    {
     "name": "stdout",
     "output_type": "stream",
     "text": [
      "Epoch 10/15, Train AUC: 0.6254053711891174, Test AUC: 0.6385499835014343\n"
     ]
    },
    {
     "name": "stderr",
     "output_type": "stream",
     "text": [
      " 73%|███████▎  | 11/15 [02:17<00:49, 12.49s/it]"
     ]
    },
    {
     "name": "stdout",
     "output_type": "stream",
     "text": [
      "Epoch 11/15, Train AUC: 0.6256507039070129, Test AUC: 0.6388140320777893\n"
     ]
    },
    {
     "name": "stderr",
     "output_type": "stream",
     "text": [
      " 80%|████████  | 12/15 [02:29<00:37, 12.45s/it]"
     ]
    },
    {
     "name": "stdout",
     "output_type": "stream",
     "text": [
      "Epoch 12/15, Train AUC: 0.6258955001831055, Test AUC: 0.639079213142395\n"
     ]
    },
    {
     "name": "stderr",
     "output_type": "stream",
     "text": [
      " 87%|████████▋ | 13/15 [02:42<00:24, 12.47s/it]"
     ]
    },
    {
     "name": "stdout",
     "output_type": "stream",
     "text": [
      "Epoch 13/15, Train AUC: 0.6261444091796875, Test AUC: 0.6392804384231567\n"
     ]
    },
    {
     "name": "stderr",
     "output_type": "stream",
     "text": [
      " 93%|█████████▎| 14/15 [02:54<00:12, 12.45s/it]"
     ]
    },
    {
     "name": "stdout",
     "output_type": "stream",
     "text": [
      "Epoch 14/15, Train AUC: 0.6263439655303955, Test AUC: 0.6394516825675964\n"
     ]
    },
    {
     "name": "stderr",
     "output_type": "stream",
     "text": [
      "100%|██████████| 15/15 [03:07<00:00, 12.51s/it]"
     ]
    },
    {
     "name": "stdout",
     "output_type": "stream",
     "text": [
      "Epoch 15/15, Train AUC: 0.6265164017677307, Test AUC: 0.6396564245223999\n"
     ]
    },
    {
     "name": "stderr",
     "output_type": "stream",
     "text": [
      "\n"
     ]
    }
   ],
   "source": [
    "# model trainen met epochs, de iteratie met de beste test AUC score wordt opgeslagen als model\n",
    "\n",
    "train_auc_history = []\n",
    "test_auc_history = []\n",
    "\n",
    "best_score = 0\n",
    "\n",
    "for epoch in tqdm(range(NO_EPOCHS)):\n",
    "    model.fit_partial(\n",
    "        interactions=train_interactions,\n",
    "        user_features=user_features,\n",
    "        item_features=item_features,\n",
    "        epochs=NO_EPOCHS,\n",
    "        num_threads=NO_THREADS\n",
    "    )\n",
    "\n",
    "    train_auc = auc_score(model, train_interactions, user_features=user_features, item_features=item_features).mean()\n",
    "    test_auc = auc_score(model, test_interactions, train_interactions, user_features=user_features, item_features=item_features).mean()\n",
    "\n",
    "    train_auc_history.append(train_auc)\n",
    "    test_auc_history.append(test_auc)\n",
    "\n",
    "    if test_auc > best_score:\n",
    "        best_score = test_auc\n",
    "        save_model(model)\n",
    "\n",
    "    print(f'Epoch {epoch + 1}/{NO_EPOCHS}, Train AUC: {train_auc}, Test AUC: {test_auc}')"
   ]
  },
  {
   "cell_type": "markdown",
   "metadata": {},
   "source": [
    "## 6. Model evalueren"
   ]
  },
  {
   "cell_type": "markdown",
   "metadata": {},
   "source": [
    "[Interpretatie metrics](https://stackoverflow.com/questions/45451161/evaluating-the-lightfm-recommendation-model/45466481#45466481)"
   ]
  },
  {
   "cell_type": "code",
   "execution_count": 25,
   "metadata": {},
   "outputs": [],
   "source": [
    "# metrics berekenen, vooral de AUC score is belangrijk hier voor de recommender system\n",
    "\n",
    "def calculate_metrics(model, test, train, item_features, user_features, k):\n",
    "    precision = precision_at_k(model=model, test_interactions=test, train_interactions=train, item_features=item_features, user_features=user_features, k=k).mean().round(5)\n",
    "    recall = recall_at_k(model=model, test_interactions=test, train_interactions=train, item_features=item_features, user_features=user_features, k=k).mean().round(5)\n",
    "    auc = auc_score(model=model, test_interactions=test, train_interactions=train, item_features=item_features, user_features=user_features).mean().round(5)\n",
    "    return print('Precision: ', precision, '\\nRecall: ', recall, '\\nAUC: ', auc)"
   ]
  },
  {
   "cell_type": "code",
   "execution_count": 26,
   "metadata": {},
   "outputs": [
    {
     "name": "stdout",
     "output_type": "stream",
     "text": [
      "Precision:  0.02914 \n",
      "Recall:  0.02006 \n",
      "AUC:  0.63966\n"
     ]
    }
   ],
   "source": [
    "calculate_metrics(model, test_interactions, train_interactions, item_features, user_features, 1)"
   ]
  },
  {
   "cell_type": "markdown",
   "metadata": {},
   "source": [
    "## 7. Model gebruiken"
   ]
  },
  {
   "cell_type": "code",
   "execution_count": 27,
   "metadata": {},
   "outputs": [
    {
     "name": "stdout",
     "output_type": "stream",
     "text": [
      "Top 5 recommended items for user: ['73134661-6938-EB11-8116-001DD8B72B61', '37245A1A-8082-EB11-811D-001DD8B72B62', '0B8EF091-0C47-EC11-8C62-6045BD8D273E', '334DEF40-3B80-ED11-81AD-6045BD895B5A', 'C7D7D4CB-6106-EC11-8123-001DD8B72B61']\n"
     ]
    }
   ],
   "source": [
    "\n",
    "def get_top_items_for_user(user_id):\n",
    "    \"\"\"\n",
    "    Retrieves the top 5 recommended items for a given user.\n",
    "\n",
    "    Parameters:\n",
    "    user_id (str): The ID of the user.\n",
    "\n",
    "    Returns:\n",
    "    str: A string indicating the top 5 recommended items for the user.\n",
    "    \"\"\"\n",
    "    \n",
    "    user_id_internal = dataset.mapping()[0][user_id]\n",
    "\n",
    "    item_ids_internal = np.array(list(dataset.mapping()[2].values()))\n",
    "\n",
    "    scores = model.predict(user_id_internal, item_ids_internal)\n",
    "\n",
    "    top_items_indices = np.argsort(-scores)[:5]\n",
    "\n",
    "    top_items_ids = [list(dataset.mapping()[2].keys())[i] for i in top_items_indices]\n",
    "\n",
    "    return f'Top 5 recommended items for user: {top_items_ids}'\n",
    "\n",
    "print(get_top_items_for_user('6E42A199-9F70-E911-80FE-001DD8B72B62'))"
   ]
  },
  {
   "cell_type": "markdown",
   "metadata": {},
   "source": [
    "Onderstaande functie is het antwoord op epic 5"
   ]
  },
  {
   "cell_type": "code",
   "execution_count": 28,
   "metadata": {},
   "outputs": [
    {
     "name": "stdout",
     "output_type": "stream",
     "text": [
      "Top 20 recommended users for item: ['F49C652D-F83D-EB11-8116-001DD8B72B61', 'ACD7EB0E-7DCC-EC11-A7B5-000D3ABB7D90', '9243B91F-13D1-E811-80F6-001DD8B72B62', '1B9EC4B9-0568-E111-A00F-00505680000A', '93BFA2D9-1368-E111-A00F-00505680000A', 'D4EDF4D6-5169-E111-B43A-00505680000A', '6D728DFF-0792-E711-80EB-001DD8B72B62', '79068084-DE8E-EA11-810F-001DD8B72B61', '32AF1A80-5269-E111-B43A-00505680000A', '8AAE9250-FC4D-ED11-BBA3-6045BD895D85', 'B69A7355-F467-E111-A00F-00505680000A', '29D9D2DD-5BBA-E311-9A5C-005056B06EB4', '414DF096-2268-E111-A00F-00505680000A', '8E16B4A4-0CD6-EA11-8114-001DD8B72B62', '4E30ADDE-23FA-ED11-8849-000D3A4AB78E', '27510C40-3A8F-ED11-AAD1-6045BD895BFB', 'F2721807-ED09-EA11-8107-001DD8B72B62', '4AF8600F-B83A-EB11-8116-001DD8B72B61', '8AF61AD2-7A6F-EA11-8110-001DD8B72B62', 'BF389053-3491-EB11-811E-001DD8B72B62']\n"
     ]
    }
   ],
   "source": [
    "def get_top_users_for_item(item_id):\n",
    "    \"\"\"\n",
    "    Returns the top 20 recommended users for a given item.\n",
    "\n",
    "    Parameters:\n",
    "    item_id (str): The ID of the item.\n",
    "\n",
    "    Returns:\n",
    "    str: A string containing the top 20 recommended users for the item.\n",
    "    \"\"\"\n",
    "    item_id_internal = dataset.mapping()[2][item_id]\n",
    "    \n",
    "    user_ids_internal = np.array(list(dataset.mapping()[0].values()))\n",
    "\n",
    "    scores = model.predict(user_ids_internal, np.repeat(item_id_internal, len(user_ids_internal)))\n",
    "\n",
    "    top_users_indices = np.argsort(-scores)[:20]\n",
    "\n",
    "    top_users_ids = [list(dataset.mapping()[0].keys())[i] for i in top_users_indices]\n",
    "\n",
    "    return f'Top 20 recommended users for item: {top_users_ids}'\n",
    "\n",
    "print(get_top_users_for_item('8FCA1D31-1EB7-E811-80F4-001DD8B72B62'))"
   ]
  }
 ],
 "metadata": {
  "kernelspec": {
   "display_name": "venv",
   "language": "python",
   "name": "python3"
  },
  "language_info": {
   "codemirror_mode": {
    "name": "ipython",
    "version": 3
   },
   "file_extension": ".py",
   "mimetype": "text/x-python",
   "name": "python",
   "nbconvert_exporter": "python",
   "pygments_lexer": "ipython3",
   "version": "3.10.7"
  }
 },
 "nbformat": 4,
 "nbformat_minor": 2
}

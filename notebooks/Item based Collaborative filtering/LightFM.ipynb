{
 "cells": [
  {
   "cell_type": "markdown",
   "metadata": {},
   "source": [
    "# LightFM model epic 5"
   ]
  },
  {
   "cell_type": "markdown",
   "metadata": {},
   "source": [
    "Uitgewerkt maar ruw concept van een hybride recommender system met LightFM."
   ]
  },
  {
   "cell_type": "markdown",
   "metadata": {},
   "source": [
    "## 0. Documentatie"
   ]
  },
  {
   "cell_type": "markdown",
   "metadata": {},
   "source": [
    "[Artikel LightFM](https://medium.com/@speedfirefox1/games-recommender-system-using-lightfm-on-steam-dataset-76b05de4c187)\n",
    "\n",
    "[Documentatie LightFM](https://making.lyst.com/lightfm/docs/index.html)"
   ]
  },
  {
   "cell_type": "markdown",
   "metadata": {},
   "source": [
    "## 1. Imports"
   ]
  },
  {
   "cell_type": "code",
   "execution_count": 1,
   "metadata": {},
   "outputs": [
    {
     "name": "stderr",
     "output_type": "stream",
     "text": [
      "c:\\Users\\hanne\\OneDrive\\Openbaar\\Documenten\\TI(schoolmap)\\Data Engineering Project II\\DEP2-GROEP-1\\venv\\lib\\site-packages\\lightfm\\_lightfm_fast.py:9: UserWarning: LightFM was compiled without OpenMP support. Only a single thread will be used.\n",
      "  warnings.warn(\n"
     ]
    }
   ],
   "source": [
    "import os\n",
    "import pickle\n",
    "import sqlalchemy\n",
    "import numpy as np\n",
    "import pandas as pd\n",
    "from tqdm import tqdm\n",
    "from dotenv import load_dotenv\n",
    "from lightfm.data import Dataset\n",
    "from lightfm.evaluation import auc_score\n",
    "from sqlalchemy import create_engine, text\n",
    "from lightfm.evaluation import recall_at_k\n",
    "from lightfm.evaluation import precision_at_k\n",
    "from lightfm import LightFM, cross_validation"
   ]
  },
  {
   "cell_type": "markdown",
   "metadata": {},
   "source": [
    "## 2. Variabelen"
   ]
  },
  {
   "cell_type": "code",
   "execution_count": 2,
   "metadata": {},
   "outputs": [],
   "source": [
    "# LightFM model parameters\n",
    "SEED = 42\n",
    "NO_THREADS = 8\n",
    "NO_EPOCHS = 10\n",
    "NO_COMPONENTS = 10\n",
    "TEST_PERCENTAGE = 0.2\n",
    "LEARNING_RATE = 0.8\n",
    "ITEM_ALPHA = 1e-7\n",
    "USER_ALPHA = 1e-7\n",
    "LOSS = 'logistic'\n",
    "# Pickle\n",
    "CHECKPOINT = 'LightFM'"
   ]
  },
  {
   "cell_type": "markdown",
   "metadata": {},
   "source": [
    "## 3. Data inladen"
   ]
  },
  {
   "cell_type": "code",
   "execution_count": 3,
   "metadata": {},
   "outputs": [
    {
     "name": "stdout",
     "output_type": "stream",
     "text": [
      "Successfully connected to the database\n",
      "SQLAlchemy version: 2.0.21\n"
     ]
    }
   ],
   "source": [
    "load_dotenv()\n",
    "DB_URL = os.getenv(\"DB_URL\")\n",
    "engine = create_engine(DB_URL)\n",
    "\n",
    "try:\n",
    "    connection = engine.connect()\n",
    "    print(\"Successfully connected to the database\")\n",
    "except Exception as e:\n",
    "    print(f\"Failed to connect to the database: {e}\")\n",
    "\n",
    "print(f\"SQLAlchemy version: {sqlalchemy.__version__}\")"
   ]
  },
  {
   "cell_type": "code",
   "execution_count": 4,
   "metadata": {},
   "outputs": [
    {
     "data": {
      "text/html": [
       "<div>\n",
       "<style scoped>\n",
       "    .dataframe tbody tr th:only-of-type {\n",
       "        vertical-align: middle;\n",
       "    }\n",
       "\n",
       "    .dataframe tbody tr th {\n",
       "        vertical-align: top;\n",
       "    }\n",
       "\n",
       "    .dataframe thead th {\n",
       "        text-align: right;\n",
       "    }\n",
       "</style>\n",
       "<table border=\"1\" class=\"dataframe\">\n",
       "  <thead>\n",
       "    <tr style=\"text-align: right;\">\n",
       "      <th></th>\n",
       "      <th>PersoonId</th>\n",
       "      <th>CampagneId</th>\n",
       "      <th>aantal_sessies</th>\n",
       "      <th>aantal_bezoeken</th>\n",
       "      <th>SessieThema</th>\n",
       "      <th>SoortCampagne</th>\n",
       "      <th>TypeCampagne</th>\n",
       "      <th>ThemaDuurzaamheid</th>\n",
       "      <th>ThemaFinancieelFiscaal</th>\n",
       "      <th>ThemaInnovatie</th>\n",
       "      <th>ThemaInternationaalOndernemen</th>\n",
       "      <th>ThemaMobiliteit</th>\n",
       "      <th>ThemaOmgeving</th>\n",
       "      <th>ThemaSalesMarketingCommunicatie</th>\n",
       "      <th>ThemaStrategieEnAlgemeenManagement</th>\n",
       "      <th>ThemaTalent</th>\n",
       "      <th>ThemaWelzijn</th>\n",
       "    </tr>\n",
       "  </thead>\n",
       "  <tbody>\n",
       "    <tr>\n",
       "      <th>0</th>\n",
       "      <td>67B0AAF0-A4D9-E211-A85C-005056B06EC4</td>\n",
       "      <td>79FF0273-BA6D-EA11-810F-001DD8B72B62</td>\n",
       "      <td>1</td>\n",
       "      <td>0</td>\n",
       "      <td>Human Resources</td>\n",
       "      <td>Offline</td>\n",
       "      <td>Opleiding</td>\n",
       "      <td>0</td>\n",
       "      <td>0</td>\n",
       "      <td>0</td>\n",
       "      <td>0</td>\n",
       "      <td>0</td>\n",
       "      <td>0</td>\n",
       "      <td>0</td>\n",
       "      <td>0</td>\n",
       "      <td>0</td>\n",
       "      <td>0</td>\n",
       "    </tr>\n",
       "    <tr>\n",
       "      <th>1</th>\n",
       "      <td>6A55E982-CF3D-E611-80D6-005056B06EC4</td>\n",
       "      <td>CBEE5437-9928-EB11-8117-001DD8B72B62</td>\n",
       "      <td>1</td>\n",
       "      <td>0</td>\n",
       "      <td>Financieel</td>\n",
       "      <td>Online</td>\n",
       "      <td>Netwerkevenement</td>\n",
       "      <td>0</td>\n",
       "      <td>0</td>\n",
       "      <td>0</td>\n",
       "      <td>0</td>\n",
       "      <td>0</td>\n",
       "      <td>0</td>\n",
       "      <td>0</td>\n",
       "      <td>0</td>\n",
       "      <td>0</td>\n",
       "      <td>0</td>\n",
       "    </tr>\n",
       "    <tr>\n",
       "      <th>2</th>\n",
       "      <td>7D950125-2574-E611-80DE-001DD8B72B61</td>\n",
       "      <td>8FCA1D31-1EB7-E811-80F4-001DD8B72B62</td>\n",
       "      <td>6</td>\n",
       "      <td>0</td>\n",
       "      <td>Netwerking</td>\n",
       "      <td>Offline</td>\n",
       "      <td>Netwerkevenement</td>\n",
       "      <td>1</td>\n",
       "      <td>1</td>\n",
       "      <td>1</td>\n",
       "      <td>1</td>\n",
       "      <td>1</td>\n",
       "      <td>1</td>\n",
       "      <td>1</td>\n",
       "      <td>1</td>\n",
       "      <td>1</td>\n",
       "      <td>1</td>\n",
       "    </tr>\n",
       "    <tr>\n",
       "      <th>3</th>\n",
       "      <td>541ADB1A-E068-EE11-9AE7-6045BD974EB2</td>\n",
       "      <td>7C7F820F-6842-EE11-BDF3-6045BD895BFB</td>\n",
       "      <td>4</td>\n",
       "      <td>0</td>\n",
       "      <td>Netwerking</td>\n",
       "      <td>Offline</td>\n",
       "      <td>Netwerkevenement</td>\n",
       "      <td>0</td>\n",
       "      <td>0</td>\n",
       "      <td>0</td>\n",
       "      <td>0</td>\n",
       "      <td>0</td>\n",
       "      <td>0</td>\n",
       "      <td>0</td>\n",
       "      <td>0</td>\n",
       "      <td>0</td>\n",
       "      <td>0</td>\n",
       "    </tr>\n",
       "    <tr>\n",
       "      <th>4</th>\n",
       "      <td>C844A936-0B4D-E311-B788-005056B06EB4</td>\n",
       "      <td>68BCCA0B-838E-E811-80F2-001DD8B72B62</td>\n",
       "      <td>1</td>\n",
       "      <td>0</td>\n",
       "      <td>Netwerking</td>\n",
       "      <td>Offline</td>\n",
       "      <td>Netwerkevenement</td>\n",
       "      <td>0</td>\n",
       "      <td>0</td>\n",
       "      <td>0</td>\n",
       "      <td>0</td>\n",
       "      <td>0</td>\n",
       "      <td>0</td>\n",
       "      <td>0</td>\n",
       "      <td>0</td>\n",
       "      <td>0</td>\n",
       "      <td>0</td>\n",
       "    </tr>\n",
       "  </tbody>\n",
       "</table>\n",
       "</div>"
      ],
      "text/plain": [
       "                              PersoonId                            CampagneId  \\\n",
       "0  67B0AAF0-A4D9-E211-A85C-005056B06EC4  79FF0273-BA6D-EA11-810F-001DD8B72B62   \n",
       "1  6A55E982-CF3D-E611-80D6-005056B06EC4  CBEE5437-9928-EB11-8117-001DD8B72B62   \n",
       "2  7D950125-2574-E611-80DE-001DD8B72B61  8FCA1D31-1EB7-E811-80F4-001DD8B72B62   \n",
       "3  541ADB1A-E068-EE11-9AE7-6045BD974EB2  7C7F820F-6842-EE11-BDF3-6045BD895BFB   \n",
       "4  C844A936-0B4D-E311-B788-005056B06EB4  68BCCA0B-838E-E811-80F2-001DD8B72B62   \n",
       "\n",
       "   aantal_sessies  aantal_bezoeken      SessieThema SoortCampagne  \\\n",
       "0               1                0  Human Resources       Offline   \n",
       "1               1                0       Financieel        Online   \n",
       "2               6                0       Netwerking       Offline   \n",
       "3               4                0       Netwerking       Offline   \n",
       "4               1                0       Netwerking       Offline   \n",
       "\n",
       "       TypeCampagne  ThemaDuurzaamheid  ThemaFinancieelFiscaal  \\\n",
       "0         Opleiding                  0                       0   \n",
       "1  Netwerkevenement                  0                       0   \n",
       "2  Netwerkevenement                  1                       1   \n",
       "3  Netwerkevenement                  0                       0   \n",
       "4  Netwerkevenement                  0                       0   \n",
       "\n",
       "   ThemaInnovatie  ThemaInternationaalOndernemen  ThemaMobiliteit  \\\n",
       "0               0                              0                0   \n",
       "1               0                              0                0   \n",
       "2               1                              1                1   \n",
       "3               0                              0                0   \n",
       "4               0                              0                0   \n",
       "\n",
       "   ThemaOmgeving  ThemaSalesMarketingCommunicatie  \\\n",
       "0              0                                0   \n",
       "1              0                                0   \n",
       "2              1                                1   \n",
       "3              0                                0   \n",
       "4              0                                0   \n",
       "\n",
       "   ThemaStrategieEnAlgemeenManagement  ThemaTalent  ThemaWelzijn  \n",
       "0                                   0            0             0  \n",
       "1                                   0            0             0  \n",
       "2                                   1            1             1  \n",
       "3                                   0            0             0  \n",
       "4                                   0            0             0  "
      ]
     },
     "execution_count": 4,
     "metadata": {},
     "output_type": "execute_result"
    }
   ],
   "source": [
    "# materialized view\n",
    "query = text('SELECT * FROM epic_5')\n",
    "\n",
    "try:\n",
    "    df = pd.read_sql_query(query, connection)\n",
    "except Exception as e:\n",
    "    print(f\"Failed to execute query: {e}\")\n",
    "\n",
    "df.head()"
   ]
  },
  {
   "cell_type": "code",
   "execution_count": 5,
   "metadata": {},
   "outputs": [
    {
     "name": "stdout",
     "output_type": "stream",
     "text": [
      "<class 'pandas.core.frame.DataFrame'>\n",
      "RangeIndex: 52567 entries, 0 to 52566\n",
      "Data columns (total 17 columns):\n",
      " #   Column                              Non-Null Count  Dtype \n",
      "---  ------                              --------------  ----- \n",
      " 0   PersoonId                           52567 non-null  object\n",
      " 1   CampagneId                          52567 non-null  object\n",
      " 2   aantal_sessies                      52567 non-null  int64 \n",
      " 3   aantal_bezoeken                     52567 non-null  int64 \n",
      " 4   SessieThema                         52567 non-null  object\n",
      " 5   SoortCampagne                       52567 non-null  object\n",
      " 6   TypeCampagne                        52567 non-null  object\n",
      " 7   ThemaDuurzaamheid                   52567 non-null  int64 \n",
      " 8   ThemaFinancieelFiscaal              52567 non-null  int64 \n",
      " 9   ThemaInnovatie                      52567 non-null  int64 \n",
      " 10  ThemaInternationaalOndernemen       52567 non-null  int64 \n",
      " 11  ThemaMobiliteit                     52567 non-null  int64 \n",
      " 12  ThemaOmgeving                       52567 non-null  int64 \n",
      " 13  ThemaSalesMarketingCommunicatie     52567 non-null  int64 \n",
      " 14  ThemaStrategieEnAlgemeenManagement  52567 non-null  int64 \n",
      " 15  ThemaTalent                         52567 non-null  int64 \n",
      " 16  ThemaWelzijn                        52567 non-null  int64 \n",
      "dtypes: int64(12), object(5)\n",
      "memory usage: 6.8+ MB\n"
     ]
    }
   ],
   "source": [
    "df.info()"
   ]
  },
  {
   "cell_type": "markdown",
   "metadata": {},
   "source": [
    "## 3. Data voorbereiden"
   ]
  },
  {
   "cell_type": "code",
   "execution_count": 6,
   "metadata": {},
   "outputs": [],
   "source": [
    "# binaire integers van persoon thema's omzetten naar binaire strings\n",
    "\n",
    "columns = ['ThemaDuurzaamheid', 'ThemaFinancieelFiscaal', 'ThemaInnovatie', 'ThemaInternationaalOndernemen', \n",
    "           'ThemaMobiliteit', 'ThemaOmgeving', 'ThemaSalesMarketingCommunicatie', \n",
    "           'ThemaStrategieEnAlgemeenManagement', 'ThemaTalent', 'ThemaWelzijn']\n",
    "\n",
    "for col in columns:\n",
    "    df[col] = df[col].replace({0: col + '_False', 1: col + '_True'})"
   ]
  },
  {
   "cell_type": "code",
   "execution_count": 7,
   "metadata": {},
   "outputs": [],
   "source": [
    "# aantal bezoeken laten vallen, focus ligt op aantal_sessies\n",
    "df.drop('aantal_bezoeken', axis=1, inplace=True)"
   ]
  },
  {
   "cell_type": "code",
   "execution_count": 8,
   "metadata": {},
   "outputs": [
    {
     "data": {
      "text/html": [
       "<div>\n",
       "<style scoped>\n",
       "    .dataframe tbody tr th:only-of-type {\n",
       "        vertical-align: middle;\n",
       "    }\n",
       "\n",
       "    .dataframe tbody tr th {\n",
       "        vertical-align: top;\n",
       "    }\n",
       "\n",
       "    .dataframe thead th {\n",
       "        text-align: right;\n",
       "    }\n",
       "</style>\n",
       "<table border=\"1\" class=\"dataframe\">\n",
       "  <thead>\n",
       "    <tr style=\"text-align: right;\">\n",
       "      <th></th>\n",
       "      <th>PersoonId</th>\n",
       "      <th>CampagneId</th>\n",
       "      <th>aantal_sessies</th>\n",
       "      <th>SessieThema</th>\n",
       "      <th>SoortCampagne</th>\n",
       "      <th>TypeCampagne</th>\n",
       "      <th>ThemaDuurzaamheid</th>\n",
       "      <th>ThemaFinancieelFiscaal</th>\n",
       "      <th>ThemaInnovatie</th>\n",
       "      <th>ThemaInternationaalOndernemen</th>\n",
       "      <th>ThemaMobiliteit</th>\n",
       "      <th>ThemaOmgeving</th>\n",
       "      <th>ThemaSalesMarketingCommunicatie</th>\n",
       "      <th>ThemaStrategieEnAlgemeenManagement</th>\n",
       "      <th>ThemaTalent</th>\n",
       "      <th>ThemaWelzijn</th>\n",
       "    </tr>\n",
       "  </thead>\n",
       "  <tbody>\n",
       "    <tr>\n",
       "      <th>0</th>\n",
       "      <td>67B0AAF0-A4D9-E211-A85C-005056B06EC4</td>\n",
       "      <td>79FF0273-BA6D-EA11-810F-001DD8B72B62</td>\n",
       "      <td>1</td>\n",
       "      <td>Human Resources</td>\n",
       "      <td>Offline</td>\n",
       "      <td>Opleiding</td>\n",
       "      <td>ThemaDuurzaamheid_False</td>\n",
       "      <td>ThemaFinancieelFiscaal_False</td>\n",
       "      <td>ThemaInnovatie_False</td>\n",
       "      <td>ThemaInternationaalOndernemen_False</td>\n",
       "      <td>ThemaMobiliteit_False</td>\n",
       "      <td>ThemaOmgeving_False</td>\n",
       "      <td>ThemaSalesMarketingCommunicatie_False</td>\n",
       "      <td>ThemaStrategieEnAlgemeenManagement_False</td>\n",
       "      <td>ThemaTalent_False</td>\n",
       "      <td>ThemaWelzijn_False</td>\n",
       "    </tr>\n",
       "    <tr>\n",
       "      <th>1</th>\n",
       "      <td>6A55E982-CF3D-E611-80D6-005056B06EC4</td>\n",
       "      <td>CBEE5437-9928-EB11-8117-001DD8B72B62</td>\n",
       "      <td>1</td>\n",
       "      <td>Financieel</td>\n",
       "      <td>Online</td>\n",
       "      <td>Netwerkevenement</td>\n",
       "      <td>ThemaDuurzaamheid_False</td>\n",
       "      <td>ThemaFinancieelFiscaal_False</td>\n",
       "      <td>ThemaInnovatie_False</td>\n",
       "      <td>ThemaInternationaalOndernemen_False</td>\n",
       "      <td>ThemaMobiliteit_False</td>\n",
       "      <td>ThemaOmgeving_False</td>\n",
       "      <td>ThemaSalesMarketingCommunicatie_False</td>\n",
       "      <td>ThemaStrategieEnAlgemeenManagement_False</td>\n",
       "      <td>ThemaTalent_False</td>\n",
       "      <td>ThemaWelzijn_False</td>\n",
       "    </tr>\n",
       "    <tr>\n",
       "      <th>2</th>\n",
       "      <td>7D950125-2574-E611-80DE-001DD8B72B61</td>\n",
       "      <td>8FCA1D31-1EB7-E811-80F4-001DD8B72B62</td>\n",
       "      <td>6</td>\n",
       "      <td>Netwerking</td>\n",
       "      <td>Offline</td>\n",
       "      <td>Netwerkevenement</td>\n",
       "      <td>ThemaDuurzaamheid_True</td>\n",
       "      <td>ThemaFinancieelFiscaal_True</td>\n",
       "      <td>ThemaInnovatie_True</td>\n",
       "      <td>ThemaInternationaalOndernemen_True</td>\n",
       "      <td>ThemaMobiliteit_True</td>\n",
       "      <td>ThemaOmgeving_True</td>\n",
       "      <td>ThemaSalesMarketingCommunicatie_True</td>\n",
       "      <td>ThemaStrategieEnAlgemeenManagement_True</td>\n",
       "      <td>ThemaTalent_True</td>\n",
       "      <td>ThemaWelzijn_True</td>\n",
       "    </tr>\n",
       "    <tr>\n",
       "      <th>3</th>\n",
       "      <td>541ADB1A-E068-EE11-9AE7-6045BD974EB2</td>\n",
       "      <td>7C7F820F-6842-EE11-BDF3-6045BD895BFB</td>\n",
       "      <td>4</td>\n",
       "      <td>Netwerking</td>\n",
       "      <td>Offline</td>\n",
       "      <td>Netwerkevenement</td>\n",
       "      <td>ThemaDuurzaamheid_False</td>\n",
       "      <td>ThemaFinancieelFiscaal_False</td>\n",
       "      <td>ThemaInnovatie_False</td>\n",
       "      <td>ThemaInternationaalOndernemen_False</td>\n",
       "      <td>ThemaMobiliteit_False</td>\n",
       "      <td>ThemaOmgeving_False</td>\n",
       "      <td>ThemaSalesMarketingCommunicatie_False</td>\n",
       "      <td>ThemaStrategieEnAlgemeenManagement_False</td>\n",
       "      <td>ThemaTalent_False</td>\n",
       "      <td>ThemaWelzijn_False</td>\n",
       "    </tr>\n",
       "    <tr>\n",
       "      <th>4</th>\n",
       "      <td>C844A936-0B4D-E311-B788-005056B06EB4</td>\n",
       "      <td>68BCCA0B-838E-E811-80F2-001DD8B72B62</td>\n",
       "      <td>1</td>\n",
       "      <td>Netwerking</td>\n",
       "      <td>Offline</td>\n",
       "      <td>Netwerkevenement</td>\n",
       "      <td>ThemaDuurzaamheid_False</td>\n",
       "      <td>ThemaFinancieelFiscaal_False</td>\n",
       "      <td>ThemaInnovatie_False</td>\n",
       "      <td>ThemaInternationaalOndernemen_False</td>\n",
       "      <td>ThemaMobiliteit_False</td>\n",
       "      <td>ThemaOmgeving_False</td>\n",
       "      <td>ThemaSalesMarketingCommunicatie_False</td>\n",
       "      <td>ThemaStrategieEnAlgemeenManagement_False</td>\n",
       "      <td>ThemaTalent_False</td>\n",
       "      <td>ThemaWelzijn_False</td>\n",
       "    </tr>\n",
       "  </tbody>\n",
       "</table>\n",
       "</div>"
      ],
      "text/plain": [
       "                              PersoonId                            CampagneId  \\\n",
       "0  67B0AAF0-A4D9-E211-A85C-005056B06EC4  79FF0273-BA6D-EA11-810F-001DD8B72B62   \n",
       "1  6A55E982-CF3D-E611-80D6-005056B06EC4  CBEE5437-9928-EB11-8117-001DD8B72B62   \n",
       "2  7D950125-2574-E611-80DE-001DD8B72B61  8FCA1D31-1EB7-E811-80F4-001DD8B72B62   \n",
       "3  541ADB1A-E068-EE11-9AE7-6045BD974EB2  7C7F820F-6842-EE11-BDF3-6045BD895BFB   \n",
       "4  C844A936-0B4D-E311-B788-005056B06EB4  68BCCA0B-838E-E811-80F2-001DD8B72B62   \n",
       "\n",
       "   aantal_sessies      SessieThema SoortCampagne      TypeCampagne  \\\n",
       "0               1  Human Resources       Offline         Opleiding   \n",
       "1               1       Financieel        Online  Netwerkevenement   \n",
       "2               6       Netwerking       Offline  Netwerkevenement   \n",
       "3               4       Netwerking       Offline  Netwerkevenement   \n",
       "4               1       Netwerking       Offline  Netwerkevenement   \n",
       "\n",
       "         ThemaDuurzaamheid        ThemaFinancieelFiscaal  \\\n",
       "0  ThemaDuurzaamheid_False  ThemaFinancieelFiscaal_False   \n",
       "1  ThemaDuurzaamheid_False  ThemaFinancieelFiscaal_False   \n",
       "2   ThemaDuurzaamheid_True   ThemaFinancieelFiscaal_True   \n",
       "3  ThemaDuurzaamheid_False  ThemaFinancieelFiscaal_False   \n",
       "4  ThemaDuurzaamheid_False  ThemaFinancieelFiscaal_False   \n",
       "\n",
       "         ThemaInnovatie        ThemaInternationaalOndernemen  \\\n",
       "0  ThemaInnovatie_False  ThemaInternationaalOndernemen_False   \n",
       "1  ThemaInnovatie_False  ThemaInternationaalOndernemen_False   \n",
       "2   ThemaInnovatie_True   ThemaInternationaalOndernemen_True   \n",
       "3  ThemaInnovatie_False  ThemaInternationaalOndernemen_False   \n",
       "4  ThemaInnovatie_False  ThemaInternationaalOndernemen_False   \n",
       "\n",
       "         ThemaMobiliteit        ThemaOmgeving  \\\n",
       "0  ThemaMobiliteit_False  ThemaOmgeving_False   \n",
       "1  ThemaMobiliteit_False  ThemaOmgeving_False   \n",
       "2   ThemaMobiliteit_True   ThemaOmgeving_True   \n",
       "3  ThemaMobiliteit_False  ThemaOmgeving_False   \n",
       "4  ThemaMobiliteit_False  ThemaOmgeving_False   \n",
       "\n",
       "         ThemaSalesMarketingCommunicatie  \\\n",
       "0  ThemaSalesMarketingCommunicatie_False   \n",
       "1  ThemaSalesMarketingCommunicatie_False   \n",
       "2   ThemaSalesMarketingCommunicatie_True   \n",
       "3  ThemaSalesMarketingCommunicatie_False   \n",
       "4  ThemaSalesMarketingCommunicatie_False   \n",
       "\n",
       "         ThemaStrategieEnAlgemeenManagement        ThemaTalent  \\\n",
       "0  ThemaStrategieEnAlgemeenManagement_False  ThemaTalent_False   \n",
       "1  ThemaStrategieEnAlgemeenManagement_False  ThemaTalent_False   \n",
       "2   ThemaStrategieEnAlgemeenManagement_True   ThemaTalent_True   \n",
       "3  ThemaStrategieEnAlgemeenManagement_False  ThemaTalent_False   \n",
       "4  ThemaStrategieEnAlgemeenManagement_False  ThemaTalent_False   \n",
       "\n",
       "         ThemaWelzijn  \n",
       "0  ThemaWelzijn_False  \n",
       "1  ThemaWelzijn_False  \n",
       "2   ThemaWelzijn_True  \n",
       "3  ThemaWelzijn_False  \n",
       "4  ThemaWelzijn_False  "
      ]
     },
     "execution_count": 8,
     "metadata": {},
     "output_type": "execute_result"
    }
   ],
   "source": [
    "df.head()"
   ]
  },
  {
   "cell_type": "code",
   "execution_count": 9,
   "metadata": {},
   "outputs": [
    {
     "name": "stdout",
     "output_type": "stream",
     "text": [
      "['Human Resources', 'Financieel', 'Netwerking', 'Economie', 'Innovatie', 'Duurzaam Ondernemen', 'Algemeen Management', 'Starten', 'Lidmaatschap', 'Digitalisering, IT & Technologie', 'Groeien', 'Onderwijs', 'Opvolging en Overname', 'Internationaal Ondernemen', 'Familiebedrijven', 'Unknown', 'Logistiek en Transport', 'Marketing & Sales', 'Communicatie', 'Strategie', 'Haven', 'Milieu', 'Bryo', 'Welt', 'Welt 2.0', 'Plato', 'Arbeidsmarkt', 'Welt 2.0-2023', 'Juridisch', 'Jong Voka', 'Supply Chain', 'Ruimtelijke ordening en Infrastructuur', 'Mobiliteit', 'Opleidingen', 'Energie', 'Veiligheid & Preventie', 'Coronavirus', 'Retail', 'Aankoop', 'Persoonlijke vaardigheden', 'Aantrekkelijke regio', 'Offline', 'Online', 'On en Offline', 'Opleiding', 'Netwerkevenement', 'Project', 'Infosessie', 'Projectgebonden', 'Campagne']\n",
      "['ThemaDuurzaamheid_False', 'ThemaDuurzaamheid_True', 'ThemaFinancieelFiscaal_False', 'ThemaFinancieelFiscaal_True', 'ThemaInnovatie_False', 'ThemaInnovatie_True', 'ThemaInternationaalOndernemen_False', 'ThemaInternationaalOndernemen_True', 'ThemaMobiliteit_False', 'ThemaMobiliteit_True', 'ThemaOmgeving_False', 'ThemaOmgeving_True', 'ThemaSalesMarketingCommunicatie_False', 'ThemaSalesMarketingCommunicatie_True', 'ThemaStrategieEnAlgemeenManagement_False', 'ThemaStrategieEnAlgemeenManagement_True', 'ThemaTalent_False', 'ThemaTalent_True', 'ThemaWelzijn_False', 'ThemaWelzijn_True']\n"
     ]
    }
   ],
   "source": [
    "# item_features en user_features invullen voor lightFM\n",
    "\n",
    "item_cols = ['SessieThema', 'SoortCampagne', 'TypeCampagne']\n",
    "user_cols = ['ThemaDuurzaamheid', 'ThemaFinancieelFiscaal', 'ThemaInnovatie', 'ThemaInternationaalOndernemen', 'ThemaMobiliteit', 'ThemaOmgeving', 'ThemaSalesMarketingCommunicatie', 'ThemaStrategieEnAlgemeenManagement', 'ThemaTalent', 'ThemaWelzijn']\n",
    "\n",
    "all_item_features = np.concatenate([df[col].unique() for col in item_cols]).tolist()\n",
    "all_user_features = np.concatenate([df[col].unique() for col in user_cols]).tolist()\n",
    "\n",
    "print(all_item_features)\n",
    "print(all_user_features)"
   ]
  },
  {
   "cell_type": "code",
   "execution_count": 10,
   "metadata": {},
   "outputs": [],
   "source": [
    "# toch groeperen op aantal sessies per persoon per campagne, geen scheiding tussen sessiethema\n",
    "df = df.groupby(['PersoonId', 'CampagneId'])['aantal_sessies'].sum().reset_index()"
   ]
  },
  {
   "cell_type": "markdown",
   "metadata": {},
   "source": [
    "## 4. Model trainen"
   ]
  },
  {
   "cell_type": "code",
   "execution_count": 11,
   "metadata": {},
   "outputs": [
    {
     "name": "stdout",
     "output_type": "stream",
     "text": [
      "Num users: 16688, num_items: 1979\n"
     ]
    }
   ],
   "source": [
    "dataset = Dataset()\n",
    "\n",
    "dataset.fit(\n",
    "    users=df['PersoonId'],\n",
    "    items=df['CampagneId'],\n",
    "    user_features=all_user_features,\n",
    "    item_features=all_item_features\n",
    ")\n",
    "\n",
    "# quick check to determine the number of unique users and items in the data\n",
    "num_users, num_items = dataset.interactions_shape()\n",
    "print(f'Num users: {num_users}, num_items: {num_items}')"
   ]
  },
  {
   "cell_type": "code",
   "execution_count": 12,
   "metadata": {},
   "outputs": [],
   "source": [
    "(interactions, weights) = dataset.build_interactions(zip(df['PersoonId'], df['CampagneId'], df['aantal_sessies']))"
   ]
  },
  {
   "cell_type": "code",
   "execution_count": 13,
   "metadata": {},
   "outputs": [],
   "source": [
    "unique_campaign_ids = df['CampagneId'].unique()\n",
    "items = pd.DataFrame(columns=['CampagneId'])\n",
    "items['CampagneId'] = unique_campaign_ids\n",
    "\n",
    "unique_person_ids = df['PersoonId'].unique()\n",
    "users = pd.DataFrame(columns=['PersoonId'])\n",
    "users['PersoonId'] = unique_person_ids"
   ]
  },
  {
   "cell_type": "code",
   "execution_count": 14,
   "metadata": {},
   "outputs": [],
   "source": [
    "def item_feature_generator():\n",
    "    for _, row in items.iterrows():\n",
    "        features = row.values[1:]\n",
    "        yield (row['CampagneId'], features)\n",
    "\n",
    "def user_feature_generator():\n",
    "    for _, row in users.iterrows():\n",
    "        features = row.values[1:]\n",
    "        yield (row['PersoonId'], features)"
   ]
  },
  {
   "cell_type": "code",
   "execution_count": 15,
   "metadata": {},
   "outputs": [],
   "source": [
    "item_features = dataset.build_item_features((item_id, item_feature) for item_id, item_feature in item_feature_generator())\n",
    "user_features = dataset.build_user_features((user_id, user_feature) for user_id, user_feature in user_feature_generator())"
   ]
  },
  {
   "cell_type": "code",
   "execution_count": 16,
   "metadata": {},
   "outputs": [],
   "source": [
    "train_interactions, test_interactions = cross_validation.random_train_test_split(\n",
    "    interactions, test_percentage=TEST_PERCENTAGE,\n",
    "    random_state=np.random.RandomState(seed=SEED)\n",
    ")"
   ]
  },
  {
   "cell_type": "code",
   "execution_count": 17,
   "metadata": {},
   "outputs": [],
   "source": [
    "uids, iids, data_interaction = cross_validation._shuffle(interactions.row, interactions.col, interactions.data, np.random.RandomState(SEED))\n",
    "\n",
    "cutoff = int((1.0 - TEST_PERCENTAGE) * len(uids))\n",
    "test_idx = slice(cutoff, None)\n",
    "train_idx = slice(None, cutoff)\n",
    "\n",
    "test_uids, test_iids = uids[test_idx], iids[test_idx]\n",
    "train_uids, train_iids = uids[train_idx], iids[train_idx]"
   ]
  },
  {
   "cell_type": "code",
   "execution_count": 18,
   "metadata": {},
   "outputs": [
    {
     "name": "stdout",
     "output_type": "stream",
     "text": [
      "Shape of train interactions: (16688, 1979)\n",
      "Shape of test interactions: (16688, 1979)\n"
     ]
    }
   ],
   "source": [
    "print(f\"Shape of train interactions: {train_interactions.shape}\")\n",
    "print(f\"Shape of test interactions: {test_interactions.shape}\")"
   ]
  },
  {
   "cell_type": "code",
   "execution_count": 19,
   "metadata": {},
   "outputs": [],
   "source": [
    "model = LightFM(\n",
    "    no_components=NO_COMPONENTS,\n",
    "    learning_rate=LEARNING_RATE,\n",
    "    random_state=np.random.RandomState(SEED),\n",
    "    loss=LOSS,\n",
    "    item_alpha=ITEM_ALPHA,\n",
    "    user_alpha=USER_ALPHA\n",
    ")"
   ]
  },
  {
   "cell_type": "code",
   "execution_count": 20,
   "metadata": {},
   "outputs": [],
   "source": [
    "def save_model(model):\n",
    "    with open(f'{CHECKPOINT}.pickle', 'wb') as fle:\n",
    "        pickle.dump(model, fle, protocol=pickle.HIGHEST_PROTOCOL)"
   ]
  },
  {
   "cell_type": "code",
   "execution_count": 21,
   "metadata": {},
   "outputs": [
    {
     "name": "stderr",
     "output_type": "stream",
     "text": [
      " 10%|█         | 1/10 [00:02<00:23,  2.60s/it]"
     ]
    },
    {
     "name": "stdout",
     "output_type": "stream",
     "text": [
      "Epoch 1/10, Train AUC: 0.8035188317298889, Test AUC: 0.7822922468185425\n"
     ]
    },
    {
     "name": "stderr",
     "output_type": "stream",
     "text": [
      " 20%|██        | 2/10 [00:05<00:20,  2.57s/it]"
     ]
    },
    {
     "name": "stdout",
     "output_type": "stream",
     "text": [
      "Epoch 2/10, Train AUC: 0.8061642646789551, Test AUC: 0.7825275659561157\n"
     ]
    },
    {
     "name": "stderr",
     "output_type": "stream",
     "text": [
      " 30%|███       | 3/10 [00:07<00:18,  2.58s/it]"
     ]
    },
    {
     "name": "stdout",
     "output_type": "stream",
     "text": [
      "Epoch 3/10, Train AUC: 0.8081456422805786, Test AUC: 0.782661497592926\n"
     ]
    },
    {
     "name": "stderr",
     "output_type": "stream",
     "text": [
      " 40%|████      | 4/10 [00:10<00:15,  2.58s/it]"
     ]
    },
    {
     "name": "stdout",
     "output_type": "stream",
     "text": [
      "Epoch 4/10, Train AUC: 0.8098510503768921, Test AUC: 0.7828184366226196\n"
     ]
    },
    {
     "name": "stderr",
     "output_type": "stream",
     "text": [
      " 50%|█████     | 5/10 [00:12<00:12,  2.53s/it]"
     ]
    },
    {
     "name": "stdout",
     "output_type": "stream",
     "text": [
      "Epoch 5/10, Train AUC: 0.8114545941352844, Test AUC: 0.7829868197441101\n"
     ]
    },
    {
     "name": "stderr",
     "output_type": "stream",
     "text": [
      " 60%|██████    | 6/10 [00:15<00:10,  2.52s/it]"
     ]
    },
    {
     "name": "stdout",
     "output_type": "stream",
     "text": [
      "Epoch 6/10, Train AUC: 0.8129845261573792, Test AUC: 0.7831478118896484\n"
     ]
    },
    {
     "name": "stderr",
     "output_type": "stream",
     "text": [
      " 70%|███████   | 7/10 [00:17<00:07,  2.49s/it]"
     ]
    },
    {
     "name": "stdout",
     "output_type": "stream",
     "text": [
      "Epoch 7/10, Train AUC: 0.8145073056221008, Test AUC: 0.7833260297775269\n"
     ]
    },
    {
     "name": "stderr",
     "output_type": "stream",
     "text": [
      " 80%|████████  | 8/10 [00:20<00:04,  2.49s/it]"
     ]
    },
    {
     "name": "stdout",
     "output_type": "stream",
     "text": [
      "Epoch 8/10, Train AUC: 0.8160263895988464, Test AUC: 0.7835315465927124\n"
     ]
    },
    {
     "name": "stderr",
     "output_type": "stream",
     "text": [
      " 90%|█████████ | 9/10 [00:22<00:02,  2.47s/it]"
     ]
    },
    {
     "name": "stdout",
     "output_type": "stream",
     "text": [
      "Epoch 9/10, Train AUC: 0.8175684213638306, Test AUC: 0.7837430238723755\n"
     ]
    },
    {
     "name": "stderr",
     "output_type": "stream",
     "text": [
      "100%|██████████| 10/10 [00:25<00:00,  2.51s/it]"
     ]
    },
    {
     "name": "stdout",
     "output_type": "stream",
     "text": [
      "Epoch 10/10, Train AUC: 0.8191269636154175, Test AUC: 0.7839761972427368\n"
     ]
    },
    {
     "name": "stderr",
     "output_type": "stream",
     "text": [
      "\n"
     ]
    }
   ],
   "source": [
    "train_auc_history = []\n",
    "test_auc_history = []\n",
    "\n",
    "best_score = 0\n",
    "\n",
    "for epoch in tqdm(range(NO_EPOCHS)):\n",
    "    model.fit_partial(\n",
    "        interactions=train_interactions,\n",
    "        user_features=user_features,\n",
    "        item_features=item_features,\n",
    "        epochs=NO_EPOCHS,\n",
    "        num_threads=NO_THREADS\n",
    "    )\n",
    "\n",
    "    train_auc = auc_score(model, train_interactions, user_features=user_features, item_features=item_features).mean()\n",
    "    test_auc = auc_score(model, test_interactions, train_interactions, user_features=user_features, item_features=item_features).mean()\n",
    "\n",
    "    train_auc_history.append(train_auc)\n",
    "    test_auc_history.append(test_auc)\n",
    "\n",
    "    if test_auc > best_score:\n",
    "        best_score = test_auc\n",
    "        save_model(model)\n",
    "\n",
    "    print(f'Epoch {epoch + 1}/{10}, Train AUC: {train_auc}, Test AUC: {test_auc}')"
   ]
  },
  {
   "cell_type": "markdown",
   "metadata": {},
   "source": [
    "## 5. Model evalueren"
   ]
  },
  {
   "cell_type": "markdown",
   "metadata": {},
   "source": [
    "[Interpretatie metrics](https://stackoverflow.com/questions/45451161/evaluating-the-lightfm-recommendation-model/45466481#45466481)"
   ]
  },
  {
   "cell_type": "code",
   "execution_count": 22,
   "metadata": {},
   "outputs": [],
   "source": [
    "def calculate_metrics(model, test, train, item_features, user_features, k):\n",
    "    precision = precision_at_k(model=model, test_interactions=test, train_interactions=train, item_features=item_features, user_features=user_features, k=k).mean()\n",
    "    recall = recall_at_k(model=model, test_interactions=test, train_interactions=train, item_features=item_features, user_features=user_features, k=k).mean()\n",
    "    auc = auc_score(model=model, test_interactions=test, train_interactions=train, item_features=item_features, user_features=user_features).mean()\n",
    "    return print('Precision: ', precision, '\\nRecall: ', recall, '\\nAUC: ', auc)"
   ]
  },
  {
   "cell_type": "code",
   "execution_count": 23,
   "metadata": {},
   "outputs": [
    {
     "name": "stdout",
     "output_type": "stream",
     "text": [
      "Precision:  0.032859974 \n",
      "Recall:  0.018166053749869508 \n",
      "AUC:  0.7839762\n"
     ]
    }
   ],
   "source": [
    "calculate_metrics(model, test_interactions, train_interactions, item_features, user_features, 1)"
   ]
  },
  {
   "cell_type": "markdown",
   "metadata": {},
   "source": [
    "## 6. Model gebruiken"
   ]
  },
  {
   "cell_type": "markdown",
   "metadata": {},
   "source": [
    "NOG EENS NAKIJKEN MET DOCUMENTATIE VOOR DE RECOMMEND FUNCTIE"
   ]
  },
  {
   "cell_type": "code",
   "execution_count": 24,
   "metadata": {},
   "outputs": [
    {
     "name": "stdout",
     "output_type": "stream",
     "text": [
      "Top 5 recommended items for user: ['EA3C6FE0-758E-E811-80F3-001DD8B72B61', '317CD023-2B1E-ED11-B83D-000D3AAD783A', 'A2F63005-8EA8-ED11-AAD1-6045BD895D85', 'A82B1F58-6CE3-E911-8106-001DD8B72B62', '2D2494E9-0822-E811-80F0-001DD8B72B61']\n"
     ]
    }
   ],
   "source": [
    "def get_top_items_for_user(user_id):\n",
    "    # map de persoon van string naar integer\n",
    "    user_id_internal = dataset.mapping()[0][user_id]\n",
    "\n",
    "    # Get the internal IDs of all items\n",
    "    item_ids_internal = np.array(list(dataset.mapping()[2].values()))\n",
    "\n",
    "    # Predict the scores for all items for the user\n",
    "    scores = model.predict(user_id_internal, item_ids_internal)\n",
    "\n",
    "    # Get the indices of the top 5 items\n",
    "    top_items_indices = np.argsort(-scores)[:5]\n",
    "\n",
    "    # map de campagnes van integer naar string en geef de top terug\n",
    "    top_items_ids = [list(dataset.mapping()[2].keys())[i] for i in top_items_indices]\n",
    "\n",
    "    return f'Top 5 recommended items for user: {top_items_ids}'\n",
    "\n",
    "# Example usage:\n",
    "print(get_top_items_for_user('6E42A199-9F70-E911-80FE-001DD8B72B62'))"
   ]
  },
  {
   "cell_type": "code",
   "execution_count": 25,
   "metadata": {},
   "outputs": [
    {
     "name": "stdout",
     "output_type": "stream",
     "text": [
      "Top 20 recommended users for item: ['6DEC4D09-6469-E111-B43A-00505680000A', '563E6E7E-5A69-E111-B43A-00505680000A', 'C1690BC1-EB67-E111-A00F-00505680000A', '4E75FE53-C567-E711-80E8-001DD8B72B61', 'C9B9C7A3-AE67-E111-A00F-00505680000A', '7A707C90-E567-E111-A00F-00505680000A', '1040620F-5769-E111-B43A-00505680000A', '51D5CADB-EC67-E111-A00F-00505680000A', 'CC5144D7-4A16-E411-956D-005056B06EB4', '9A8CF4B0-E667-E111-A00F-00505680000A', '94BCF437-58A5-E411-BDB1-005056B06EC4', '01E816C6-6B69-E111-B43A-00505680000A', 'F38A868E-3A00-E811-80EF-001DD8B72B61', 'C12E2146-1468-E111-A00F-00505680000A', '396A4C1C-1318-E611-8A0E-005056B06EC4', 'F017D190-4D69-E111-B43A-00505680000A', '85C4FCB5-6769-E111-B43A-00505680000A', '2D096ED6-87C3-E211-A980-005056B06EB4', 'C4036697-1368-E111-A00F-00505680000A', '5A0D94FB-6669-E111-B43A-00505680000A']\n"
     ]
    }
   ],
   "source": [
    "def get_top_users_for_item(item_id):\n",
    "    # map de campagne van string naar integer\n",
    "    item_id_internal = dataset.mapping()[2][item_id]\n",
    "\n",
    "    # Get the internal IDs of all users\n",
    "    user_ids_internal = np.array(list(dataset.mapping()[0].values()))\n",
    "\n",
    "    # Predict the scores for all users for the item\n",
    "    scores = model.predict(user_ids_internal, np.repeat(item_id_internal, len(user_ids_internal)))\n",
    "\n",
    "    # Get the indices of the top 5 users\n",
    "    top_users_indices = np.argsort(-scores)[:20]\n",
    "\n",
    "    # Get the external IDs of the top 5 users\n",
    "    top_users_ids = [list(dataset.mapping()[0].keys())[i] for i in top_users_indices]\n",
    "\n",
    "    return f'Top 20 recommended users for item: {top_users_ids}'\n",
    "\n",
    "print(get_top_users_for_item('8FCA1D31-1EB7-E811-80F4-001DD8B72B62'))"
   ]
  }
 ],
 "metadata": {
  "kernelspec": {
   "display_name": "venv",
   "language": "python",
   "name": "python3"
  },
  "language_info": {
   "codemirror_mode": {
    "name": "ipython",
    "version": 3
   },
   "file_extension": ".py",
   "mimetype": "text/x-python",
   "name": "python",
   "nbconvert_exporter": "python",
   "pygments_lexer": "ipython3",
   "version": "3.10.7"
  }
 },
 "nbformat": 4,
 "nbformat_minor": 2
}

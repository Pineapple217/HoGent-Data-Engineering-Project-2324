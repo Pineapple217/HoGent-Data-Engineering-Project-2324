{
 "cells": [
  {
   "cell_type": "markdown",
   "metadata": {},
   "source": [
    "# Retired SVD model, zie implicitALS.ipynb"
   ]
  },
  {
   "cell_type": "code",
   "execution_count": 1,
   "metadata": {},
   "outputs": [],
   "source": [
    "# scikit-surprise\n",
    "# https://learn.microsoft.com/en-US/cpp/windows/latest-supported-vc-redist?view=msvc-170#visual-studio-2015-2017-2019-and-2022\n",
    "# https://stackoverflow.com/questions/61365790/error-could-not-build-wheels-for-scipy-which-use-pep-517-and-cannot-be-installe\n",
    "# pip install --upgrade pip setuptools wheel / pip3 install scikit-surprise"
   ]
  },
  {
   "cell_type": "code",
   "execution_count": 2,
   "metadata": {},
   "outputs": [],
   "source": [
    "import os\n",
    "import sqlalchemy\n",
    "import pandas as pd\n",
    "from dotenv import load_dotenv \n",
    "from surprise import Reader, Dataset, SVD\n",
    "from sqlalchemy import create_engine, text\n",
    "from surprise.model_selection import GridSearchCV\n",
    "from sklearn.model_selection import train_test_split\n",
    "from sklearn.metrics.pairwise import cosine_similarity\n",
    "from sklearn.feature_extraction.text import TfidfVectorizer\n",
    "from surprise.model_selection import train_test_split as tts2"
   ]
  },
  {
   "cell_type": "code",
   "execution_count": 3,
   "metadata": {},
   "outputs": [
    {
     "name": "stdout",
     "output_type": "stream",
     "text": [
      "Successfully connected to the database\n",
      "SQLAlchemy version: 2.0.21\n"
     ]
    }
   ],
   "source": [
    "load_dotenv()\n",
    "DB_URL = os.getenv(\"DB_URL\")\n",
    "engine = create_engine(DB_URL)\n",
    "\n",
    "try:\n",
    "    connection = engine.connect()\n",
    "    print(\"Successfully connected to the database\")\n",
    "except Exception as e:\n",
    "    print(f\"Failed to connect to the database: {e}\")\n",
    "\n",
    "print(f\"SQLAlchemy version: {sqlalchemy.__version__}\")"
   ]
  },
  {
   "cell_type": "code",
   "execution_count": 4,
   "metadata": {},
   "outputs": [
    {
     "data": {
      "text/html": [
       "<div>\n",
       "<style scoped>\n",
       "    .dataframe tbody tr th:only-of-type {\n",
       "        vertical-align: middle;\n",
       "    }\n",
       "\n",
       "    .dataframe tbody tr th {\n",
       "        vertical-align: top;\n",
       "    }\n",
       "\n",
       "    .dataframe thead th {\n",
       "        text-align: right;\n",
       "    }\n",
       "</style>\n",
       "<table border=\"1\" class=\"dataframe\">\n",
       "  <thead>\n",
       "    <tr style=\"text-align: right;\">\n",
       "      <th></th>\n",
       "      <th>PersoonId</th>\n",
       "      <th>CampagneId</th>\n",
       "      <th>aantal_sessies</th>\n",
       "      <th>aantal_bezoeken</th>\n",
       "      <th>SessieThema</th>\n",
       "      <th>SoortCampagne</th>\n",
       "      <th>TypeCampagne</th>\n",
       "      <th>ThemaDuurzaamheid</th>\n",
       "      <th>ThemaFinancieelFiscaal</th>\n",
       "      <th>ThemaInnovatie</th>\n",
       "      <th>ThemaInternationaalOndernemen</th>\n",
       "      <th>ThemaMobiliteit</th>\n",
       "      <th>ThemaOmgeving</th>\n",
       "      <th>ThemaSalesMarketingCommunicatie</th>\n",
       "      <th>ThemaStrategieEnAlgemeenManagement</th>\n",
       "      <th>ThemaTalent</th>\n",
       "      <th>ThemaWelzijn</th>\n",
       "    </tr>\n",
       "  </thead>\n",
       "  <tbody>\n",
       "    <tr>\n",
       "      <th>0</th>\n",
       "      <td>69D781B7-AB07-EA11-8107-001DD8B72B61</td>\n",
       "      <td>6A0DAB08-AADB-E911-8105-001DD8B72B61</td>\n",
       "      <td>1</td>\n",
       "      <td>0</td>\n",
       "      <td>Netwerking</td>\n",
       "      <td>Offline</td>\n",
       "      <td>Netwerkevenement</td>\n",
       "      <td>0</td>\n",
       "      <td>1</td>\n",
       "      <td>0</td>\n",
       "      <td>0</td>\n",
       "      <td>0</td>\n",
       "      <td>0</td>\n",
       "      <td>1</td>\n",
       "      <td>0</td>\n",
       "      <td>1</td>\n",
       "      <td>0</td>\n",
       "    </tr>\n",
       "    <tr>\n",
       "      <th>1</th>\n",
       "      <td>2E8F00A8-9653-E811-80F0-001DD8B72B62</td>\n",
       "      <td>08C08CAD-E3EB-E811-80F8-001DD8B72B61</td>\n",
       "      <td>1</td>\n",
       "      <td>0</td>\n",
       "      <td>Financieel</td>\n",
       "      <td>Offline</td>\n",
       "      <td>Netwerkevenement</td>\n",
       "      <td>0</td>\n",
       "      <td>0</td>\n",
       "      <td>0</td>\n",
       "      <td>0</td>\n",
       "      <td>0</td>\n",
       "      <td>0</td>\n",
       "      <td>0</td>\n",
       "      <td>0</td>\n",
       "      <td>0</td>\n",
       "      <td>0</td>\n",
       "    </tr>\n",
       "    <tr>\n",
       "      <th>2</th>\n",
       "      <td>03FA3FD7-FC20-EC11-8124-001DD8B72B61</td>\n",
       "      <td>E63FE690-94C7-EB11-8120-001DD8B72B61</td>\n",
       "      <td>5</td>\n",
       "      <td>0</td>\n",
       "      <td>Welt 2.0</td>\n",
       "      <td>Offline</td>\n",
       "      <td>Project</td>\n",
       "      <td>1</td>\n",
       "      <td>1</td>\n",
       "      <td>1</td>\n",
       "      <td>1</td>\n",
       "      <td>1</td>\n",
       "      <td>1</td>\n",
       "      <td>0</td>\n",
       "      <td>1</td>\n",
       "      <td>1</td>\n",
       "      <td>0</td>\n",
       "    </tr>\n",
       "    <tr>\n",
       "      <th>3</th>\n",
       "      <td>595B79C6-D5AD-E411-9B05-005056B06EB4</td>\n",
       "      <td>515DF79E-1F6B-E911-80FE-001DD8B72B62</td>\n",
       "      <td>1</td>\n",
       "      <td>0</td>\n",
       "      <td>Netwerking</td>\n",
       "      <td>Offline</td>\n",
       "      <td>Netwerkevenement</td>\n",
       "      <td>0</td>\n",
       "      <td>0</td>\n",
       "      <td>0</td>\n",
       "      <td>0</td>\n",
       "      <td>0</td>\n",
       "      <td>0</td>\n",
       "      <td>0</td>\n",
       "      <td>0</td>\n",
       "      <td>0</td>\n",
       "      <td>0</td>\n",
       "    </tr>\n",
       "    <tr>\n",
       "      <th>4</th>\n",
       "      <td>89F9E44E-1368-E111-A00F-00505680000A</td>\n",
       "      <td>DE96F4D4-3DD1-E811-80F7-001DD8B72B62</td>\n",
       "      <td>2</td>\n",
       "      <td>0</td>\n",
       "      <td>Netwerking</td>\n",
       "      <td>Offline</td>\n",
       "      <td>Netwerkevenement</td>\n",
       "      <td>0</td>\n",
       "      <td>1</td>\n",
       "      <td>0</td>\n",
       "      <td>1</td>\n",
       "      <td>0</td>\n",
       "      <td>0</td>\n",
       "      <td>0</td>\n",
       "      <td>0</td>\n",
       "      <td>0</td>\n",
       "      <td>1</td>\n",
       "    </tr>\n",
       "  </tbody>\n",
       "</table>\n",
       "</div>"
      ],
      "text/plain": [
       "                              PersoonId                            CampagneId  \\\n",
       "0  69D781B7-AB07-EA11-8107-001DD8B72B61  6A0DAB08-AADB-E911-8105-001DD8B72B61   \n",
       "1  2E8F00A8-9653-E811-80F0-001DD8B72B62  08C08CAD-E3EB-E811-80F8-001DD8B72B61   \n",
       "2  03FA3FD7-FC20-EC11-8124-001DD8B72B61  E63FE690-94C7-EB11-8120-001DD8B72B61   \n",
       "3  595B79C6-D5AD-E411-9B05-005056B06EB4  515DF79E-1F6B-E911-80FE-001DD8B72B62   \n",
       "4  89F9E44E-1368-E111-A00F-00505680000A  DE96F4D4-3DD1-E811-80F7-001DD8B72B62   \n",
       "\n",
       "   aantal_sessies  aantal_bezoeken SessieThema SoortCampagne  \\\n",
       "0               1                0  Netwerking       Offline   \n",
       "1               1                0  Financieel       Offline   \n",
       "2               5                0    Welt 2.0       Offline   \n",
       "3               1                0  Netwerking       Offline   \n",
       "4               2                0  Netwerking       Offline   \n",
       "\n",
       "       TypeCampagne  ThemaDuurzaamheid  ThemaFinancieelFiscaal  \\\n",
       "0  Netwerkevenement                  0                       1   \n",
       "1  Netwerkevenement                  0                       0   \n",
       "2           Project                  1                       1   \n",
       "3  Netwerkevenement                  0                       0   \n",
       "4  Netwerkevenement                  0                       1   \n",
       "\n",
       "   ThemaInnovatie  ThemaInternationaalOndernemen  ThemaMobiliteit  \\\n",
       "0               0                              0                0   \n",
       "1               0                              0                0   \n",
       "2               1                              1                1   \n",
       "3               0                              0                0   \n",
       "4               0                              1                0   \n",
       "\n",
       "   ThemaOmgeving  ThemaSalesMarketingCommunicatie  \\\n",
       "0              0                                1   \n",
       "1              0                                0   \n",
       "2              1                                0   \n",
       "3              0                                0   \n",
       "4              0                                0   \n",
       "\n",
       "   ThemaStrategieEnAlgemeenManagement  ThemaTalent  ThemaWelzijn  \n",
       "0                                   0            1             0  \n",
       "1                                   0            0             0  \n",
       "2                                   1            1             0  \n",
       "3                                   0            0             0  \n",
       "4                                   0            0             1  "
      ]
     },
     "execution_count": 4,
     "metadata": {},
     "output_type": "execute_result"
    }
   ],
   "source": [
    "query = text('SELECT * FROM epic_5')\n",
    "df = pd.read_sql_query(query, connection)\n",
    "df.head()"
   ]
  },
  {
   "cell_type": "code",
   "execution_count": 5,
   "metadata": {},
   "outputs": [
    {
     "name": "stdout",
     "output_type": "stream",
     "text": [
      "<class 'pandas.core.frame.DataFrame'>\n",
      "RangeIndex: 52567 entries, 0 to 52566\n",
      "Data columns (total 17 columns):\n",
      " #   Column                              Non-Null Count  Dtype \n",
      "---  ------                              --------------  ----- \n",
      " 0   PersoonId                           52567 non-null  object\n",
      " 1   CampagneId                          52567 non-null  object\n",
      " 2   aantal_sessies                      52567 non-null  int64 \n",
      " 3   aantal_bezoeken                     52567 non-null  int64 \n",
      " 4   SessieThema                         52567 non-null  object\n",
      " 5   SoortCampagne                       52567 non-null  object\n",
      " 6   TypeCampagne                        52567 non-null  object\n",
      " 7   ThemaDuurzaamheid                   52567 non-null  int64 \n",
      " 8   ThemaFinancieelFiscaal              52567 non-null  int64 \n",
      " 9   ThemaInnovatie                      52567 non-null  int64 \n",
      " 10  ThemaInternationaalOndernemen       52567 non-null  int64 \n",
      " 11  ThemaMobiliteit                     52567 non-null  int64 \n",
      " 12  ThemaOmgeving                       52567 non-null  int64 \n",
      " 13  ThemaSalesMarketingCommunicatie     52567 non-null  int64 \n",
      " 14  ThemaStrategieEnAlgemeenManagement  52567 non-null  int64 \n",
      " 15  ThemaTalent                         52567 non-null  int64 \n",
      " 16  ThemaWelzijn                        52567 non-null  int64 \n",
      "dtypes: int64(12), object(5)\n",
      "memory usage: 6.8+ MB\n"
     ]
    }
   ],
   "source": [
    "df.info()"
   ]
  },
  {
   "cell_type": "code",
   "execution_count": 6,
   "metadata": {},
   "outputs": [],
   "source": [
    "# WORK IN PROGRESS UNDER THIS LINE"
   ]
  },
  {
   "cell_type": "code",
   "execution_count": 7,
   "metadata": {},
   "outputs": [],
   "source": [
    "# CONTENT BASED FILTERING MODEL"
   ]
  },
  {
   "cell_type": "code",
   "execution_count": 8,
   "metadata": {},
   "outputs": [],
   "source": [
    "# kijken welke items op elkaar lijken op basis van campagne / sessie informatie"
   ]
  },
  {
   "cell_type": "code",
   "execution_count": 9,
   "metadata": {},
   "outputs": [
    {
     "data": {
      "text/html": [
       "<div>\n",
       "<style scoped>\n",
       "    .dataframe tbody tr th:only-of-type {\n",
       "        vertical-align: middle;\n",
       "    }\n",
       "\n",
       "    .dataframe tbody tr th {\n",
       "        vertical-align: top;\n",
       "    }\n",
       "\n",
       "    .dataframe thead th {\n",
       "        text-align: right;\n",
       "    }\n",
       "</style>\n",
       "<table border=\"1\" class=\"dataframe\">\n",
       "  <thead>\n",
       "    <tr style=\"text-align: right;\">\n",
       "      <th></th>\n",
       "      <th>PersoonId</th>\n",
       "      <th>CampagneId</th>\n",
       "      <th>aantal_sessies</th>\n",
       "      <th>CampagneSessieInformatie</th>\n",
       "    </tr>\n",
       "  </thead>\n",
       "  <tbody>\n",
       "    <tr>\n",
       "      <th>0</th>\n",
       "      <td>69D781B7-AB07-EA11-8107-001DD8B72B61</td>\n",
       "      <td>6A0DAB08-AADB-E911-8105-001DD8B72B61</td>\n",
       "      <td>1</td>\n",
       "      <td>Netwerking Offline Netwerkevenement</td>\n",
       "    </tr>\n",
       "    <tr>\n",
       "      <th>1</th>\n",
       "      <td>2E8F00A8-9653-E811-80F0-001DD8B72B62</td>\n",
       "      <td>08C08CAD-E3EB-E811-80F8-001DD8B72B61</td>\n",
       "      <td>1</td>\n",
       "      <td>Financieel Offline Netwerkevenement</td>\n",
       "    </tr>\n",
       "    <tr>\n",
       "      <th>2</th>\n",
       "      <td>03FA3FD7-FC20-EC11-8124-001DD8B72B61</td>\n",
       "      <td>E63FE690-94C7-EB11-8120-001DD8B72B61</td>\n",
       "      <td>5</td>\n",
       "      <td>Welt 2.0 Offline Project</td>\n",
       "    </tr>\n",
       "    <tr>\n",
       "      <th>3</th>\n",
       "      <td>595B79C6-D5AD-E411-9B05-005056B06EB4</td>\n",
       "      <td>515DF79E-1F6B-E911-80FE-001DD8B72B62</td>\n",
       "      <td>1</td>\n",
       "      <td>Netwerking Offline Netwerkevenement</td>\n",
       "    </tr>\n",
       "    <tr>\n",
       "      <th>4</th>\n",
       "      <td>89F9E44E-1368-E111-A00F-00505680000A</td>\n",
       "      <td>DE96F4D4-3DD1-E811-80F7-001DD8B72B62</td>\n",
       "      <td>2</td>\n",
       "      <td>Netwerking Offline Netwerkevenement</td>\n",
       "    </tr>\n",
       "  </tbody>\n",
       "</table>\n",
       "</div>"
      ],
      "text/plain": [
       "                              PersoonId                            CampagneId  \\\n",
       "0  69D781B7-AB07-EA11-8107-001DD8B72B61  6A0DAB08-AADB-E911-8105-001DD8B72B61   \n",
       "1  2E8F00A8-9653-E811-80F0-001DD8B72B62  08C08CAD-E3EB-E811-80F8-001DD8B72B61   \n",
       "2  03FA3FD7-FC20-EC11-8124-001DD8B72B61  E63FE690-94C7-EB11-8120-001DD8B72B61   \n",
       "3  595B79C6-D5AD-E411-9B05-005056B06EB4  515DF79E-1F6B-E911-80FE-001DD8B72B62   \n",
       "4  89F9E44E-1368-E111-A00F-00505680000A  DE96F4D4-3DD1-E811-80F7-001DD8B72B62   \n",
       "\n",
       "   aantal_sessies             CampagneSessieInformatie  \n",
       "0               1  Netwerking Offline Netwerkevenement  \n",
       "1               1  Financieel Offline Netwerkevenement  \n",
       "2               5             Welt 2.0 Offline Project  \n",
       "3               1  Netwerking Offline Netwerkevenement  \n",
       "4               2  Netwerking Offline Netwerkevenement  "
      ]
     },
     "execution_count": 9,
     "metadata": {},
     "output_type": "execute_result"
    }
   ],
   "source": [
    "df_tfidf = df\n",
    "\n",
    "df_tfidf['CampagneSessieInformatie'] = df_tfidf['SessieThema'] + ' ' + df_tfidf['SoortCampagne'] + ' ' + df_tfidf['TypeCampagne']\n",
    "\n",
    "df_tfidf = df_tfidf[['PersoonId', 'CampagneId', 'aantal_sessies', 'CampagneSessieInformatie']]\n",
    "\n",
    "df_tfidf.head()"
   ]
  },
  {
   "cell_type": "code",
   "execution_count": 10,
   "metadata": {},
   "outputs": [],
   "source": [
    "# VANAF HIER ONZEKER"
   ]
  },
  {
   "cell_type": "code",
   "execution_count": 11,
   "metadata": {},
   "outputs": [],
   "source": [
    "vectorizer = TfidfVectorizer()\n",
    "\n",
    "campagne_sessie_matrix = vectorizer.fit_transform(df_tfidf['CampagneSessieInformatie'])"
   ]
  },
  {
   "cell_type": "code",
   "execution_count": 12,
   "metadata": {},
   "outputs": [],
   "source": [
    "from sklearn.decomposition import TruncatedSVD\n",
    "\n",
    "# Assuming tfidf_matrix is your TF-IDF matrix\n",
    "svd = TruncatedSVD(n_components=40)  # Reduce to 100 dimensions\n",
    "reduced_campagne_sessie_matrix = svd.fit_transform(campagne_sessie_matrix)"
   ]
  },
  {
   "cell_type": "code",
   "execution_count": 13,
   "metadata": {},
   "outputs": [],
   "source": [
    "content_model = cosine_similarity(reduced_campagne_sessie_matrix)"
   ]
  },
  {
   "cell_type": "code",
   "execution_count": 14,
   "metadata": {},
   "outputs": [],
   "source": [
    "# WORK IN PROGRESS ABOVE THIS LINE"
   ]
  },
  {
   "cell_type": "code",
   "execution_count": 15,
   "metadata": {},
   "outputs": [],
   "source": [
    "# COLLABORATIVE FILTERING MODEL"
   ]
  },
  {
   "cell_type": "code",
   "execution_count": 16,
   "metadata": {},
   "outputs": [
    {
     "data": {
      "text/plain": [
       "(52567, 3)"
      ]
     },
     "execution_count": 16,
     "metadata": {},
     "output_type": "execute_result"
    }
   ],
   "source": [
    "df_svd = df[['PersoonId', 'CampagneId', 'aantal_sessies']]\n",
    "df_svd.shape"
   ]
  },
  {
   "cell_type": "code",
   "execution_count": 17,
   "metadata": {},
   "outputs": [
    {
     "data": {
      "text/plain": [
       "(6512, 3)"
      ]
     },
     "execution_count": 17,
     "metadata": {},
     "output_type": "execute_result"
    }
   ],
   "source": [
    "min_aantal_sessies = df_svd.loc[df_svd['aantal_sessies'] > 2]\n",
    "min_aantal_sessies.shape"
   ]
  },
  {
   "cell_type": "code",
   "execution_count": 18,
   "metadata": {},
   "outputs": [
    {
     "data": {
      "text/plain": [
       "3     1372\n",
       "4     1064\n",
       "6     1048\n",
       "5      837\n",
       "7      466\n",
       "10     307\n",
       "11     274\n",
       "14     212\n",
       "13     195\n",
       "12     185\n",
       "8      183\n",
       "9      149\n",
       "15     125\n",
       "17      58\n",
       "18      14\n",
       "16      14\n",
       "26       2\n",
       "20       2\n",
       "27       2\n",
       "22       2\n",
       "24       1\n",
       "Name: aantal_sessies, dtype: int64"
      ]
     },
     "execution_count": 18,
     "metadata": {},
     "output_type": "execute_result"
    }
   ],
   "source": [
    "min_aantal_sessies['aantal_sessies'].value_counts()"
   ]
  },
  {
   "cell_type": "code",
   "execution_count": 19,
   "metadata": {},
   "outputs": [],
   "source": [
    "df_svd = min_aantal_sessies"
   ]
  },
  {
   "cell_type": "code",
   "execution_count": 20,
   "metadata": {},
   "outputs": [],
   "source": [
    "train_set, test_set = train_test_split(df_svd, test_size=0.25, random_state=7)"
   ]
  },
  {
   "cell_type": "code",
   "execution_count": 21,
   "metadata": {},
   "outputs": [],
   "source": [
    "reader = Reader(rating_scale=(df_svd['aantal_sessies'].min(), df_svd['aantal_sessies'].max()))\n",
    "\n",
    "df_svd_surprise = Dataset.load_from_df(df_svd[['PersoonId', 'CampagneId', 'aantal_sessies']], reader)\n",
    "\n",
    "df_svd_train = Dataset.load_from_df(train_set[['PersoonId', 'CampagneId', 'aantal_sessies']], reader)"
   ]
  },
  {
   "cell_type": "code",
   "execution_count": 22,
   "metadata": {},
   "outputs": [
    {
     "name": "stdout",
     "output_type": "stream",
     "text": [
      "Best RMSE: 1.443113335359617 {'n_epochs': 10, 'lr_all': 0.07, 'reg_all': 0.1, 'n_factors': 1}\n",
      "Best MAE: 0.9153200459475822 {'n_epochs': 10, 'lr_all': 0.07, 'reg_all': 0.1, 'n_factors': 1}\n"
     ]
    }
   ],
   "source": [
    "param_grid = {\"n_epochs\": [5, 10, 15], \"lr_all\": [0.06, 0.07, 0.08], \"reg_all\": [0.1, 0.2, 0.3], \"n_factors\": [1, 2, 3]}\n",
    "grid_search_SVD = GridSearchCV(SVD, param_grid, measures=[\"rmse\", \"mae\"], cv=3)\n",
    "\n",
    "grid_search_SVD.fit(df_svd_train)\n",
    "\n",
    "print('Best RMSE:', grid_search_SVD.best_score['rmse'], grid_search_SVD.best_params['rmse'])\n",
    "print('Best MAE:', grid_search_SVD.best_score['mae'], grid_search_SVD.best_params['mae'])"
   ]
  },
  {
   "cell_type": "code",
   "execution_count": 23,
   "metadata": {},
   "outputs": [],
   "source": [
    "trainset, testset = tts2(df_svd_surprise, test_size=0.25, random_state=7)\n",
    "\n",
    "model_SVD = grid_search_SVD.best_estimator['rmse']\n",
    "\n",
    "model_SVD.fit(trainset)\n",
    "\n",
    "predictions = model_SVD.test(testset)\n",
    "\n",
    "ResultCatcher = pd.DataFrame(predictions, columns=['PersoonId', 'CampagneId', 'Real_Rating', 'Estimated_Rating', 'details'])\n",
    "ResultCatcher.drop(['details'], axis=1, inplace=True)"
   ]
  },
  {
   "cell_type": "code",
   "execution_count": 24,
   "metadata": {},
   "outputs": [
    {
     "data": {
      "text/html": [
       "<div>\n",
       "<style scoped>\n",
       "    .dataframe tbody tr th:only-of-type {\n",
       "        vertical-align: middle;\n",
       "    }\n",
       "\n",
       "    .dataframe tbody tr th {\n",
       "        vertical-align: top;\n",
       "    }\n",
       "\n",
       "    .dataframe thead th {\n",
       "        text-align: right;\n",
       "    }\n",
       "</style>\n",
       "<table border=\"1\" class=\"dataframe\">\n",
       "  <thead>\n",
       "    <tr style=\"text-align: right;\">\n",
       "      <th></th>\n",
       "      <th>PersoonId</th>\n",
       "      <th>CampagneId</th>\n",
       "      <th>Real_Rating</th>\n",
       "      <th>Estimated_Rating</th>\n",
       "      <th>Estimation_Rounded</th>\n",
       "      <th>Error</th>\n",
       "    </tr>\n",
       "  </thead>\n",
       "  <tbody>\n",
       "    <tr>\n",
       "      <th>0</th>\n",
       "      <td>C70BE5B5-4CBF-ED11-83FF-6045BD895CDC</td>\n",
       "      <td>91417BFD-85AB-ED11-AAD0-6045BD895BFB</td>\n",
       "      <td>4.0</td>\n",
       "      <td>4.552421</td>\n",
       "      <td>5</td>\n",
       "      <td>1.0</td>\n",
       "    </tr>\n",
       "    <tr>\n",
       "      <th>1</th>\n",
       "      <td>B56AAE78-DB42-E211-9B51-005056B06EC4</td>\n",
       "      <td>805C1474-D7E0-E711-80EE-001DD8B72B61</td>\n",
       "      <td>8.0</td>\n",
       "      <td>8.572399</td>\n",
       "      <td>9</td>\n",
       "      <td>1.0</td>\n",
       "    </tr>\n",
       "    <tr>\n",
       "      <th>2</th>\n",
       "      <td>94BCF437-58A5-E411-BDB1-005056B06EC4</td>\n",
       "      <td>781C2BE9-4E56-EB11-8117-001DD8B72B61</td>\n",
       "      <td>5.0</td>\n",
       "      <td>5.050369</td>\n",
       "      <td>5</td>\n",
       "      <td>0.0</td>\n",
       "    </tr>\n",
       "    <tr>\n",
       "      <th>3</th>\n",
       "      <td>B5D51C47-3587-E311-BBFD-005056B06EB4</td>\n",
       "      <td>9BFFA4B0-9F59-EC11-8F8F-000D3AAD44A7</td>\n",
       "      <td>4.0</td>\n",
       "      <td>4.189755</td>\n",
       "      <td>4</td>\n",
       "      <td>0.0</td>\n",
       "    </tr>\n",
       "    <tr>\n",
       "      <th>4</th>\n",
       "      <td>1F8A60F8-4C05-E511-ABE8-005056B06EB4</td>\n",
       "      <td>B5FB17A2-FFD4-EC11-A7B5-000D3ABD1070</td>\n",
       "      <td>3.0</td>\n",
       "      <td>3.281546</td>\n",
       "      <td>3</td>\n",
       "      <td>0.0</td>\n",
       "    </tr>\n",
       "  </tbody>\n",
       "</table>\n",
       "</div>"
      ],
      "text/plain": [
       "                              PersoonId                            CampagneId  \\\n",
       "0  C70BE5B5-4CBF-ED11-83FF-6045BD895CDC  91417BFD-85AB-ED11-AAD0-6045BD895BFB   \n",
       "1  B56AAE78-DB42-E211-9B51-005056B06EC4  805C1474-D7E0-E711-80EE-001DD8B72B61   \n",
       "2  94BCF437-58A5-E411-BDB1-005056B06EC4  781C2BE9-4E56-EB11-8117-001DD8B72B61   \n",
       "3  B5D51C47-3587-E311-BBFD-005056B06EB4  9BFFA4B0-9F59-EC11-8F8F-000D3AAD44A7   \n",
       "4  1F8A60F8-4C05-E511-ABE8-005056B06EB4  B5FB17A2-FFD4-EC11-A7B5-000D3ABD1070   \n",
       "\n",
       "   Real_Rating  Estimated_Rating  Estimation_Rounded  Error  \n",
       "0          4.0          4.552421                   5    1.0  \n",
       "1          8.0          8.572399                   9    1.0  \n",
       "2          5.0          5.050369                   5    0.0  \n",
       "3          4.0          4.189755                   4    0.0  \n",
       "4          3.0          3.281546                   3    0.0  "
      ]
     },
     "execution_count": 24,
     "metadata": {},
     "output_type": "execute_result"
    }
   ],
   "source": [
    "ResultCatcher['Estimation_Rounded'] = ResultCatcher.apply(lambda row: round(row.Estimated_Rating), axis=1)\n",
    "ResultCatcher['Error'] = abs(ResultCatcher['Real_Rating'] - ResultCatcher['Estimation_Rounded'])\n",
    "ResultCatcher.head()"
   ]
  },
  {
   "cell_type": "code",
   "execution_count": 25,
   "metadata": {},
   "outputs": [
    {
     "name": "stdout",
     "output_type": "stream",
     "text": [
      "Sum of Real_Rating:  10444.0\n",
      "Sum of Error:  1235.0\n",
      "Count of Real_Rating:  1628\n",
      "Count of Real_Rating where Error is 0:  815\n",
      "Error Percentage: 11.82%\n",
      "Accuracy Percentage: 50.06%\n"
     ]
    }
   ],
   "source": [
    "sum_of_real_rating = ResultCatcher['Real_Rating'].sum()\n",
    "sum_of_error = ResultCatcher['Error'].sum()\n",
    "count_of_real_rating = ResultCatcher['Real_Rating'].count()\n",
    "count_of_correct_predictions = ResultCatcher['Real_Rating'][ResultCatcher['Error'] == 0].count()\n",
    "\n",
    "error_percentage = (sum_of_error / sum_of_real_rating) * 100\n",
    "accuracy_percentage = (count_of_correct_predictions / count_of_real_rating) * 100\n",
    "\n",
    "print(\"Sum of Real_Rating: \", sum_of_real_rating)\n",
    "print(\"Sum of Error: \", sum_of_error)\n",
    "print(\"Count of Real_Rating: \", count_of_real_rating)\n",
    "print(\"Count of Real_Rating where Error is 0: \", count_of_correct_predictions)\n",
    "\n",
    "print(\"Error Percentage: {:.2f}%\".format(error_percentage))\n",
    "print(\"Accuracy Percentage: {:.2f}%\".format(accuracy_percentage))"
   ]
  },
  {
   "cell_type": "code",
   "execution_count": 26,
   "metadata": {},
   "outputs": [],
   "source": [
    "# https://github.com/EmirKorkutUnal/Python-Surprise-Predictions-on-Custom-Dataset"
   ]
  },
  {
   "cell_type": "code",
   "execution_count": 27,
   "metadata": {},
   "outputs": [],
   "source": [
    "# WORK IN PROGRESS UNDER THIS LINE"
   ]
  },
  {
   "cell_type": "code",
   "execution_count": null,
   "metadata": {},
   "outputs": [],
   "source": [
    "# HYBRID MODEL"
   ]
  },
  {
   "cell_type": "code",
   "execution_count": 28,
   "metadata": {},
   "outputs": [],
   "source": [
    "# beide modellen combineren, content based eerst dan collaborative filtering\n",
    "# content based voor 'user likes x so user will like y' omdat het op elkaar lijkt op basis van campagne / sessie informatie\n",
    "# lost het 'cold start' probleem op denk ik"
   ]
  },
  {
   "cell_type": "code",
   "execution_count": 29,
   "metadata": {},
   "outputs": [],
   "source": [
    "interactions_matrix = df[['PersoonId', 'CampagneId', 'aantal_sessies']]\n",
    "\n",
    "interactions_matrix = interactions_matrix.groupby(['PersoonId', 'CampagneId'])['aantal_sessies'].sum().reset_index()\n",
    "\n",
    "interactions_matrix = interactions_matrix.pivot(index='PersoonId', columns='CampagneId', values='aantal_sessies')\n",
    "\n",
    "interactions_matrix.fillna(0, inplace=True)"
   ]
  },
  {
   "cell_type": "code",
   "execution_count": 30,
   "metadata": {},
   "outputs": [],
   "source": [
    "def recommend_users_svd(campagne_id):\n",
    "\n",
    "    user_ids = list(interactions_matrix.index)\n",
    "    predicted_ratings = [model_SVD.predict(uid, campagne_id).est for uid in user_ids]\n",
    "\n",
    "    predicted_df = pd.DataFrame({'user_id': user_ids, 'predicted_rating': predicted_ratings})\n",
    "\n",
    "    entered_users = interactions_matrix.loc[interactions_matrix[campagne_id] != 0].index\n",
    "    predicted_df = predicted_df[~predicted_df['user_id'].isin(entered_users)]\n",
    "\n",
    "    predicted_df = predicted_df.sort_values('predicted_rating', ascending=False)\n",
    "    \n",
    "    return predicted_df['user_id'].head(20).tolist()"
   ]
  },
  {
   "cell_type": "code",
   "execution_count": 31,
   "metadata": {},
   "outputs": [
    {
     "data": {
      "text/plain": [
       "['A7CC125D-6A69-E111-B43A-00505680000A',\n",
       " 'D23964E3-E5F7-E511-8668-005056B06EC4',\n",
       " '5AB440E4-921B-E811-80F0-001DD8B72B61',\n",
       " '8576E600-5D69-E111-B43A-00505680000A',\n",
       " '06428843-5B69-E111-B43A-00505680000A',\n",
       " 'F83463FA-7954-EA11-810C-001DD8B72B62',\n",
       " '2F3C1A12-1AFD-E711-80EF-001DD8B72B61',\n",
       " '29F528AB-B267-E111-A00F-00505680000A',\n",
       " '2F792166-DED1-E211-A85C-005056B06EC4',\n",
       " 'A1AA1537-9C44-E911-80FC-001DD8B72B62',\n",
       " 'E05395CF-DA91-ED11-AAD1-6045BD8952CE',\n",
       " '16039437-1A0A-EB11-8114-001DD8B72B61',\n",
       " '5179B665-0F42-E611-80D6-005056B06EC4',\n",
       " 'DB69CBDE-6969-E111-B43A-00505680000A',\n",
       " '915B2A2D-7A7A-EB11-811D-001DD8B72B62',\n",
       " '4D8985E3-129A-EC11-B400-002248800BBE',\n",
       " '56EB436D-D212-EB11-8116-001DD8B72B62',\n",
       " '3E8EEEE7-7BA0-EC11-B400-6045BD93C7AE',\n",
       " '9C15D4DE-3B48-EC11-8C62-6045BD8D2834',\n",
       " '36A2ADF2-8041-E911-80FC-001DD8B72B62']"
      ]
     },
     "execution_count": 31,
     "metadata": {},
     "output_type": "execute_result"
    }
   ],
   "source": [
    "recommend_users_svd('61FE6D67-F088-E811-80F3-001DD8B72B61')"
   ]
  },
  {
   "cell_type": "code",
   "execution_count": 32,
   "metadata": {},
   "outputs": [],
   "source": [
    "# WORK IN PROGRESS ABOVE THIS LINE"
   ]
  }
 ],
 "metadata": {
  "kernelspec": {
   "display_name": "Python 3",
   "language": "python",
   "name": "python3"
  },
  "language_info": {
   "codemirror_mode": {
    "name": "ipython",
    "version": 3
   },
   "file_extension": ".py",
   "mimetype": "text/x-python",
   "name": "python",
   "nbconvert_exporter": "python",
   "pygments_lexer": "ipython3",
   "version": "3.10.7"
  }
 },
 "nbformat": 4,
 "nbformat_minor": 2
}

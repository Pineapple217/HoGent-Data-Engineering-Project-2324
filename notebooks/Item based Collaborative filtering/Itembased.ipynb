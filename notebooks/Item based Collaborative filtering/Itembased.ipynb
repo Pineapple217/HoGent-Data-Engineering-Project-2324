{
 "cells": [
  {
   "cell_type": "code",
   "execution_count": 1,
   "metadata": {},
   "outputs": [],
   "source": [
    "# scikit-surprise\n",
    "# https://learn.microsoft.com/en-US/cpp/windows/latest-supported-vc-redist?view=msvc-170#visual-studio-2015-2017-2019-and-2022\n",
    "# https://stackoverflow.com/questions/61365790/error-could-not-build-wheels-for-scipy-which-use-pep-517-and-cannot-be-installe\n",
    "# pip install --upgrade pip setuptools wheel / pip3 install scikit-surprise"
   ]
  },
  {
   "cell_type": "code",
   "execution_count": 2,
   "metadata": {},
   "outputs": [],
   "source": [
    "import os\n",
    "import sqlalchemy\n",
    "import pandas as pd\n",
    "from dotenv import load_dotenv \n",
    "from surprise import Reader, Dataset, SVD\n",
    "from sqlalchemy import create_engine, text\n",
    "from sklearn.preprocessing import OneHotEncoder\n",
    "from surprise.model_selection import GridSearchCV\n",
    "from sklearn.model_selection import train_test_split\n",
    "from sklearn.metrics.pairwise import cosine_similarity\n",
    "from sklearn.feature_extraction.text import TfidfVectorizer\n",
    "from surprise.model_selection import train_test_split as tts2"
   ]
  },
  {
   "cell_type": "code",
   "execution_count": 3,
   "metadata": {},
   "outputs": [
    {
     "name": "stdout",
     "output_type": "stream",
     "text": [
      "Successfully connected to the database\n",
      "SQLAlchemy version: 2.0.21\n"
     ]
    }
   ],
   "source": [
    "load_dotenv()\n",
    "DB_URL = os.getenv(\"DB_URL\")\n",
    "engine = create_engine(DB_URL)\n",
    "\n",
    "try:\n",
    "    connection = engine.connect()\n",
    "    print(\"Successfully connected to the database\")\n",
    "except Exception as e:\n",
    "    print(f\"Failed to connect to the database: {e}\")\n",
    "\n",
    "print(f\"SQLAlchemy version: {sqlalchemy.__version__}\")"
   ]
  },
  {
   "cell_type": "code",
   "execution_count": 4,
   "metadata": {},
   "outputs": [
    {
     "data": {
      "text/html": [
       "<div>\n",
       "<style scoped>\n",
       "    .dataframe tbody tr th:only-of-type {\n",
       "        vertical-align: middle;\n",
       "    }\n",
       "\n",
       "    .dataframe tbody tr th {\n",
       "        vertical-align: top;\n",
       "    }\n",
       "\n",
       "    .dataframe thead th {\n",
       "        text-align: right;\n",
       "    }\n",
       "</style>\n",
       "<table border=\"1\" class=\"dataframe\">\n",
       "  <thead>\n",
       "    <tr style=\"text-align: right;\">\n",
       "      <th></th>\n",
       "      <th>PersoonId</th>\n",
       "      <th>CampagneId</th>\n",
       "      <th>aantal_sessies</th>\n",
       "      <th>aantal_bezoeken</th>\n",
       "      <th>SessieThema</th>\n",
       "      <th>SoortCampagne</th>\n",
       "      <th>TypeCampagne</th>\n",
       "      <th>ThemaDuurzaamheid</th>\n",
       "      <th>ThemaFinancieelFiscaal</th>\n",
       "      <th>ThemaInnovatie</th>\n",
       "      <th>ThemaInternationaalOndernemen</th>\n",
       "      <th>ThemaMobiliteit</th>\n",
       "      <th>ThemaOmgeving</th>\n",
       "      <th>ThemaSalesMarketingCommunicatie</th>\n",
       "      <th>ThemaStrategieEnAlgemeenManagement</th>\n",
       "      <th>ThemaTalent</th>\n",
       "      <th>ThemaWelzijn</th>\n",
       "    </tr>\n",
       "  </thead>\n",
       "  <tbody>\n",
       "    <tr>\n",
       "      <th>0</th>\n",
       "      <td>111AF280-8E24-E911-80FB-001DD8B72B62</td>\n",
       "      <td>B5D28043-9F4C-E911-80FC-001DD8B72B62</td>\n",
       "      <td>1</td>\n",
       "      <td>0</td>\n",
       "      <td>Netwerking</td>\n",
       "      <td>Offline</td>\n",
       "      <td>Netwerkevenement</td>\n",
       "      <td>0</td>\n",
       "      <td>0</td>\n",
       "      <td>0</td>\n",
       "      <td>0</td>\n",
       "      <td>0</td>\n",
       "      <td>0</td>\n",
       "      <td>0</td>\n",
       "      <td>0</td>\n",
       "      <td>0</td>\n",
       "      <td>0</td>\n",
       "    </tr>\n",
       "    <tr>\n",
       "      <th>1</th>\n",
       "      <td>3A82E7B4-4A57-E811-80F0-001DD8B72B62</td>\n",
       "      <td>7B62B114-920B-EA11-8107-001DD8B72B61</td>\n",
       "      <td>1</td>\n",
       "      <td>0</td>\n",
       "      <td>Netwerking</td>\n",
       "      <td>Offline</td>\n",
       "      <td>Netwerkevenement</td>\n",
       "      <td>0</td>\n",
       "      <td>0</td>\n",
       "      <td>0</td>\n",
       "      <td>0</td>\n",
       "      <td>0</td>\n",
       "      <td>0</td>\n",
       "      <td>0</td>\n",
       "      <td>0</td>\n",
       "      <td>0</td>\n",
       "      <td>0</td>\n",
       "    </tr>\n",
       "    <tr>\n",
       "      <th>2</th>\n",
       "      <td>C7FEB15E-FC67-E111-A00F-00505680000A</td>\n",
       "      <td>2D2494E9-0822-E811-80F0-001DD8B72B61</td>\n",
       "      <td>2</td>\n",
       "      <td>0</td>\n",
       "      <td>Netwerking</td>\n",
       "      <td>Offline</td>\n",
       "      <td>Netwerkevenement</td>\n",
       "      <td>1</td>\n",
       "      <td>0</td>\n",
       "      <td>0</td>\n",
       "      <td>0</td>\n",
       "      <td>1</td>\n",
       "      <td>0</td>\n",
       "      <td>0</td>\n",
       "      <td>1</td>\n",
       "      <td>0</td>\n",
       "      <td>0</td>\n",
       "    </tr>\n",
       "    <tr>\n",
       "      <th>3</th>\n",
       "      <td>F4FD0816-1468-E111-A00F-00505680000A</td>\n",
       "      <td>DF45C30C-A7F6-E711-80EF-001DD8B72B61</td>\n",
       "      <td>1</td>\n",
       "      <td>0</td>\n",
       "      <td>Haven</td>\n",
       "      <td>Offline</td>\n",
       "      <td>Netwerkevenement</td>\n",
       "      <td>0</td>\n",
       "      <td>0</td>\n",
       "      <td>0</td>\n",
       "      <td>0</td>\n",
       "      <td>0</td>\n",
       "      <td>0</td>\n",
       "      <td>0</td>\n",
       "      <td>0</td>\n",
       "      <td>0</td>\n",
       "      <td>0</td>\n",
       "    </tr>\n",
       "    <tr>\n",
       "      <th>4</th>\n",
       "      <td>FAD0814C-38A4-EB11-811A-001DD8B72B61</td>\n",
       "      <td>EEA0ED13-69E4-EB11-8121-001DD8B72B61</td>\n",
       "      <td>1</td>\n",
       "      <td>2</td>\n",
       "      <td>Welt 2.0</td>\n",
       "      <td>Offline</td>\n",
       "      <td>Project</td>\n",
       "      <td>1</td>\n",
       "      <td>0</td>\n",
       "      <td>0</td>\n",
       "      <td>0</td>\n",
       "      <td>0</td>\n",
       "      <td>0</td>\n",
       "      <td>0</td>\n",
       "      <td>0</td>\n",
       "      <td>1</td>\n",
       "      <td>1</td>\n",
       "    </tr>\n",
       "  </tbody>\n",
       "</table>\n",
       "</div>"
      ],
      "text/plain": [
       "                              PersoonId                            CampagneId  \\\n",
       "0  111AF280-8E24-E911-80FB-001DD8B72B62  B5D28043-9F4C-E911-80FC-001DD8B72B62   \n",
       "1  3A82E7B4-4A57-E811-80F0-001DD8B72B62  7B62B114-920B-EA11-8107-001DD8B72B61   \n",
       "2  C7FEB15E-FC67-E111-A00F-00505680000A  2D2494E9-0822-E811-80F0-001DD8B72B61   \n",
       "3  F4FD0816-1468-E111-A00F-00505680000A  DF45C30C-A7F6-E711-80EF-001DD8B72B61   \n",
       "4  FAD0814C-38A4-EB11-811A-001DD8B72B61  EEA0ED13-69E4-EB11-8121-001DD8B72B61   \n",
       "\n",
       "   aantal_sessies  aantal_bezoeken SessieThema SoortCampagne  \\\n",
       "0               1                0  Netwerking       Offline   \n",
       "1               1                0  Netwerking       Offline   \n",
       "2               2                0  Netwerking       Offline   \n",
       "3               1                0       Haven       Offline   \n",
       "4               1                2    Welt 2.0       Offline   \n",
       "\n",
       "       TypeCampagne  ThemaDuurzaamheid  ThemaFinancieelFiscaal  \\\n",
       "0  Netwerkevenement                  0                       0   \n",
       "1  Netwerkevenement                  0                       0   \n",
       "2  Netwerkevenement                  1                       0   \n",
       "3  Netwerkevenement                  0                       0   \n",
       "4           Project                  1                       0   \n",
       "\n",
       "   ThemaInnovatie  ThemaInternationaalOndernemen  ThemaMobiliteit  \\\n",
       "0               0                              0                0   \n",
       "1               0                              0                0   \n",
       "2               0                              0                1   \n",
       "3               0                              0                0   \n",
       "4               0                              0                0   \n",
       "\n",
       "   ThemaOmgeving  ThemaSalesMarketingCommunicatie  \\\n",
       "0              0                                0   \n",
       "1              0                                0   \n",
       "2              0                                0   \n",
       "3              0                                0   \n",
       "4              0                                0   \n",
       "\n",
       "   ThemaStrategieEnAlgemeenManagement  ThemaTalent  ThemaWelzijn  \n",
       "0                                   0            0             0  \n",
       "1                                   0            0             0  \n",
       "2                                   1            0             0  \n",
       "3                                   0            0             0  \n",
       "4                                   0            1             1  "
      ]
     },
     "execution_count": 4,
     "metadata": {},
     "output_type": "execute_result"
    }
   ],
   "source": [
    "query = text('SELECT * FROM epic_5')\n",
    "df = pd.read_sql_query(query, connection)\n",
    "df.head()"
   ]
  },
  {
   "cell_type": "code",
   "execution_count": 5,
   "metadata": {},
   "outputs": [
    {
     "name": "stdout",
     "output_type": "stream",
     "text": [
      "<class 'pandas.core.frame.DataFrame'>\n",
      "RangeIndex: 52567 entries, 0 to 52566\n",
      "Data columns (total 17 columns):\n",
      " #   Column                              Non-Null Count  Dtype \n",
      "---  ------                              --------------  ----- \n",
      " 0   PersoonId                           52567 non-null  object\n",
      " 1   CampagneId                          52567 non-null  object\n",
      " 2   aantal_sessies                      52567 non-null  int64 \n",
      " 3   aantal_bezoeken                     52567 non-null  int64 \n",
      " 4   SessieThema                         52567 non-null  object\n",
      " 5   SoortCampagne                       52567 non-null  object\n",
      " 6   TypeCampagne                        52567 non-null  object\n",
      " 7   ThemaDuurzaamheid                   52567 non-null  int64 \n",
      " 8   ThemaFinancieelFiscaal              52567 non-null  int64 \n",
      " 9   ThemaInnovatie                      52567 non-null  int64 \n",
      " 10  ThemaInternationaalOndernemen       52567 non-null  int64 \n",
      " 11  ThemaMobiliteit                     52567 non-null  int64 \n",
      " 12  ThemaOmgeving                       52567 non-null  int64 \n",
      " 13  ThemaSalesMarketingCommunicatie     52567 non-null  int64 \n",
      " 14  ThemaStrategieEnAlgemeenManagement  52567 non-null  int64 \n",
      " 15  ThemaTalent                         52567 non-null  int64 \n",
      " 16  ThemaWelzijn                        52567 non-null  int64 \n",
      "dtypes: int64(12), object(5)\n",
      "memory usage: 6.8+ MB\n"
     ]
    }
   ],
   "source": [
    "df.info()"
   ]
  },
  {
   "cell_type": "code",
   "execution_count": 6,
   "metadata": {},
   "outputs": [],
   "source": [
    "# WORK IN PROGRESS UNDER THIS LINE"
   ]
  },
  {
   "cell_type": "code",
   "execution_count": 7,
   "metadata": {},
   "outputs": [],
   "source": [
    "# CONTENT BASED FILTERING MODEL"
   ]
  },
  {
   "cell_type": "code",
   "execution_count": 8,
   "metadata": {},
   "outputs": [],
   "source": [
    "# kijken welke items op elkaar lijken op basis van campagne / sessie informatie"
   ]
  },
  {
   "cell_type": "code",
   "execution_count": 9,
   "metadata": {},
   "outputs": [
    {
     "data": {
      "text/html": [
       "<div>\n",
       "<style scoped>\n",
       "    .dataframe tbody tr th:only-of-type {\n",
       "        vertical-align: middle;\n",
       "    }\n",
       "\n",
       "    .dataframe tbody tr th {\n",
       "        vertical-align: top;\n",
       "    }\n",
       "\n",
       "    .dataframe thead th {\n",
       "        text-align: right;\n",
       "    }\n",
       "</style>\n",
       "<table border=\"1\" class=\"dataframe\">\n",
       "  <thead>\n",
       "    <tr style=\"text-align: right;\">\n",
       "      <th></th>\n",
       "      <th>PersoonId</th>\n",
       "      <th>CampagneId</th>\n",
       "      <th>aantal_sessies</th>\n",
       "      <th>CampagneSessieInformatie</th>\n",
       "    </tr>\n",
       "  </thead>\n",
       "  <tbody>\n",
       "    <tr>\n",
       "      <th>0</th>\n",
       "      <td>111AF280-8E24-E911-80FB-001DD8B72B62</td>\n",
       "      <td>B5D28043-9F4C-E911-80FC-001DD8B72B62</td>\n",
       "      <td>1</td>\n",
       "      <td>Netwerking Offline Netwerkevenement</td>\n",
       "    </tr>\n",
       "    <tr>\n",
       "      <th>1</th>\n",
       "      <td>3A82E7B4-4A57-E811-80F0-001DD8B72B62</td>\n",
       "      <td>7B62B114-920B-EA11-8107-001DD8B72B61</td>\n",
       "      <td>1</td>\n",
       "      <td>Netwerking Offline Netwerkevenement</td>\n",
       "    </tr>\n",
       "    <tr>\n",
       "      <th>2</th>\n",
       "      <td>C7FEB15E-FC67-E111-A00F-00505680000A</td>\n",
       "      <td>2D2494E9-0822-E811-80F0-001DD8B72B61</td>\n",
       "      <td>2</td>\n",
       "      <td>Netwerking Offline Netwerkevenement</td>\n",
       "    </tr>\n",
       "    <tr>\n",
       "      <th>3</th>\n",
       "      <td>F4FD0816-1468-E111-A00F-00505680000A</td>\n",
       "      <td>DF45C30C-A7F6-E711-80EF-001DD8B72B61</td>\n",
       "      <td>1</td>\n",
       "      <td>Haven Offline Netwerkevenement</td>\n",
       "    </tr>\n",
       "    <tr>\n",
       "      <th>4</th>\n",
       "      <td>FAD0814C-38A4-EB11-811A-001DD8B72B61</td>\n",
       "      <td>EEA0ED13-69E4-EB11-8121-001DD8B72B61</td>\n",
       "      <td>1</td>\n",
       "      <td>Welt 2.0 Offline Project</td>\n",
       "    </tr>\n",
       "  </tbody>\n",
       "</table>\n",
       "</div>"
      ],
      "text/plain": [
       "                              PersoonId                            CampagneId  \\\n",
       "0  111AF280-8E24-E911-80FB-001DD8B72B62  B5D28043-9F4C-E911-80FC-001DD8B72B62   \n",
       "1  3A82E7B4-4A57-E811-80F0-001DD8B72B62  7B62B114-920B-EA11-8107-001DD8B72B61   \n",
       "2  C7FEB15E-FC67-E111-A00F-00505680000A  2D2494E9-0822-E811-80F0-001DD8B72B61   \n",
       "3  F4FD0816-1468-E111-A00F-00505680000A  DF45C30C-A7F6-E711-80EF-001DD8B72B61   \n",
       "4  FAD0814C-38A4-EB11-811A-001DD8B72B61  EEA0ED13-69E4-EB11-8121-001DD8B72B61   \n",
       "\n",
       "   aantal_sessies             CampagneSessieInformatie  \n",
       "0               1  Netwerking Offline Netwerkevenement  \n",
       "1               1  Netwerking Offline Netwerkevenement  \n",
       "2               2  Netwerking Offline Netwerkevenement  \n",
       "3               1       Haven Offline Netwerkevenement  \n",
       "4               1             Welt 2.0 Offline Project  "
      ]
     },
     "execution_count": 9,
     "metadata": {},
     "output_type": "execute_result"
    }
   ],
   "source": [
    "df_tfidf = df\n",
    "\n",
    "df_tfidf['CampagneSessieInformatie'] = df_tfidf['SessieThema'] + ' ' + df_tfidf['SoortCampagne'] + ' ' + df_tfidf['TypeCampagne']\n",
    "\n",
    "df_tfidf = df_tfidf[['PersoonId', 'CampagneId', 'aantal_sessies', 'CampagneSessieInformatie']]\n",
    "\n",
    "df_tfidf.head()"
   ]
  },
  {
   "cell_type": "code",
   "execution_count": 10,
   "metadata": {},
   "outputs": [],
   "source": [
    "# VANAF HIER ONZEKER"
   ]
  },
  {
   "cell_type": "code",
   "execution_count": 11,
   "metadata": {},
   "outputs": [],
   "source": [
    "vectorizer = TfidfVectorizer()\n",
    "\n",
    "campagne_sessie_matrix = vectorizer.fit_transform(df_tfidf['CampagneSessieInformatie'])"
   ]
  },
  {
   "cell_type": "code",
   "execution_count": 12,
   "metadata": {},
   "outputs": [],
   "source": [
    "from sklearn.decomposition import TruncatedSVD\n",
    "\n",
    "# Assuming tfidf_matrix is your TF-IDF matrix\n",
    "svd = TruncatedSVD(n_components=40)  # Reduce to 100 dimensions\n",
    "reduced_campagne_sessie_matrix = svd.fit_transform(campagne_sessie_matrix)"
   ]
  },
  {
   "cell_type": "code",
   "execution_count": 13,
   "metadata": {},
   "outputs": [],
   "source": [
    "content_model = cosine_similarity(reduced_campagne_sessie_matrix)"
   ]
  },
  {
   "cell_type": "code",
   "execution_count": 14,
   "metadata": {},
   "outputs": [],
   "source": [
    "# WORK IN PROGRESS ABOVE THIS LINE"
   ]
  },
  {
   "cell_type": "code",
   "execution_count": 15,
   "metadata": {},
   "outputs": [],
   "source": [
    "# COLLABORATIVE FILTERING MODEL"
   ]
  },
  {
   "cell_type": "code",
   "execution_count": 16,
   "metadata": {},
   "outputs": [
    {
     "data": {
      "text/plain": [
       "(52567, 3)"
      ]
     },
     "execution_count": 16,
     "metadata": {},
     "output_type": "execute_result"
    }
   ],
   "source": [
    "df_svd = df[['PersoonId', 'CampagneId', 'aantal_sessies']]\n",
    "df_svd.shape"
   ]
  },
  {
   "cell_type": "code",
   "execution_count": 17,
   "metadata": {},
   "outputs": [
    {
     "data": {
      "text/plain": [
       "(6512, 3)"
      ]
     },
     "execution_count": 17,
     "metadata": {},
     "output_type": "execute_result"
    }
   ],
   "source": [
    "min_aantal_sessies = df_svd.loc[df_svd['aantal_sessies'] > 2]\n",
    "min_aantal_sessies.shape"
   ]
  },
  {
   "cell_type": "code",
   "execution_count": 18,
   "metadata": {},
   "outputs": [
    {
     "data": {
      "text/plain": [
       "3     1372\n",
       "4     1064\n",
       "6     1048\n",
       "5      837\n",
       "7      466\n",
       "10     307\n",
       "11     274\n",
       "14     212\n",
       "13     195\n",
       "12     185\n",
       "8      183\n",
       "9      149\n",
       "15     125\n",
       "17      58\n",
       "18      14\n",
       "16      14\n",
       "26       2\n",
       "27       2\n",
       "20       2\n",
       "22       2\n",
       "24       1\n",
       "Name: aantal_sessies, dtype: int64"
      ]
     },
     "execution_count": 18,
     "metadata": {},
     "output_type": "execute_result"
    }
   ],
   "source": [
    "min_aantal_sessies['aantal_sessies'].value_counts()"
   ]
  },
  {
   "cell_type": "code",
   "execution_count": 19,
   "metadata": {},
   "outputs": [],
   "source": [
    "df_svd = min_aantal_sessies"
   ]
  },
  {
   "cell_type": "code",
   "execution_count": 20,
   "metadata": {},
   "outputs": [],
   "source": [
    "train_set, test_set = train_test_split(df_svd, test_size=0.25, random_state=7)"
   ]
  },
  {
   "cell_type": "code",
   "execution_count": 21,
   "metadata": {},
   "outputs": [],
   "source": [
    "reader = Reader(rating_scale=(df_svd['aantal_sessies'].min(), df_svd['aantal_sessies'].max()))\n",
    "\n",
    "df_svd_surprise = Dataset.load_from_df(df_svd[['PersoonId', 'CampagneId', 'aantal_sessies']], reader)\n",
    "\n",
    "df_svd_train = Dataset.load_from_df(train_set[['PersoonId', 'CampagneId', 'aantal_sessies']], reader)"
   ]
  },
  {
   "cell_type": "code",
   "execution_count": 22,
   "metadata": {},
   "outputs": [
    {
     "name": "stdout",
     "output_type": "stream",
     "text": [
      "Best RMSE: 1.5641364172517676 {'n_epochs': 15, 'lr_all': 0.03, 'reg_all': 0.1, 'n_factors': 5}\n",
      "Best MAE: 1.00948643152618 {'n_epochs': 15, 'lr_all': 0.03, 'reg_all': 0.1, 'n_factors': 5}\n"
     ]
    }
   ],
   "source": [
    "param_grid = {\"n_epochs\": [5, 10, 15], \"lr_all\": [0.02, 0.025, 0.03], \"reg_all\": [0.1, 0.2, 0.4], \"n_factors\": [5, 15, 25]}\n",
    "grid_search_SVD = GridSearchCV(SVD, param_grid, measures=[\"rmse\", \"mae\"], cv=3)\n",
    "\n",
    "grid_search_SVD.fit(df_svd_train)\n",
    "\n",
    "print('Best RMSE:', grid_search_SVD.best_score['rmse'], grid_search_SVD.best_params['rmse'])\n",
    "print('Best MAE:', grid_search_SVD.best_score['mae'], grid_search_SVD.best_params['mae'])"
   ]
  },
  {
   "cell_type": "code",
   "execution_count": 23,
   "metadata": {},
   "outputs": [],
   "source": [
    "trainset, testset = tts2(df_svd_surprise, test_size=0.25, random_state=7)\n",
    "\n",
    "model_SVD = grid_search_SVD.best_estimator['rmse']\n",
    "\n",
    "model_SVD.fit(trainset)\n",
    "\n",
    "predictions = model_SVD.test(testset)\n",
    "\n",
    "ResultCatcher = pd.DataFrame(predictions, columns=['PersoonId', 'CampagneId', 'Real_Rating', 'Estimated_Rating', 'details'])\n",
    "ResultCatcher.drop(['details'], axis=1, inplace=True)"
   ]
  },
  {
   "cell_type": "code",
   "execution_count": 24,
   "metadata": {},
   "outputs": [
    {
     "data": {
      "text/html": [
       "<div>\n",
       "<style scoped>\n",
       "    .dataframe tbody tr th:only-of-type {\n",
       "        vertical-align: middle;\n",
       "    }\n",
       "\n",
       "    .dataframe tbody tr th {\n",
       "        vertical-align: top;\n",
       "    }\n",
       "\n",
       "    .dataframe thead th {\n",
       "        text-align: right;\n",
       "    }\n",
       "</style>\n",
       "<table border=\"1\" class=\"dataframe\">\n",
       "  <thead>\n",
       "    <tr style=\"text-align: right;\">\n",
       "      <th></th>\n",
       "      <th>PersoonId</th>\n",
       "      <th>CampagneId</th>\n",
       "      <th>Real_Rating</th>\n",
       "      <th>Estimated_Rating</th>\n",
       "      <th>Estimation_Rounded</th>\n",
       "      <th>Error</th>\n",
       "    </tr>\n",
       "  </thead>\n",
       "  <tbody>\n",
       "    <tr>\n",
       "      <th>0</th>\n",
       "      <td>0BB3E091-1C68-E111-A00F-00505680000A</td>\n",
       "      <td>2D21A437-130D-EA11-8107-001DD8B72B62</td>\n",
       "      <td>17.0</td>\n",
       "      <td>13.930845</td>\n",
       "      <td>14</td>\n",
       "      <td>3.0</td>\n",
       "    </tr>\n",
       "    <tr>\n",
       "      <th>1</th>\n",
       "      <td>0121FA7B-7C6B-E611-80DE-001DD8B72B61</td>\n",
       "      <td>19C23572-4E56-EB11-8117-001DD8B72B61</td>\n",
       "      <td>5.0</td>\n",
       "      <td>5.832748</td>\n",
       "      <td>6</td>\n",
       "      <td>1.0</td>\n",
       "    </tr>\n",
       "    <tr>\n",
       "      <th>2</th>\n",
       "      <td>484C3848-0B59-E811-80F0-001DD8B72B62</td>\n",
       "      <td>13C5880B-3AE9-EB11-8121-001DD8B72B61</td>\n",
       "      <td>3.0</td>\n",
       "      <td>4.129787</td>\n",
       "      <td>4</td>\n",
       "      <td>1.0</td>\n",
       "    </tr>\n",
       "    <tr>\n",
       "      <th>3</th>\n",
       "      <td>0CB09A92-F4F2-ED11-8849-6045BD895499</td>\n",
       "      <td>044F17B7-A8B6-ED11-83FF-6045BD895CDC</td>\n",
       "      <td>4.0</td>\n",
       "      <td>4.276749</td>\n",
       "      <td>4</td>\n",
       "      <td>0.0</td>\n",
       "    </tr>\n",
       "    <tr>\n",
       "      <th>4</th>\n",
       "      <td>5750E318-E967-E111-A00F-00505680000A</td>\n",
       "      <td>B6F561C5-5D33-E811-80F0-001DD8B72B61</td>\n",
       "      <td>6.0</td>\n",
       "      <td>6.157800</td>\n",
       "      <td>6</td>\n",
       "      <td>0.0</td>\n",
       "    </tr>\n",
       "  </tbody>\n",
       "</table>\n",
       "</div>"
      ],
      "text/plain": [
       "                              PersoonId                            CampagneId  \\\n",
       "0  0BB3E091-1C68-E111-A00F-00505680000A  2D21A437-130D-EA11-8107-001DD8B72B62   \n",
       "1  0121FA7B-7C6B-E611-80DE-001DD8B72B61  19C23572-4E56-EB11-8117-001DD8B72B61   \n",
       "2  484C3848-0B59-E811-80F0-001DD8B72B62  13C5880B-3AE9-EB11-8121-001DD8B72B61   \n",
       "3  0CB09A92-F4F2-ED11-8849-6045BD895499  044F17B7-A8B6-ED11-83FF-6045BD895CDC   \n",
       "4  5750E318-E967-E111-A00F-00505680000A  B6F561C5-5D33-E811-80F0-001DD8B72B61   \n",
       "\n",
       "   Real_Rating  Estimated_Rating  Estimation_Rounded  Error  \n",
       "0         17.0         13.930845                  14    3.0  \n",
       "1          5.0          5.832748                   6    1.0  \n",
       "2          3.0          4.129787                   4    1.0  \n",
       "3          4.0          4.276749                   4    0.0  \n",
       "4          6.0          6.157800                   6    0.0  "
      ]
     },
     "execution_count": 24,
     "metadata": {},
     "output_type": "execute_result"
    }
   ],
   "source": [
    "ResultCatcher['Estimation_Rounded'] = ResultCatcher.apply(lambda row: round(row.Estimated_Rating), axis=1)\n",
    "ResultCatcher['Error'] = abs(ResultCatcher['Real_Rating'] - ResultCatcher['Estimation_Rounded'])\n",
    "ResultCatcher.head()"
   ]
  },
  {
   "cell_type": "code",
   "execution_count": 25,
   "metadata": {},
   "outputs": [
    {
     "name": "stdout",
     "output_type": "stream",
     "text": [
      "Sum of Real_Rating:  10513.0\n",
      "Sum of Error:  1249.0\n",
      "Count of Real_Rating:  1628\n",
      "Count of Real_Rating where Error is 0:  806\n",
      "Error Percentage: 11.88%\n",
      "Accuracy Percentage: 49.51%\n"
     ]
    }
   ],
   "source": [
    "sum_of_real_rating = ResultCatcher['Real_Rating'].sum()\n",
    "sum_of_error = ResultCatcher['Error'].sum()\n",
    "count_of_real_rating = ResultCatcher['Real_Rating'].count()\n",
    "count_of_correct_predictions = ResultCatcher['Real_Rating'][ResultCatcher['Error'] == 0].count()\n",
    "\n",
    "error_percentage = (sum_of_error / sum_of_real_rating) * 100\n",
    "accuracy_percentage = (count_of_correct_predictions / count_of_real_rating) * 100\n",
    "\n",
    "print(\"Sum of Real_Rating: \", sum_of_real_rating)\n",
    "print(\"Sum of Error: \", sum_of_error)\n",
    "print(\"Count of Real_Rating: \", count_of_real_rating)\n",
    "print(\"Count of Real_Rating where Error is 0: \", count_of_correct_predictions)\n",
    "\n",
    "print(\"Error Percentage: {:.2f}%\".format(error_percentage))\n",
    "print(\"Accuracy Percentage: {:.2f}%\".format(accuracy_percentage))"
   ]
  },
  {
   "cell_type": "code",
   "execution_count": 26,
   "metadata": {},
   "outputs": [],
   "source": [
    "# https://github.com/EmirKorkutUnal/Python-Surprise-Predictions-on-Custom-Dataset"
   ]
  },
  {
   "cell_type": "code",
   "execution_count": 27,
   "metadata": {},
   "outputs": [],
   "source": [
    "# WORK IN PROGRESS UNDER THIS LINE"
   ]
  },
  {
   "cell_type": "code",
   "execution_count": 28,
   "metadata": {},
   "outputs": [],
   "source": [
    "# beide modellen combineren, content based eerst dan collaborative filtering\n",
    "# content based voor 'user likes x so user will like y' omdat het op elkaar lijkt op basis van campagne / sessie informatie\n",
    "# lost het 'cold start' probleem op denk ik"
   ]
  },
  {
   "cell_type": "code",
   "execution_count": 29,
   "metadata": {},
   "outputs": [],
   "source": [
    "# functie maken die voor een campagne de top 20 personen geeft die het meest waarschijnlijk zijn om de campagne te volgen\n",
    "# enkel als de persoon de campagne nog niet heeft gevolgd"
   ]
  },
  {
   "cell_type": "code",
   "execution_count": 30,
   "metadata": {},
   "outputs": [],
   "source": [
    "# WORK IN PROGRESS ABOVE THIS LINE"
   ]
  }
 ],
 "metadata": {
  "kernelspec": {
   "display_name": "Python 3",
   "language": "python",
   "name": "python3"
  },
  "language_info": {
   "codemirror_mode": {
    "name": "ipython",
    "version": 3
   },
   "file_extension": ".py",
   "mimetype": "text/x-python",
   "name": "python",
   "nbconvert_exporter": "python",
   "pygments_lexer": "ipython3",
   "version": "3.10.7"
  }
 },
 "nbformat": 4,
 "nbformat_minor": 2
}

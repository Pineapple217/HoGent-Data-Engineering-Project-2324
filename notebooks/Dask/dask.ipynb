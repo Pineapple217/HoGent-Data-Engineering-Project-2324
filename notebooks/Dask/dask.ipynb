{
 "cells": [
  {
   "cell_type": "code",
   "execution_count": 1,
   "metadata": {},
   "outputs": [],
   "source": [
    "import numpy as np\n",
    "import pandas as pd\n",
    "\n",
    "import dask.dataframe as dd\n",
    "import dask.array as da\n",
    "import dask.bag as db\n",
    "\n",
    "from dotenv import load_dotenv\n",
    "import os\n",
    "from sqlalchemy import create_engine, MetaData, text\n",
    "from sklearn.metrics.pairwise import cosine_similarity"
   ]
  },
  {
   "cell_type": "code",
   "execution_count": 2,
   "metadata": {},
   "outputs": [],
   "source": [
    "load_dotenv()\n",
    "PARQUET_PATH = os.getenv(\"PARQUET_PATH\")\n",
    "DB_URL = os.getenv(\"DB_VM_URL\")\n",
    "engine = create_engine(DB_URL)\n",
    "conn = engine.connect()\n",
    "metadata = MetaData()\n",
    "metadata.reflect(bind=engine)"
   ]
  },
  {
   "cell_type": "code",
   "execution_count": 3,
   "metadata": {},
   "outputs": [],
   "source": [
    "query = text('''\n",
    "            select c.ContactPersoonId, i.CampagneId, i.CampagneNaam, ca.Startdatum, a.Ondernemingsaard, a.Ondernemingstype, a.PrimaireActiviteit, f.Naam as Functie\n",
    "            from Contactfiche c\n",
    "            join Account a on a.AccountId = c.AccountId\n",
    "            join Inschrijving i on i.ContactficheId = c.ContactPersoonId\n",
    "            join Campagne ca on ca.CampagneId = i.CampagneId\n",
    "            join ContactficheFunctie cf on cf.ContactpersoonId = c.ContactPersoonId\n",
    "            join Functie f on f.FunctieId = cf.FunctieId\n",
    "            where i.CampagneId is not null and a.status = 'actief';\n",
    "            ''')\n",
    "result = conn.execute(query)\n",
    "\n",
    "#convert to dataframe\n",
    "df_omschrijving = pd.DataFrame(result.fetchall())\n",
    "df_omschrijving[\"rating\"] = 5\n",
    "\n",
    "ddf_omschrijving = dd.from_pandas(df_omschrijving, npartitions=10)\n",
    "\n",
    "del df_omschrijving\n",
    "\n",
    "\n",
    "query2 = text('''\n",
    "                with pageview_count as(\n",
    "                    select p.PageTitle, count(p.ContactId) as count\n",
    "                    from Pageviews p\n",
    "                    group by p.PageTitle\n",
    "                )\n",
    "                select PageTitle, ContactId\n",
    "                from Pageviews\n",
    "                where Pagetitle in (select top (2500) PageTitle\n",
    "                from pageview_count\n",
    "                order by count desc)\n",
    "              ''')\n",
    "\n",
    "result2 = conn.execute(query2)\n",
    "df_pageviews = pd.DataFrame(result2.fetchall())\n",
    "df_pageviews[\"rating\"] = 1\n",
    "\n",
    "ddf_pageviews = dd.from_pandas(df_pageviews, npartitions=20)\n",
    "\n",
    "del df_pageviews"
   ]
  },
  {
   "cell_type": "code",
   "execution_count": 4,
   "metadata": {},
   "outputs": [
    {
     "data": {
      "text/html": [
       "<div>\n",
       "<style scoped>\n",
       "    .dataframe tbody tr th:only-of-type {\n",
       "        vertical-align: middle;\n",
       "    }\n",
       "\n",
       "    .dataframe tbody tr th {\n",
       "        vertical-align: top;\n",
       "    }\n",
       "\n",
       "    .dataframe thead th {\n",
       "        text-align: right;\n",
       "    }\n",
       "</style>\n",
       "<table border=\"1\" class=\"dataframe\">\n",
       "  <thead>\n",
       "    <tr style=\"text-align: right;\">\n",
       "      <th></th>\n",
       "      <th>ContactPersoonId</th>\n",
       "      <th>CampagneId</th>\n",
       "      <th>CampagneNaam</th>\n",
       "      <th>Startdatum</th>\n",
       "    </tr>\n",
       "  </thead>\n",
       "  <tbody>\n",
       "    <tr>\n",
       "      <th>0</th>\n",
       "      <td>9E22A289-C6F3-ED11-8849-6045BD895CDC</td>\n",
       "      <td>044F17B7-A8B6-ED11-83FF-6045BD895CDC</td>\n",
       "      <td>OV-JO-Stamgasten 2023</td>\n",
       "      <td>2023-05-23 19:00:00</td>\n",
       "    </tr>\n",
       "    <tr>\n",
       "      <th>1</th>\n",
       "      <td>12C6CFE5-5020-EC11-8124-001DD8B72B61</td>\n",
       "      <td>0A14941A-711C-EC11-8123-001DD8B72B61</td>\n",
       "      <td>OV-Community Bouw en Vastgoed 2022</td>\n",
       "      <td>2022-01-31 08:00:00</td>\n",
       "    </tr>\n",
       "    <tr>\n",
       "      <th>2</th>\n",
       "      <td>EC6D5B41-BA4A-E711-80E7-001DD8B72B61</td>\n",
       "      <td>1C66F294-192D-E811-80F0-001DD8B72B61</td>\n",
       "      <td>OV-NW-Voka Update-Big Refresh-Hervorming innov...</td>\n",
       "      <td>2018-02-26 06:00:00</td>\n",
       "    </tr>\n",
       "    <tr>\n",
       "      <th>3</th>\n",
       "      <td>6CE844CB-18AD-ED11-AAD0-6045BD895BFB</td>\n",
       "      <td>31E7F5EB-15FA-ED11-8849-6045BD8952D3</td>\n",
       "      <td>OV-Effectief leiderschap-nj 2023</td>\n",
       "      <td>2023-11-21 09:00:00</td>\n",
       "    </tr>\n",
       "    <tr>\n",
       "      <th>4</th>\n",
       "      <td>01218324-0942-E611-80D6-005056B06EC4</td>\n",
       "      <td>AF18B713-6DB5-E711-80EC-001DD8B72B62</td>\n",
       "      <td>OV-NW-Voka connect Aalst 2018</td>\n",
       "      <td>2018-01-18 06:00:00</td>\n",
       "    </tr>\n",
       "  </tbody>\n",
       "</table>\n",
       "</div>"
      ],
      "text/plain": [
       "                       ContactPersoonId                            CampagneId  \\\n",
       "0  9E22A289-C6F3-ED11-8849-6045BD895CDC  044F17B7-A8B6-ED11-83FF-6045BD895CDC   \n",
       "1  12C6CFE5-5020-EC11-8124-001DD8B72B61  0A14941A-711C-EC11-8123-001DD8B72B61   \n",
       "2  EC6D5B41-BA4A-E711-80E7-001DD8B72B61  1C66F294-192D-E811-80F0-001DD8B72B61   \n",
       "3  6CE844CB-18AD-ED11-AAD0-6045BD895BFB  31E7F5EB-15FA-ED11-8849-6045BD8952D3   \n",
       "4  01218324-0942-E611-80D6-005056B06EC4  AF18B713-6DB5-E711-80EC-001DD8B72B62   \n",
       "\n",
       "                                        CampagneNaam          Startdatum  \n",
       "0                              OV-JO-Stamgasten 2023 2023-05-23 19:00:00  \n",
       "1                 OV-Community Bouw en Vastgoed 2022 2022-01-31 08:00:00  \n",
       "2  OV-NW-Voka Update-Big Refresh-Hervorming innov... 2018-02-26 06:00:00  \n",
       "3                   OV-Effectief leiderschap-nj 2023 2023-11-21 09:00:00  \n",
       "4                      OV-NW-Voka connect Aalst 2018 2018-01-18 06:00:00  "
      ]
     },
     "metadata": {},
     "output_type": "display_data"
    },
    {
     "data": {
      "text/html": [
       "<div>\n",
       "<style scoped>\n",
       "    .dataframe tbody tr th:only-of-type {\n",
       "        vertical-align: middle;\n",
       "    }\n",
       "\n",
       "    .dataframe tbody tr th {\n",
       "        vertical-align: top;\n",
       "    }\n",
       "\n",
       "    .dataframe thead th {\n",
       "        text-align: right;\n",
       "    }\n",
       "</style>\n",
       "<table border=\"1\" class=\"dataframe\">\n",
       "  <thead>\n",
       "    <tr style=\"text-align: right;\">\n",
       "      <th></th>\n",
       "      <th>ContactPersoonId</th>\n",
       "      <th>Ondernemingsaard</th>\n",
       "      <th>Ondernemingstype</th>\n",
       "      <th>PrimaireActiviteit</th>\n",
       "      <th>Functie</th>\n",
       "      <th>rating</th>\n",
       "    </tr>\n",
       "  </thead>\n",
       "  <tbody>\n",
       "    <tr>\n",
       "      <th>0</th>\n",
       "      <td>9E22A289-C6F3-ED11-8849-6045BD895CDC</td>\n",
       "      <td>Diensten</td>\n",
       "      <td>Bedrijf</td>\n",
       "      <td>Financiële diensten</td>\n",
       "      <td>Verantwoordelijke Financieel</td>\n",
       "      <td>5</td>\n",
       "    </tr>\n",
       "    <tr>\n",
       "      <th>1</th>\n",
       "      <td>12C6CFE5-5020-EC11-8124-001DD8B72B61</td>\n",
       "      <td>Diensten</td>\n",
       "      <td>Familiebedrijf</td>\n",
       "      <td>Bouw</td>\n",
       "      <td>Verantwoordelijke Commercieel</td>\n",
       "      <td>5</td>\n",
       "    </tr>\n",
       "    <tr>\n",
       "      <th>2</th>\n",
       "      <td>EC6D5B41-BA4A-E711-80E7-001DD8B72B61</td>\n",
       "      <td>Diensten</td>\n",
       "      <td>Bedrijf</td>\n",
       "      <td>Grafische industrie en diensten</td>\n",
       "      <td>Bedrijfsleider</td>\n",
       "      <td>5</td>\n",
       "    </tr>\n",
       "    <tr>\n",
       "      <th>3</th>\n",
       "      <td>6CE844CB-18AD-ED11-AAD0-6045BD895BFB</td>\n",
       "      <td>Diensten</td>\n",
       "      <td>Bedrijf</td>\n",
       "      <td>Overige industrie &amp; diensten</td>\n",
       "      <td>Verantwoordelijke Commercieel</td>\n",
       "      <td>5</td>\n",
       "    </tr>\n",
       "    <tr>\n",
       "      <th>4</th>\n",
       "      <td>01218324-0942-E611-80D6-005056B06EC4</td>\n",
       "      <td>Productie &amp; Diensten</td>\n",
       "      <td>Bedrijf</td>\n",
       "      <td>Technologische industrie &amp; diensten</td>\n",
       "      <td>Bedrijfsleider</td>\n",
       "      <td>5</td>\n",
       "    </tr>\n",
       "  </tbody>\n",
       "</table>\n",
       "</div>"
      ],
      "text/plain": [
       "                       ContactPersoonId      Ondernemingsaard  \\\n",
       "0  9E22A289-C6F3-ED11-8849-6045BD895CDC              Diensten   \n",
       "1  12C6CFE5-5020-EC11-8124-001DD8B72B61              Diensten   \n",
       "2  EC6D5B41-BA4A-E711-80E7-001DD8B72B61              Diensten   \n",
       "3  6CE844CB-18AD-ED11-AAD0-6045BD895BFB              Diensten   \n",
       "4  01218324-0942-E611-80D6-005056B06EC4  Productie & Diensten   \n",
       "\n",
       "  Ondernemingstype                   PrimaireActiviteit  \\\n",
       "0          Bedrijf                  Financiële diensten   \n",
       "1   Familiebedrijf                                 Bouw   \n",
       "2          Bedrijf      Grafische industrie en diensten   \n",
       "3          Bedrijf         Overige industrie & diensten   \n",
       "4          Bedrijf  Technologische industrie & diensten   \n",
       "\n",
       "                         Functie  rating  \n",
       "0   Verantwoordelijke Financieel       5  \n",
       "1  Verantwoordelijke Commercieel       5  \n",
       "2                 Bedrijfsleider       5  \n",
       "3  Verantwoordelijke Commercieel       5  \n",
       "4                 Bedrijfsleider       5  "
      ]
     },
     "metadata": {},
     "output_type": "display_data"
    }
   ],
   "source": [
    "ddf_campagne = ddf_omschrijving.iloc[:, 0:4]\n",
    "display(ddf_campagne.head())\n",
    "ddf_campagne = ddf_campagne[ddf_campagne['Startdatum'] > '2022-11-06']\n",
    "ddf_campagne['rating'] = 10\n",
    "ddf_omschrijving = ddf_omschrijving.drop(ddf_omschrijving.columns[[1,2,3]], axis=1)\n",
    "ddf_omschrijving.drop_duplicates(inplace=True)\n",
    "display(ddf_omschrijving.head())"
   ]
  },
  {
   "cell_type": "code",
   "execution_count": 5,
   "metadata": {},
   "outputs": [],
   "source": [
    "ddf_pageviews.to_parquet(PARQUET_PATH + \"dfpageviews.parquet\")\n",
    "ddf_omschrijving.to_parquet(PARQUET_PATH + \"dfomschrijving.parquet\")\n",
    "ddf_campagne.to_parquet(PARQUET_PATH + \"dfcampagne.parquet\")\n"
   ]
  },
  {
   "cell_type": "code",
   "execution_count": 6,
   "metadata": {},
   "outputs": [
    {
     "ename": "NameError",
     "evalue": "name 'df_omschrijving' is not defined",
     "output_type": "error",
     "traceback": [
      "\u001b[1;31m---------------------------------------------------------------------------\u001b[0m",
      "\u001b[1;31mNameError\u001b[0m                                 Traceback (most recent call last)",
      "\u001b[1;32mc:\\Users\\senne\\Documents\\DEP2\\DEP2-GROEP-1\\notebooks\\Dask\\dask.ipynb Cell 6\u001b[0m line \u001b[0;36m1\n\u001b[1;32m----> <a href='vscode-notebook-cell:/c%3A/Users/senne/Documents/DEP2/DEP2-GROEP-1/notebooks/Dask/dask.ipynb#W5sZmlsZQ%3D%3D?line=0'>1</a>\u001b[0m df_pivot_omschrijving \u001b[39m=\u001b[39m pd\u001b[39m.\u001b[39mpivot_table(df_omschrijving, index\u001b[39m=\u001b[39m\u001b[39m'\u001b[39m\u001b[39mContactPersoonId\u001b[39m\u001b[39m'\u001b[39m, columns\u001b[39m=\u001b[39m[\u001b[39m'\u001b[39m\u001b[39mOndernemingsaard\u001b[39m\u001b[39m'\u001b[39m, \u001b[39m'\u001b[39m\u001b[39mOndernemingstype\u001b[39m\u001b[39m'\u001b[39m, \u001b[39m'\u001b[39m\u001b[39mPrimaireActiviteit\u001b[39m\u001b[39m'\u001b[39m, \u001b[39m'\u001b[39m\u001b[39mFunctie\u001b[39m\u001b[39m'\u001b[39m], values\u001b[39m=\u001b[39m\u001b[39m'\u001b[39m\u001b[39mrating\u001b[39m\u001b[39m'\u001b[39m, fill_value \u001b[39m=\u001b[39m \u001b[39m0\u001b[39m)\u001b[39m.\u001b[39mfillna(\u001b[39m0\u001b[39m)\u001b[39m.\u001b[39mastype(\u001b[39m'\u001b[39m\u001b[39mint8\u001b[39m\u001b[39m'\u001b[39m)\n\u001b[0;32m      <a href='vscode-notebook-cell:/c%3A/Users/senne/Documents/DEP2/DEP2-GROEP-1/notebooks/Dask/dask.ipynb#W5sZmlsZQ%3D%3D?line=1'>2</a>\u001b[0m df_pivot_omschrijving\u001b[39m.\u001b[39minfo()\n",
      "\u001b[1;31mNameError\u001b[0m: name 'df_omschrijving' is not defined"
     ]
    }
   ],
   "source": [
    "df_pivot_omschrijving = pd.pivot_table(df_omschrijving, index='ContactPersoonId', columns=['Ondernemingsaard', 'Ondernemingstype', 'PrimaireActiviteit', 'Functie'], values='rating', fill_value = 0).fillna(0).astype('int8')\n",
    "df_pivot_omschrijving.info()"
   ]
  },
  {
   "cell_type": "code",
   "execution_count": null,
   "metadata": {},
   "outputs": [
    {
     "ename": "NameError",
     "evalue": "name 'df_campagne' is not defined",
     "output_type": "error",
     "traceback": [
      "\u001b[1;31m---------------------------------------------------------------------------\u001b[0m",
      "\u001b[1;31mNameError\u001b[0m                                 Traceback (most recent call last)",
      "\u001b[1;32mc:\\Users\\senne\\Documents\\DEP2\\DEP2-GROEP-1\\notebooks\\Dask\\dask.ipynb Cell 7\u001b[0m line \u001b[0;36m1\n\u001b[1;32m----> <a href='vscode-notebook-cell:/c%3A/Users/senne/Documents/DEP2/DEP2-GROEP-1/notebooks/Dask/dask.ipynb#W6sZmlsZQ%3D%3D?line=0'>1</a>\u001b[0m df_pivot_campagne \u001b[39m=\u001b[39m pd\u001b[39m.\u001b[39mpivot_table(df_campagne, index\u001b[39m=\u001b[39m\u001b[39m'\u001b[39m\u001b[39mContactPersoonId\u001b[39m\u001b[39m'\u001b[39m, columns\u001b[39m=\u001b[39m[\u001b[39m'\u001b[39m\u001b[39mCampagneId\u001b[39m\u001b[39m'\u001b[39m], values\u001b[39m=\u001b[39m\u001b[39m'\u001b[39m\u001b[39mrating\u001b[39m\u001b[39m'\u001b[39m, fill_value \u001b[39m=\u001b[39m \u001b[39m0\u001b[39m)\u001b[39m.\u001b[39mfillna(\u001b[39m0\u001b[39m)\u001b[39m.\u001b[39mastype(\u001b[39m'\u001b[39m\u001b[39mint8\u001b[39m\u001b[39m'\u001b[39m)\n\u001b[0;32m      <a href='vscode-notebook-cell:/c%3A/Users/senne/Documents/DEP2/DEP2-GROEP-1/notebooks/Dask/dask.ipynb#W6sZmlsZQ%3D%3D?line=1'>2</a>\u001b[0m df_pivot_campagne\u001b[39m.\u001b[39minfo()\n",
      "\u001b[1;31mNameError\u001b[0m: name 'df_campagne' is not defined"
     ]
    }
   ],
   "source": [
    "df_pivot_campagne = pd.pivot_table(df_campagne, index='ContactPersoonId', columns=['CampagneId'], values='rating', fill_value = 0).fillna(0).astype('int8')\n",
    "df_pivot_campagne.info()"
   ]
  },
  {
   "cell_type": "code",
   "execution_count": null,
   "metadata": {},
   "outputs": [
    {
     "name": "stdout",
     "output_type": "stream",
     "text": [
      "<class 'pandas.core.frame.DataFrame'>\n",
      "Index: 18505 entries, 00013C8A-6F1C-E211-9DAA-005056B06EB4 to FFD685FA-1F7B-ED11-81AD-6045BD895CDC\n",
      "Columns: 2499 entries, \"Aansluiten bij een lerend netwerk van Voka is de investering meer dan waard!\" | Voka to | Voka\n",
      "dtypes: int8(2499)\n",
      "memory usage: 44.2+ MB\n"
     ]
    }
   ],
   "source": [
    "df_pivot_pageviews = pd.pivot_table(df_pageviews, index='ContactId', columns=['PageTitle'], values='rating', fill_value = 0).fillna(0).astype('int8')\n",
    "df_pivot_pageviews.info()"
   ]
  },
  {
   "cell_type": "code",
   "execution_count": null,
   "metadata": {},
   "outputs": [
    {
     "name": "stdout",
     "output_type": "stream",
     "text": [
      "<class 'pandas.core.frame.DataFrame'>\n",
      "Index: 25111 entries, 00223C8E-467F-E311-BBFD-005056B06EB4 to FFFEA9CB-ED93-EC11-B400-000D3A2B10EB\n",
      "Columns: 6341 entries, ('Diensten', 'Bedrijf', 'Accountancy & boekhouding', 'Bedrijfsleider') to FFE56B2D-B848-EE11-BE6E-6045BD895D78\n",
      "dtypes: int8(6341)\n",
      "memory usage: 152.0+ MB\n"
     ]
    }
   ],
   "source": [
    "df_pivot = pd.concat([df_pivot_omschrijving, df_pivot_pageviews, df_pivot_campagne], axis=1, join='outer').fillna(0).astype('int8')\n",
    "df_pivot.info()"
   ]
  }
 ],
 "metadata": {
  "kernelspec": {
   "display_name": "Python 3",
   "language": "python",
   "name": "python3"
  },
  "language_info": {
   "codemirror_mode": {
    "name": "ipython",
    "version": 3
   },
   "file_extension": ".py",
   "mimetype": "text/x-python",
   "name": "python",
   "nbconvert_exporter": "python",
   "pygments_lexer": "ipython3",
   "version": "3.10.8"
  }
 },
 "nbformat": 4,
 "nbformat_minor": 2
}
